{
 "cells": [
  {
   "cell_type": "markdown",
   "id": "3cba2d74-18b0-4320-9574-a030e9ea0ea7",
   "metadata": {},
   "source": [
    "# What is Pandas?\n",
    "<a id=\"pandas\"> </a>\n",
    "\n",
    "The `pandas` package is one of the most popular Python tools for data management and manipulation. `pandas` is built *on top* of `numpy`. Thus, much of the functionality and methods that are available in `numpy` are also available in `pandas`. "
   ]
  },
  {
   "cell_type": "markdown",
   "id": "f8ce6256-6b5b-419a-9145-82b257e14155",
   "metadata": {},
   "source": [
    "## Getting started\n",
    "The`pandas` package is included with Anconda, but can be installed using either `conda` or `pip`.\n",
    "```Python\n",
    "# Use default channel\n",
    "conda install pandas\n",
    "\n",
    "# Specify the conda-forge channel\n",
    "conda install -c conda-forge pandas\n",
    "\n",
    "# Use pip\n",
    "pip install pandas\n",
    "\n",
    "```"
   ]
  },
  {
   "cell_type": "markdown",
   "id": "0a15a2c7-58a0-473c-beed-d5c062563621",
   "metadata": {},
   "source": [
    "# Series and DataFrames\n",
    "A pandas Series object is a one-dimensional labeled array that can hold any data type. It is one of two fundamental data structures provided by the pandas library. The other data structure is the DataFrame, which we'll examine next. Isolating a single column from a DataFrame results in a Series object.\n",
    "\n",
    "A Series consists of two main components: the index and the data. The index provides labels for each element in the Series, allowing for easy and efficient data access and alignment. The data component contains the actual values.\n",
    "\n",
    "You can create a Series using various data sources, such as lists, arrays, dictionaries, DataFrames, or even other Series objects. Here's an example of creating a Series from a list:"
   ]
  },
  {
   "cell_type": "code",
   "execution_count": null,
   "id": "96a84673-40f3-461a-9e32-a885c016ca7a",
   "metadata": {},
   "outputs": [],
   "source": [
    "import pandas as pd"
   ]
  },
  {
   "cell_type": "code",
   "execution_count": null,
   "id": "57ccf6de-9f87-4a46-af3b-0efd610d4d62",
   "metadata": {},
   "outputs": [],
   "source": [
    "grades = [88, 67, 100, 92, None, 95, 82, 100, 100, 95]\n",
    "grade_series = pd.Series(grades)\n",
    "grade_series"
   ]
  },
  {
   "cell_type": "markdown",
   "id": "31bfa74e-30ec-456f-bbca-cbbe252721d9",
   "metadata": {},
   "source": [
    "Note that a default index is added to the grades to create the series object.\n",
    "\n",
    "Alternatively, you can specify an index. In this case, the stduent ID is provided as the index."
   ]
  },
  {
   "cell_type": "code",
   "execution_count": 7,
   "id": "8d2f45cf-f84e-4ab7-be9d-1710734a6be5",
   "metadata": {},
   "outputs": [
    {
     "data": {
      "text/plain": [
       "dmac         88.0\n",
       "edev         67.0\n",
       "joeb        100.0\n",
       "tdog         92.0\n",
       "txroy         NaN\n",
       "sthicks      95.0\n",
       "jfrerk       82.0\n",
       "spickard    100.0\n",
       "choenes     100.0\n",
       "jsisson      95.0\n",
       "dtype: float64"
      ]
     },
     "execution_count": 7,
     "metadata": {},
     "output_type": "execute_result"
    }
   ],
   "source": [
    "grades = [88, 67, 100, 92, None, 95, 82, 100, 100, 95]\n",
    "students = ['dmac', 'edev', 'joeb', 'tdog', 'txroy', 'sthicks', 'jfrerk', 'spickard', 'choenes', 'jsisson']\n",
    "student_grades_series = pd.Series(grades, students)\n",
    "student_grades_series"
   ]
  },
  {
   "cell_type": "markdown",
   "id": "ee54565a-6463-448d-ad15-cc22be90278f",
   "metadata": {},
   "source": [
    "Understanding what type of object you're working with is important in any programming language. Different objects (classes) have different methods and attributes. A pandas Series object has different methods and attributes than a pandas DataFrame. Below is a partial listing of the methods available with Series objects."
   ]
  },
  {
   "cell_type": "markdown",
   "id": "d4804255-7e42-41c7-bd35-1237182856ef",
   "metadata": {},
   "source": [
    "## Series functions"
   ]
  },
  {
   "cell_type": "markdown",
   "id": "e0baa78b-2055-449b-86f4-8dbedce817e5",
   "metadata": {},
   "source": [
    "### head()/tail()\n",
    "View the first few or last few items in a Series using head/tail."
   ]
  },
  {
   "cell_type": "code",
   "execution_count": 8,
   "id": "41e09fd1-7570-44b0-ad71-74b07c9115c8",
   "metadata": {},
   "outputs": [
    {
     "data": {
      "text/plain": [
       "0     88.0\n",
       "1     67.0\n",
       "2    100.0\n",
       "3     92.0\n",
       "4      NaN\n",
       "5     95.0\n",
       "6     82.0\n",
       "7    100.0\n",
       "8    100.0\n",
       "9     95.0\n",
       "dtype: float64"
      ]
     },
     "execution_count": 8,
     "metadata": {},
     "output_type": "execute_result"
    }
   ],
   "source": [
    "grade_series.head(10)"
   ]
  },
  {
   "cell_type": "code",
   "execution_count": 9,
   "id": "297b4611-cb6c-482b-a038-753c686d881f",
   "metadata": {},
   "outputs": [
    {
     "data": {
      "text/plain": [
       "5     95.0\n",
       "6     82.0\n",
       "7    100.0\n",
       "8    100.0\n",
       "9     95.0\n",
       "dtype: float64"
      ]
     },
     "execution_count": 9,
     "metadata": {},
     "output_type": "execute_result"
    }
   ],
   "source": [
    "grade_series.tail()"
   ]
  },
  {
   "cell_type": "markdown",
   "id": "e318871f-a08a-44c8-98ca-077f93dd8969",
   "metadata": {},
   "source": [
    "### Math functions\n",
    "* describe() - Display descriptive statistics of your data using the ```describe()``` function.\n",
    "* sum()\n",
    "* min()\n",
    "* max()\n",
    "* mean()\n",
    "* median()\n",
    "* std()"
   ]
  },
  {
   "cell_type": "code",
   "execution_count": 10,
   "id": "b826f001-6efe-4872-a0af-db6e8c14d166",
   "metadata": {},
   "outputs": [
    {
     "data": {
      "text/plain": [
       "count      9.000000\n",
       "mean      91.000000\n",
       "std       10.851267\n",
       "min       67.000000\n",
       "25%       88.000000\n",
       "50%       95.000000\n",
       "75%      100.000000\n",
       "max      100.000000\n",
       "dtype: float64"
      ]
     },
     "execution_count": 10,
     "metadata": {},
     "output_type": "execute_result"
    }
   ],
   "source": [
    "grade_series.describe()"
   ]
  },
  {
   "cell_type": "code",
   "execution_count": 11,
   "id": "6545663b-3ab5-403f-b5be-20b1a468cde0",
   "metadata": {},
   "outputs": [
    {
     "data": {
      "text/plain": [
       "67.0"
      ]
     },
     "execution_count": 11,
     "metadata": {},
     "output_type": "execute_result"
    }
   ],
   "source": [
    "grade_series.min()"
   ]
  },
  {
   "cell_type": "code",
   "execution_count": 12,
   "id": "7e0ba24b-895b-4c65-9cd4-5a1cc516a7c8",
   "metadata": {},
   "outputs": [
    {
     "data": {
      "text/plain": [
       "95.0"
      ]
     },
     "execution_count": 12,
     "metadata": {},
     "output_type": "execute_result"
    }
   ],
   "source": [
    "grade_series.median()"
   ]
  },
  {
   "cell_type": "markdown",
   "id": "a8a153d2-51d8-49b7-b11c-968ddba171fb",
   "metadata": {},
   "source": [
    "### Data Manipulation Functions\n",
    "* isnull() - checks for missing values (null/NaN)\n",
    "* unique() - returns an list of unique values\n",
    "* value_counts() - returns the fequencies of unique values\n",
    "* apply(function) - applies a function to each element\n",
    "* dropna() - returns a new series with missing values removed"
   ]
  },
  {
   "cell_type": "markdown",
   "id": "27ca9097-d3b3-4334-af46-122305a9d929",
   "metadata": {},
   "source": [
    "### isnull()\n",
    "Use ```isnull()``` to check for null values. A True/False series is returned, which corresponds to each item in the series. True indicates the value is null (NaN). NaN means \"Not a Number.\""
   ]
  },
  {
   "cell_type": "code",
   "execution_count": 15,
   "id": "fb976ad6-2d8c-4edb-a77f-eac98141e6a3",
   "metadata": {},
   "outputs": [
    {
     "data": {
      "text/plain": [
       "0    False\n",
       "1    False\n",
       "2    False\n",
       "3    False\n",
       "4     True\n",
       "5    False\n",
       "6    False\n",
       "7    False\n",
       "8    False\n",
       "9    False\n",
       "dtype: bool"
      ]
     },
     "execution_count": 15,
     "metadata": {},
     "output_type": "execute_result"
    }
   ],
   "source": [
    "grade_series.isnull()"
   ]
  },
  {
   "cell_type": "markdown",
   "id": "77ef2096-97eb-4a86-b646-0c86e30a7fb7",
   "metadata": {},
   "source": [
    "### unique() - Find unique values"
   ]
  },
  {
   "cell_type": "code",
   "execution_count": 16,
   "id": "64f49abd-c2a6-4191-b0d0-9e098bef014e",
   "metadata": {},
   "outputs": [
    {
     "name": "stdout",
     "output_type": "stream",
     "text": [
      "[ 88.  67. 100.  92.  nan  95.  82.]\n"
     ]
    }
   ],
   "source": [
    "print(grade_series.unique())"
   ]
  },
  {
   "cell_type": "markdown",
   "id": "b5581df2-ce15-4505-86b8-021c9a856c35",
   "metadata": {},
   "source": [
    "### apply() function\n",
    "Use the apply function to modify every item in a series using a standard or custom function. In this example, we use a custom function to create a series containing the letter grade."
   ]
  },
  {
   "cell_type": "code",
   "execution_count": 17,
   "id": "c0923e24-79eb-4f0a-b636-4301041e8724",
   "metadata": {},
   "outputs": [],
   "source": [
    "def number_to_letter_grade(score):\n",
    "\n",
    "    if score > 89:\n",
    "        return \"A\"\n",
    "    elif score > 79:\n",
    "        return \"B\"\n",
    "    elif score > 69:\n",
    "        return \"C\"\n",
    "    elif score > 59:\n",
    "        return \"D\"\n",
    "    else:\n",
    "        return None\n",
    "    "
   ]
  },
  {
   "cell_type": "code",
   "execution_count": 18,
   "id": "d1d578d5-f3b8-49db-bdee-25f7b6ff2bfb",
   "metadata": {},
   "outputs": [
    {
     "data": {
      "text/plain": [
       "'D'"
      ]
     },
     "execution_count": 18,
     "metadata": {},
     "output_type": "execute_result"
    }
   ],
   "source": [
    "number_to_letter_grade(62)"
   ]
  },
  {
   "cell_type": "markdown",
   "id": "12803cd2-d67a-411c-839f-de96c31b225f",
   "metadata": {},
   "source": [
    "apply() - Modifying values using a function"
   ]
  },
  {
   "cell_type": "code",
   "execution_count": 25,
   "id": "d43d0dc4-ef1f-40b7-8670-37bfbf305df1",
   "metadata": {},
   "outputs": [],
   "source": [
    "letter_series = grade_series.apply(number_to_letter_grade)"
   ]
  },
  {
   "cell_type": "code",
   "execution_count": 26,
   "id": "0c531ea4-5028-417c-b815-90f395f75a60",
   "metadata": {},
   "outputs": [
    {
     "data": {
      "text/plain": [
       "0       B\n",
       "1       D\n",
       "2       A\n",
       "3       A\n",
       "4    None\n",
       "5       A\n",
       "6       B\n",
       "7       A\n",
       "8       A\n",
       "9       A\n",
       "dtype: object"
      ]
     },
     "execution_count": 26,
     "metadata": {},
     "output_type": "execute_result"
    }
   ],
   "source": [
    "letter_series"
   ]
  },
  {
   "cell_type": "code",
   "execution_count": 28,
   "id": "3d6629de-249c-4336-a43e-8670d28d71c1",
   "metadata": {},
   "outputs": [
    {
     "data": {
      "text/plain": [
       "0     88.0\n",
       "1     67.0\n",
       "2    100.0\n",
       "3     92.0\n",
       "5     95.0\n",
       "6     82.0\n",
       "7    100.0\n",
       "8    100.0\n",
       "9     95.0\n",
       "dtype: float64"
      ]
     },
     "execution_count": 28,
     "metadata": {},
     "output_type": "execute_result"
    }
   ],
   "source": [
    "grades_no_missing = grade_series.dropna()\n",
    "grades_no_missing"
   ]
  },
  {
   "cell_type": "markdown",
   "id": "017f815f-3f4a-433a-b094-bd21e36f7f9b",
   "metadata": {},
   "source": [
    "Notice that the None/null/NaN item has been removed."
   ]
  },
  {
   "cell_type": "code",
   "execution_count": 31,
   "id": "dcbe4e7b-53ea-4822-9380-999a469490ea",
   "metadata": {},
   "outputs": [
    {
     "data": {
      "text/plain": [
       "0     88.0\n",
       "1     67.0\n",
       "2    100.0\n",
       "3     92.0\n",
       "4     95.0\n",
       "5     82.0\n",
       "6    100.0\n",
       "7    100.0\n",
       "8     95.0\n",
       "dtype: float64"
      ]
     },
     "execution_count": 31,
     "metadata": {},
     "output_type": "execute_result"
    }
   ],
   "source": [
    "grades_no_missing = grade_series.dropna().reset_index(drop=True)\n",
    "grades_no_missing"
   ]
  },
  {
   "cell_type": "markdown",
   "id": "c69e12d0-be3a-4be6-85f5-cf9fd9868399",
   "metadata": {},
   "source": [
    "# Indexes"
   ]
  },
  {
   "cell_type": "markdown",
   "id": "26787a3e-a152-418d-a2ba-eca7988b3829",
   "metadata": {},
   "source": [
    "# Locating and Filtering data"
   ]
  },
  {
   "cell_type": "code",
   "execution_count": 32,
   "id": "122e7920-3b0c-4620-90f8-3fd588faf939",
   "metadata": {},
   "outputs": [
    {
     "data": {
      "text/plain": [
       "(200, 12)"
      ]
     },
     "execution_count": 32,
     "metadata": {},
     "output_type": "execute_result"
    }
   ],
   "source": [
    "import pandas as pd\n",
    "df_people = pd.read_csv('files/people_data.csv')\n",
    "df_people.head()\n",
    "df_people.shape"
   ]
  },
  {
   "cell_type": "code",
   "execution_count": 34,
   "id": "e17c8e83-b48c-4887-82f8-aaa3637183d2",
   "metadata": {},
   "outputs": [
    {
     "data": {
      "text/html": [
       "<div>\n",
       "<style scoped>\n",
       "    .dataframe tbody tr th:only-of-type {\n",
       "        vertical-align: middle;\n",
       "    }\n",
       "\n",
       "    .dataframe tbody tr th {\n",
       "        vertical-align: top;\n",
       "    }\n",
       "\n",
       "    .dataframe thead th {\n",
       "        text-align: right;\n",
       "    }\n",
       "</style>\n",
       "<table border=\"1\" class=\"dataframe\">\n",
       "  <thead>\n",
       "    <tr style=\"text-align: right;\">\n",
       "      <th></th>\n",
       "      <th>First Name</th>\n",
       "      <th>Last Name</th>\n",
       "      <th>Age</th>\n",
       "    </tr>\n",
       "  </thead>\n",
       "  <tbody>\n",
       "    <tr>\n",
       "      <th>0</th>\n",
       "      <td>amy</td>\n",
       "      <td>moore</td>\n",
       "      <td>26</td>\n",
       "    </tr>\n",
       "    <tr>\n",
       "      <th>1</th>\n",
       "      <td>rosie</td>\n",
       "      <td>henderson</td>\n",
       "      <td>29</td>\n",
       "    </tr>\n",
       "    <tr>\n",
       "      <th>2</th>\n",
       "      <td>garry</td>\n",
       "      <td>cooper</td>\n",
       "      <td>29</td>\n",
       "    </tr>\n",
       "    <tr>\n",
       "      <th>3</th>\n",
       "      <td>sarah</td>\n",
       "      <td>miller</td>\n",
       "      <td>27</td>\n",
       "    </tr>\n",
       "    <tr>\n",
       "      <th>4</th>\n",
       "      <td>rubie</td>\n",
       "      <td>sullivan</td>\n",
       "      <td>23</td>\n",
       "    </tr>\n",
       "  </tbody>\n",
       "</table>\n",
       "</div>"
      ],
      "text/plain": [
       "  First Name  Last Name  Age\n",
       "0        amy      moore   26\n",
       "1      rosie  henderson   29\n",
       "2      garry     cooper   29\n",
       "3      sarah     miller   27\n",
       "4      rubie   sullivan   23"
      ]
     },
     "execution_count": 34,
     "metadata": {},
     "output_type": "execute_result"
    }
   ],
   "source": [
    "df_people.iloc[:5,[0,1,3]]"
   ]
  },
  {
   "cell_type": "markdown",
   "id": "890a424d-eec9-4131-8af9-42451580b026",
   "metadata": {},
   "source": [
    "The iloc function in pandas is used for indexing and selecting data from a DataFrame based on integer positions. It allows you to specify row and column indices to access specific data points or subsets of the DataFrame.\n",
    "\n",
    "The general syntax of iloc is:\n",
    "\n",
    "```Python\n",
    "df.iloc[row_index(s), column_index(s)]\n",
    "\n",
    "\n",
    "```"
   ]
  },
  {
   "cell_type": "code",
   "execution_count": 35,
   "id": "4a1b2343-ebe2-4fe1-906a-27e05a4bd08d",
   "metadata": {},
   "outputs": [
    {
     "data": {
      "text/plain": [
       "First Name                                 rosie\n",
       "Last Name                              henderson\n",
       "Gender                                    Female\n",
       "Age                                           29\n",
       "Email                 r.henderson@randatmail.com\n",
       "Phone                                747-7768-48\n",
       "Education                                Primary\n",
       "Occupation                               Manager\n",
       "Experience (Years)                            14\n",
       "Salary                                     42540\n",
       "Marital Status                            Single\n",
       "Number of Children                             1\n",
       "Name: 1, dtype: object"
      ]
     },
     "execution_count": 35,
     "metadata": {},
     "output_type": "execute_result"
    }
   ],
   "source": [
    "# Return the first row. Since it is one-dimensional, it is returned as a Series.\n",
    "df_people.iloc[1]"
   ]
  },
  {
   "cell_type": "code",
   "execution_count": 36,
   "id": "2e58b40b-bdc1-406d-a1ad-a1f6fef4e8b9",
   "metadata": {},
   "outputs": [
    {
     "data": {
      "text/html": [
       "<div>\n",
       "<style scoped>\n",
       "    .dataframe tbody tr th:only-of-type {\n",
       "        vertical-align: middle;\n",
       "    }\n",
       "\n",
       "    .dataframe tbody tr th {\n",
       "        vertical-align: top;\n",
       "    }\n",
       "\n",
       "    .dataframe thead th {\n",
       "        text-align: right;\n",
       "    }\n",
       "</style>\n",
       "<table border=\"1\" class=\"dataframe\">\n",
       "  <thead>\n",
       "    <tr style=\"text-align: right;\">\n",
       "      <th></th>\n",
       "      <th>First Name</th>\n",
       "      <th>Last Name</th>\n",
       "    </tr>\n",
       "  </thead>\n",
       "  <tbody>\n",
       "    <tr>\n",
       "      <th>0</th>\n",
       "      <td>amy</td>\n",
       "      <td>moore</td>\n",
       "    </tr>\n",
       "    <tr>\n",
       "      <th>1</th>\n",
       "      <td>rosie</td>\n",
       "      <td>henderson</td>\n",
       "    </tr>\n",
       "    <tr>\n",
       "      <th>2</th>\n",
       "      <td>garry</td>\n",
       "      <td>cooper</td>\n",
       "    </tr>\n",
       "    <tr>\n",
       "      <th>3</th>\n",
       "      <td>sarah</td>\n",
       "      <td>miller</td>\n",
       "    </tr>\n",
       "    <tr>\n",
       "      <th>4</th>\n",
       "      <td>rubie</td>\n",
       "      <td>sullivan</td>\n",
       "    </tr>\n",
       "    <tr>\n",
       "      <th>5</th>\n",
       "      <td>fiona</td>\n",
       "      <td>williams</td>\n",
       "    </tr>\n",
       "    <tr>\n",
       "      <th>6</th>\n",
       "      <td>thomas</td>\n",
       "      <td>carter</td>\n",
       "    </tr>\n",
       "    <tr>\n",
       "      <th>7</th>\n",
       "      <td>sawyer</td>\n",
       "      <td>martin</td>\n",
       "    </tr>\n",
       "  </tbody>\n",
       "</table>\n",
       "</div>"
      ],
      "text/plain": [
       "  First Name  Last Name\n",
       "0        amy      moore\n",
       "1      rosie  henderson\n",
       "2      garry     cooper\n",
       "3      sarah     miller\n",
       "4      rubie   sullivan\n",
       "5      fiona   williams\n",
       "6     thomas     carter\n",
       "7     sawyer     martin"
      ]
     },
     "execution_count": 36,
     "metadata": {},
     "output_type": "execute_result"
    }
   ],
   "source": [
    "# Return the first 8 rows and first 2 columns (the 0 can be ommitted)\n",
    "df_people.iloc[0:8,0:2]"
   ]
  },
  {
   "cell_type": "code",
   "execution_count": 37,
   "id": "b19671a7-04a0-40c2-94e9-88c737aa94a1",
   "metadata": {},
   "outputs": [
    {
     "data": {
      "text/html": [
       "<div>\n",
       "<style scoped>\n",
       "    .dataframe tbody tr th:only-of-type {\n",
       "        vertical-align: middle;\n",
       "    }\n",
       "\n",
       "    .dataframe tbody tr th {\n",
       "        vertical-align: top;\n",
       "    }\n",
       "\n",
       "    .dataframe thead th {\n",
       "        text-align: right;\n",
       "    }\n",
       "</style>\n",
       "<table border=\"1\" class=\"dataframe\">\n",
       "  <thead>\n",
       "    <tr style=\"text-align: right;\">\n",
       "      <th></th>\n",
       "      <th>First Name</th>\n",
       "      <th>Last Name</th>\n",
       "      <th>Salary</th>\n",
       "    </tr>\n",
       "  </thead>\n",
       "  <tbody>\n",
       "    <tr>\n",
       "      <th>1</th>\n",
       "      <td>rosie</td>\n",
       "      <td>henderson</td>\n",
       "      <td>42540</td>\n",
       "    </tr>\n",
       "    <tr>\n",
       "      <th>3</th>\n",
       "      <td>sarah</td>\n",
       "      <td>miller</td>\n",
       "      <td>97946</td>\n",
       "    </tr>\n",
       "    <tr>\n",
       "      <th>5</th>\n",
       "      <td>fiona</td>\n",
       "      <td>williams</td>\n",
       "      <td>65368</td>\n",
       "    </tr>\n",
       "  </tbody>\n",
       "</table>\n",
       "</div>"
      ],
      "text/plain": [
       "  First Name  Last Name  Salary\n",
       "1      rosie  henderson   42540\n",
       "3      sarah     miller   97946\n",
       "5      fiona   williams   65368"
      ]
     },
     "execution_count": 37,
     "metadata": {},
     "output_type": "execute_result"
    }
   ],
   "source": [
    "# Return rows 1, 3, and 5 and show only the first name, last name, and salary\n",
    "df_people.iloc[[1,3,5],[0,1,9]]"
   ]
  },
  {
   "cell_type": "markdown",
   "id": "e0436c15-09d3-40a3-896f-078768439023",
   "metadata": {},
   "source": [
    "## Using loc()\n",
    "The ```loc()``` function in pandas is used for indexing and selecting data from a DataFrame based on labels. It allows you to specify row and column labels to access specific data points or subsets of the DataFrame.\n",
    "\n",
    "The general syntax of loc is:\n",
    "\n",
    "```Python\n",
    "df.loc[row_label(s), column_label(s)]\n",
    "```"
   ]
  },
  {
   "cell_type": "code",
   "execution_count": 38,
   "id": "e973bbb6-017d-46c1-a466-eecf7bde6428",
   "metadata": {},
   "outputs": [],
   "source": [
    "married_filter = (df_people['Marital Status'] == \"Married\")"
   ]
  },
  {
   "cell_type": "raw",
   "id": "41e7640d-3cea-407f-a6e8-3d0db530ddce",
   "metadata": {},
   "source": [
    "df_people.loc[married_filter]"
   ]
  },
  {
   "cell_type": "markdown",
   "id": "18c44a66-95c4-495a-85f2-c612ad5f6e97",
   "metadata": {},
   "source": [
    "# Modifying data"
   ]
  },
  {
   "cell_type": "markdown",
   "id": "be4ad292-12ce-4394-a163-a8825bcbbc69",
   "metadata": {},
   "source": [
    "## unique() and nunique()"
   ]
  },
  {
   "cell_type": "code",
   "execution_count": 44,
   "id": "9cab053d-1a5c-47e7-a44d-821f6fdd5447",
   "metadata": {},
   "outputs": [],
   "source": [
    "df_people.Occupation = df_people.Occupation.apply(lambda x: x.replace(\"Lawer\", \"Lawyer\"))"
   ]
  },
  {
   "cell_type": "code",
   "execution_count": 45,
   "id": "70d7f7c8-f6ae-41e0-b8dc-f74b2ade2bfe",
   "metadata": {},
   "outputs": [
    {
     "data": {
      "text/html": [
       "<div>\n",
       "<style scoped>\n",
       "    .dataframe tbody tr th:only-of-type {\n",
       "        vertical-align: middle;\n",
       "    }\n",
       "\n",
       "    .dataframe tbody tr th {\n",
       "        vertical-align: top;\n",
       "    }\n",
       "\n",
       "    .dataframe thead th {\n",
       "        text-align: right;\n",
       "    }\n",
       "</style>\n",
       "<table border=\"1\" class=\"dataframe\">\n",
       "  <thead>\n",
       "    <tr style=\"text-align: right;\">\n",
       "      <th></th>\n",
       "      <th>First Name</th>\n",
       "      <th>Last Name</th>\n",
       "      <th>Gender</th>\n",
       "      <th>Age</th>\n",
       "      <th>Email</th>\n",
       "      <th>Phone</th>\n",
       "      <th>Education</th>\n",
       "      <th>Occupation</th>\n",
       "      <th>Experience (Years)</th>\n",
       "      <th>Salary</th>\n",
       "      <th>Marital Status</th>\n",
       "      <th>Number of Children</th>\n",
       "    </tr>\n",
       "  </thead>\n",
       "  <tbody>\n",
       "    <tr>\n",
       "      <th>0</th>\n",
       "      <td>amy</td>\n",
       "      <td>moore</td>\n",
       "      <td>Female</td>\n",
       "      <td>26</td>\n",
       "      <td>a.moore@randatmail.com</td>\n",
       "      <td>177-8697-63</td>\n",
       "      <td>Bachelor</td>\n",
       "      <td>Astronomer</td>\n",
       "      <td>11</td>\n",
       "      <td>118590</td>\n",
       "      <td>Married</td>\n",
       "      <td>4</td>\n",
       "    </tr>\n",
       "    <tr>\n",
       "      <th>1</th>\n",
       "      <td>rosie</td>\n",
       "      <td>henderson</td>\n",
       "      <td>Female</td>\n",
       "      <td>29</td>\n",
       "      <td>r.henderson@randatmail.com</td>\n",
       "      <td>747-7768-48</td>\n",
       "      <td>Primary</td>\n",
       "      <td>Manager</td>\n",
       "      <td>14</td>\n",
       "      <td>42540</td>\n",
       "      <td>Single</td>\n",
       "      <td>1</td>\n",
       "    </tr>\n",
       "    <tr>\n",
       "      <th>2</th>\n",
       "      <td>garry</td>\n",
       "      <td>cooper</td>\n",
       "      <td>Male</td>\n",
       "      <td>29</td>\n",
       "      <td>g.cooper@randatmail.com</td>\n",
       "      <td>131-0615-33</td>\n",
       "      <td>Upper secondary</td>\n",
       "      <td>Agronamist</td>\n",
       "      <td>11</td>\n",
       "      <td>149123</td>\n",
       "      <td>Single</td>\n",
       "      <td>3</td>\n",
       "    </tr>\n",
       "    <tr>\n",
       "      <th>3</th>\n",
       "      <td>sarah</td>\n",
       "      <td>miller</td>\n",
       "      <td>Female</td>\n",
       "      <td>27</td>\n",
       "      <td>s.miller@randatmail.com</td>\n",
       "      <td>811-2617-15</td>\n",
       "      <td>Primary</td>\n",
       "      <td>Pharmacist</td>\n",
       "      <td>6</td>\n",
       "      <td>97946</td>\n",
       "      <td>Single</td>\n",
       "      <td>2</td>\n",
       "    </tr>\n",
       "    <tr>\n",
       "      <th>4</th>\n",
       "      <td>rubie</td>\n",
       "      <td>sullivan</td>\n",
       "      <td>Female</td>\n",
       "      <td>23</td>\n",
       "      <td>r.sullivan@randatmail.com</td>\n",
       "      <td>543-4162-06</td>\n",
       "      <td>Bachelor</td>\n",
       "      <td>Engineer</td>\n",
       "      <td>8</td>\n",
       "      <td>78613</td>\n",
       "      <td>Married</td>\n",
       "      <td>4</td>\n",
       "    </tr>\n",
       "    <tr>\n",
       "      <th>5</th>\n",
       "      <td>fiona</td>\n",
       "      <td>williams</td>\n",
       "      <td>Female</td>\n",
       "      <td>25</td>\n",
       "      <td>f.williams@randatmail.com</td>\n",
       "      <td>807-4311-40</td>\n",
       "      <td>Doctoral</td>\n",
       "      <td>Lecturer</td>\n",
       "      <td>7</td>\n",
       "      <td>65368</td>\n",
       "      <td>Single</td>\n",
       "      <td>5</td>\n",
       "    </tr>\n",
       "    <tr>\n",
       "      <th>6</th>\n",
       "      <td>thomas</td>\n",
       "      <td>carter</td>\n",
       "      <td>Male</td>\n",
       "      <td>24</td>\n",
       "      <td>t.carter@randatmail.com</td>\n",
       "      <td>281-1436-40</td>\n",
       "      <td>Bachelor</td>\n",
       "      <td>Veteranarian</td>\n",
       "      <td>5</td>\n",
       "      <td>64881</td>\n",
       "      <td>Single</td>\n",
       "      <td>4</td>\n",
       "    </tr>\n",
       "    <tr>\n",
       "      <th>7</th>\n",
       "      <td>sawyer</td>\n",
       "      <td>martin</td>\n",
       "      <td>Male</td>\n",
       "      <td>20</td>\n",
       "      <td>s.martin@randatmail.com</td>\n",
       "      <td>905-3877-91</td>\n",
       "      <td>Upper secondary</td>\n",
       "      <td>Lawyer</td>\n",
       "      <td>7</td>\n",
       "      <td>140405</td>\n",
       "      <td>Married</td>\n",
       "      <td>0</td>\n",
       "    </tr>\n",
       "    <tr>\n",
       "      <th>8</th>\n",
       "      <td>eleanor</td>\n",
       "      <td>robinson</td>\n",
       "      <td>Female</td>\n",
       "      <td>20</td>\n",
       "      <td>e.robinson@randatmail.com</td>\n",
       "      <td>049-5493-56</td>\n",
       "      <td>Primary</td>\n",
       "      <td>Scientist</td>\n",
       "      <td>6</td>\n",
       "      <td>194147</td>\n",
       "      <td>Married</td>\n",
       "      <td>3</td>\n",
       "    </tr>\n",
       "    <tr>\n",
       "      <th>9</th>\n",
       "      <td>adrianna</td>\n",
       "      <td>kelley</td>\n",
       "      <td>Female</td>\n",
       "      <td>22</td>\n",
       "      <td>a.kelley@randatmail.com</td>\n",
       "      <td>251-3368-86</td>\n",
       "      <td>Upper secondary</td>\n",
       "      <td>Actor</td>\n",
       "      <td>0</td>\n",
       "      <td>160569</td>\n",
       "      <td>Married</td>\n",
       "      <td>1</td>\n",
       "    </tr>\n",
       "    <tr>\n",
       "      <th>10</th>\n",
       "      <td>maximilian</td>\n",
       "      <td>gray</td>\n",
       "      <td>Male</td>\n",
       "      <td>25</td>\n",
       "      <td>m.gray@randatmail.com</td>\n",
       "      <td>976-1552-14</td>\n",
       "      <td>Lower secondary</td>\n",
       "      <td>Baker</td>\n",
       "      <td>3</td>\n",
       "      <td>80813</td>\n",
       "      <td>Married</td>\n",
       "      <td>3</td>\n",
       "    </tr>\n",
       "    <tr>\n",
       "      <th>11</th>\n",
       "      <td>miley</td>\n",
       "      <td>stewart</td>\n",
       "      <td>Female</td>\n",
       "      <td>26</td>\n",
       "      <td>m.stewart@randatmail.com</td>\n",
       "      <td>504-2889-84</td>\n",
       "      <td>Bachelor</td>\n",
       "      <td>Veterinarian</td>\n",
       "      <td>5</td>\n",
       "      <td>145033</td>\n",
       "      <td>Married</td>\n",
       "      <td>4</td>\n",
       "    </tr>\n",
       "    <tr>\n",
       "      <th>12</th>\n",
       "      <td>tiana</td>\n",
       "      <td>grant</td>\n",
       "      <td>Female</td>\n",
       "      <td>19</td>\n",
       "      <td>t.grant@randatmail.com</td>\n",
       "      <td>326-8397-28</td>\n",
       "      <td>Bachelor</td>\n",
       "      <td>Economist</td>\n",
       "      <td>3</td>\n",
       "      <td>96135</td>\n",
       "      <td>Married</td>\n",
       "      <td>5</td>\n",
       "    </tr>\n",
       "    <tr>\n",
       "      <th>13</th>\n",
       "      <td>vincent</td>\n",
       "      <td>parker</td>\n",
       "      <td>Male</td>\n",
       "      <td>30</td>\n",
       "      <td>v.parker@randatmail.com</td>\n",
       "      <td>354-4888-28</td>\n",
       "      <td>Lower secondary</td>\n",
       "      <td>Salesman</td>\n",
       "      <td>9</td>\n",
       "      <td>170367</td>\n",
       "      <td>Single</td>\n",
       "      <td>0</td>\n",
       "    </tr>\n",
       "    <tr>\n",
       "      <th>14</th>\n",
       "      <td>edwin</td>\n",
       "      <td>roberts</td>\n",
       "      <td>Male</td>\n",
       "      <td>26</td>\n",
       "      <td>e.roberts@randatmail.com</td>\n",
       "      <td>593-4080-27</td>\n",
       "      <td>Doctoral</td>\n",
       "      <td>Fashion Designer</td>\n",
       "      <td>7</td>\n",
       "      <td>125753</td>\n",
       "      <td>Married</td>\n",
       "      <td>2</td>\n",
       "    </tr>\n",
       "    <tr>\n",
       "      <th>15</th>\n",
       "      <td>oscar</td>\n",
       "      <td>elliott</td>\n",
       "      <td>Male</td>\n",
       "      <td>28</td>\n",
       "      <td>o.elliott@randatmail.com</td>\n",
       "      <td>862-9748-49</td>\n",
       "      <td>Bachelor</td>\n",
       "      <td>Interpreter</td>\n",
       "      <td>5</td>\n",
       "      <td>74854</td>\n",
       "      <td>Single</td>\n",
       "      <td>2</td>\n",
       "    </tr>\n",
       "    <tr>\n",
       "      <th>16</th>\n",
       "      <td>eric</td>\n",
       "      <td>bailey</td>\n",
       "      <td>Male</td>\n",
       "      <td>28</td>\n",
       "      <td>e.bailey@randatmail.com</td>\n",
       "      <td>940-1010-90</td>\n",
       "      <td>Upper secondary</td>\n",
       "      <td>Interpreter</td>\n",
       "      <td>3</td>\n",
       "      <td>189933</td>\n",
       "      <td>Single</td>\n",
       "      <td>1</td>\n",
       "    </tr>\n",
       "    <tr>\n",
       "      <th>17</th>\n",
       "      <td>alexander</td>\n",
       "      <td>rogers</td>\n",
       "      <td>Male</td>\n",
       "      <td>26</td>\n",
       "      <td>a.rogers@randatmail.com</td>\n",
       "      <td>329-0405-60</td>\n",
       "      <td>Master</td>\n",
       "      <td>Programmer</td>\n",
       "      <td>9</td>\n",
       "      <td>119998</td>\n",
       "      <td>Single</td>\n",
       "      <td>5</td>\n",
       "    </tr>\n",
       "    <tr>\n",
       "      <th>18</th>\n",
       "      <td>richard</td>\n",
       "      <td>thompson</td>\n",
       "      <td>Male</td>\n",
       "      <td>21</td>\n",
       "      <td>r.thompson@randatmail.com</td>\n",
       "      <td>355-0318-95</td>\n",
       "      <td>Bachelor</td>\n",
       "      <td>Driver</td>\n",
       "      <td>10</td>\n",
       "      <td>104777</td>\n",
       "      <td>Single</td>\n",
       "      <td>1</td>\n",
       "    </tr>\n",
       "    <tr>\n",
       "      <th>19</th>\n",
       "      <td>alford</td>\n",
       "      <td>murphy</td>\n",
       "      <td>Male</td>\n",
       "      <td>24</td>\n",
       "      <td>a.murphy@randatmail.com</td>\n",
       "      <td>003-6561-34</td>\n",
       "      <td>Upper secondary</td>\n",
       "      <td>Fine Artist</td>\n",
       "      <td>11</td>\n",
       "      <td>137278</td>\n",
       "      <td>Single</td>\n",
       "      <td>5</td>\n",
       "    </tr>\n",
       "  </tbody>\n",
       "</table>\n",
       "</div>"
      ],
      "text/plain": [
       "    First Name  Last Name  Gender  Age                       Email  \\\n",
       "0          amy      moore  Female   26      a.moore@randatmail.com   \n",
       "1        rosie  henderson  Female   29  r.henderson@randatmail.com   \n",
       "2        garry     cooper    Male   29     g.cooper@randatmail.com   \n",
       "3        sarah     miller  Female   27     s.miller@randatmail.com   \n",
       "4        rubie   sullivan  Female   23   r.sullivan@randatmail.com   \n",
       "5        fiona   williams  Female   25   f.williams@randatmail.com   \n",
       "6       thomas     carter    Male   24     t.carter@randatmail.com   \n",
       "7       sawyer     martin    Male   20     s.martin@randatmail.com   \n",
       "8      eleanor   robinson  Female   20   e.robinson@randatmail.com   \n",
       "9     adrianna     kelley  Female   22     a.kelley@randatmail.com   \n",
       "10  maximilian       gray    Male   25       m.gray@randatmail.com   \n",
       "11       miley    stewart  Female   26    m.stewart@randatmail.com   \n",
       "12       tiana      grant  Female   19      t.grant@randatmail.com   \n",
       "13     vincent     parker    Male   30     v.parker@randatmail.com   \n",
       "14       edwin    roberts    Male   26    e.roberts@randatmail.com   \n",
       "15       oscar    elliott    Male   28    o.elliott@randatmail.com   \n",
       "16        eric     bailey    Male   28     e.bailey@randatmail.com   \n",
       "17   alexander     rogers    Male   26     a.rogers@randatmail.com   \n",
       "18     richard   thompson    Male   21   r.thompson@randatmail.com   \n",
       "19      alford     murphy    Male   24     a.murphy@randatmail.com   \n",
       "\n",
       "          Phone        Education        Occupation  Experience (Years)  \\\n",
       "0   177-8697-63         Bachelor        Astronomer                  11   \n",
       "1   747-7768-48          Primary           Manager                  14   \n",
       "2   131-0615-33  Upper secondary        Agronamist                  11   \n",
       "3   811-2617-15          Primary        Pharmacist                   6   \n",
       "4   543-4162-06         Bachelor          Engineer                   8   \n",
       "5   807-4311-40         Doctoral          Lecturer                   7   \n",
       "6   281-1436-40         Bachelor      Veteranarian                   5   \n",
       "7   905-3877-91  Upper secondary            Lawyer                   7   \n",
       "8   049-5493-56          Primary         Scientist                   6   \n",
       "9   251-3368-86  Upper secondary             Actor                   0   \n",
       "10  976-1552-14  Lower secondary             Baker                   3   \n",
       "11  504-2889-84         Bachelor      Veterinarian                   5   \n",
       "12  326-8397-28         Bachelor         Economist                   3   \n",
       "13  354-4888-28  Lower secondary          Salesman                   9   \n",
       "14  593-4080-27         Doctoral  Fashion Designer                   7   \n",
       "15  862-9748-49         Bachelor       Interpreter                   5   \n",
       "16  940-1010-90  Upper secondary       Interpreter                   3   \n",
       "17  329-0405-60           Master        Programmer                   9   \n",
       "18  355-0318-95         Bachelor            Driver                  10   \n",
       "19  003-6561-34  Upper secondary       Fine Artist                  11   \n",
       "\n",
       "    Salary Marital Status  Number of Children  \n",
       "0   118590        Married                   4  \n",
       "1    42540         Single                   1  \n",
       "2   149123         Single                   3  \n",
       "3    97946         Single                   2  \n",
       "4    78613        Married                   4  \n",
       "5    65368         Single                   5  \n",
       "6    64881         Single                   4  \n",
       "7   140405        Married                   0  \n",
       "8   194147        Married                   3  \n",
       "9   160569        Married                   1  \n",
       "10   80813        Married                   3  \n",
       "11  145033        Married                   4  \n",
       "12   96135        Married                   5  \n",
       "13  170367         Single                   0  \n",
       "14  125753        Married                   2  \n",
       "15   74854         Single                   2  \n",
       "16  189933         Single                   1  \n",
       "17  119998         Single                   5  \n",
       "18  104777         Single                   1  \n",
       "19  137278         Single                   5  "
      ]
     },
     "execution_count": 45,
     "metadata": {},
     "output_type": "execute_result"
    }
   ],
   "source": [
    "df_people.head(20)"
   ]
  },
  {
   "cell_type": "code",
   "execution_count": 47,
   "id": "0f0c6801-4e3d-4c2c-b14a-f173f6fce76e",
   "metadata": {},
   "outputs": [
    {
     "name": "stdout",
     "output_type": "stream",
     "text": [
      "55\n"
     ]
    }
   ],
   "source": [
    "print(df_people['Occupation'].nunique())"
   ]
  },
  {
   "cell_type": "markdown",
   "id": "5ffc9bb3-f6f1-45fa-91f7-a7d05b3eaffd",
   "metadata": {
    "tags": []
   },
   "source": [
    "# Add / Remove Rows and Columns"
   ]
  },
  {
   "cell_type": "markdown",
   "id": "5b14283a-3225-4660-9eba-110808685c8b",
   "metadata": {},
   "source": [
    "# Grouping and Aggregating"
   ]
  },
  {
   "cell_type": "markdown",
   "id": "15a85a86-42aa-4c60-ab1d-213470466e3f",
   "metadata": {},
   "source": [
    "# Handling Missing Values\n",
    "Missing values are a common problem when performing data analysis. This section discusses ways to handle missing values."
   ]
  },
  {
   "cell_type": "code",
   "execution_count": 48,
   "id": "e578d9cf-2ea0-47b6-8348-08d40f273303",
   "metadata": {},
   "outputs": [],
   "source": [
    "import random\n",
    "import numpy as np\n",
    "\n",
    "import pandas as pd\n",
    "df_people = pd.read_csv('files/people_data.csv')"
   ]
  },
  {
   "cell_type": "markdown",
   "id": "803b4ee1-b87b-4185-9cd6-96b0fd289e7d",
   "metadata": {},
   "source": [
    "First, to make it easier, we'll create a small subset of the people DataFrame. Note the use of ```copy()```. Using ```copy()``` creates a *deep copy* of the DataFrame. This avoids making changes to a slice or shallow copy of the DataFrame, which would yield unpredictable results and an exception"
   ]
  },
  {
   "cell_type": "code",
   "execution_count": 53,
   "id": "cb657d39-f30c-4b03-b967-85dd264111b8",
   "metadata": {},
   "outputs": [
    {
     "name": "stdout",
     "output_type": "stream",
     "text": [
      "(10, 12)\n"
     ]
    },
    {
     "data": {
      "text/html": [
       "<div>\n",
       "<style scoped>\n",
       "    .dataframe tbody tr th:only-of-type {\n",
       "        vertical-align: middle;\n",
       "    }\n",
       "\n",
       "    .dataframe tbody tr th {\n",
       "        vertical-align: top;\n",
       "    }\n",
       "\n",
       "    .dataframe thead th {\n",
       "        text-align: right;\n",
       "    }\n",
       "</style>\n",
       "<table border=\"1\" class=\"dataframe\">\n",
       "  <thead>\n",
       "    <tr style=\"text-align: right;\">\n",
       "      <th></th>\n",
       "      <th>First Name</th>\n",
       "      <th>Last Name</th>\n",
       "      <th>Gender</th>\n",
       "      <th>Age</th>\n",
       "      <th>Email</th>\n",
       "      <th>Phone</th>\n",
       "      <th>Education</th>\n",
       "      <th>Occupation</th>\n",
       "      <th>Experience (Years)</th>\n",
       "      <th>Salary</th>\n",
       "      <th>Marital Status</th>\n",
       "      <th>Number of Children</th>\n",
       "    </tr>\n",
       "  </thead>\n",
       "  <tbody>\n",
       "    <tr>\n",
       "      <th>0</th>\n",
       "      <td>amy</td>\n",
       "      <td>NaN</td>\n",
       "      <td>Female</td>\n",
       "      <td>26</td>\n",
       "      <td>a.moore@randatmail.com</td>\n",
       "      <td>177-8697-63</td>\n",
       "      <td>Bachelor</td>\n",
       "      <td>Astronomer</td>\n",
       "      <td>11</td>\n",
       "      <td>118590</td>\n",
       "      <td>Married</td>\n",
       "      <td>4</td>\n",
       "    </tr>\n",
       "    <tr>\n",
       "      <th>1</th>\n",
       "      <td>rosie</td>\n",
       "      <td>henderson</td>\n",
       "      <td>Female</td>\n",
       "      <td>29</td>\n",
       "      <td>r.henderson@randatmail.com</td>\n",
       "      <td>747-7768-48</td>\n",
       "      <td>Primary</td>\n",
       "      <td>Manager</td>\n",
       "      <td>14</td>\n",
       "      <td>42540</td>\n",
       "      <td>Single</td>\n",
       "      <td>1</td>\n",
       "    </tr>\n",
       "    <tr>\n",
       "      <th>2</th>\n",
       "      <td>garry</td>\n",
       "      <td>NaN</td>\n",
       "      <td>Male</td>\n",
       "      <td>29</td>\n",
       "      <td>g.cooper@randatmail.com</td>\n",
       "      <td>131-0615-33</td>\n",
       "      <td>Upper secondary</td>\n",
       "      <td>Agronamist</td>\n",
       "      <td>11</td>\n",
       "      <td>149123</td>\n",
       "      <td>Single</td>\n",
       "      <td>3</td>\n",
       "    </tr>\n",
       "    <tr>\n",
       "      <th>3</th>\n",
       "      <td>sarah</td>\n",
       "      <td>miller</td>\n",
       "      <td>Female</td>\n",
       "      <td>27</td>\n",
       "      <td>s.miller@randatmail.com</td>\n",
       "      <td>811-2617-15</td>\n",
       "      <td>Primary</td>\n",
       "      <td>Pharmacist</td>\n",
       "      <td>6</td>\n",
       "      <td>97946</td>\n",
       "      <td>Single</td>\n",
       "      <td>2</td>\n",
       "    </tr>\n",
       "    <tr>\n",
       "      <th>4</th>\n",
       "      <td>rubie</td>\n",
       "      <td>sullivan</td>\n",
       "      <td>Female</td>\n",
       "      <td>23</td>\n",
       "      <td>r.sullivan@randatmail.com</td>\n",
       "      <td>543-4162-06</td>\n",
       "      <td>Bachelor</td>\n",
       "      <td>Engineer</td>\n",
       "      <td>8</td>\n",
       "      <td>78613</td>\n",
       "      <td>Married</td>\n",
       "      <td>4</td>\n",
       "    </tr>\n",
       "  </tbody>\n",
       "</table>\n",
       "</div>"
      ],
      "text/plain": [
       "  First Name  Last Name  Gender  Age                       Email        Phone  \\\n",
       "0        amy        NaN  Female   26      a.moore@randatmail.com  177-8697-63   \n",
       "1      rosie  henderson  Female   29  r.henderson@randatmail.com  747-7768-48   \n",
       "2      garry        NaN    Male   29     g.cooper@randatmail.com  131-0615-33   \n",
       "3      sarah     miller  Female   27     s.miller@randatmail.com  811-2617-15   \n",
       "4      rubie   sullivan  Female   23   r.sullivan@randatmail.com  543-4162-06   \n",
       "\n",
       "         Education  Occupation  Experience (Years)  Salary Marital Status  \\\n",
       "0         Bachelor  Astronomer                  11  118590        Married   \n",
       "1          Primary     Manager                  14   42540         Single   \n",
       "2  Upper secondary  Agronamist                  11  149123         Single   \n",
       "3          Primary  Pharmacist                   6   97946         Single   \n",
       "4         Bachelor    Engineer                   8   78613        Married   \n",
       "\n",
       "   Number of Children  \n",
       "0                   4  \n",
       "1                   1  \n",
       "2                   3  \n",
       "3                   2  \n",
       "4                   4  "
      ]
     },
     "execution_count": 53,
     "metadata": {},
     "output_type": "execute_result"
    }
   ],
   "source": [
    "small_df = df_people.iloc[:10,:].copy()\n",
    "print(small_df.shape)\n",
    "small_df.head()"
   ]
  },
  {
   "cell_type": "markdown",
   "id": "ab4f1e47-6c73-4194-a8c1-8b3870c1b036",
   "metadata": {},
   "source": [
    "Next, we'll randomly add missing values using the ```np.NaN``` object and create one row and column of NaN values."
   ]
  },
  {
   "cell_type": "code",
   "execution_count": 57,
   "id": "c642cd94-6fdb-4394-8b83-aeb321a90aaa",
   "metadata": {},
   "outputs": [],
   "source": [
    "# Introduce missing (NaN) values into the small DataFame\n",
    "\n",
    "num_missing = 5\n",
    "\n",
    "for x in range(num_missing):\n",
    "    random_row = random.randint(0,9)\n",
    "    random_col = random.randint(0,9)\n",
    "    small_df.iloc[random_row, random_col] = np.NaN\n",
    "\n",
    "# Add a column of NaN values\n",
    "small_df['SS#'] = np.NaN\n",
    "\n",
    "# Add a row of NaN values\n",
    "small_df.loc[len(small_df.index)] = np.NaN"
   ]
  },
  {
   "cell_type": "markdown",
   "id": "64d539b6-200b-46ea-b36c-5def781a6bca",
   "metadata": {},
   "source": [
    "The syntax of ```dropna``` is as follow:\n",
    "\n",
    "```Python\n",
    "DataFrame.dropna(axis=0, how='any', thresh=None, subset=None, inplace=False)\n",
    "```\n",
    "\n",
    "- **axis**: drop rows (```axis=0```) or columns (```axis=1```) which contain missing values\n",
    "- **how**: drop (row|column) if it contains ```any``` missing value; only drop (row|column) if ```all``` values are missing"
   ]
  },
  {
   "cell_type": "markdown",
   "id": "2b6a8795-cda0-491a-b6fb-50ba5d413262",
   "metadata": {},
   "source": [
    "### Sum the count of missing values by column"
   ]
  },
  {
   "cell_type": "code",
   "execution_count": 58,
   "id": "ddbacd64-2ee5-4e78-b9cb-e96b70f57e6c",
   "metadata": {},
   "outputs": [
    {
     "data": {
      "text/plain": [
       "First Name             5\n",
       "Last Name              6\n",
       "Gender                 5\n",
       "Age                    7\n",
       "Email                  5\n",
       "Phone                  6\n",
       "Education              9\n",
       "Occupation             4\n",
       "Experience (Years)     6\n",
       "Salary                 5\n",
       "Marital Status         4\n",
       "Number of Children     4\n",
       "SS#                   14\n",
       "dtype: int64"
      ]
     },
     "execution_count": 58,
     "metadata": {},
     "output_type": "execute_result"
    }
   ],
   "source": [
    "small_df.isna().sum()"
   ]
  },
  {
   "cell_type": "code",
   "execution_count": 59,
   "id": "a919952d-7282-43e7-afde-bf3f97c40594",
   "metadata": {},
   "outputs": [
    {
     "data": {
      "text/plain": [
       "80"
      ]
     },
     "execution_count": 59,
     "metadata": {},
     "output_type": "execute_result"
    }
   ],
   "source": [
    "small_df.isna().sum().sum()"
   ]
  },
  {
   "cell_type": "markdown",
   "id": "f3959dd5-a097-459b-a5f3-ff8c8551d363",
   "metadata": {},
   "source": [
    "# Casting Data Types\n",
    "After creating a pandas DataFrame, you may have columns that have not been defined using the correct data type. For example, after using the ```read_csv()``` function to create the people_df, salary is defined as an integer instead of a float. "
   ]
  },
  {
   "cell_type": "code",
   "execution_count": null,
   "id": "6bb77205-4678-442d-b303-904b8c90e87e",
   "metadata": {},
   "outputs": [],
   "source": [
    "df_people.dtypes"
   ]
  },
  {
   "cell_type": "code",
   "execution_count": null,
   "id": "1d5a63eb-7048-42fd-b2df-341efe0b0dd6",
   "metadata": {},
   "outputs": [],
   "source": [
    "df_people['Salary'] = df_people['Salary'].astype(float)"
   ]
  },
  {
   "cell_type": "markdown",
   "id": "9a6c6629-391a-4a51-bf9f-c30e124eb4dd",
   "metadata": {},
   "source": [
    "# Working with Time Series Data"
   ]
  },
  {
   "cell_type": "markdown",
   "id": "650dfdb6-6acc-49ae-907d-7743c2818722",
   "metadata": {},
   "source": [
    "# Interacting with Excel, JSON, Parquet files, SQL"
   ]
  },
  {
   "cell_type": "markdown",
   "id": "dc327df1-17f1-4d97-8b73-04aa7a28b22a",
   "metadata": {},
   "source": [
    "## Using iloc"
   ]
  },
  {
   "cell_type": "markdown",
   "id": "827f424c-06a3-4d72-aeff-fabe678eeb2a",
   "metadata": {},
   "source": [
    "# Using Polars with Pandas"
   ]
  },
  {
   "cell_type": "markdown",
   "id": "3711720a-263c-472e-9258-8eda2d88b8f2",
   "metadata": {},
   "source": [
    "## "
   ]
  },
  {
   "cell_type": "markdown",
   "id": "edd34724-b552-472b-9de9-229412d8322e",
   "metadata": {
    "tags": []
   },
   "source": [
    "# Initialize everything"
   ]
  },
  {
   "cell_type": "markdown",
   "id": "53038189-bfa3-41e9-b781-f23ec117aa91",
   "metadata": {},
   "source": [
    "This section is provided to quickly re-load the series and dataframe objects used in this notebook"
   ]
  },
  {
   "cell_type": "code",
   "execution_count": null,
   "id": "eb05b93a-6af7-4d4a-8c58-2836356717d3",
   "metadata": {},
   "outputs": [],
   "source": [
    "import pandas as pd\n",
    "import numpy as np\n",
    "\n",
    "grades = [88, 67, 100, 92, None, 95, 82, 100, 100, 95]\n",
    "grade_series = pd.Series(grades)\n",
    "\n",
    "grades = [88, 67, 100, 92, None, 95, 82, 100, 100, 95]\n",
    "students = ['dmac', 'edev', 'joeb', 'tdog', 'txroy', 'sthicks', 'jfrerk', 'spickard', 'choenes', 'jsisson']\n",
    "student_grades_series = pd.Series(grades, students)\n",
    "\n",
    "df_people = pd.read_csv('files/people_data.csv')\n",
    "small_df = df_people.iloc[:10,:].copy()"
   ]
  },
  {
   "cell_type": "code",
   "execution_count": null,
   "id": "b867f952-9048-4d04-9c19-d77f82022297",
   "metadata": {},
   "outputs": [],
   "source": [
    "df_nfl = pd.read_csv('files/NFLPlaybyPlay2015.csv', low_memory = False)"
   ]
  },
  {
   "cell_type": "code",
   "execution_count": null,
   "id": "928325fd-2a5b-4a30-a7b7-c7aabbf8e091",
   "metadata": {},
   "outputs": [],
   "source": [
    "df_nfl.info()"
   ]
  },
  {
   "cell_type": "code",
   "execution_count": null,
   "id": "1970a22f-5126-4379-af78-c0f94cf38e51",
   "metadata": {},
   "outputs": [],
   "source": [
    "df_nfl['InterceptionThrown'].unique()"
   ]
  },
  {
   "cell_type": "code",
   "execution_count": null,
   "id": "800c1bca-d08a-44f3-a911-4bcb6223a748",
   "metadata": {},
   "outputs": [],
   "source": [
    "df_nfl.isna().sum().sum()"
   ]
  },
  {
   "cell_type": "code",
   "execution_count": null,
   "id": "c9867cf3-e328-4ee1-942f-dfbfd5e95872",
   "metadata": {},
   "outputs": [],
   "source": [
    "df_nfl['Date2'] = pd.to_datetime(df_nfl['Date'])"
   ]
  },
  {
   "cell_type": "code",
   "execution_count": null,
   "id": "90b2b1fd-207e-455f-8684-0fb96c80823d",
   "metadata": {},
   "outputs": [],
   "source": [
    "df_nfl['Date2'].nunique()"
   ]
  },
  {
   "cell_type": "code",
   "execution_count": null,
   "id": "2a56a067-9a8f-4a0c-af86-d2fe7720d457",
   "metadata": {},
   "outputs": [],
   "source": []
  }
 ],
 "metadata": {
  "kernelspec": {
   "display_name": "Python 3 (ipykernel)",
   "language": "python",
   "name": "python3"
  },
  "language_info": {
   "codemirror_mode": {
    "name": "ipython",
    "version": 3
   },
   "file_extension": ".py",
   "mimetype": "text/x-python",
   "name": "python",
   "nbconvert_exporter": "python",
   "pygments_lexer": "ipython3",
   "version": "3.10.6"
  }
 },
 "nbformat": 4,
 "nbformat_minor": 5
}
