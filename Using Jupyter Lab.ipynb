{
 "cells": [
  {
   "cell_type": "markdown",
   "id": "e691cc17-ea8e-4996-bb9c-37467f9dcd83",
   "metadata": {},
   "source": [
    "# Using Jupyter Lab"
   ]
  },
  {
   "cell_type": "markdown",
   "id": "849a9f91-917b-4ad8-801a-22a0173b1b03",
   "metadata": {},
   "source": [
    "## Why Jupyter Lab"
   ]
  },
  {
   "cell_type": "markdown",
   "id": "680c7a30-3517-4172-952b-dced0448f69b",
   "metadata": {},
   "source": [
    "## Jupyter Lab vs. Jupyter Notebook"
   ]
  },
  {
   "cell_type": "markdown",
   "id": "a7acd862-fb0e-4949-81bf-0d8ce377a668",
   "metadata": {},
   "source": [
    "## Other IDEs\n",
    "\n",
    "### Visual Studio Code\n",
    "\n",
    "### PyCharm\n",
    "\n",
    "### Spyder"
   ]
  },
  {
   "cell_type": "markdown",
   "id": "50a06eae-421d-4dee-bc94-f0b2c85ccee1",
   "metadata": {},
   "source": [
    "### Types of Cells\n",
    "\n",
    "#### Code\n",
    "\n",
    "#### Markdown\n",
    "\n",
    "\n",
    "#### Raw"
   ]
  },
  {
   "cell_type": "raw",
   "id": "9b2f01c0-01ec-4543-a552-b96e60fe40e6",
   "metadata": {
    "editable": true,
    "slideshow": {
     "slide_type": ""
    },
    "tags": []
   },
   "source": []
  },
  {
   "cell_type": "markdown",
   "id": "2e4474c0-5a62-43d5-946e-b39928e3efac",
   "metadata": {},
   "source": [
    "## Basic operations\n",
    "\n",
    "\n",
    "### "
   ]
  },
  {
   "cell_type": "markdown",
   "id": "fa0ecd8a-61fd-4670-9077-839f41d8fba5",
   "metadata": {
    "editable": true,
    "slideshow": {
     "slide_type": ""
    },
    "tags": []
   },
   "source": [
    "## Editor Mode vs. Command mode"
   ]
  },
  {
   "cell_type": "markdown",
   "id": "bc260fff-105f-448b-8070-a96f2e9ba474",
   "metadata": {},
   "source": [
    "### Open and view files (e.g., PDF, CSV, JSON)\n",
    "### Supports R and Julia (Julia Python R = Jupyter)"
   ]
  },
  {
   "cell_type": "markdown",
   "id": "ba1c42f0-1eb8-4e81-b671-e86cc8f959c0",
   "metadata": {},
   "source": [
    "## Intro to IDE Features"
   ]
  },
  {
   "cell_type": "markdown",
   "id": "ed61f33a-bf67-4afd-8302-383103460426",
   "metadata": {},
   "source": [
    "#### Drag and drop cells\n",
    "* Drag from one notebook to another (remember that notebooks have their own kernels).\n",
    "\n",
    "#### Rendering visualizations (Seaborn, Matplotlib, etc.)\n",
    "\n",
    "#### Cell-specific output\n",
    "* Store specific cell output and place in its own window"
   ]
  },
  {
   "cell_type": "markdown",
   "id": "029cc0e7-a707-45a3-b3bd-0be5b7e45d84",
   "metadata": {},
   "source": [
    "## Pandas DataFrame rendering"
   ]
  },
  {
   "cell_type": "code",
   "execution_count": 2,
   "id": "255648ba-d20e-42f8-a656-115d0dd03692",
   "metadata": {},
   "outputs": [
    {
     "ename": "ModuleNotFoundError",
     "evalue": "No module named 'maplotlib'",
     "output_type": "error",
     "traceback": [
      "\u001b[0;31m---------------------------------------------------------------------------\u001b[0m",
      "\u001b[0;31mModuleNotFoundError\u001b[0m                       Traceback (most recent call last)",
      "Cell \u001b[0;32mIn[2], line 1\u001b[0m\n\u001b[0;32m----> 1\u001b[0m \u001b[38;5;28;01mimport\u001b[39;00m \u001b[38;5;21;01mmaplotlib\u001b[39;00m\u001b[38;5;21;01m.\u001b[39;00m\u001b[38;5;21;01mpyplot\u001b[39;00m \u001b[38;5;28;01mas\u001b[39;00m \u001b[38;5;21;01mplt\u001b[39;00m\n\u001b[1;32m      2\u001b[0m \u001b[38;5;28;01mimport\u001b[39;00m \u001b[38;5;21;01mnumpy\u001b[39;00m \u001b[38;5;28;01mas\u001b[39;00m \u001b[38;5;21;01mnp\u001b[39;00m\n",
      "\u001b[0;31mModuleNotFoundError\u001b[0m: No module named 'maplotlib'"
     ]
    }
   ],
   "source": [
    "import maplotlib.pyplot as plt\n",
    "import numpy as np"
   ]
  },
  {
   "cell_type": "code",
   "execution_count": 7,
   "id": "eb36da9a-57d1-455e-a0a0-51175b4c2f72",
   "metadata": {},
   "outputs": [],
   "source": [
    "def f(x):\n",
    "    return x + 2"
   ]
  },
  {
   "cell_type": "code",
   "execution_count": 8,
   "id": "3bab1f32-762a-4647-be13-0844f715d2a0",
   "metadata": {},
   "outputs": [],
   "source": [
    "y = f(2)"
   ]
  },
  {
   "cell_type": "code",
   "execution_count": 9,
   "id": "320a1eb7-c3e2-40c0-bbfa-376c4b331aee",
   "metadata": {},
   "outputs": [
    {
     "data": {
      "text/plain": [
       "True"
      ]
     },
     "execution_count": 9,
     "metadata": {},
     "output_type": "execute_result"
    }
   ],
   "source": [
    "y == 4"
   ]
  },
  {
   "cell_type": "code",
   "execution_count": 10,
   "id": "c059c6b4-d987-4cad-90fc-89336c21b00e",
   "metadata": {},
   "outputs": [
    {
     "name": "stdout",
     "output_type": "stream",
     "text": [
      "4\n"
     ]
    }
   ],
   "source": [
    "print(y)"
   ]
  },
  {
   "cell_type": "code",
   "execution_count": null,
   "id": "a5ef5240-d93b-40f9-88e1-569d3f33e1d8",
   "metadata": {},
   "outputs": [],
   "source": []
  }
 ],
 "metadata": {
  "kernelspec": {
   "display_name": "Python 3 (ipykernel)",
   "language": "python",
   "name": "python3"
  },
  "language_info": {
   "codemirror_mode": {
    "name": "ipython",
    "version": 3
   },
   "file_extension": ".py",
   "mimetype": "text/x-python",
   "name": "python",
   "nbconvert_exporter": "python",
   "pygments_lexer": "ipython3",
   "version": "3.10.12"
  }
 },
 "nbformat": 4,
 "nbformat_minor": 5
}
