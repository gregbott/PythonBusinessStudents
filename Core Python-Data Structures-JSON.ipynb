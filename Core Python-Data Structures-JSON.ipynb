{
 "cells": [
  {
   "cell_type": "markdown",
   "metadata": {
    "toc-hr-collapsed": true
   },
   "source": [
    "# Data Structures\n"
   ]
  },
  {
   "cell_type": "markdown",
   "metadata": {},
   "source": [
    "## What's a data structure?\n",
    "As its name implies, a data structure is a container that holds data. Just like some post office boxes hold packages and others hold letters, Python's built-in data structures have different purposes and uses. Use data structures to organize and perform operations on data. Python has the following built-in data structures: Lists, Dictionaries, Sets, and Tuples. Each container has different attributes and is used for a different purpose.\n",
    "\n",
    "sources: (W3Schools, RealPython.com)\n",
    "\n",
    "<img src=\"./images/post_office_boxes.jpg\" align=\"middle\">"
   ]
  },
  {
   "cell_type": "markdown",
   "metadata": {
    "toc-nb-collapsed": true
   },
   "source": [
    "## Comparing Built-in Data Structures\n",
    "Below is a comparsion of four built-in data structures in Python. \n",
    "\n",
    "<img src=\"./images/structures.jpg\" align=\"middle\">"
   ]
  },
  {
   "cell_type": "markdown",
   "metadata": {
    "toc-hr-collapsed": true,
    "toc-nb-collapsed": true
   },
   "source": [
    "# Tuples\n",
    "What is the proper pronunication of \"tuple\"? Answer: either TEW-pull or Tupple (like the 'u' sound in pup). \n",
    "\n",
    "* Ordered sequence of elements\n",
    "* Tuples are immutable\n",
    "* Parentheses denote a tuple"
   ]
  },
  {
   "cell_type": "code",
   "execution_count": null,
   "metadata": {},
   "outputs": [],
   "source": [
    "t = 99"
   ]
  },
  {
   "cell_type": "code",
   "execution_count": null,
   "metadata": {},
   "outputs": [],
   "source": [
    "# Create an empty tuple\n",
    "\n",
    "t = ()\n",
    "t = (4, \"hello\", True, 3.1)"
   ]
  },
  {
   "cell_type": "code",
   "execution_count": null,
   "metadata": {},
   "outputs": [],
   "source": [
    "print(t[3])"
   ]
  },
  {
   "cell_type": "code",
   "execution_count": null,
   "metadata": {},
   "outputs": [],
   "source": [
    "# Concatenation with a tuple\n",
    "\n",
    "print(t)\n",
    "print(\"Concatenate '7'\")\n",
    "print((t) + (7,)) # Note the comma--the comma tells Python that this is a tuple and not an int"
   ]
  },
  {
   "cell_type": "code",
   "execution_count": null,
   "metadata": {},
   "outputs": [],
   "source": [
    "# Iterating a tuple\n",
    "for v in t:\n",
    "    print(v)"
   ]
  },
  {
   "cell_type": "code",
   "execution_count": null,
   "metadata": {},
   "outputs": [],
   "source": [
    "def tip_options(amount):\n",
    "    # Use a tuple to return more than one value\n",
    "    return(amount, amount*1.10, amount*1.15, amount*1.2)\n",
    "\n",
    "print(tip_options(30))\n",
    "print(type(tip_options(30)))"
   ]
  },
  {
   "cell_type": "code",
   "execution_count": null,
   "metadata": {},
   "outputs": [],
   "source": [
    "# Use a tuple to swap values\n",
    "y = 5\n",
    "x = 10\n",
    "print('x =', x, 'y =', y)\n",
    "(x, y) = (y, x)\n",
    "print('x =', x, 'y =', y)"
   ]
  },
  {
   "cell_type": "markdown",
   "metadata": {
    "tags": [],
    "toc-hr-collapsed": true,
    "toc-nb-collapsed": true
   },
   "source": [
    "# Lists\n",
    "\n",
    "A list is an ordered sequence of *items*. Lists are similar to arrays in other languages. One difference is that Lists can contain different types of data."
   ]
  },
  {
   "cell_type": "markdown",
   "metadata": {},
   "source": [
    "## Creating Lists\n",
    " \n",
    "Lists are created using several methods."
   ]
  },
  {
   "cell_type": "code",
   "execution_count": null,
   "metadata": {},
   "outputs": [],
   "source": [
    "#Use square brackets to make list\n",
    "\n",
    "cities = [] # an empty list"
   ]
  },
  {
   "cell_type": "code",
   "execution_count": null,
   "metadata": {},
   "outputs": [],
   "source": [
    "print(cities)"
   ]
  },
  {
   "cell_type": "code",
   "execution_count": null,
   "metadata": {},
   "outputs": [],
   "source": [
    "type(cities)"
   ]
  },
  {
   "cell_type": "code",
   "execution_count": null,
   "metadata": {},
   "outputs": [],
   "source": [
    "cities = [\"Dallas\",\"Chicago\",\"Miami\",\"Grand Rapids\" ]\n",
    "print(cities,\" is of type \", type(cities))"
   ]
  },
  {
   "cell_type": "code",
   "execution_count": null,
   "metadata": {},
   "outputs": [],
   "source": [
    "# Get the length of your list using the len() function\n",
    "len(cities)"
   ]
  },
  {
   "cell_type": "code",
   "execution_count": null,
   "metadata": {},
   "outputs": [],
   "source": [
    "#Ordered -- accessible via index\n",
    "print(cities[2]) # Print the third item in a list"
   ]
  },
  {
   "cell_type": "code",
   "execution_count": null,
   "metadata": {},
   "outputs": [],
   "source": [
    "# Print the last item in a list\n",
    "print(cities[-1])"
   ]
  },
  {
   "cell_type": "code",
   "execution_count": null,
   "metadata": {},
   "outputs": [],
   "source": [
    "print(cities[1:3]) # print the second and third items. Second value is not inclusive."
   ]
  },
  {
   "cell_type": "code",
   "execution_count": null,
   "metadata": {},
   "outputs": [],
   "source": [
    "print(cities[1:]) # print the second item through the end of the list."
   ]
  },
  {
   "cell_type": "code",
   "execution_count": null,
   "metadata": {},
   "outputs": [],
   "source": [
    "print(cities[1::2]) # Start at 2nd item (index=1) and print every other (increment=2)"
   ]
  },
  {
   "cell_type": "code",
   "execution_count": null,
   "metadata": {},
   "outputs": [],
   "source": [
    "# Reverse a list (Step -1)\n",
    "print(cities[::-1])"
   ]
  },
  {
   "cell_type": "code",
   "execution_count": null,
   "metadata": {},
   "outputs": [],
   "source": [
    "# Lists are not limited to containing only values of a single type\n",
    "# A list may contain objects such as another list \n",
    "my_list = [True, 0, \"Greg Bott\", 3.14159, [\"steak\",\"eggs\",\"donuts\"]]\n",
    "print(my_list)"
   ]
  },
  {
   "cell_type": "markdown",
   "metadata": {},
   "source": [
    "## Lists are Mutable"
   ]
  },
  {
   "cell_type": "code",
   "execution_count": null,
   "metadata": {},
   "outputs": [],
   "source": [
    "print(cities)\n",
    "cities[2] = \"San Antonio\" # Replace the third entry ('Miami') with 'San Antonio'\n",
    "print(cities) # mutated list object"
   ]
  },
  {
   "cell_type": "markdown",
   "metadata": {},
   "source": [
    "## Adding items to a list\n",
    "* Use append to add elements to the end of a list. This operation *mutates* the list.\n",
    "```Python\n",
    "<list>.append(element)\n",
    "``` \n",
    "\n",
    "Combine lists using the extend() function or + operator\n",
    "```Python\n",
    "<list>.extend(element)\n",
    "\n",
    "<list> + <list>\n",
    "``` \n",
    "\n",
    "Insert an item at specified index location using insert().\n",
    "\n"
   ]
  },
  {
   "cell_type": "code",
   "execution_count": null,
   "metadata": {},
   "outputs": [],
   "source": [
    "# Use the append() method to add an item to the list\n",
    "print(cities)\n",
    "print('Adding Columbia...')\n",
    "cities.append(\"Columbia\")\n",
    "print(cities)"
   ]
  },
  {
   "cell_type": "code",
   "execution_count": null,
   "metadata": {},
   "outputs": [],
   "source": [
    "# Using append() to add multiple items results in a list within a list\n",
    "more_cities = ['St. Louis', 'Tempe', 'Atlanta']\n",
    "\n",
    "# append() accepts only 1 argument (an interable)\n",
    "cities.append(more_cities) \n",
    "print(cities)"
   ]
  },
  {
   "cell_type": "code",
   "execution_count": null,
   "metadata": {},
   "outputs": [],
   "source": [
    "cities[5][2]"
   ]
  },
  {
   "cell_type": "code",
   "execution_count": null,
   "metadata": {},
   "outputs": [],
   "source": [
    "# Use insert() to add an item to specific location in the list. \n",
    "print(cities)\n",
    "cities.insert(1, 'Austin') # Insert Austin in the second position\n",
    "print(cities)"
   ]
  },
  {
   "cell_type": "code",
   "execution_count": null,
   "metadata": {},
   "outputs": [],
   "source": [
    "# Reset the list to the original cities\n",
    "cities = ['Dallas', 'Austin', 'Chicago', 'Miami', 'Grand Rapids', 'Columbia']"
   ]
  },
  {
   "cell_type": "code",
   "execution_count": null,
   "metadata": {},
   "outputs": [],
   "source": [
    "more_cities = ['St. Louis', 'Tempe', 'Atlanta']\n",
    "\n",
    "# Use extend() when you want to add multiple values to a list\n",
    "cities.extend(more_cities)\n",
    "print(cities)"
   ]
  },
  {
   "cell_type": "markdown",
   "metadata": {},
   "source": [
    "## Copying a list\n",
    "If you use the following expression to create a new list, what you have is two references to a single object, NOT two lists.\n",
    "```Python\n",
    "list_a = list_b\n",
    "```"
   ]
  },
  {
   "cell_type": "code",
   "execution_count": null,
   "metadata": {},
   "outputs": [],
   "source": [
    "list_a = [1,2,3,4,5]\n",
    "\n",
    "list_b = list_a\n",
    "print(\"a=\",list_a)\n",
    "print(\"b=\",list_b)"
   ]
  },
  {
   "cell_type": "code",
   "execution_count": null,
   "metadata": {},
   "outputs": [],
   "source": [
    "# Change ONLY list_b\n",
    "list_b[0] = 'Protein bar'\n",
    "print(\"a=\",list_a)\n",
    "print(\"b=\",list_b)"
   ]
  },
  {
   "cell_type": "markdown",
   "metadata": {},
   "source": [
    "Even though I did not change list a, changing list b also changed list a because the two lists are not two separate objects. They are two references pointing to the same object."
   ]
  },
  {
   "cell_type": "code",
   "execution_count": null,
   "metadata": {},
   "outputs": [],
   "source": [
    "list_a = [1,2,3,4,5]\n",
    "\n",
    "# To make a *copy* of the object instead of referencing the same object, use copy()\n",
    "list_b = list_a.copy()\n",
    "print(\"a=\",list_a)\n",
    "print(\"b=\",list_b)"
   ]
  },
  {
   "cell_type": "code",
   "execution_count": null,
   "metadata": {},
   "outputs": [],
   "source": [
    "# Change ONLY list_b\n",
    "list_b[0] = 'Protein bar'\n",
    "print(\"a=\",list_a)\n",
    "print(\"b=\",list_b)"
   ]
  },
  {
   "cell_type": "markdown",
   "metadata": {},
   "source": [
    "This time, list a did not change. Now we have TWO separate objects. Therefore, changing list b does not affect list a and vice versa."
   ]
  },
  {
   "cell_type": "markdown",
   "metadata": {},
   "source": [
    "## Splitting and Joining Lists\n",
    "Using the split() function to separate a string using a delimter (e.g., a comma) creates a list object."
   ]
  },
  {
   "cell_type": "code",
   "execution_count": null,
   "metadata": {},
   "outputs": [],
   "source": [
    "states = \"Missouri, Alabama, Texas, Washington, Florida\"\n",
    "print(\"States is of \", type(states))\n",
    "\n",
    "states = states.split(\",\")\n",
    "print(states, \"this is of\",type(states))"
   ]
  },
  {
   "cell_type": "code",
   "execution_count": null,
   "metadata": {},
   "outputs": [],
   "source": [
    "print(states[2])"
   ]
  },
  {
   "cell_type": "code",
   "execution_count": null,
   "metadata": {},
   "outputs": [],
   "source": [
    "print(type(states))\n",
    "states = ','.join(states)\n",
    "print(states, \"this is of\",type(states))"
   ]
  },
  {
   "cell_type": "code",
   "execution_count": null,
   "metadata": {},
   "outputs": [],
   "source": [
    "# Remember that you may split on any character.\n",
    "#   Here is an example of splitting an email address\n",
    "#   into the user name (string prior to the '@' symbol)\n",
    "#   and the domain (the part following the '@' symbol.')\n",
    "\n",
    "addr = 'monty@python.org'\n",
    "uname, domain = addr.split('@')\n",
    "split_email = addr.split('@' )\n",
    "print(f\"user name = {uname}\")\n",
    "print(f\"domain name = {domain}\")\n",
    "print(split_email)"
   ]
  },
  {
   "cell_type": "markdown",
   "metadata": {},
   "source": [
    "## List Comprehensions\n",
    "\n",
    "List comprehensions are a compact method to build lists using a single line of code.\n",
    "\n",
    "Basic syntax\n",
    "```python\n",
    "[ expr for item in iterable ]\n",
    "```\n",
    "\n",
    "Using a conditional:\n",
    "```python\n",
    "my_list = [ expr(element) for item in iterable if condition ] \n",
    "```"
   ]
  },
  {
   "cell_type": "markdown",
   "metadata": {},
   "source": [
    "For example, if I wanted to iterate over a range of numbers and make a list of the even ones, I could use this code:"
   ]
  },
  {
   "cell_type": "code",
   "execution_count": null,
   "metadata": {},
   "outputs": [],
   "source": [
    "even_number_list = []\n",
    "for x in range(20):\n",
    "    if x % 2 == 0:\n",
    "        even_number_list.append(x)\n",
    "print(even_number_list)"
   ]
  },
  {
   "cell_type": "markdown",
   "metadata": {},
   "source": [
    "Using a list comprehension I can do the same with a single line of code."
   ]
  },
  {
   "cell_type": "code",
   "execution_count": null,
   "metadata": {},
   "outputs": [],
   "source": [
    "even_number_list = [x for x in range(20) if x % 2 == 0]\n",
    "print(even_number_list)"
   ]
  },
  {
   "cell_type": "code",
   "execution_count": null,
   "metadata": {},
   "outputs": [],
   "source": [
    "even_number_list = [x for x in range(20) if x % 2 == 0]"
   ]
  },
  {
   "cell_type": "code",
   "execution_count": null,
   "metadata": {},
   "outputs": [],
   "source": [
    "num_list = [y for y in range(100) if (y % 2 == 0) or (y % 5 == 0)]\n",
    "print(num_list)"
   ]
  },
  {
   "cell_type": "markdown",
   "metadata": {},
   "source": [
    "## Removing Items from a List"
   ]
  },
  {
   "cell_type": "code",
   "execution_count": null,
   "metadata": {},
   "outputs": [],
   "source": [
    "# Remove elements by index\n",
    "t = ['a', 'b', 'c', 'd', 'e']\n",
    "del(t[1])\n",
    "print(t)"
   ]
  },
  {
   "cell_type": "code",
   "execution_count": null,
   "metadata": {},
   "outputs": [],
   "source": [
    "# Delete the last item on the list. Returns the item deleted. Mutates list.\n",
    "x = t.pop()\n",
    "\n",
    "print('Deleted ', x)\n",
    "print('New list is ', t)"
   ]
  },
  {
   "cell_type": "code",
   "execution_count": null,
   "metadata": {},
   "outputs": [],
   "source": [
    "# Remove specific element (e.g., remove 'Chicago'), mutates the list.\n",
    "print(cities)\n",
    "\n",
    "cities.remove('Chicago')\n",
    "print(cities)"
   ]
  },
  {
   "cell_type": "code",
   "execution_count": null,
   "metadata": {},
   "outputs": [],
   "source": [
    "# ERROR: If not in list, error.\n",
    "cities.remove('St. Louis')"
   ]
  },
  {
   "cell_type": "markdown",
   "metadata": {},
   "source": [
    "Be careful when removing items from a list. If you attempt to remove items while iterating over the same list, items may be skipped. "
   ]
  },
  {
   "cell_type": "code",
   "execution_count": null,
   "metadata": {},
   "outputs": [],
   "source": [
    "my_list = [1,2,3,4,5,6,7,8,9,10]"
   ]
  },
  {
   "cell_type": "code",
   "execution_count": null,
   "metadata": {},
   "outputs": [],
   "source": [
    "# The intent of this code is to remove numbers greater than 5 from my list.\n",
    "\n",
    "for item in my_list:\n",
    "    if item > 5:\n",
    "        my_list.remove(item)\n",
    "\n",
    "# ERROR: However, 7 and 9 remain because they were skipped as items were removed.\n",
    "print(my_list)"
   ]
  },
  {
   "cell_type": "markdown",
   "metadata": {},
   "source": [
    "One solution is to use a list comprehension."
   ]
  },
  {
   "cell_type": "code",
   "execution_count": null,
   "metadata": {},
   "outputs": [],
   "source": [
    "my_list = [1,2,3,4,5,6,7,8,9,10]\n",
    "\n",
    "# Only keep items in the list that are less than 6\n",
    "my_list = [item for item in my_list if item < 6]\n",
    "\n",
    "print(my_list)"
   ]
  },
  {
   "cell_type": "markdown",
   "metadata": {},
   "source": [
    "Another solution is to reverse the list. That way, if the last item (item 9) is deleted, it doesn't alter the indexes of the rest of the list."
   ]
  },
  {
   "cell_type": "code",
   "execution_count": null,
   "metadata": {},
   "outputs": [],
   "source": [
    "my_list = [1,2,3,4,5,6,7,8,9,10]\n",
    "\n",
    "# Reverse the list and delete items greater than 5\n",
    "for item in reversed(my_list):\n",
    "    if item > 5:\n",
    "        my_list.remove(item)\n",
    "        \n",
    "print(my_list)"
   ]
  },
  {
   "cell_type": "markdown",
   "metadata": {},
   "source": [
    "## Testing for membership\n",
    "\n",
    "Use the in keyword to test for list membership."
   ]
  },
  {
   "cell_type": "code",
   "execution_count": null,
   "metadata": {},
   "outputs": [],
   "source": [
    "print(cities)\n",
    "print(\"Dallas\" in cities)\n",
    "print(\"Tuscaloosa\" in cities)"
   ]
  },
  {
   "cell_type": "markdown",
   "metadata": {},
   "source": [
    "## Enumerating a list"
   ]
  },
  {
   "cell_type": "code",
   "execution_count": null,
   "metadata": {},
   "outputs": [],
   "source": [
    "# WITHOUT using enumerate()\n",
    "count = 0\n",
    "for city in cities:\n",
    "    print(count, city)\n",
    "    count += 1"
   ]
  },
  {
   "cell_type": "code",
   "execution_count": null,
   "metadata": {},
   "outputs": [],
   "source": [
    "for x in range(len(cities)):\n",
    "    print(x, cities[x])\n",
    "                  "
   ]
  },
  {
   "cell_type": "code",
   "execution_count": null,
   "metadata": {},
   "outputs": [],
   "source": [
    "# printing the tuples in object directly\n",
    "for city in enumerate(cities):\n",
    "    print (city)"
   ]
  },
  {
   "cell_type": "code",
   "execution_count": null,
   "metadata": {},
   "outputs": [],
   "source": [
    "# Change start of index\n",
    "for count,ele in enumerate(cities,10):\n",
    "    print (count,ele)"
   ]
  },
  {
   "cell_type": "markdown",
   "metadata": {},
   "source": [
    "## Iterating a list\n",
    "\n",
    "Use a for loop to iterate a list."
   ]
  },
  {
   "cell_type": "code",
   "execution_count": null,
   "metadata": {},
   "outputs": [],
   "source": [
    "# Loop through list\n",
    "for city in cities:\n",
    "    print(city)"
   ]
  },
  {
   "cell_type": "markdown",
   "metadata": {},
   "source": [
    "Use the len() function to determine how many items are in the list and use that within a range() function."
   ]
  },
  {
   "cell_type": "code",
   "execution_count": null,
   "metadata": {},
   "outputs": [],
   "source": [
    "for i in range(len(cities)):\n",
    "    print(cities[i],end=\" \")"
   ]
  },
  {
   "cell_type": "markdown",
   "metadata": {},
   "source": [
    "## List Concatenation\n"
   ]
  },
  {
   "cell_type": "code",
   "execution_count": null,
   "metadata": {},
   "outputs": [],
   "source": [
    "# Use the '+' operator to concatenate lists\n",
    "a = [1,2,3]\n",
    "b = [4,5,6]\n",
    "c = a + b # does not mutate 'a' or 'b'\n",
    "\n",
    "print(\"c = \", c)\n",
    "\n",
    "print(\"a = \", a)\n",
    "print(\"b = \", b)"
   ]
  },
  {
   "cell_type": "markdown",
   "metadata": {},
   "source": [
    "## Extending a list"
   ]
  },
  {
   "cell_type": "code",
   "execution_count": null,
   "metadata": {},
   "outputs": [],
   "source": [
    "print(\"list 'a' = \", a)\n",
    "print(\"list 'b' =\", b)\n",
    "\n",
    "a.extend(b) # This combines a and b, mutates a but not b\n",
    "\n",
    "print(\"list 'a' =\", a)\n",
    "print(\"list 'b' =\", b)\n",
    "print(c)"
   ]
  },
  {
   "cell_type": "code",
   "execution_count": null,
   "metadata": {},
   "outputs": [],
   "source": [
    "# Use the '*' operator to repeat items\n",
    "print(a * 3)"
   ]
  },
  {
   "cell_type": "markdown",
   "metadata": {},
   "source": [
    "##Slicing Lists\n",
    "You can return parts of a list using slicing operators. Other objects (e.g., strings and tuples) can also be sliced."
   ]
  },
  {
   "cell_type": "code",
   "execution_count": null,
   "metadata": {},
   "outputs": [],
   "source": [
    "# Slicing operations\n",
    "\n",
    "t = ['a', 'b','c','d','e','f','g']\n",
    "\n",
    "# return the 2nd and 3rd elements in t\n",
    "print(t[1:3])"
   ]
  },
  {
   "cell_type": "code",
   "execution_count": null,
   "metadata": {},
   "outputs": [],
   "source": [
    "# Omitting the first parameter tells the intepreter to start at the beginning\n",
    "print(t[:3])"
   ]
  },
  {
   "cell_type": "code",
   "execution_count": null,
   "metadata": {},
   "outputs": [],
   "source": [
    "# Omitting the second paramter tells the interpreter to continue to the end\n",
    "# start with the third element and return all elements to the end of the list\n",
    "print(t[3:])"
   ]
  },
  {
   "cell_type": "code",
   "execution_count": null,
   "metadata": {},
   "outputs": [],
   "source": [
    "# Get the last item\n",
    "print(\"Last item in the list = \", t[-1])"
   ]
  },
  {
   "cell_type": "code",
   "execution_count": null,
   "metadata": {},
   "outputs": [],
   "source": [
    "# Use Negative slicing to replace the last item in the ist\n",
    "t[-1] = 'watermelon'\n",
    "print(t)"
   ]
  },
  {
   "cell_type": "markdown",
   "metadata": {},
   "source": [
    "## Zipping a list\n",
    "\n",
    "The zip() function takes iterables as its parameter and returns a zip object. Think of zip like a physical zipper that brings together two different iterable objects. "
   ]
  },
  {
   "cell_type": "code",
   "execution_count": null,
   "metadata": {},
   "outputs": [],
   "source": [
    "# zip function example\n",
    "\n",
    "students = 'Darlene','Desmond','Billy'\n",
    "grades = [100, 99, 72] \n",
    "zipped_students = list(zip(students, grades))\n",
    "\n",
    "print(zipped_students)"
   ]
  },
  {
   "cell_type": "markdown",
   "metadata": {},
   "source": [
    "## Zipping unequal length lists\n",
    "\n",
    "The zip() function expects iterables of **equal lengths**. Trailing items are ignored.\n",
    "\n",
    "To work with iterables of different lengths, Python provides the zip_longest() function as part of the **itertools** module.\n",
    "\n",
    "```Python\n",
    "zip_longest( iterable1, iterable2, fillvalue)\n",
    "```"
   ]
  },
  {
   "cell_type": "code",
   "execution_count": null,
   "metadata": {},
   "outputs": [],
   "source": [
    "import itertools\n",
    "\n",
    "# zip_longest function example\n",
    "\n",
    "students = 'Darlene','Desmond','Billy', 'Macy'\n",
    "grades = [100, 99, 72] \n",
    "zipped_students = list(itertools.zip_longest(students, grades, fillvalue = None))\n",
    "\n",
    "# Notice that Macy does not appear in the list of student-grade pairs\n",
    "print(zipped_students)"
   ]
  },
  {
   "cell_type": "code",
   "execution_count": null,
   "metadata": {},
   "outputs": [],
   "source": [
    "# zip function example\n",
    "\n",
    "students = 'Darlene','Desmond','Billy', 'Macy'\n",
    "grades = [100, 99, 72] \n",
    "zipped_students = list(zip(students, grades))\n",
    "\n",
    "# Notice that Macy does not appear in the list of student-grade pairs\n",
    "print(zipped_students)"
   ]
  },
  {
   "cell_type": "markdown",
   "metadata": {},
   "source": [
    "## Sorting Lists"
   ]
  },
  {
   "cell_type": "code",
   "execution_count": null,
   "metadata": {},
   "outputs": [],
   "source": [
    "# Use sorted() to display a sorted list but not mutate it.\n",
    "my_letters = ['n','r','y','x','a','w']\n",
    "\n",
    "print(\"sorted list = \", sorted(my_letters))\n",
    "print(\"my_letters = \", my_letters)"
   ]
  },
  {
   "cell_type": "code",
   "execution_count": null,
   "metadata": {},
   "outputs": [],
   "source": [
    "# Use the sort() method to sort the items in a list\n",
    "my_letters.sort()\n",
    "print(my_letters)"
   ]
  },
  {
   "cell_type": "code",
   "execution_count": null,
   "metadata": {},
   "outputs": [],
   "source": [
    "# Don't do this...sort() returns \"None\"\n",
    "my_letters = my_letters.sort() \n",
    "print(my_letters)"
   ]
  },
  {
   "cell_type": "code",
   "execution_count": null,
   "metadata": {},
   "outputs": [],
   "source": [
    "# Reverse a list\n",
    "my_letters = ['n','r','y','x','a','w']\n",
    "my_letters.sort(reverse=True)\n",
    "print(my_letters)"
   ]
  },
  {
   "cell_type": "markdown",
   "metadata": {},
   "source": [
    "## Use a list to return more than one value from a function"
   ]
  },
  {
   "cell_type": "code",
   "execution_count": null,
   "metadata": {},
   "outputs": [],
   "source": [
    "# Use a list to return more than one value from a function\n",
    "def tip_options(amount):\n",
    "    # Use a list to return three tipping options (10%, 15%, 20%)\n",
    "    return[amount, amount*1.10, amount*1.15, amount*1.2]\n",
    "\n",
    "print(tip_options(30))\n",
    "print(type(tip_options(30)))"
   ]
  },
  {
   "cell_type": "markdown",
   "metadata": {},
   "source": [
    "## Working With Nested Lists"
   ]
  },
  {
   "cell_type": "code",
   "execution_count": null,
   "metadata": {},
   "outputs": [],
   "source": [
    "my_list = [['Ford','Chevrolet','Volkswagen'],\n",
    "           ['F150','Suburban','Passat'],\n",
    "           ['Big Bang Theory','Young Sheldon','Mindhunter']]\n",
    "\n",
    "print(my_list[0][1]) # row zero, item 2 (index 1)\n",
    "print(my_list[2][2]) # row 3, item 3 (index 2)\n"
   ]
  },
  {
   "cell_type": "code",
   "execution_count": null,
   "metadata": {},
   "outputs": [],
   "source": [
    "# Use a list to swap values\n",
    "y = 5\n",
    "x = 10\n",
    "\n",
    "print('x =', x, 'y =', y)\n",
    "\n",
    "[x, y] = [y, x]\n",
    "\n",
    "print('x =', x, 'y =', y)"
   ]
  },
  {
   "cell_type": "markdown",
   "metadata": {
    "tags": [],
    "toc-hr-collapsed": true,
    "toc-nb-collapsed": true
   },
   "source": [
    "# Sets\n",
    "* Sets are unordered.\n",
    "* Set elements are unique. Duplicate elements are not allowed.\n",
    "* You may add or remove items from the set, but you cannot edit an item in a set.\n",
    "* Accessing items by index (e.g., myset[1]) is NOT supported.\n",
    "* Sets are denoted by curly braces.\n",
    "* Membership tests are more efficient using sets than lists or tuples.\n",
    "\n",
    "You can define a set using the set() function.b\n",
    "```python\n",
    "x = set(<iter>)\n",
    "```"
   ]
  },
  {
   "cell_type": "code",
   "execution_count": null,
   "metadata": {},
   "outputs": [],
   "source": [
    "my_list = ['a','b',1, 'c', 1]\n",
    "set2 = set(my_list)\n",
    "print(set2)\n",
    "print(my_list)"
   ]
  },
  {
   "cell_type": "markdown",
   "metadata": {},
   "source": [
    "You can also create a set using curly braces {}. However, you cannot create an empty set using a pair of curly braces like you can for a list."
   ]
  },
  {
   "cell_type": "code",
   "execution_count": null,
   "metadata": {},
   "outputs": [],
   "source": [
    "# INCORRECT\n",
    "my_set = {}  # <-- results in a dictionary, NOT a set\n",
    "print(type(my_set))"
   ]
  },
  {
   "cell_type": "code",
   "execution_count": null,
   "metadata": {},
   "outputs": [],
   "source": [
    "# Instead use the set constructor\n",
    "my_set = set()\n",
    "print(type(my_set))"
   ]
  },
  {
   "cell_type": "code",
   "execution_count": null,
   "metadata": {},
   "outputs": [],
   "source": [
    "# Use curly braces to create a set\n",
    "my_set = {1,1,6,7,3,5,5,5,5,5, 'red'}\n",
    "print(type(my_set))\n",
    "print(my_set)"
   ]
  },
  {
   "cell_type": "code",
   "execution_count": null,
   "metadata": {},
   "outputs": [],
   "source": [
    "# Error - sets are unordered and not accessible by subscript\n",
    "my_set[0]"
   ]
  },
  {
   "cell_type": "markdown",
   "metadata": {},
   "source": [
    "## Why do I care about sets?\n",
    "Sets in Python provide the same benefits as sets in mathematics. Sets contain a well-defined collection of distinct objects called elements. Using the set object enables you to efficiently perform set operations such as union and intersection.\n",
    "\n",
    "![](images/data_science_diagram.png) <br>\n",
    "(image source: https://towardsdatascience.com)"
   ]
  },
  {
   "cell_type": "markdown",
   "metadata": {},
   "source": [
    "## Creating sets\n",
    "Use curly braces to denote a set or use the set() constructor. If you use set(), you must provide an iterable as the argument."
   ]
  },
  {
   "cell_type": "code",
   "execution_count": null,
   "metadata": {},
   "outputs": [],
   "source": [
    "# Persons with expertise in specific areas\n",
    "cs_expertise = {\"Bill\", \"Matt\", \"Alexandra\", \"Joe\", \"Dexter\"}\n",
    "stats_expertise = set([\"Dexter\", \"Subha\", \"Brad\", \"Bruce\"])\n",
    "business_expertise = {\"Kay\",\"Jonathan\",\"Dexter\",\"Suzanne\", \"Matt\"}"
   ]
  },
  {
   "cell_type": "code",
   "execution_count": null,
   "metadata": {},
   "outputs": [],
   "source": [
    "# Who might be suited for Data Science (intersection of three topics)\n",
    "data_scientists = cs_expertise.intersection(stats_expertise, business_expertise)\n",
    "print(data_scientists)"
   ]
  },
  {
   "cell_type": "markdown",
   "metadata": {},
   "source": [
    "You can also use the set() method to create a set. The argument for the set method must be an iterable."
   ]
  },
  {
   "cell_type": "code",
   "execution_count": null,
   "metadata": {},
   "outputs": [],
   "source": [
    "#Use the set() method to create a set, parameter must be <iter> (an iterable --e.g., a list)\n",
    "my_set2 = set(['foo', 'bar', 3.141, 'bar'])\n",
    "print(my_set2)"
   ]
  },
  {
   "cell_type": "code",
   "execution_count": null,
   "metadata": {},
   "outputs": [],
   "source": [
    "#Error creating tropical_fruits set using set() contructor...why?\n",
    "tropical_fruits = set([\"Guava\", \"Dragon Fruit\", \"Banana\",\"Banana\"])\n",
    "temperate_fruits = {\"Apple\", \"Peach\", \"Plum\"}\n",
    "\n",
    "all_fruit = tropical_fruits.union(temperate_fruits)\n",
    "print(all_fruit)"
   ]
  },
  {
   "cell_type": "code",
   "execution_count": null,
   "metadata": {},
   "outputs": [],
   "source": [
    "#Empty sets are evaluated as False\n",
    "loch_ness_monsters = set()\n",
    "print(\"The set of Loch Ness Monsters is \" + str(bool(loch_ness_monsters)))\n",
    "print()"
   ]
  },
  {
   "cell_type": "code",
   "execution_count": null,
   "metadata": {},
   "outputs": [],
   "source": [
    "#You can add, update, and remove items, but you cannot change items in a set\n",
    "loch_ness_monsters.add(\"Marvin\")\n",
    "print(\"Added Marvin to monster set...\")\n",
    "print(\"The set of Loch Ness Monsters is \" + str(bool(loch_ness_monsters)), loch_ness_monsters)\n",
    "print(\"The length of the monster set is \" + str(len(loch_ness_monsters)))"
   ]
  },
  {
   "cell_type": "code",
   "execution_count": null,
   "metadata": {},
   "outputs": [],
   "source": [
    "# Reduce this list of grades to only have unique values\n",
    "grades = {81,100,81,89,99,99,99,76,94,93,86,75,88,96,76,87,90,81,78,99,83,94,75,83,92,96,81,99,89,99,98,100,95,84,94,97,100,92,97,98,92,95,88,90,98,87,86,95,86,84,91,87,88,83,89,84,98,75,90,100,79,83,94,89,93,84,83,94,84,93,97,75,81,91,84,78,89,96,97,99,90,98,83,93,96,98,91,77,98,97,76,98,75,89,92,81,83,84,82,94,89,77,96,94,100,86,79,87,78,83,86,89,99,77,96,88,91,86,89,99,82,83,92,91,84,83,76,89,90,82,75,84,83,81,96,87,90,82,93,76,86,100,81,88,100,94,84,99,77,91,92,98,88,90,83,88}\n",
    "print(grades)"
   ]
  },
  {
   "cell_type": "code",
   "execution_count": null,
   "metadata": {},
   "outputs": [],
   "source": [
    "c_and_higher = set(range(75,101))\n",
    "\n",
    "missing_grades = grades.symmetric_difference(c_and_higher)\n",
    "\n",
    "print(\"What grades are missing from 75-100?: \" + str(missing_grades))"
   ]
  },
  {
   "cell_type": "code",
   "execution_count": null,
   "metadata": {},
   "outputs": [],
   "source": [
    "# Add set lookup differences and symmetric_differene vs. difference"
   ]
  },
  {
   "cell_type": "markdown",
   "metadata": {
    "tags": []
   },
   "source": [
    "# Dictionaries\n",
    "\n",
    "A Python Dictionary object uses key-value pairs. Just like you would use a traditional dictionary to find the definition (value) of a word (key), a Python dictionary uses keys and values. A key is a unique identifier used to find data (the value). You can think of dictionaries like a list, but with a flexible index. List indexes are integers (e.g., MyList[2]), but the index or keys used to associate values in a dictionary can be any immutable data type (e.g., employee['2334']).\n",
    "\n",
    "Dictionaries are **unordered** and use key-value pairs to store and retrieve data. In other languages this structure might be called an *associative array* or a *hashmap*.\n",
    "\n",
    "\\*Python 3.6+ supports using a ordered (insert order) dict.\n"
   ]
  },
  {
   "cell_type": "markdown",
   "metadata": {},
   "source": [
    "## Creating dictionaries\n",
    "Use curly braces and a colon to indicate to the interpreter that you are creating a dictionary data structure. A key can be any immutable data type."
   ]
  },
  {
   "cell_type": "code",
   "execution_count": 1,
   "metadata": {},
   "outputs": [
    {
     "name": "stdout",
     "output_type": "stream",
     "text": [
      "Without pretty print:\n",
      "{'netID': 'gjbott', 'name': 'Gregory J. Bott', 'role': 'faculty', 'courses': ['MIS501', 'MIS460/561', 'MIS598']} \n",
      "\n",
      "With pretty print:\n",
      "{'courses': ['MIS501', 'MIS460/561', 'MIS598'],\n",
      " 'name': 'Gregory J. Bott',\n",
      " 'netID': 'gjbott',\n",
      " 'role': 'faculty'}\n"
     ]
    }
   ],
   "source": [
    "# Pretty Print is a module that displays dictionaries in a more human-readable format.\n",
    "import pprint as pp\n",
    "\n",
    "# The employee ID is associated with the employee name\n",
    "ua_directory = {'netID':'gjbott', 'name':'Gregory J. Bott', 'role':'faculty','courses':['MIS501', 'MIS460/561', 'MIS598']}\n",
    "\n",
    "print(\"Without pretty print:\")\n",
    "print(ua_directory,'\\n')\n",
    "\n",
    "print(\"With pretty print:\")\n",
    "pp.pprint(ua_directory)"
   ]
  },
  {
   "cell_type": "markdown",
   "metadata": {},
   "source": [
    "### Creating an empty dictionary\n",
    "If you attempt to reference a dictionary object without creating it first, you'll receive a NameError."
   ]
  },
  {
   "cell_type": "code",
   "execution_count": 2,
   "metadata": {},
   "outputs": [
    {
     "ename": "NameError",
     "evalue": "name 'person' is not defined",
     "output_type": "error",
     "traceback": [
      "\u001b[0;31m---------------------------------------------------------------------------\u001b[0m",
      "\u001b[0;31mNameError\u001b[0m                                 Traceback (most recent call last)",
      "Cell \u001b[0;32mIn[2], line 2\u001b[0m\n\u001b[1;32m      1\u001b[0m \u001b[38;5;66;03m# ERROR you cannot create a key-value pair in a non-existent dict\u001b[39;00m\n\u001b[0;32m----> 2\u001b[0m person[\u001b[38;5;241m1000\u001b[39m] \u001b[38;5;241m=\u001b[39m {\u001b[38;5;124m'\u001b[39m\u001b[38;5;124mfirst_name\u001b[39m\u001b[38;5;124m'\u001b[39m:\u001b[38;5;124m'\u001b[39m\u001b[38;5;124mGreg\u001b[39m\u001b[38;5;124m'\u001b[39m, \u001b[38;5;124m'\u001b[39m\u001b[38;5;124mlast_name\u001b[39m\u001b[38;5;124m'\u001b[39m:\u001b[38;5;124m'\u001b[39m\u001b[38;5;124mBott\u001b[39m\u001b[38;5;124m'\u001b[39m, \u001b[38;5;124m'\u001b[39m\u001b[38;5;124mspouse\u001b[39m\u001b[38;5;124m'\u001b[39m:\u001b[38;5;124m'\u001b[39m\u001b[38;5;124mAmy\u001b[39m\u001b[38;5;124m'\u001b[39m, \u001b[38;5;124m'\u001b[39m\u001b[38;5;124mchildren\u001b[39m\u001b[38;5;124m'\u001b[39m:[\u001b[38;5;124m'\u001b[39m\u001b[38;5;124mJohn Davis\u001b[39m\u001b[38;5;124m'\u001b[39m, \u001b[38;5;124m'\u001b[39m\u001b[38;5;124mPiper\u001b[39m\u001b[38;5;124m'\u001b[39m, \u001b[38;5;124m'\u001b[39m\u001b[38;5;124mWill\u001b[39m\u001b[38;5;124m'\u001b[39m, \u001b[38;5;124m'\u001b[39m\u001b[38;5;124mTruett\u001b[39m\u001b[38;5;124m'\u001b[39m], \u001b[38;5;124m'\u001b[39m\u001b[38;5;124mpets\u001b[39m\u001b[38;5;124m'\u001b[39m:{\u001b[38;5;124m'\u001b[39m\u001b[38;5;124mBama\u001b[39m\u001b[38;5;124m'\u001b[39m:\u001b[38;5;124m'\u001b[39m\u001b[38;5;124mdog\u001b[39m\u001b[38;5;124m'\u001b[39m, \u001b[38;5;124m'\u001b[39m\u001b[38;5;124mTJ\u001b[39m\u001b[38;5;124m'\u001b[39m:\u001b[38;5;124m'\u001b[39m\u001b[38;5;124mcat\u001b[39m\u001b[38;5;124m'\u001b[39m}}\n",
      "\u001b[0;31mNameError\u001b[0m: name 'person' is not defined"
     ]
    }
   ],
   "source": [
    "# ERROR you cannot create a key-value pair in a non-existent dict\n",
    "person[1000] = {'first_name':'Greg', 'last_name':'Bott', 'spouse':'Amy', 'children':['John Davis', 'Piper', 'Will', 'Truett'], 'pets':{'Bama':'dog', 'TJ':'cat'}}"
   ]
  },
  {
   "cell_type": "markdown",
   "metadata": {},
   "source": [
    "To assign a dict object to a variable, use a set of empty curly braces."
   ]
  },
  {
   "cell_type": "code",
   "execution_count": 3,
   "metadata": {},
   "outputs": [
    {
     "name": "stdout",
     "output_type": "stream",
     "text": [
      "<class 'dict'>\n"
     ]
    }
   ],
   "source": [
    "# Create an empty dictionary\n",
    "person = {}\n",
    "\n",
    "#Display the type of the 'person' variable\n",
    "print(type(person))"
   ]
  },
  {
   "cell_type": "code",
   "execution_count": 5,
   "metadata": {},
   "outputs": [
    {
     "name": "stdout",
     "output_type": "stream",
     "text": [
      "{'first_name': 'Greg', 'last_name': 'Bott', 'spouse': 'Amy'}\n"
     ]
    }
   ],
   "source": [
    "a = {'first_name':'Greg', 'last_name':'Bott', 'spouse':'Amy'}\n",
    "print(a)"
   ]
  },
  {
   "cell_type": "code",
   "execution_count": 6,
   "metadata": {},
   "outputs": [
    {
     "name": "stdout",
     "output_type": "stream",
     "text": [
      "{'first_name': 'Joe', 'last_name': 'Devlin', 'spouse': 'Suzanne'}\n"
     ]
    }
   ],
   "source": [
    "# Attempting to add values to a dict like this REPLACES the dict\n",
    "a = {'first_name':'Joe', 'last_name':'Devlin', 'spouse':'Suzanne'}\n",
    "print(a)"
   ]
  },
  {
   "cell_type": "markdown",
   "metadata": {},
   "source": [
    "### Adding values to a dictionary"
   ]
  },
  {
   "cell_type": "markdown",
   "metadata": {},
   "source": [
    "Instead, add a key (e.g., 1000, 1001) and provide the dict as the value. So, person has nested dictionaries and a nested list.\n",
    "\n",
    "1000, 1001 are keys. The dict containing first_name, last_name, etc. is the value. Within that dict are additional key-value pairs (first name --> Greg, etc.). "
   ]
  },
  {
   "cell_type": "code",
   "execution_count": 7,
   "metadata": {},
   "outputs": [
    {
     "name": "stdout",
     "output_type": "stream",
     "text": [
      "{1000: {'children': ['John Davis', 'Piper', 'Will', 'Truett'],\n",
      "        'first_name': 'Greg',\n",
      "        'last_name': 'Bott',\n",
      "        'pets': {'Bama': 'dog', 'TJ': 'cat'},\n",
      "        'spouse': 'Amy'},\n",
      " 1001: {'children': ['CK', 'Alan', 'Devin', 'Tom'],\n",
      "        'first_name': 'Joe',\n",
      "        'last_name': 'Devlin',\n",
      "        'pets': {'Hammer': 'turtle', 'Orangey': 'gold fish'},\n",
      "        'spouse': 'Suzanne'}}\n"
     ]
    }
   ],
   "source": [
    "person[1000] = {'first_name':'Greg', 'last_name':'Bott', 'spouse':'Amy', 'children':['John Davis', 'Piper', 'Will', 'Truett'], 'pets':{'Bama':'dog', 'TJ':'cat'}}\n",
    "person[1001] = {'first_name':'Joe', 'last_name':'Devlin', 'spouse':'Suzanne', 'children':['CK', 'Alan', 'Devin', 'Tom'], 'pets':{'Orangey':'gold fish', 'Hammer':'turtle'}}\n",
    "\n",
    "pp.pprint(person)"
   ]
  },
  {
   "cell_type": "markdown",
   "metadata": {},
   "source": [
    "### Accessing data in a dictionary\n",
    "Use ```dict[key]``` to return the value from the key-value pair. If the value doesn't exist, an exception is thrown. Use the get() method to retrieve keys and handle missing keys more gracefully.\n",
    "\n",
    "You can also use ```keys()``` to list the keys in your dictionaries, ```values``` to access the values of the key-value pair or ```items()``` to access both."
   ]
  },
  {
   "cell_type": "code",
   "execution_count": 12,
   "metadata": {},
   "outputs": [
    {
     "data": {
      "text/plain": [
       "dict_keys([1000, 1001, 'a'])"
      ]
     },
     "execution_count": 12,
     "metadata": {},
     "output_type": "execute_result"
    }
   ],
   "source": [
    "person.keys()"
   ]
  },
  {
   "cell_type": "code",
   "execution_count": 9,
   "metadata": {},
   "outputs": [
    {
     "data": {
      "text/plain": [
       "dict_values([{'first_name': 'Greg', 'last_name': 'Bott', 'spouse': 'Amy', 'children': ['John Davis', 'Piper', 'Will', 'Truett'], 'pets': {'Bama': 'dog', 'TJ': 'cat'}}, {'first_name': 'Joe', 'last_name': 'Devlin', 'spouse': 'Suzanne', 'children': ['CK', 'Alan', 'Devin', 'Tom'], 'pets': {'Orangey': 'gold fish', 'Hammer': 'turtle'}}])"
      ]
     },
     "execution_count": 9,
     "metadata": {},
     "output_type": "execute_result"
    }
   ],
   "source": [
    "person.values()"
   ]
  },
  {
   "cell_type": "code",
   "execution_count": null,
   "metadata": {},
   "outputs": [],
   "source": [
    "person.items() # The key-value pair is an item. "
   ]
  },
  {
   "cell_type": "code",
   "execution_count": 13,
   "metadata": {},
   "outputs": [
    {
     "ename": "TypeError",
     "evalue": "unhashable type: 'list'",
     "output_type": "error",
     "traceback": [
      "\u001b[0;31m---------------------------------------------------------------------------\u001b[0m",
      "\u001b[0;31mTypeError\u001b[0m                                 Traceback (most recent call last)",
      "Cell \u001b[0;32mIn[13], line 1\u001b[0m\n\u001b[0;32m----> 1\u001b[0m person[[\u001b[38;5;241m1\u001b[39m,\u001b[38;5;241m2\u001b[39m]] \u001b[38;5;241m=\u001b[39m {\u001b[38;5;124m'\u001b[39m\u001b[38;5;124mname\u001b[39m\u001b[38;5;124m'\u001b[39m:\u001b[38;5;124m'\u001b[39m\u001b[38;5;124mgreen\u001b[39m\u001b[38;5;124m'\u001b[39m}\n",
      "\u001b[0;31mTypeError\u001b[0m: unhashable type: 'list'"
     ]
    }
   ],
   "source": [
    "person[[] = {'name':'green'}"
   ]
  },
  {
   "cell_type": "code",
   "execution_count": 10,
   "metadata": {},
   "outputs": [
    {
     "name": "stdout",
     "output_type": "stream",
     "text": [
      "Joe\n"
     ]
    }
   ],
   "source": [
    "# Print the first_name attribute of the person 1001 key.\n",
    "print(person[1001]['first_name'])"
   ]
  },
  {
   "cell_type": "markdown",
   "metadata": {},
   "source": [
    "### Using the get() method\n",
    "Use the get() method to access keys. Using get() avoids a KeyError if the desired key does not exist. Instead, Python returns the None value."
   ]
  },
  {
   "cell_type": "code",
   "execution_count": 14,
   "metadata": {},
   "outputs": [
    {
     "name": "stdout",
     "output_type": "stream",
     "text": [
      "{1000: {'children': ['John Davis', 'Piper', 'Will', 'Truett'],\n",
      "        'first_name': 'Greg',\n",
      "        'last_name': 'Bott',\n",
      "        'pets': {'Bama': 'dog', 'TJ': 'cat'},\n",
      "        'spouse': 'Amy'},\n",
      " 1001: {'children': ['CK', 'Alan', 'Devin', 'Tom'],\n",
      "        'first_name': 'Joe',\n",
      "        'last_name': 'Devlin',\n",
      "        'pets': {'Hammer': 'turtle', 'Orangey': 'gold fish'},\n",
      "        'spouse': 'Suzanne'},\n",
      " 'a': {'name': 'green'}}\n"
     ]
    },
    {
     "ename": "KeyError",
     "evalue": "9999",
     "output_type": "error",
     "traceback": [
      "\u001b[0;31m---------------------------------------------------------------------------\u001b[0m",
      "\u001b[0;31mKeyError\u001b[0m                                  Traceback (most recent call last)",
      "Cell \u001b[0;32mIn[14], line 5\u001b[0m\n\u001b[1;32m      2\u001b[0m pp\u001b[38;5;241m.\u001b[39mpprint(person)\n\u001b[1;32m      4\u001b[0m \u001b[38;5;66;03m# ERROR - this key does NOT exist\u001b[39;00m\n\u001b[0;32m----> 5\u001b[0m person[\u001b[38;5;241m9999\u001b[39m]\n",
      "\u001b[0;31mKeyError\u001b[0m: 9999"
     ]
    }
   ],
   "source": [
    "# Display the person dictionary\n",
    "pp.pprint(person)\n",
    "\n",
    "# ERROR - this key does NOT exist\n",
    "person[9999]"
   ]
  },
  {
   "cell_type": "code",
   "execution_count": 15,
   "metadata": {},
   "outputs": [
    {
     "name": "stdout",
     "output_type": "stream",
     "text": [
      "dog\n"
     ]
    }
   ],
   "source": [
    "# Attempting to retrieve a non-existent dict value using get() returns None instead of a KeyError\n",
    "print(person.get(1000).get('pets').get('bama'.title()))"
   ]
  },
  {
   "cell_type": "code",
   "execution_count": 18,
   "metadata": {},
   "outputs": [
    {
     "name": "stdout",
     "output_type": "stream",
     "text": [
      "{'children': ['CK', 'Alan', 'Devin', 'Tom'],\n",
      " 'first_name': 'Joe',\n",
      " 'last_name': 'Devlin',\n",
      " 'pets': {'Hammer': 'turtle', 'Orangey': 'gold fish'},\n",
      " 'spouse': 'Suzanne'}\n"
     ]
    }
   ],
   "source": [
    "pp.pprint(person.get(1001))"
   ]
  },
  {
   "cell_type": "code",
   "execution_count": 19,
   "metadata": {},
   "outputs": [
    {
     "name": "stdout",
     "output_type": "stream",
     "text": [
      "no SS# provided\n"
     ]
    }
   ],
   "source": [
    "# You can also provide a default value if a key does not exist\n",
    "print(person.get('ss_number', 'no SS# provided'))"
   ]
  },
  {
   "cell_type": "code",
   "execution_count": 20,
   "metadata": {},
   "outputs": [
    {
     "name": "stdout",
     "output_type": "stream",
     "text": [
      "['Mustang', 'Explorer', 'Focus']\n"
     ]
    }
   ],
   "source": [
    "# Use a List as values a dictionary\n",
    "make_model = {\"Ford\":[\"Mustang\",\"Explorer\",\"Focus\"],\"Volkswagen\":[\"Passat\",\"Jetta\",\"Beetle\"]}\n",
    "print(make_model[\"Ford\"])"
   ]
  },
  {
   "cell_type": "code",
   "execution_count": 21,
   "metadata": {},
   "outputs": [
    {
     "name": "stdout",
     "output_type": "stream",
     "text": [
      "{'children': ['CK', 'Alan', 'Devin', 'Tom'],\n",
      " 'first_name': 'Joe',\n",
      " 'last_name': 'Devlin',\n",
      " 'pets': {'Hammer': 'turtle', 'Orangey': 'gold fish'},\n",
      " 'spouse': 'Suzanne'}\n"
     ]
    }
   ],
   "source": [
    "# Replace values using a key\n",
    "pp.pprint(person[1001])"
   ]
  },
  {
   "cell_type": "code",
   "execution_count": 22,
   "metadata": {},
   "outputs": [
    {
     "name": "stdout",
     "output_type": "stream",
     "text": [
      "{'children': ['CK', 'Alan', 'Devin', 'Tom'],\n",
      " 'first_name': 'Joe',\n",
      " 'last_name': 'Devlin',\n",
      " 'pets': {'Rocky': 'flying squirrel'},\n",
      " 'spouse': 'Suzanne'}\n"
     ]
    }
   ],
   "source": [
    "person[1001]['pets'] = {'Rocky':'flying squirrel'}\n",
    "pp.pprint(person[1001])"
   ]
  },
  {
   "cell_type": "markdown",
   "metadata": {},
   "source": [
    "### Removing an items using del or pop\n",
    "You can use ```del``` or ```pop``` to remove items from a dictionary. "
   ]
  },
  {
   "cell_type": "code",
   "execution_count": 23,
   "metadata": {},
   "outputs": [
    {
     "name": "stdout",
     "output_type": "stream",
     "text": [
      "{'children': ['CK', 'Alan', 'Devin', 'Tom'],\n",
      " 'first_name': 'Joe',\n",
      " 'last_name': 'Devlin',\n",
      " 'pets': {'Rocky': 'flying squirrel'},\n",
      " 'spouse': 'Suzanne'}\n"
     ]
    }
   ],
   "source": [
    "pp.pprint(person[1001])"
   ]
  },
  {
   "cell_type": "code",
   "execution_count": 24,
   "metadata": {},
   "outputs": [
    {
     "name": "stdout",
     "output_type": "stream",
     "text": [
      "{'children': ['CK', 'Alan', 'Devin', 'Tom'],\n",
      " 'first_name': 'Joe',\n",
      " 'last_name': 'Devlin',\n",
      " 'spouse': 'Suzanne'}\n"
     ]
    }
   ],
   "source": [
    "# Remove the pets key and values\n",
    "del person[1001]['pets']\n",
    "pp.pprint(person[1001])"
   ]
  },
  {
   "cell_type": "markdown",
   "metadata": {},
   "source": [
    "Just as in a list, ```pop``` returns the value deleted that you can store in a variable."
   ]
  },
  {
   "cell_type": "code",
   "execution_count": 25,
   "metadata": {},
   "outputs": [
    {
     "name": "stdout",
     "output_type": "stream",
     "text": [
      "{'children': ['John Davis', 'Piper', 'Will', 'Truett'],\n",
      " 'first_name': 'Greg',\n",
      " 'last_name': 'Bott',\n",
      " 'pets': {'Bama': 'dog', 'TJ': 'cat'},\n",
      " 'spouse': 'Amy'}\n"
     ]
    }
   ],
   "source": [
    "pp.pprint(person[1000])\n",
    "children = person[1000].pop('children')"
   ]
  },
  {
   "cell_type": "code",
   "execution_count": 26,
   "metadata": {},
   "outputs": [
    {
     "name": "stdout",
     "output_type": "stream",
     "text": [
      "{'first_name': 'Greg',\n",
      " 'last_name': 'Bott',\n",
      " 'pets': {'Bama': 'dog', 'TJ': 'cat'},\n",
      " 'spouse': 'Amy'}\n"
     ]
    }
   ],
   "source": [
    "pp.pprint(person[1000])"
   ]
  },
  {
   "cell_type": "code",
   "execution_count": 27,
   "metadata": {},
   "outputs": [
    {
     "data": {
      "text/plain": [
       "['John Davis', 'Piper', 'Will', 'Truett']"
      ]
     },
     "execution_count": 27,
     "metadata": {},
     "output_type": "execute_result"
    }
   ],
   "source": [
    "children"
   ]
  },
  {
   "cell_type": "markdown",
   "metadata": {},
   "source": [
    "### Clear a dictionary\n",
    "Use the clear() method to empty the contents of a dictionary."
   ]
  },
  {
   "cell_type": "code",
   "execution_count": 28,
   "metadata": {},
   "outputs": [
    {
     "name": "stdout",
     "output_type": "stream",
     "text": [
      "{1000: {'first_name': 'Greg', 'last_name': 'Bott', 'spouse': 'Amy', 'pets': {'Bama': 'dog', 'TJ': 'cat'}}, 1001: {'first_name': 'Joe', 'last_name': 'Devlin', 'spouse': 'Suzanne', 'children': ['CK', 'Alan', 'Devin', 'Tom']}, 'a': {'name': 'green'}}\n",
      "{}\n"
     ]
    }
   ],
   "source": [
    "print(person)\n",
    "person.clear()\n",
    "print(person)"
   ]
  },
  {
   "cell_type": "markdown",
   "metadata": {},
   "source": [
    "### Using a loop to examine a dictionary\n",
    "Although looping through a dictionary fails to take advantage the speed of a dictionary, sometimes you may find it useful. Remember that dictionaries contain a key / value pair and that you must loop through them differently than you would a list."
   ]
  },
  {
   "cell_type": "code",
   "execution_count": 29,
   "metadata": {},
   "outputs": [],
   "source": [
    "person[1000] = {'first_name':'Greg', 'last_name':'Bott', 'spouse':'Amy', 'children':['John Davis', 'Piper', 'Will', 'Truett'], 'pets':{'Bama':'dog', 'TJ':'cat'}}\n",
    "person[1001] = {'first_name':'Joe', 'last_name':'Devlin', 'spouse':'Suzanne', 'children':['CK', 'Alan', 'Devin', 'Tom'], 'pets':{'Orangey':'gold fish', 'Hammer':'turtle'}}"
   ]
  },
  {
   "cell_type": "code",
   "execution_count": 30,
   "metadata": {},
   "outputs": [
    {
     "name": "stdout",
     "output_type": "stream",
     "text": [
      "1000\n",
      "1001\n"
     ]
    }
   ],
   "source": [
    "# Attempting to interate through a dictionary as you would a list \n",
    "#   will yield only the keys\n",
    "for x in person:\n",
    "    print(x)"
   ]
  },
  {
   "cell_type": "code",
   "execution_count": 31,
   "metadata": {},
   "outputs": [
    {
     "name": "stdout",
     "output_type": "stream",
     "text": [
      "{'first_name': 'Greg', 'last_name': 'Bott', 'spouse': 'Amy', 'children': ['John Davis', 'Piper', 'Will', 'Truett'], 'pets': {'Bama': 'dog', 'TJ': 'cat'}}\n",
      "'Greg'\n",
      "'Bott'\n",
      "'Amy'\n",
      "['John Davis', 'Piper', 'Will', 'Truett']\n",
      "{'Bama': 'dog', 'TJ': 'cat'}\n",
      "------------------------------\n",
      "{'first_name': 'Joe', 'last_name': 'Devlin', 'spouse': 'Suzanne', 'children': ['CK', 'Alan', 'Devin', 'Tom'], 'pets': {'Orangey': 'gold fish', 'Hammer': 'turtle'}}\n",
      "'Joe'\n",
      "'Devlin'\n",
      "'Suzanne'\n",
      "['CK', 'Alan', 'Devin', 'Tom']\n",
      "{'Hammer': 'turtle', 'Orangey': 'gold fish'}\n",
      "------------------------------\n"
     ]
    }
   ],
   "source": [
    "for v in person.values():\n",
    "    print(v)\n",
    "    for val in v.values():\n",
    "        pp.pprint(val)\n",
    "    print('-'*30)"
   ]
  },
  {
   "cell_type": "code",
   "execution_count": 34,
   "metadata": {},
   "outputs": [
    {
     "name": "stdout",
     "output_type": "stream",
     "text": [
      "1000 {'first_name': 'Greg', 'last_name': 'Bott', 'spouse': 'Amy', 'children': ['John Davis', 'Piper', 'Will', 'Truett'], 'pets': {'Bama': 'dog', 'TJ': 'cat'}}\n",
      "1001 {'first_name': 'Joe', 'last_name': 'Devlin', 'spouse': 'Suzanne', 'children': ['CK', 'Alan', 'Devin', 'Tom'], 'pets': {'Orangey': 'gold fish', 'Hammer': 'turtle'}}\n"
     ]
    }
   ],
   "source": [
    "# Instead, use the items() method to return both the key and the value\n",
    "for k, v in person.items(): # x = key; y = value\n",
    "    print(k, v) "
   ]
  },
  {
   "cell_type": "code",
   "execution_count": 37,
   "metadata": {},
   "outputs": [
    {
     "data": {
      "text/plain": [
       "(1001,\n",
       " {'first_name': 'Joe',\n",
       "  'last_name': 'Devlin',\n",
       "  'spouse': 'Suzanne',\n",
       "  'children': ['CK', 'Alan', 'Devin', 'Tom'],\n",
       "  'pets': {'Orangey': 'gold fish', 'Hammer': 'turtle'}})"
      ]
     },
     "execution_count": 37,
     "metadata": {},
     "output_type": "execute_result"
    }
   ],
   "source": [
    "list(person.items())[-1]"
   ]
  },
  {
   "cell_type": "markdown",
   "metadata": {},
   "source": [
    "### Using a loop to add values to a dictionary.\n",
    "So far we have manually added items to a dictionary. Most often you will add items progamatically (e.g., using a loop) rather than manually. Below is part of the code I use find duplicate files using an MD5 hash. A hash is a one-way algorithm applied to an object that results in a fixed-length string that uniquely identifies that object.\n",
    "\n",
    "We'll use the os module to access the file system and the hashlib to apply the MD5 algorithm to the files and then store them in a dictionary using the MD5 value as the key."
   ]
  },
  {
   "cell_type": "code",
   "execution_count": 38,
   "metadata": {},
   "outputs": [
    {
     "name": "stdout",
     "output_type": "stream",
     "text": [
      "{'2e91abec96a61bbcc85d97f119de46ea227fac20e7d5880e34020be259e8b474': '.gitignore',\n",
      " '421661dbb13d699ac75da6753d072b7dc5bfabb33740df49c7f05275bd232832': 'Core '\n",
      "                                                                     'Python-Regex.ipynb',\n",
      " '589d75e6c083bdaeac23babcc11848e1e1f3285f46f7eec63c3ef3aef5da7a0b': 'Core '\n",
      "                                                                     'Python-Pathlib-File '\n",
      "                                                                     'Operations.ipynb',\n",
      " '79e6d7d31d3441c3a8288d40f690a8b470e94560bb322333101c3a24397d4fbd': 'Core '\n",
      "                                                                     'Python-Selenium4.ipynb',\n",
      " '79fe49f5a365a62f42e73377e4d9d734252d477836ae8c0a11e2574c3a19fe96': 'Core '\n",
      "                                                                     'Python-Functions-Strings.ipynb',\n",
      " '7c48d430e62b28bed5e827172b4289363047d33851f0915b0c7ddb378653d1d6': 'Core '\n",
      "                                                                     'Python-Data '\n",
      "                                                                     'Structures-JSON.ipynb',\n",
      " 'abe77c72053eff2283a1c17ca6b44175b4adc97fab6ca4df7df5705192196534': 'M1-A5-gjbott-password_generator.ipynb',\n",
      " 'c796baceefa555edb6e6651568c012920018b78b56fc9076dc1e21a1ea3e984d': 'Core '\n",
      "                                                                     'Python-Error '\n",
      "                                                                     'Handling-Debugging.ipynb',\n",
      " 'cad94e8f08a2bde12415a169973e9dfed8c10a0fd48572387df81733184fbd5e': 'Core '\n",
      "                                                                     'Python-Selenium3.ipynb',\n",
      " 'f80aac8fecf30400cf6a48e835307d394bfdab9dd871ec0b0107f6e0b51cdcd0': 'Core '\n",
      "                                                                     'Python-Varibles-Iteration-Conditionals.ipynb'}\n"
     ]
    }
   ],
   "source": [
    "import os\n",
    "import hashlib\n",
    "import pprint as pp\n",
    "\n",
    "# Create a blank dictionary\n",
    "os_files = {}\n",
    "\n",
    "# Hash Function\n",
    "def hashfile(path, blocksize=65536):\n",
    "    \n",
    "    # Get the file, read binary\n",
    "    file_to_hash = open(path, 'rb')\n",
    "    \n",
    "    # Create an MD5 hasher object\n",
    "    hasher = hashlib.sha256()\n",
    "    \n",
    "    # Load part of the file (the size of the block)\n",
    "    #    We divide the file into smaller parts to avoid using all the \n",
    "    #    available RAM\n",
    "    buf = file_to_hash.read(blocksize)\n",
    "    \n",
    "    # Add blocks of the file until the buffer is empty\n",
    "    while len(buf) > 0:\n",
    "        hasher.update(buf)\n",
    "        buf = file_to_hash.read(blocksize)\n",
    "    file_to_hash.close()\n",
    "    \n",
    "    # Return the MD5 hex digest of the file\n",
    "    return hasher.hexdigest()\n",
    "\n",
    "for file in os.listdir():\n",
    "    # Use error handling to avoid errors (e.g., file permission issues)\n",
    "    try:\n",
    "        # Use the hash value (hex digest) as the key and use the file name as the value\n",
    "        os_files[hashfile(file)] = file\n",
    "    except:\n",
    "        pass\n",
    "    \n",
    "# Display the Dictionary\n",
    "pp.pprint(os_files)"
   ]
  },
  {
   "cell_type": "markdown",
   "metadata": {},
   "source": [
    "### Check for Values in a Dictionary\n",
    "\n",
    "To determine if a value is present within a key, us the *in* keyword."
   ]
  },
  {
   "cell_type": "code",
   "execution_count": null,
   "metadata": {},
   "outputs": [],
   "source": [
    "make_model"
   ]
  },
  {
   "cell_type": "code",
   "execution_count": null,
   "metadata": {},
   "outputs": [],
   "source": [
    "# \"Focus\" is a value in the dict\n",
    "print(\"Focus\" in make_model[\"Ford\"])"
   ]
  },
  {
   "cell_type": "code",
   "execution_count": null,
   "metadata": {},
   "outputs": [],
   "source": [
    "make_model[\"Ford\"]"
   ]
  },
  {
   "cell_type": "code",
   "execution_count": null,
   "metadata": {},
   "outputs": [],
   "source": [
    "# \"Explorer II\" is not in the dict\n",
    "print(\"Explorer II\" in make_model[\"Ford\"])"
   ]
  },
  {
   "cell_type": "markdown",
   "metadata": {},
   "source": [
    "### Check for Keys in a Dictionary"
   ]
  },
  {
   "cell_type": "code",
   "execution_count": null,
   "metadata": {},
   "outputs": [],
   "source": [
    "search_key = \"Ford\"\n",
    "if search_key in make_model:\n",
    "    print(f\"'{search_key}' key found in dictionary!\")\n",
    "else:\n",
    "    print(f\"'{search_key}' key NOT found in dictionary.\")"
   ]
  },
  {
   "cell_type": "markdown",
   "metadata": {},
   "source": [
    "### Attempting to Access Keys that Don't exist\n",
    "If you attempt to access a key that does not exist within the dictionary, Python will raise an exception\n"
   ]
  },
  {
   "cell_type": "code",
   "execution_count": null,
   "metadata": {},
   "outputs": [],
   "source": [
    "\n",
    "person[1000] = {'first_name':'Greg', 'last_name':'Bott', 'spouse':'Amy', 'children':['John Davis', 'Piper', 'Will', 'Truett'], 'pets':{'Bama':'dog', 'TJ':'cat'}}\n",
    "person[1001] = {'first_name':'Joe', 'last_name':'Devlin', 'spouse':'Suzanne', 'children':['CK', 'Alan', 'Devin', 'Tom'], 'pets':{'Orangey':'gold fish', 'Hammer':'turtle'}}\n"
   ]
  },
  {
   "cell_type": "code",
   "execution_count": null,
   "metadata": {},
   "outputs": [],
   "source": [
    "pp.pprint(person)"
   ]
  },
  {
   "cell_type": "code",
   "execution_count": null,
   "metadata": {},
   "outputs": [],
   "source": [
    "# ERROR: KeyError (key does not exist in the dictionary)\n",
    "print(person[1000])\n",
    "print(person['first_name']) # first_name IS a key in the dict, why the error?"
   ]
  },
  {
   "cell_type": "markdown",
   "metadata": {},
   "source": [
    "### Creating a dictionary from a JSON file"
   ]
  },
  {
   "cell_type": "code",
   "execution_count": 42,
   "metadata": {},
   "outputs": [
    {
     "data": {
      "text/plain": [
       "PosixPath('/home/gjbott/Dropbox/research/github/gregbott/mis501/2023_501/files/2017_Alabama_v_LSU.json')"
      ]
     },
     "execution_count": 42,
     "metadata": {},
     "output_type": "execute_result"
    }
   ],
   "source": [
    "import pathlib\n",
    "import pprint as pp\n",
    "import json\n",
    "# create Path object for file path (path to the file, filename)\n",
    "fb_game_path = pathlib.Path('/home/gjbott/Dropbox/research/github/gregbott/mis501/2023_501/files/2017_Alabama_v_LSU.json')\n",
    "fb_game_path.absolute()"
   ]
  },
  {
   "cell_type": "code",
   "execution_count": null,
   "metadata": {},
   "outputs": [],
   "source": []
  },
  {
   "cell_type": "code",
   "execution_count": 44,
   "metadata": {},
   "outputs": [
    {
     "name": "stdout",
     "output_type": "stream",
     "text": [
      "The game file includes 8 records.\n",
      " The game file is a <class 'dict'>.\n"
     ]
    }
   ],
   "source": [
    "if fb_game_path.exists():\n",
    "    # open the data filepath\n",
    "    with open(fb_game_path, 'r') as fp:\n",
    "\n",
    "        # read the bytes from the datafile\n",
    "        json_bytes = fp.read()\n",
    "\n",
    "        # decode the bytes to utf-8\n",
    "        #json_str = json_bytes.decode('utf-8')\n",
    "\n",
    "        # load the decoded bytes as JSON\n",
    "        game_data = json.loads(json_bytes)\n",
    "        \n",
    "        print(f'The game file includes {len(game_data)} records.\\n The game file is a {type(game_data)}.')\n",
    "else:\n",
    "    print('{fb_game_path.name} does not exist')"
   ]
  },
  {
   "cell_type": "code",
   "execution_count": null,
   "metadata": {},
   "outputs": [],
   "source": []
  },
  {
   "cell_type": "code",
   "execution_count": 45,
   "metadata": {},
   "outputs": [
    {
     "data": {
      "text/plain": [
       "dict_keys(['scoringPlays', 'videos', 'drives', 'teams', 'id', 'competitions', 'season', 'week'])"
      ]
     },
     "execution_count": 45,
     "metadata": {},
     "output_type": "execute_result"
    }
   ],
   "source": [
    "# Let's examine what's in the dictionary\n",
    "# Most often, dictionaries will be too long to just print them. Even just printing the keys can be problematic, but since \n",
    "#    we already know the length of the dict is 8, let's print the keys.\n",
    "game_data.keys()"
   ]
  },
  {
   "cell_type": "code",
   "execution_count": null,
   "metadata": {},
   "outputs": [],
   "source": []
  },
  {
   "cell_type": "markdown",
   "metadata": {},
   "source": [
    "One method to view the contents of a dictionary is to first convert the dictionary items (aka, keys and pairs) to a list and then slice the list. "
   ]
  },
  {
   "cell_type": "code",
   "execution_count": null,
   "metadata": {},
   "outputs": [],
   "source": []
  },
  {
   "cell_type": "code",
   "execution_count": null,
   "metadata": {},
   "outputs": [],
   "source": [
    "pp.pprint(game_data['videos'][0])"
   ]
  },
  {
   "cell_type": "code",
   "execution_count": 48,
   "metadata": {},
   "outputs": [
    {
     "name": "stdout",
     "output_type": "stream",
     "text": [
      "'http://media.video-cdn.espn.com/motion/2017/1104/dm_171104_NCF_One-Play_Alabama_TD_pass/dm_171104_NCF_One-Play_Alabama_TD_pass_360p30_1464k.mp4'\n"
     ]
    }
   ],
   "source": [
    "pp.pprint(game_data['videos'][0]['links']['source']['full']['href'])"
   ]
  },
  {
   "cell_type": "code",
   "execution_count": null,
   "metadata": {},
   "outputs": [],
   "source": [
    "len(game_data['drives']['previous'][0]['plays'])"
   ]
  },
  {
   "cell_type": "code",
   "execution_count": null,
   "metadata": {},
   "outputs": [],
   "source": [
    "for play in game_data['drives']['previous'][0]['plays']:\n",
    "    pp.pprint(play['text'])\n",
    "    #pp.pprint(play['start']['yardLine'])\n",
    "    #pp.pprint(play['statYardage'])"
   ]
  },
  {
   "cell_type": "code",
   "execution_count": null,
   "metadata": {},
   "outputs": [],
   "source": [
    "# First let's determine what type of object 'scoringPlays' is\n",
    "print(type(game_data['scoringPlays']))"
   ]
  },
  {
   "cell_type": "code",
   "execution_count": null,
   "metadata": {},
   "outputs": [],
   "source": [
    "# Since it's a list, we can slice it\n",
    "# Here are the first three items\n",
    "plays = game_data['scoringPlays']\n",
    "plays"
   ]
  },
  {
   "cell_type": "code",
   "execution_count": null,
   "metadata": {},
   "outputs": [],
   "source": [
    "# Plays is a list of dicts\n",
    "print(type(plays))\n",
    "print(type(plays[0]))"
   ]
  },
  {
   "cell_type": "code",
   "execution_count": null,
   "metadata": {},
   "outputs": [],
   "source": [
    "# Since each item of the list is a dict, we can get its keys\n",
    "plays[0]"
   ]
  },
  {
   "cell_type": "code",
   "execution_count": null,
   "metadata": {},
   "outputs": [],
   "source": [
    "# How do we access objects of interest within the dict?\n",
    "# We can get a play by play by looping through plays\n",
    "for play in plays:\n",
    "    print(play['clock']['displayValue'], play['text'])"
   ]
  },
  {
   "cell_type": "code",
   "execution_count": null,
   "metadata": {},
   "outputs": [],
   "source": [
    "list(game_data['drives']['previous'])[1]"
   ]
  },
  {
   "cell_type": "code",
   "execution_count": null,
   "metadata": {},
   "outputs": [],
   "source": [
    "# Textual information can also be found in drives\n",
    "#    Note that each series of plays ends with a drive termination event\n",
    "#    (e.g., TD/FG/Safety, punt, turnover)\n",
    "for play in game_data['drives']['previous'][5]['plays']:\n",
    "    print(play['text'])"
   ]
  },
  {
   "cell_type": "markdown",
   "metadata": {},
   "source": [
    "### Updating dictionary values\n",
    "Assigning a value to an existing key/value pair will replace the value.\n",
    "\n",
    "You can also use the update method to replace multiple values in a dictionary and add new values.\n",
    "\n",
    "```update()``` takes a dictionary as its parameter.\n",
    "\n",
    "To update/add multiple values at the same time, provide the keys to add/update and their valuesTo update/add multiple values at the same time, provide the keys to add/update and their values."
   ]
  },
  {
   "cell_type": "code",
   "execution_count": null,
   "metadata": {},
   "outputs": [],
   "source": [
    "person = {}"
   ]
  },
  {
   "cell_type": "code",
   "execution_count": null,
   "metadata": {},
   "outputs": [],
   "source": [
    "person[1000] = {'first_name':'Greg', 'last_name':'Bott', 'spouse':'Amy', 'children':['John Davis', 'Piper', 'Will', 'Truett'], 'pets':{'Bama':'dog', 'TJ':'cat'}}\n",
    "person[1001] = {'first_name':'Joe', 'last_name':'Devlin', 'spouse':'Suzanne', 'children':['CK', 'Alan', 'Devin', 'Tom'], 'pets':{'Orangey':'gold fish', 'Hammer':'turtle'}}\n",
    "\n",
    "pp.pprint(person)"
   ]
  },
  {
   "cell_type": "code",
   "execution_count": null,
   "metadata": {},
   "outputs": [],
   "source": [
    "# Update first_name ('Greg' to 'Gregory'), add ss_number and a middle name\n",
    "person[1000].update({'first_name':'Gregory','ss_number':'123-45-6789','middle':'Hamilton'})\n",
    "pp.pprint(person)"
   ]
  },
  {
   "cell_type": "code",
   "execution_count": null,
   "metadata": {},
   "outputs": [],
   "source": [
    "# Use the append() method of a key to append a value\n",
    "#   Here we are adding Sally to Joe Devlin's children\n",
    "person[1001]['children'].append('Sally')\n",
    "pp.pprint(person[1001])"
   ]
  },
  {
   "cell_type": "markdown",
   "metadata": {},
   "source": [
    "# JSON"
   ]
  },
  {
   "cell_type": "markdown",
   "metadata": {},
   "source": [
    "load() vs loads()\n",
    "\n",
    "![alt text](./images/load_vs_loads.jpg \"Title\")"
   ]
  },
  {
   "cell_type": "markdown",
   "metadata": {},
   "source": [
    "dump() vs dumps()\n",
    "\n",
    "![alt text](./images/dump-vs-dumps.jpg \"Title\")"
   ]
  },
  {
   "cell_type": "markdown",
   "metadata": {},
   "source": [
    "## Loading JSON"
   ]
  },
  {
   "cell_type": "code",
   "execution_count": null,
   "metadata": {},
   "outputs": [],
   "source": [
    "json_file = \"\"\"\n",
    "{'people': [{'children': ['John Davis', 'Piper', 'Will', 'Truett'],\n",
    "             'first_name': 'Greg',\n",
    "             'last_name': 'Bott',\n",
    "             'pets': {'Bama': 'dog', 'TJ': 'cat'},\n",
    "             'spouse': 'Amy'},\n",
    "            {'children': ['CK', 'Alan', 'Devin', 'Tom'],\n",
    "             'first_name': 'Joe',\n",
    "             'last_name': 'Devlin',\n",
    "             'pets': {'Hammer': 'turtle', 'Orangey': 'gold fish'},\n",
    "             'spouse': 'Suzanne'}]}\n",
    "\n",
    "\"\"\""
   ]
  },
  {
   "cell_type": "code",
   "execution_count": null,
   "metadata": {},
   "outputs": [],
   "source": [
    "pp.pprint(data)"
   ]
  },
  {
   "cell_type": "code",
   "execution_count": null,
   "metadata": {},
   "outputs": [],
   "source": [
    "with open('files/directory.json', 'r') as f:\n",
    "    data = json.loads(f.read())"
   ]
  },
  {
   "cell_type": "code",
   "execution_count": null,
   "metadata": {},
   "outputs": [],
   "source": [
    "type(data)"
   ]
  },
  {
   "cell_type": "markdown",
   "metadata": {},
   "source": [
    "<table class=\"docutils align-default\" id=\"json-to-py-table\">\n",
    "<colgroup>\n",
    "<col style=\"width: 44%\">\n",
    "<col style=\"width: 56%\">\n",
    "</colgroup>\n",
    "<thead>\n",
    "<tr class=\"row-odd\"><th class=\"head\"><p>JSON</p></th>\n",
    "<th class=\"head\"><p>Python</p></th>\n",
    "</tr>\n",
    "</thead>\n",
    "<tbody>\n",
    "<tr class=\"row-even\"><td><p>object</p></td>\n",
    "<td><p>dict</p></td>\n",
    "</tr>\n",
    "<tr class=\"row-odd\"><td><p>array</p></td>\n",
    "<td><p>list</p></td>\n",
    "</tr>\n",
    "<tr class=\"row-even\"><td><p>string</p></td>\n",
    "<td><p>str</p></td>\n",
    "</tr>\n",
    "<tr class=\"row-odd\"><td><p>number (int)</p></td>\n",
    "<td><p>int</p></td>\n",
    "</tr>\n",
    "<tr class=\"row-even\"><td><p>number (real)</p></td>\n",
    "<td><p>float</p></td>\n",
    "</tr>\n",
    "<tr class=\"row-odd\"><td><p>true</p></td>\n",
    "<td><p>True</p></td>\n",
    "</tr>\n",
    "<tr class=\"row-even\"><td><p>false</p></td>\n",
    "<td><p>False</p></td>\n",
    "</tr>\n",
    "<tr class=\"row-odd\"><td><p>null</p></td>\n",
    "<td><p>None</p></td>\n",
    "</tr>\n",
    "</tbody>\n",
    "</table>"
   ]
  },
  {
   "cell_type": "markdown",
   "metadata": {},
   "source": [
    "## Dumping JSON"
   ]
  },
  {
   "cell_type": "code",
   "execution_count": null,
   "metadata": {},
   "outputs": [],
   "source": [
    "import json\n",
    "\n",
    "with open('files/directory.json', 'w') as f:\n",
    "    json.dump(person, f)"
   ]
  },
  {
   "cell_type": "code",
   "execution_count": null,
   "metadata": {},
   "outputs": [],
   "source": [
    "import pandas as pd\n",
    "directory_df = pd.DataFrame.from_dict(person, orient='index')"
   ]
  },
  {
   "cell_type": "code",
   "execution_count": null,
   "metadata": {},
   "outputs": [],
   "source": [
    "directory_df.to_json('files/directory.json', orient='records' )"
   ]
  },
  {
   "cell_type": "code",
   "execution_count": null,
   "metadata": {},
   "outputs": [],
   "source": []
  }
 ],
 "metadata": {
  "kernelspec": {
   "display_name": "Python 3 (ipykernel)",
   "language": "python",
   "name": "python3"
  },
  "language_info": {
   "codemirror_mode": {
    "name": "ipython",
    "version": 3
   },
   "file_extension": ".py",
   "mimetype": "text/x-python",
   "name": "python",
   "nbconvert_exporter": "python",
   "pygments_lexer": "ipython3",
   "version": "3.11.7"
  }
 },
 "nbformat": 4,
 "nbformat_minor": 4
}
