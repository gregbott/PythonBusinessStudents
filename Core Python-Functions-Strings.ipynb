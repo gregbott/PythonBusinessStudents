{
 "cells": [
  {
   "cell_type": "markdown",
   "metadata": {},
   "source": [
    "2/2/2022"
   ]
  },
  {
   "cell_type": "markdown",
   "metadata": {
    "tags": [],
    "toc-nb-collapsed": true
   },
   "source": [
    "# Functions\n",
    "A *function* is a discrete set of instructions typically designed to receive one or more values and return a value. A function call receives values called *arguments* or *parameters* and it typically *returns* a value or object.\n"
   ]
  },
  {
   "cell_type": "markdown",
   "metadata": {},
   "source": [
    "## Built-in functions\n",
    "For example, the print() function takes an argument and sends output to the console."
   ]
  },
  {
   "cell_type": "markdown",
   "metadata": {},
   "source": [
    "### Print() and Input()\n",
    "The ```print()``` function displays messages and is sometimes used as simple debugging method. \n",
    "\n",
    "The print function underwent major changes from Python 2 to Python 3 and is written differently depending on the version. Python 2 omits the parentheses (e.g., ```print a```) while Python 3 requires them (e.g., ```print(a)``` ).\n",
    "\n",
    "Calling the print function without an argument results in a blank line."
   ]
  },
  {
   "cell_type": "code",
   "execution_count": 1,
   "metadata": {},
   "outputs": [
    {
     "name": "stdout",
     "output_type": "stream",
     "text": [
      "\n"
     ]
    }
   ],
   "source": [
    "print()"
   ]
  },
  {
   "cell_type": "markdown",
   "metadata": {},
   "source": [
    "You will often print string literals such as:"
   ]
  },
  {
   "cell_type": "code",
   "execution_count": 2,
   "metadata": {},
   "outputs": [
    {
     "name": "stdout",
     "output_type": "stream",
     "text": [
      "Data loading complete.\n"
     ]
    }
   ],
   "source": [
    "print(\"Data loading complete.\")"
   ]
  },
  {
   "cell_type": "markdown",
   "metadata": {},
   "source": [
    "Or using a variable:"
   ]
  },
  {
   "cell_type": "code",
   "execution_count": 3,
   "metadata": {},
   "outputs": [
    {
     "name": "stdout",
     "output_type": "stream",
     "text": [
      "apple\n"
     ]
    }
   ],
   "source": [
    "a = 'apple'\n",
    "print(a)"
   ]
  },
  {
   "cell_type": "code",
   "execution_count": null,
   "metadata": {},
   "outputs": [],
   "source": [
    "print(\"The print() function did this.\")"
   ]
  },
  {
   "cell_type": "markdown",
   "metadata": {},
   "source": [
    "The ```print()``` function also takes parameters such as the ```sep``` and ```end``` parameters, which overrides the default separator with the specified separator and the end of line character."
   ]
  },
  {
   "cell_type": "code",
   "execution_count": 4,
   "metadata": {},
   "outputs": [
    {
     "name": "stdout",
     "output_type": "stream",
     "text": [
      "Item 1|Item 2\n"
     ]
    }
   ],
   "source": [
    "print(\"Item 1\",\"Item 2\", sep=\"|\")"
   ]
  },
  {
   "cell_type": "code",
   "execution_count": 22,
   "metadata": {},
   "outputs": [
    {
     "name": "stdout",
     "output_type": "stream",
     "text": [
      "This \"entire\" \t sentence is on one line.\n",
      "hi\n"
     ]
    }
   ],
   "source": [
    "print(\"This \\\"entire\\\" \\t sentence is on\", end=\" \")\n",
    "print(\"one line.\")\n",
    "print(\"hi\")"
   ]
  },
  {
   "cell_type": "markdown",
   "metadata": {},
   "source": [
    "The type() function takes a value or object and returns its type."
   ]
  },
  {
   "cell_type": "code",
   "execution_count": null,
   "metadata": {},
   "outputs": [],
   "source": [
    "# Print and Type functions \n",
    "print(type(3.141))"
   ]
  },
  {
   "cell_type": "code",
   "execution_count": null,
   "metadata": {},
   "outputs": [],
   "source": [
    "# Print the highest value using the max() function. This is a function within a function.\n",
    "print(max(1,10,3,4,5))"
   ]
  },
  {
   "cell_type": "code",
   "execution_count": null,
   "metadata": {},
   "outputs": [],
   "source": [
    "# Print the longest word. Note that the len function is applied to each item \n",
    "#   in the list and the high number is returned.\n",
    "words = ['apple', 'court', 'banana','z'] # words is a list. See the Data Structures section in Part 3.\n",
    "print(max(words))\n",
    "print(max(words, key=len))"
   ]
  },
  {
   "cell_type": "code",
   "execution_count": null,
   "metadata": {},
   "outputs": [],
   "source": [
    "#Display the number of characters (including the white space) in \"Hello, world!\"\n",
    "len('Hello, world!')"
   ]
  },
  {
   "cell_type": "markdown",
   "metadata": {},
   "source": [
    "To obtain input from the user, use the input() function."
   ]
  },
  {
   "cell_type": "code",
   "execution_count": null,
   "metadata": {},
   "outputs": [],
   "source": [
    "user_name = input(\"What is your name?\")\n",
    "print(\"Hi, \", user_name)"
   ]
  },
  {
   "cell_type": "code",
   "execution_count": null,
   "metadata": {},
   "outputs": [],
   "source": [
    "user_age = input(\"How old are you?\")\n",
    "print(user_age, type(user_age))"
   ]
  },
  {
   "cell_type": "markdown",
   "metadata": {},
   "source": [
    "## Type Converstion Functions\n",
    "\n",
    "Python includes functions to convert values from one data type to another. \n",
    "\n",
    "For example, when requesting a number value from a user you may need to convert the resulting string input to an number type such as int."
   ]
  },
  {
   "cell_type": "code",
   "execution_count": null,
   "metadata": {},
   "outputs": [],
   "source": [
    "# Input values are strings. Convert strings to appropriate number type, if necessary.\n",
    "# Enter decimal value....error.\n",
    "\n",
    "tirepressure = int(input(\"Input current tire pressure:\"))\n",
    "\n",
    "if tirepressure < 32:\n",
    "    print(\"Add air to tire.\")\n",
    "else:\n",
    "    print(f\"At {tirepressure} psi the tire does not require additional air pressure.\")"
   ]
  },
  {
   "cell_type": "markdown",
   "metadata": {
    "toc-hr-collapsed": false
   },
   "source": [
    "## Misc Functions\n",
    "Below are common functions and explanations of how they work and when you might use them."
   ]
  },
  {
   "cell_type": "markdown",
   "metadata": {},
   "source": [
    "## Accessing functions in modules\n",
    "\n",
    "One of the strengths of the Python language is the large number of modules available to it. To add functionality to your program, you make modules available using the import keyword. Below we import the math module and the random module.\n"
   ]
  },
  {
   "cell_type": "code",
   "execution_count": 25,
   "metadata": {},
   "outputs": [],
   "source": [
    "# Get colume of a sphere using radius (r)\n",
    "\n",
    "import math\n",
    "\n",
    "def get_sphere_volume(r):\n",
    "    \"\"\"Returns volume of a sphere given the radius (r).\"\"\"\n",
    "    \n",
    "    #Use the pi constant from the math module \n",
    "    volume = (4/3) * math.pi * r**3\n",
    "    return volume"
   ]
  },
  {
   "cell_type": "code",
   "execution_count": 24,
   "metadata": {},
   "outputs": [
    {
     "data": {
      "text/plain": [
       "33.510321638291124"
      ]
     },
     "execution_count": 24,
     "metadata": {},
     "output_type": "execute_result"
    }
   ],
   "source": [
    "#Call the function to find the volume of a sphere with a radius of 2.\n",
    "get_sphere_volume(2)"
   ]
  },
  {
   "cell_type": "markdown",
   "metadata": {},
   "source": [
    "### Generating random numbers\n",
    "To generate random numbers, use the random module. Note that this module is not designed for cryptographic use. "
   ]
  },
  {
   "cell_type": "code",
   "execution_count": 34,
   "metadata": {},
   "outputs": [
    {
     "name": "stdout",
     "output_type": "stream",
     "text": [
      "0 98\n",
      "1 35\n",
      "2 59\n",
      "3 73\n",
      "4 49\n",
      "5 23\n",
      "6 88\n",
      "7 16\n",
      "8 1\n",
      "9 75\n"
     ]
    }
   ],
   "source": [
    "# NameError if random module is not imported\n",
    "import random\n",
    "\n",
    "\n",
    "# Print 10 numbers between 1 and 100 (inclusive)\n",
    "for x in range(10):\n",
    "    print(x,random.randint(1,101))"
   ]
  },
  {
   "cell_type": "code",
   "execution_count": null,
   "metadata": {},
   "outputs": [],
   "source": [
    "help(random.randint)"
   ]
  },
  {
   "cell_type": "markdown",
   "metadata": {},
   "source": [
    "### Finding the slope of a line\n",
    "\n",
    "Using the numpy polyfit function, np.polyfit(), you and find and return the slope and intercept of a given line with the set of coordinates of a line defined as arrays.\n",
    "\n",
    "The following code uses the np.polyfit() function to calculate the slope of a given line in Python."
   ]
  },
  {
   "cell_type": "code",
   "execution_count": null,
   "metadata": {},
   "outputs": [],
   "source": [
    "import numpy as np\n",
    "x = [1,2,3,4,5,6]\n",
    "y = [100,110,120,110,150,170]\n",
    "slope, intercept = np.polyfit(x,y,1)\n",
    "print(f'The slope is {slope}, and the intercept is {intercept}.')"
   ]
  },
  {
   "cell_type": "markdown",
   "metadata": {},
   "source": [
    "## Creating your own Functions\n",
    "Use the def keyword to define custom functions. Empty parentheses following the function name indicate the function takes no arguments."
   ]
  },
  {
   "cell_type": "code",
   "execution_count": 5,
   "metadata": {},
   "outputs": [],
   "source": [
    "def print_lyrics():\n",
    "    \"\"\" Prints lumberjack lyrics. How cool! \"\"\"\n",
    "    print(\"I'm a lumberjack and I'm okay\")\n",
    "    return \"something else\"\n",
    "\n",
    "   "
   ]
  },
  {
   "cell_type": "code",
   "execution_count": 13,
   "metadata": {},
   "outputs": [
    {
     "name": "stdout",
     "output_type": "stream",
     "text": [
      "15\n"
     ]
    }
   ],
   "source": [
    "def sum(a,b):\n",
    "    if a == 2:\n",
    "        return 7\n",
    "    elif b==3:\n",
    "        return 10\n",
    "    els\n",
    "    c = a + b\n",
    "    return c*3\n",
    "    \n",
    "y = sum(2,3)\n",
    "print(y)"
   ]
  },
  {
   "cell_type": "code",
   "execution_count": 6,
   "metadata": {},
   "outputs": [
    {
     "name": "stdout",
     "output_type": "stream",
     "text": [
      "I'm a lumberjack and I'm okay\n"
     ]
    }
   ],
   "source": [
    "x = print_lyrics()"
   ]
  },
  {
   "cell_type": "code",
   "execution_count": 8,
   "metadata": {},
   "outputs": [
    {
     "data": {
      "text/plain": [
       "'something else'"
      ]
     },
     "execution_count": 8,
     "metadata": {},
     "output_type": "execute_result"
    }
   ],
   "source": [
    "type(x)\n",
    "x"
   ]
  },
  {
   "cell_type": "code",
   "execution_count": null,
   "metadata": {},
   "outputs": [],
   "source": [
    " def repeat_lyrics():\n",
    "    print_lyrics()\n",
    "    print_lyrics()\n",
    "    \n",
    "repeat_lyrics()"
   ]
  },
  {
   "cell_type": "markdown",
   "metadata": {},
   "source": [
    "## Docstrings\n",
    "Docstrings (documentation strings) provide a helpful and convenient method of\n",
    "displaying documentation with Python modules, functions, classes, and methods. \n",
    "\n",
    "An object's docsting is defined by including a string constant as the first\n",
    "statement in the object's definition and can be viewed by calling help(function)."
   ]
  },
  {
   "cell_type": "code",
   "execution_count": null,
   "metadata": {},
   "outputs": [],
   "source": [
    "help(print_lyrics)"
   ]
  },
  {
   "cell_type": "code",
   "execution_count": 36,
   "metadata": {},
   "outputs": [
    {
     "name": "stdout",
     "output_type": "stream",
     "text": [
      "hi\n",
      "\n",
      "\n",
      "hi\n"
     ]
    }
   ],
   "source": [
    "print('hi')\n",
    "print(\"\"\"\n",
    "\n",
    "hi\"\"\")"
   ]
  },
  {
   "cell_type": "code",
   "execution_count": 42,
   "metadata": {},
   "outputs": [
    {
     "name": "stdout",
     "output_type": "stream",
     "text": [
      "Help on function print_stuff in module __main__:\n",
      "\n",
      "print_stuff(mystuff)\n",
      "    Prints the string passed to it.\n",
      "    Takes a single string argument.\n",
      "\n"
     ]
    }
   ],
   "source": [
    "help(print_stuff)"
   ]
  },
  {
   "cell_type": "markdown",
   "metadata": {
    "tags": []
   },
   "source": [
    "## Passing values\n",
    "Functions defined with arguments accept values. "
   ]
  },
  {
   "cell_type": "code",
   "execution_count": 50,
   "metadata": {},
   "outputs": [
    {
     "ename": "TypeError",
     "evalue": "print_stuff() missing 1 required positional argument: 'mystuff'",
     "output_type": "error",
     "traceback": [
      "\u001b[0;31m---------------------------------------------------------------------------\u001b[0m",
      "\u001b[0;31mTypeError\u001b[0m                                 Traceback (most recent call last)",
      "\u001b[0;32m/tmp/ipykernel_59064/2261874581.py\u001b[0m in \u001b[0;36m<module>\u001b[0;34m\u001b[0m\n\u001b[1;32m      9\u001b[0m     \u001b[0;31m# I put this here so it would print neat stuff\u001b[0m\u001b[0;34m\u001b[0m\u001b[0;34m\u001b[0m\u001b[0m\n\u001b[1;32m     10\u001b[0m \u001b[0mnewstuff\u001b[0m \u001b[0;34m=\u001b[0m \u001b[0;34m\"really cool stuff\"\u001b[0m\u001b[0;34m\u001b[0m\u001b[0;34m\u001b[0m\u001b[0m\n\u001b[0;32m---> 11\u001b[0;31m \u001b[0mprint_stuff\u001b[0m\u001b[0;34m(\u001b[0m\u001b[0;34m)\u001b[0m\u001b[0;34m\u001b[0m\u001b[0;34m\u001b[0m\u001b[0m\n\u001b[0m",
      "\u001b[0;31mTypeError\u001b[0m: print_stuff() missing 1 required positional argument: 'mystuff'"
     ]
    }
   ],
   "source": [
    "def print_stuff(mystuff):\n",
    "    \"\"\" Prints the string passed to it.\n",
    "        Takes a single string argument.\n",
    "    \n",
    "    \"\"\"\n",
    "    print(mystuff)\n",
    "    return mystuff*5\n",
    "\n",
    "    # I put this here so it would print neat stuff\n",
    "newstuff = \"really cool stuff\"\n",
    "print_stuff()"
   ]
  },
  {
   "cell_type": "code",
   "execution_count": 46,
   "metadata": {},
   "outputs": [
    {
     "name": "stdout",
     "output_type": "stream",
     "text": [
      "hello\n"
     ]
    }
   ],
   "source": [
    "x = print_stuff('hello')"
   ]
  },
  {
   "cell_type": "code",
   "execution_count": 47,
   "metadata": {},
   "outputs": [
    {
     "name": "stdout",
     "output_type": "stream",
     "text": [
      "hellohellohellohellohello\n"
     ]
    }
   ],
   "source": [
    "print(x)"
   ]
  },
  {
   "cell_type": "markdown",
   "metadata": {},
   "source": [
    "### Optional arguments\n",
    "The parameter in the previous function is required. Attempting to run the function without the parameter results in an error.\n",
    "\n",
    "In addition to required positional arguments, Python allows optional arguments. All required positional arguments must precede optional arguments."
   ]
  },
  {
   "cell_type": "code",
   "execution_count": 51,
   "metadata": {},
   "outputs": [
    {
     "name": "stdout",
     "output_type": "stream",
     "text": [
      "no stuff\n"
     ]
    }
   ],
   "source": [
    "# Optional arguments\n",
    "def print_stuff(my_stuff=\"no stuff\"):\n",
    "    print(my_stuff)\n",
    "    \n",
    "print_stuff()"
   ]
  },
  {
   "cell_type": "code",
   "execution_count": 52,
   "metadata": {},
   "outputs": [
    {
     "name": "stdout",
     "output_type": "stream",
     "text": [
      "goodwill stuff\n"
     ]
    }
   ],
   "source": [
    "print_stuff(\"goodwill stuff\")"
   ]
  },
  {
   "cell_type": "code",
   "execution_count": 4,
   "metadata": {},
   "outputs": [
    {
     "ename": "SyntaxError",
     "evalue": "non-default argument follows default argument (150808868.py, line 2)",
     "output_type": "error",
     "traceback": [
      "\u001b[1;36m  Input \u001b[1;32mIn [4]\u001b[1;36m\u001b[0m\n\u001b[1;33m    def calc_tip(amount=10, percentage):\u001b[0m\n\u001b[1;37m                            ^\u001b[0m\n\u001b[1;31mSyntaxError\u001b[0m\u001b[1;31m:\u001b[0m non-default argument follows default argument\n"
     ]
    }
   ],
   "source": [
    "# Function using keyword and default arguments\n",
    "def calc_tip(amount, percentage=.15):\n",
    "    \"\"\" Calculate a tip based on an amount. 15% is default. \"\"\"\n",
    "    tip = amount * percentage\n",
    "    return tip\n",
    "\n",
    "my_tip = calc_tip(10)\n",
    "\n",
    "print(my_tip)"
   ]
  },
  {
   "cell_type": "code",
   "execution_count": 3,
   "metadata": {},
   "outputs": [
    {
     "name": "stdout",
     "output_type": "stream",
     "text": [
      "1.5\n"
     ]
    }
   ],
   "source": [
    "print(calc_tip(10))"
   ]
  },
  {
   "cell_type": "markdown",
   "metadata": {},
   "source": [
    "### \\*args and \\*\\*kwargs\n",
    "The \\* symbol (by convention \\*args) enables a variable number of positional arguments to be passed to a function. "
   ]
  },
  {
   "cell_type": "code",
   "execution_count": 3,
   "metadata": {},
   "outputs": [
    {
     "name": "stdout",
     "output_type": "stream",
     "text": [
      "(88, 99, 56, 100, 92, 100) <class 'tuple'>\n",
      "Average grade = 89.16666666666667\n"
     ]
    }
   ],
   "source": [
    "# Passing a variable number of parameters\n",
    "def print_grades(*args):\n",
    "    number_of_grades = len(args)\n",
    "    print(f\"length = {number_of_grades}\")\n",
    "    sum_of_grades = sum(args)\n",
    "    avg_grade = sum_of_grades/number_of_grades\n",
    "    print(args, type(args))\n",
    "    print(f\"Average grade = {avg_grade}\")\n",
    "    \n",
    "print_grades(88,99,56,100,92,100)"
   ]
  },
  {
   "cell_type": "code",
   "execution_count": null,
   "metadata": {},
   "outputs": [],
   "source": [
    "print_grades(88,82,99,97,89,100,84,96,92,92,90)"
   ]
  },
  {
   "cell_type": "markdown",
   "metadata": {},
   "source": [
    "Using ```*args``` is by convention, not by requirement. Though others might expect to see it, so it may be useful to stick with the convention."
   ]
  },
  {
   "cell_type": "code",
   "execution_count": null,
   "metadata": {},
   "outputs": [],
   "source": [
    "# Passing a variable number of parameters\n",
    "def print_grades(*grades):\n",
    "    number_of_grades = len(grades)\n",
    "    sum_of_grades = sum(grades)\n",
    "    avg_grade = sum_of_grades/number_of_grades\n",
    "    print(grades)\n",
    "    print(f\"Average grade = {avg_grade}\")\n",
    "    \n",
    "print_grades(88,99,56,100,92)\n",
    "print_grades(88,82,99,97,89,100,84,96,92,92,90)"
   ]
  },
  {
   "cell_type": "code",
   "execution_count": null,
   "metadata": {},
   "outputs": [],
   "source": [
    "# Passing a variable number of parameters and iterating through them\n",
    "def print_grades(*grades):\n",
    "    for grade in grades:\n",
    "        if grade == 100:\n",
    "            print(\"Wow, a perfect score!!\")\n",
    "    \n",
    "print_grades(88,99,56,100,92)\n",
    "print_grades(88,82,99,97,89,100,84,96,92,92,90)"
   ]
  },
  {
   "cell_type": "code",
   "execution_count": null,
   "metadata": {},
   "outputs": [],
   "source": [
    "# Passing a variable number of parameters and iterating through them\n",
    "def print_grades(*grades):\n",
    "    for grade in grades:\n",
    "        print(grade)\n",
    "\n",
    "# Pass grades via a function    \n",
    "print_grades(88,99,56,100,92)\n",
    "\n",
    "# Get input from the user\n",
    "grades = input(\"Enter grades separated by a comma:\")\n",
    "\n",
    "# Split the input by comma delimiter (results in a list)\n",
    "grades = grades.split(',')\n",
    "\n",
    "# Pass using the unpack operator\n",
    "print_grades(*grades)"
   ]
  },
  {
   "cell_type": "markdown",
   "metadata": {},
   "source": [
    "### Using **kwargs\n",
    "The \\*\\* symbol (by convention \\*\\*kwargs) enables a variable number of *key word* arguments to be passed to a function."
   ]
  },
  {
   "cell_type": "code",
   "execution_count": 6,
   "metadata": {},
   "outputs": [
    {
     "name": "stdout",
     "output_type": "stream",
     "text": [
      "kwargs = {'Alice': [88, 100], 'Joe': 99, 'Jevontae': 56, 'Subha': 100, 'Kelly': 92}\n",
      "Student - Grade\n",
      "Alice - [88, 100]\n",
      "Joe - 99\n",
      "Jevontae - 56\n",
      "Subha - 100\n",
      "Kelly - 92\n",
      "\n"
     ]
    }
   ],
   "source": [
    "# Passing a variable number of parameters\n",
    "def show_grades(**kwargs):\n",
    "    \n",
    "    print(f\"kwargs = {kwargs}\")\n",
    "    \n",
    "    print(\"Student - Grade\")\n",
    "    for key, value in kwargs.items():\n",
    "        print(f\"{key} - {value}\")\n",
    "    print() #blank line\n",
    "\n",
    "show_grades(Alice=[88,100],Joe=99,Jevontae=56,Subha=100,Kelly=92)"
   ]
  },
  {
   "cell_type": "code",
   "execution_count": null,
   "metadata": {},
   "outputs": [],
   "source": [
    "show_grades(Stewart=100,Mark=105,Joe=95,Eric=75)"
   ]
  },
  {
   "cell_type": "markdown",
   "metadata": {},
   "source": [
    "## What is the Dot Operator?\n",
    "Just about everything in Python is an object. The dot operator enables you to access attributes (statements) and methods (function) associated with the object. \n",
    "\n",
    "Press <TAB> after a dot to see a list of methods and properties associated with the object.\n",
    "\n",
    "In the following code, a dot operator is used to access the pi property of the math object:\n",
    "```Python\n",
    "<a_python_object.do_something()>\n",
    "- or -\n",
    "<a_python_object.access_an_attribute>\n",
    "\n",
    "# Attribute example:\n",
    "volume = (4/3) * math.pi * r**3\n",
    "\n",
    "# Method example:\n",
    "print(\"Hello\".upper())\n",
    "```"
   ]
  },
  {
   "cell_type": "code",
   "execution_count": null,
   "metadata": {},
   "outputs": [],
   "source": [
    "import math\n",
    "\n",
    "r =5\n",
    "volume = (4/3) * math.pi * r**3\n",
    "\n",
    "print(f\"volume = {volume}\")"
   ]
  },
  {
   "cell_type": "code",
   "execution_count": null,
   "metadata": {},
   "outputs": [],
   "source": [
    "# Using the upper() method on a string via the dot operator\n",
    "print(\"Hello!\".upper())"
   ]
  },
  {
   "cell_type": "code",
   "execution_count": null,
   "metadata": {},
   "outputs": [],
   "source": [
    "#What other functions are available in the math module? Use the dir() function to list a directory of math attributes.\n",
    "dir(math)"
   ]
  },
  {
   "cell_type": "markdown",
   "metadata": {},
   "source": [
    "## Lambda/Anonymous functions\n",
    "A lambda function, also called an anonymous function, behaves like a regular function, but is declared as a single-line function with no name (hence the term 'anonymous'). It can have any number of arguments, but only one expression."
   ]
  },
  {
   "cell_type": "code",
   "execution_count": null,
   "metadata": {},
   "outputs": [],
   "source": [
    "# Regular function calc_tip\n",
    "def area_circle(r):\n",
    "    \"\"\" Calculate the area of a circle. \"\"\"\n",
    "    area = 3.1415927 * r * r\n",
    "    return area\n",
    "\n",
    "area_circle(4)"
   ]
  },
  {
   "cell_type": "code",
   "execution_count": null,
   "metadata": {},
   "outputs": [],
   "source": [
    "# lambda version of area_circle()\n",
    "#   To use the anonymous function, set it equal to a variable  \n",
    "get_area = lambda x: 3.1415927 * x\n",
    "get_area(4)"
   ]
  },
  {
   "cell_type": "code",
   "execution_count": null,
   "metadata": {},
   "outputs": [],
   "source": [
    "# Using lambda inline\n",
    "customers = ['Will Hawkins', 'Stewart Pickard', 'John Davis Roberts', 'Will Roberts', 'Eric Devlin', 'R. Joe Bechtold']\n",
    "\n",
    "# Key is the sorting critera, split on the space, get the last element, convert it to lowercaseand then sort the list\n",
    "customers.sort(key=lambda x: x.split(\" \")[-1].lower())\n",
    "\n",
    "# Print the newly sorted list\n",
    "print(customers)"
   ]
  },
  {
   "cell_type": "code",
   "execution_count": null,
   "metadata": {},
   "outputs": [],
   "source": [
    "# Even or odd example\n",
    "(lambda x: x % 2 and 'odd' or 'even')(3)"
   ]
  },
  {
   "cell_type": "markdown",
   "metadata": {},
   "source": [
    "## Void and Return Functions\n",
    "Functions that do not return values are called void functions."
   ]
  },
  {
   "cell_type": "code",
   "execution_count": null,
   "metadata": {},
   "outputs": [],
   "source": [
    "def addtwo(a,b):\n",
    "    \"\"\" Returns the sum of two numbers.\"\"\"\n",
    "    added = a + b\n",
    "    return added\n",
    "\n",
    "z = addtwo(1,2) * 10\n",
    "print(\"hi\")"
   ]
  },
  {
   "cell_type": "code",
   "execution_count": null,
   "metadata": {},
   "outputs": [],
   "source": [
    "print(z)"
   ]
  },
  {
   "cell_type": "code",
   "execution_count": null,
   "metadata": {},
   "outputs": [],
   "source": [
    "print(addtwo(3,5))"
   ]
  },
  {
   "cell_type": "markdown",
   "metadata": {
    "tags": []
   },
   "source": [
    "## strptime and strftime functions\n",
    "```strptime``` is short for *parse time* while the ```strftime``` function means is *formatting time*. Both are part of the Python ```datetime``` module though ```strftime``` is also part of the ```date``` and ```time``` modules also.\n",
    "\n",
    "```strptime``` is the opposite of ```strftime``` though they use, conveniently, the same formatting specification, which can be found here (https://docs.python.org/3/library/datetime.html#strftime-and-strptime-format-codes).\n",
    "\n",
    "```strptime``` parses a string and outputs a ```datetime``` object.\n",
    "\n",
    "For example, say you inherited a database where the date was stored as an integer in the format YYYYMMDD, aka 20230131. To analyze these values, you'll need to convert them from a integer to a ```datetime``` object using ```strptime```."
   ]
  },
  {
   "cell_type": "code",
   "execution_count": 17,
   "metadata": {},
   "outputs": [
    {
     "data": {
      "text/plain": [
       "datetime.datetime(2023, 1, 31, 0, 0)"
      ]
     },
     "execution_count": 17,
     "metadata": {},
     "output_type": "execute_result"
    }
   ],
   "source": [
    "from datetime import datetime\n",
    "\n",
    "int_date = 20230131\n",
    "\n",
    "date_obj = datetime.strptime(str(int_date), \"%Y%m%d\")\n",
    "date_obj"
   ]
  },
  {
   "cell_type": "code",
   "execution_count": 15,
   "metadata": {},
   "outputs": [
    {
     "data": {
      "text/plain": [
       "'2023-01-31'"
      ]
     },
     "execution_count": 15,
     "metadata": {},
     "output_type": "execute_result"
    }
   ],
   "source": [
    "date_obj.strftime(\"%Y-%m-%d\")"
   ]
  },
  {
   "cell_type": "code",
   "execution_count": 19,
   "metadata": {},
   "outputs": [
    {
     "name": "stdout",
     "output_type": "stream",
     "text": [
      "year: 2023\n",
      "month: 07\n",
      "day: 05\n",
      "time: 10:00:03\n",
      "date and time: 07/05/2023, 10:00:03\n"
     ]
    }
   ],
   "source": [
    "year = datetime.now().strftime(\"%Y\")\n",
    "print(\"year:\", year)\n",
    "\n",
    "month = datetime.now().strftime(\"%m\")\n",
    "print(\"month:\", month)\n",
    "\n",
    "day = datetime.now().strftime(\"%d\")\n",
    "print(\"day:\", day)\n",
    "\n",
    "time = datetime.now().strftime(\"%H:%M:%S\")\n",
    "print(\"time:\", time)\n",
    "\n",
    "date_time = datetime.now().strftime(\"%m/%d/%Y, %H:%M:%S\")\n",
    "print(\"date and time:\",date_time)\t"
   ]
  },
  {
   "cell_type": "markdown",
   "metadata": {},
   "source": [
    "## Using datetime functions"
   ]
  },
  {
   "cell_type": "code",
   "execution_count": 33,
   "metadata": {},
   "outputs": [
    {
     "name": "stdout",
     "output_type": "stream",
     "text": [
      "The University of Alabama was founded 70,205 days ago!\n"
     ]
    }
   ],
   "source": [
    "from datetime import datetime, date\n",
    "\n",
    "founded = date(1831, 4, 18)\n",
    "days_ago = date.today() - founded\n",
    "\n",
    "print(f\"The University of Alabama was founded {days_ago.days:,} days ago!\")"
   ]
  },
  {
   "cell_type": "markdown",
   "metadata": {},
   "source": [
    "## Magic functions\n",
    "\n"
   ]
  },
  {
   "cell_type": "code",
   "execution_count": null,
   "metadata": {},
   "outputs": [],
   "source": [
    "# TimeIt magic function"
   ]
  },
  {
   "cell_type": "markdown",
   "metadata": {},
   "source": [
    "### Environment variables"
   ]
  },
  {
   "cell_type": "code",
   "execution_count": null,
   "metadata": {},
   "outputs": [],
   "source": [
    "env_name = %env CONDA_DEFAULT_ENV"
   ]
  },
  {
   "cell_type": "code",
   "execution_count": null,
   "metadata": {},
   "outputs": [],
   "source": [
    "print(env_name)"
   ]
  },
  {
   "cell_type": "code",
   "execution_count": null,
   "metadata": {},
   "outputs": [],
   "source": [
    "env_dict = %env"
   ]
  },
  {
   "cell_type": "code",
   "execution_count": null,
   "metadata": {},
   "outputs": [],
   "source": [
    "env_dict # All environemnt information"
   ]
  },
  {
   "cell_type": "code",
   "execution_count": null,
   "metadata": {},
   "outputs": [],
   "source": [
    "env_dict['PWD'] # Get the working directory"
   ]
  },
  {
   "cell_type": "code",
   "execution_count": null,
   "metadata": {},
   "outputs": [],
   "source": [
    "%env"
   ]
  },
  {
   "cell_type": "markdown",
   "metadata": {
    "tags": [],
    "toc-nb-collapsed": true
   },
   "source": [
    "# String Operations\n",
    "Text in Python is represented by a string. A string is an immutable array of unicode characters. This means that once defined, they cannot be changed. You can access (but not change) characters one at a time using the bracket [] operator."
   ]
  },
  {
   "cell_type": "markdown",
   "metadata": {},
   "source": [
    "## Strings are arrays\n",
    "Because strings are stored as an array, you may access characters using array notation."
   ]
  },
  {
   "cell_type": "code",
   "execution_count": null,
   "metadata": {},
   "outputs": [],
   "source": [
    "x = 'Guardians of the Galaxy Vol. 1'\n",
    "print(x[0:6]) # Print the first six characters"
   ]
  },
  {
   "cell_type": "code",
   "execution_count": null,
   "metadata": {},
   "outputs": [],
   "source": [
    "print(x[-5:]) # Print the last 5 characters"
   ]
  },
  {
   "cell_type": "markdown",
   "metadata": {},
   "source": [
    "## Strings are immutable\n",
    "However, like tuples strings cannot be changed."
   ]
  },
  {
   "cell_type": "code",
   "execution_count": null,
   "metadata": {},
   "outputs": [],
   "source": [
    "# Error: Strings are immutable\n",
    "print(x[29])\n",
    "x[29] = '2' # Change Vol. 1 to Vol. 2"
   ]
  },
  {
   "cell_type": "code",
   "execution_count": null,
   "metadata": {},
   "outputs": [],
   "source": [
    "# Instead of attempting to change the array, reassign the variable to the new value\n",
    "x = \"Guardians of the Galaxy Vol. 2\""
   ]
  },
  {
   "cell_type": "markdown",
   "metadata": {},
   "source": [
    "## Escape characters and raw strings\n",
    "Prefix a string with ‘r’ or ‘R’ to force Python to treat backslash (\\) as a literal character.\n",
    "E.g., Windows file paths\n",
    "\n",
    "| Escape Character | Prints as |\n",
    "|------------------|-----------|\n",
    "| \\\\' | Single quote\n",
    "| \\\\\" | Double quote\n",
    "| \\\\t | Tab\n",
    "| \\\\n | Newline (line break)\n",
    "| \\\\ | Backslash\n",
    "\n"
   ]
  },
  {
   "cell_type": "code",
   "execution_count": null,
   "metadata": {},
   "outputs": [],
   "source": [
    "# Error - unexpected escape characters\n",
    "file_path = \"c:\\users\\gregb\\documents\\python_projects\"\n",
    "print(file_path)"
   ]
  },
  {
   "cell_type": "code",
   "execution_count": null,
   "metadata": {},
   "outputs": [],
   "source": [
    "# Escaping backslash for file name\n",
    "file_path = \"c:\\\\users\\\\gregb\\\\documents\\\\python_projects\"\n",
    "print(file_path)"
   ]
  },
  {
   "cell_type": "code",
   "execution_count": null,
   "metadata": {},
   "outputs": [],
   "source": [
    "# Using raw string\n",
    "file_path = r\"c:\\users\\gregb\\documents\\python_projects\"\n",
    "print(file_path)"
   ]
  },
  {
   "cell_type": "markdown",
   "metadata": {},
   "source": [
    "## Using single, double, and triple quotes\n",
    "You may use either single, double, or triple quotes. Use double or triple quotes when a string contains a single apostrophe, double apostrophe or both."
   ]
  },
  {
   "cell_type": "code",
   "execution_count": null,
   "metadata": {},
   "outputs": [],
   "source": [
    "#Single quotes specify a string.\n",
    "howdy = 'hello, world!'\n",
    "print(howdy)"
   ]
  },
  {
   "cell_type": "code",
   "execution_count": null,
   "metadata": {},
   "outputs": [],
   "source": [
    "#Double quotes also specify a string.\n",
    "statement = \"I'm a Python programmer.\"\n",
    "print(statement)"
   ]
  },
  {
   "cell_type": "code",
   "execution_count": null,
   "metadata": {},
   "outputs": [],
   "source": [
    "# Triple quotes specify a string AND can span lines.\n",
    "prov_12_16 = \"\"\"A fool's annoyance is known at once,\n",
    "but the prudent overlooks an insult.\"\"\"\n",
    "print(prov_12_16)"
   ]
  },
  {
   "cell_type": "code",
   "execution_count": null,
   "metadata": {},
   "outputs": [],
   "source": [
    "#To print quotes, you can use the escape character (\\)\n",
    "as_good_as_it_gets = 'Sell crazy someplace else. We\\'re all stocked up here.'\n",
    "print(as_good_as_it_gets)"
   ]
  },
  {
   "cell_type": "code",
   "execution_count": null,
   "metadata": {},
   "outputs": [],
   "source": [
    "#Triple quotes are helpful when you want to display single or double quotes within a string without using an escape character.\n",
    "cannoli = \"\"\"Clamenza said, \\\"Leave the gun, take the cannoli.\\\" It's one of my 'fav' movie quotes. \"\"\"\n",
    "print(cannoli)"
   ]
  },
  {
   "cell_type": "markdown",
   "metadata": {},
   "source": [
    "## String Capitalization"
   ]
  },
  {
   "cell_type": "code",
   "execution_count": null,
   "metadata": {},
   "outputs": [],
   "source": [
    "# Capitalize the first word\n",
    "print(howdy.capitalize())"
   ]
  },
  {
   "cell_type": "code",
   "execution_count": null,
   "metadata": {},
   "outputs": [],
   "source": [
    "# Capitalize each word\n",
    "print(howdy.title())\n",
    "print(\"this is title case\".title())"
   ]
  },
  {
   "cell_type": "code",
   "execution_count": null,
   "metadata": {},
   "outputs": [],
   "source": [
    "# Capitalize each word\n",
    "print(howdy.upper())\n",
    "print(\"this is all capps\".upper())\n",
    "\n",
    "#Use upper() to compare strings ignoring case\n",
    "myfavfruit = \"Kiwi\"\n",
    "\n",
    "if myfavfruit.upper() == \"KIWI\":\n",
    "    print(\"That's my fav!\")\n",
    "else:\n",
    "    print(\"Not my fav\")"
   ]
  },
  {
   "cell_type": "code",
   "execution_count": null,
   "metadata": {},
   "outputs": [],
   "source": [
    "book_title = \"THE UNOFFICIAL GUIDE TO ETHICAL HACKING\"\n",
    "\n",
    "# Lowercase\n",
    "print(book_title.lower())"
   ]
  },
  {
   "cell_type": "markdown",
   "metadata": {},
   "source": [
    "## String Concatenation\n",
    "\n",
    "Use the '+' operator to join strings."
   ]
  },
  {
   "cell_type": "code",
   "execution_count": null,
   "metadata": {},
   "outputs": [],
   "source": [
    "first_name = \"Gregory\"\n",
    "middle_initial = \"J\"\n",
    "last_name = \"Bott\"\n",
    "\n",
    "full_name = first_name + \" \" + middle_initial + \" \" + last_name + \", Ph.D.\"\n",
    "print(full_name)"
   ]
  },
  {
   "cell_type": "markdown",
   "metadata": {},
   "source": [
    "## Removing white space\n",
    "A common task when working with data is to remove white space (spaces, tabs, newlines) from the beginning and end of a string. To remove white space use the **strip** methods:\n",
    "\n",
    "```Python\n",
    "\n",
    "strip()\n",
    "lstrip()\n",
    "rstrip()\n",
    "\n",
    "```\n",
    "\n"
   ]
  },
  {
   "cell_type": "code",
   "execution_count": 75,
   "metadata": {},
   "outputs": [
    {
     "name": "stdout",
     "output_type": "stream",
     "text": [
      "Before stripping, the data_column string \t\t\t     100.00           \n",
      " is 26 characters long.\n",
      "\n",
      "After using the lstrip(), the data_column string 100.00           \n",
      " is 18 characters long.\n",
      "\n",
      "After using the rstrip(), the data_column string \t\t\t     100.00 is 14 characters long.\n",
      "\n",
      "After using the strip(), the data_column string 100.00 is 6 characters long.\n",
      "\n"
     ]
    }
   ],
   "source": [
    "# value is preceded by three tabs and followed by a line break\n",
    "data_column = \"\\t\\t\\t     100.00           \\n\"\n",
    "print(f\"Before stripping, the data_column string {data_column} is {len(data_column)} characters long.\\n\")\n",
    "print(f\"After using the lstrip(), the data_column string {data_column.lstrip()} is {len(data_column.lstrip())} characters long.\\n\")\n",
    "print(f\"After using the rstrip(), the data_column string {data_column.rstrip()} is {len(data_column.rstrip())} characters long.\\n\")\n",
    "print(f\"After using the strip(), the data_column string {data_column.strip()} is {len(data_column.strip())} characters long.\\n\")"
   ]
  },
  {
   "cell_type": "markdown",
   "metadata": {},
   "source": [
    "## Format Operator\n",
    "To substitute values from variables or functions into a string, use the *format operator* %. \n",
    "\n",
    "Do not confuse % with modulus operator. In the statement, 4 % 2 = 0 '%' is the modulus operator. \n",
    "\n",
    "Instead of using the % operator between integers as in the modulus operator, the *format operator* is used within a string.\n",
    "<br>%d = signed integer decimal\n",
    "<br>%s = string\n",
    "<br>%f = float\n",
    "\n",
    "For more conversion types, go to https://docs.python.org/3/library/stdtypes.html#old-string-formatting"
   ]
  },
  {
   "cell_type": "code",
   "execution_count": null,
   "metadata": {},
   "outputs": [],
   "source": [
    "b_of_b_on_wall = 5\n",
    "beverage = \"beer\"\n",
    "\n",
    "for bottle_num in range(5,0,-1):\n",
    "    print(\"%d bottles of %s on the wall, %d bottles of %s.\" % (bottle_num, beverage, bottle_num, beverage))\n",
    "    print(\"Take one down and pass it around, %d bottles of %s on the wall.\" % (int(bottle_num)-1, beverage))\n",
    "    "
   ]
  },
  {
   "cell_type": "markdown",
   "metadata": {},
   "source": [
    "## Using str.format()\n",
    "The format operator is a good option, but when you have multiple placeholders in a string, code becomes less readable. \n",
    "\n",
    "One advantage of the str.format() method is that you can use the replacement fields in any order. Simply use their index values."
   ]
  },
  {
   "cell_type": "code",
   "execution_count": null,
   "metadata": {},
   "outputs": [],
   "source": [
    "name = \"Greg\"\n",
    "age = \"82\"\n",
    "\n",
    "print(\"Hello, {}. You are {}.\".format(name, age))"
   ]
  },
  {
   "cell_type": "code",
   "execution_count": null,
   "metadata": {},
   "outputs": [],
   "source": [
    "name = \"Greg\"\n",
    "age = \"82\"\n",
    "\n",
    "#Reference index to use out of sequence order.\n",
    "print(\"Hello, {1}. You are {0}.\".format(age, name))"
   ]
  },
  {
   "cell_type": "code",
   "execution_count": null,
   "metadata": {},
   "outputs": [],
   "source": [
    "# Formatting numbers\n",
    "print(\"You won ${:,.4f}\".format(312.57))"
   ]
  },
  {
   "cell_type": "code",
   "execution_count": null,
   "metadata": {},
   "outputs": [],
   "source": [
    "# Use dictionary values\n",
    "person = {'name': 'Greg', 'age': 82}\n",
    "print(\"Hello, {name}. You are {age}.\".format(**person))"
   ]
  },
  {
   "cell_type": "markdown",
   "metadata": {},
   "source": [
    "## Using f-Strings\n",
    "Beginning with Python 3.6, you can use f-strings (\"formatting string literals\") to embed expressions in strings. The syntax for f-Strings is similar to str.format() but results in more readable code. Use the curly braces to enclose expressions that should be evaluated within the string."
   ]
  },
  {
   "cell_type": "code",
   "execution_count": null,
   "metadata": {},
   "outputs": [],
   "source": [
    "name = \"Greg\"\n",
    "age = \"82\"\n",
    "\n",
    "print(f\"Hello, {name}. You are {age}.\")"
   ]
  },
  {
   "cell_type": "markdown",
   "metadata": {},
   "source": [
    "### Formatting f-strings\n",
    "You can also format integers and floats within f-strings. Include a separator and specify the number of decimal places to print."
   ]
  },
  {
   "cell_type": "code",
   "execution_count": 40,
   "metadata": {},
   "outputs": [
    {
     "name": "stdout",
     "output_type": "stream",
     "text": [
      "Value of pi: 3.14159265\n",
      "The lottery has reached $12,000,000.00!\n"
     ]
    }
   ],
   "source": [
    "import math\n",
    "\n",
    "formatted_pi = f\"Value of pi: {math.pi:.8f}\"\n",
    "print(formatted_pi)\n",
    "\n",
    "lottery_value = 12000000\n",
    "\n",
    "print(f'The lottery has reached ${lottery_value:,.2f}!')"
   ]
  },
  {
   "cell_type": "markdown",
   "metadata": {},
   "source": [
    "## Currency and date formatting functions\n",
    "Because currency and date formats vary by locale, a recommended way of formatting currency and dates is to use the ```locale``` module. The ```locale``` module accesses the region-specific symbols for date and currency rules configured in your operating system and applies it to the value format.\n",
    "\n",
    "```Python\n",
    "currency = \"${:,.2f}\".format(amount)\n",
    "````"
   ]
  },
  {
   "cell_type": "code",
   "execution_count": 43,
   "metadata": {},
   "outputs": [
    {
     "name": "stdout",
     "output_type": "stream",
     "text": [
      " USD = $1234.57\n"
     ]
    }
   ],
   "source": [
    "import locale\n",
    "\n",
    "# Set the desired locale (e.g., US)\n",
    "locale.setlocale(locale.LC_ALL, '')\n",
    "\n",
    "# Define the float value\n",
    "amount = 1234.56789\n",
    "\n",
    "# Format the float as currency\n",
    "formatted_amount = locale.currency(amount)\n",
    "\n",
    "print(f\" USD = {formatted_amount}\")"
   ]
  },
  {
   "cell_type": "code",
   "execution_count": 56,
   "metadata": {},
   "outputs": [
    {
     "name": "stdout",
     "output_type": "stream",
     "text": [
      "$1,233.6735\n"
     ]
    }
   ],
   "source": [
    "# You can also use a '$' and set precision to two places after the decimal\n",
    "amount = 1233.673477\n",
    "currency = \"${:,.4f}\".format(amount)\n",
    "print(currency)"
   ]
  },
  {
   "cell_type": "markdown",
   "metadata": {},
   "source": [
    "## Splitting and Joining strings"
   ]
  },
  {
   "cell_type": "code",
   "execution_count": 1,
   "metadata": {},
   "outputs": [
    {
     "name": "stdout",
     "output_type": "stream",
     "text": [
      "original data:\n",
      "Quin J. Alford|Proin Company|Ap #664-5782 Felis St.|Butte|35565|MT|-72.72653, -167.07764|4716 4071 8086 1415|436|eu@pellentesque.net\n",
      "\n",
      "converted to a list: \n",
      "['Quin J. Alford', 'Proin Company', 'Ap #664-5782 Felis St.', 'Butte', '35565', 'MT', '-72.72653, -167.07764', '4716 4071 8086 1415', '436', 'eu@pellentesque.net']\n",
      "\n"
     ]
    }
   ],
   "source": [
    "# Below is a database record exported using the pipe symbol (\"|\") to seprate fields\n",
    "exported_record = \"Quin J. Alford|Proin Company|Ap #664-5782 Felis St.|Butte|35565|MT|-72.72653, -167.07764|4716 4071 8086 1415|436|eu@pellentesque.net\"\n",
    "print(\"original data:\")\n",
    "print(exported_record)\n",
    "print()\n",
    "\n",
    "#Split the data at each pipe symbol. The result of the split function is a Python list (essentially an array)\n",
    "exported_record = exported_record.split(\"|\")\n",
    "print(\"converted to a list: \")\n",
    "print(exported_record)\n",
    "print()"
   ]
  },
  {
   "cell_type": "code",
   "execution_count": null,
   "metadata": {},
   "outputs": [],
   "source": [
    "#Print the first and last member of the list. Acess the first element (element 0), and the last element (-1).\n",
    "#The second to last element would be accessed using [-2].\n",
    "print(\"Name: \" + exported_record[0], \"   email: \" + exported_record[-1] +\"\\n\")\n",
    "\n",
    "#Join the list by comma and store in exported_record\n",
    "exported_record_csv = \",\".join(exported_record)\n",
    "print(exported_record_csv)"
   ]
  },
  {
   "cell_type": "markdown",
   "metadata": {},
   "source": [
    "## Find() method for strings"
   ]
  },
  {
   "cell_type": "code",
   "execution_count": null,
   "metadata": {},
   "outputs": [],
   "source": [
    "gburg_text = \"Four score and seven years ago our fathers brought forth on this continent, a new nation, conceived in Liberty, and dedicated to the proposition that all men are created equal.\"\n",
    "\n",
    "#Find first instance of a word, find(value, start default = 0, end default = end of string)\n",
    "find_pos = gburg_text.find(\"score\")\n",
    "print(find_pos)"
   ]
  }
 ],
 "metadata": {
  "kernelspec": {
   "display_name": "Python 3 (ipykernel)",
   "language": "python",
   "name": "python3"
  },
  "language_info": {
   "codemirror_mode": {
    "name": "ipython",
    "version": 3
   },
   "file_extension": ".py",
   "mimetype": "text/x-python",
   "name": "python",
   "nbconvert_exporter": "python",
   "pygments_lexer": "ipython3",
   "version": "3.9.12"
  },
  "toc-autonumbering": true,
  "toc-showcode": false,
  "toc-showmarkdowntxt": false,
  "toc-showtags": false
 },
 "nbformat": 4,
 "nbformat_minor": 4
}
