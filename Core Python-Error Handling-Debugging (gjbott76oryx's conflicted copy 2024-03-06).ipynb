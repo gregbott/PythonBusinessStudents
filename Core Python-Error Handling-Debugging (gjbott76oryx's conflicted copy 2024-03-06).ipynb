{
 "cells": [
  {
   "cell_type": "markdown",
   "id": "224eb927-af85-467b-91f6-f4e1aca11eb2",
   "metadata": {
    "tags": [],
    "toc-hr-collapsed": true,
    "toc-nb-collapsed": true
   },
   "source": [
    "# Error Handling\n",
    "\n",
    "Types of errors:\n",
    "1. Interpretation/Compile time errors (e.g, syntactical)\n",
    "2. Logical errors\n",
    "3. Runtime errors\n",
    "\n",
    "Robust programs anticipate and gracefully handle unexpected situations and errors. For example, when asking a user to input a number, a robust program gracefully handles unexpected or erroneous input. Other examples include attempting to open a file or connect to a database. When the interpreter encounters an error, execution stops, and an Exception object is accessible.\n",
    "\n",
    "```Python\n",
    "try:\n",
    "    # run code\n",
    "except Exception:\n",
    "    # run this code if there is an error\n",
    "else:\n",
    "    # Run this code if there are no errors\n",
    "finally:\n",
    "    # Always run this code\n",
    "```\n",
    "\n",
    "Error handling enables the developer to respond gracefully to exceptions in code. Without error handling, users will be confronted with error output they may not understand, which stops execution. \n",
    "\n",
    "Instead, use error handling to communicate resolution steps to the user and continue execution or exit gracefully.\n",
    "\n",
    "The ```pass``` statement is a null statement. It does nothing and is discarded by the interpreter. "
   ]
  },
  {
   "cell_type": "markdown",
   "id": "81e0aecb-eb25-4813-9dfc-f0eeacfcc04b",
   "metadata": {},
   "source": [
    "# Syntax Errors\n",
    "These are not exceptions and will not be handled by a try...except block."
   ]
  },
  {
   "cell_type": "code",
   "execution_count": 1,
   "id": "5400c07d-2959-4a63-8410-eecd63f6f64d",
   "metadata": {},
   "outputs": [
    {
     "ename": "SyntaxError",
     "evalue": "unterminated string literal (detected at line 2) (862613083.py, line 2)",
     "output_type": "error",
     "traceback": [
      "\u001b[0;36m  Cell \u001b[0;32mIn[1], line 2\u001b[0;36m\u001b[0m\n\u001b[0;31m    print('Hello, world)\u001b[0m\n\u001b[0m          ^\u001b[0m\n\u001b[0;31mSyntaxError\u001b[0m\u001b[0;31m:\u001b[0m unterminated string literal (detected at line 2)\n"
     ]
    }
   ],
   "source": [
    "# Syntatical error\n",
    "print('Hello, world)"
   ]
  },
  {
   "cell_type": "markdown",
   "id": "9087ed78-bd9b-4987-8c01-9ceb0f7b0272",
   "metadata": {},
   "source": [
    "If an exception occurs outside of a try...except block, it is \"unhandled\" and stops the processing of your code. This is typically an undesirable outcome."
   ]
  },
  {
   "cell_type": "code",
   "execution_count": 2,
   "id": "ce514e3f-f5cc-4ea5-8015-9345167a07eb",
   "metadata": {},
   "outputs": [
    {
     "ename": "FileNotFoundError",
     "evalue": "[Errno 2] No such file or directory: 'demo_file.txt'",
     "output_type": "error",
     "traceback": [
      "\u001b[0;31m---------------------------------------------------------------------------\u001b[0m",
      "\u001b[0;31mFileNotFoundError\u001b[0m                         Traceback (most recent call last)",
      "Cell \u001b[0;32mIn[2], line 2\u001b[0m\n\u001b[1;32m      1\u001b[0m \u001b[38;5;66;03m# Error: File Does not exist\u001b[39;00m\n\u001b[0;32m----> 2\u001b[0m \u001b[38;5;28;01mwith\u001b[39;00m \u001b[38;5;28;43mopen\u001b[39;49m\u001b[43m(\u001b[49m\u001b[38;5;124;43m\"\u001b[39;49m\u001b[38;5;124;43mdemo_file.txt\u001b[39;49m\u001b[38;5;124;43m\"\u001b[39;49m\u001b[43m,\u001b[49m\u001b[43m \u001b[49m\u001b[38;5;124;43m'\u001b[39;49m\u001b[38;5;124;43mr\u001b[39;49m\u001b[38;5;124;43m'\u001b[39;49m\u001b[43m)\u001b[49m \u001b[38;5;28;01mas\u001b[39;00m f:\n\u001b[1;32m      3\u001b[0m     f\u001b[38;5;241m.\u001b[39mread()\n",
      "File \u001b[0;32m~/anaconda3/envs/mis501/lib/python3.12/site-packages/IPython/core/interactiveshell.py:324\u001b[0m, in \u001b[0;36m_modified_open\u001b[0;34m(file, *args, **kwargs)\u001b[0m\n\u001b[1;32m    317\u001b[0m \u001b[38;5;28;01mif\u001b[39;00m file \u001b[38;5;129;01min\u001b[39;00m {\u001b[38;5;241m0\u001b[39m, \u001b[38;5;241m1\u001b[39m, \u001b[38;5;241m2\u001b[39m}:\n\u001b[1;32m    318\u001b[0m     \u001b[38;5;28;01mraise\u001b[39;00m \u001b[38;5;167;01mValueError\u001b[39;00m(\n\u001b[1;32m    319\u001b[0m         \u001b[38;5;124mf\u001b[39m\u001b[38;5;124m\"\u001b[39m\u001b[38;5;124mIPython won\u001b[39m\u001b[38;5;124m'\u001b[39m\u001b[38;5;124mt let you open fd=\u001b[39m\u001b[38;5;132;01m{\u001b[39;00mfile\u001b[38;5;132;01m}\u001b[39;00m\u001b[38;5;124m by default \u001b[39m\u001b[38;5;124m\"\u001b[39m\n\u001b[1;32m    320\u001b[0m         \u001b[38;5;124m\"\u001b[39m\u001b[38;5;124mas it is likely to crash IPython. If you know what you are doing, \u001b[39m\u001b[38;5;124m\"\u001b[39m\n\u001b[1;32m    321\u001b[0m         \u001b[38;5;124m\"\u001b[39m\u001b[38;5;124myou can use builtins\u001b[39m\u001b[38;5;124m'\u001b[39m\u001b[38;5;124m open.\u001b[39m\u001b[38;5;124m\"\u001b[39m\n\u001b[1;32m    322\u001b[0m     )\n\u001b[0;32m--> 324\u001b[0m \u001b[38;5;28;01mreturn\u001b[39;00m \u001b[43mio_open\u001b[49m\u001b[43m(\u001b[49m\u001b[43mfile\u001b[49m\u001b[43m,\u001b[49m\u001b[43m \u001b[49m\u001b[38;5;241;43m*\u001b[39;49m\u001b[43margs\u001b[49m\u001b[43m,\u001b[49m\u001b[43m \u001b[49m\u001b[38;5;241;43m*\u001b[39;49m\u001b[38;5;241;43m*\u001b[39;49m\u001b[43mkwargs\u001b[49m\u001b[43m)\u001b[49m\n",
      "\u001b[0;31mFileNotFoundError\u001b[0m: [Errno 2] No such file or directory: 'demo_file.txt'"
     ]
    }
   ],
   "source": [
    "# Error: File Does not exist\n",
    "with open(\"demo_file.txt\", 'r') as f:\n",
    "    f.read()"
   ]
  },
  {
   "cell_type": "markdown",
   "id": "fefd2f75-2cc1-44bf-9cd3-5ae630ec860e",
   "metadata": {},
   "source": [
    "## Using Try...Except\n",
    "If an exception is raised within a try...except block, you can decide how you want to handle it. \n",
    "\n",
    "The code below traps all general errors."
   ]
  },
  {
   "cell_type": "markdown",
   "id": "b2b6add0-cf2d-4b4c-9e35-cd620f703c3d",
   "metadata": {},
   "source": [
    "### Using pass\n",
    "\n",
    "Pass is a ```null operator``` in Python. Empty code blocks are not valid in Python. To fill an empty Python block with a 'placeholder' or temporary value, use the ```pass``` statement."
   ]
  },
  {
   "cell_type": "code",
   "execution_count": 19,
   "id": "d1559e10-3672-4b40-ae91-7d17b23bd1d3",
   "metadata": {},
   "outputs": [
    {
     "name": "stdout",
     "output_type": "stream",
     "text": [
      "10.0\n",
      "5.0\n",
      "2.5\n",
      "1.6666666666666667\n"
     ]
    }
   ],
   "source": [
    "my_list = [1,0,2,4,0,6]\n",
    "\n",
    "for num in my_list:\n",
    "    try:\n",
    "        print(10/num)\n",
    "    except:\n",
    "        pass # null operator - no action is taken. Exception handling is operational. \n",
    "                # zero-division errors are ignored"
   ]
  },
  {
   "cell_type": "code",
   "execution_count": 14,
   "id": "35b21d10-a6a8-4b1d-b6dd-4fd30f4e546d",
   "metadata": {},
   "outputs": [
    {
     "name": "stdout",
     "output_type": "stream",
     "text": [
      "An exception was raised: [Errno 2] No such file or directory: 'does_not_exist.txt'\n",
      "An exception was raised: <built-in method with_traceback of FileNotFoundError object at 0x78814c9a86c0>\n"
     ]
    }
   ],
   "source": [
    "# Wrap error-prone code in try...except blocks\n",
    "try:\n",
    "    with open(\"does_not_exist.txt\", 'r') as f:\n",
    "        f.read()\n",
    "    print('line after open file')\n",
    "except Exception as e:\n",
    "    print(f\"An exception was raised: {e}\")\n",
    "    print(f\"An exception was raised: {e.with_traceback}\")\n",
    "    \n"
   ]
  },
  {
   "cell_type": "markdown",
   "id": "1fefb61e-5da5-4047-9250-584d9284e504",
   "metadata": {},
   "source": [
    "## Handling specific errors"
   ]
  },
  {
   "cell_type": "markdown",
   "id": "4fbcc4d1-dcc3-4f60-81f5-d461af82670b",
   "metadata": {},
   "source": [
    "The code below ONLY traps ```FileNotFoundError``` exceptions.\n",
    "\n",
    "What would happen if an exception other than ```FileNotFoundError``` was raised?"
   ]
  },
  {
   "cell_type": "code",
   "execution_count": 1,
   "id": "366dd9ca-6e77-495a-9a3d-67a317a4f0ea",
   "metadata": {},
   "outputs": [
    {
     "name": "stdout",
     "output_type": "stream",
     "text": [
      "File not found.\n"
     ]
    }
   ],
   "source": [
    "try:\n",
    "    with open(\"does_not_exist.txt\", 'r') as f:\n",
    "        f.read()\n",
    "    print('line after open file')\n",
    "except FileNotFoundError as e:\n",
    "    print(\"File not found.\")\n"
   ]
  },
  {
   "cell_type": "markdown",
   "id": "0b241e55-3fd3-4325-9bb0-f1b3c6ffa9ef",
   "metadata": {},
   "source": [
    "When handling multiple exceptions, sort your exception handling with the most specific at the top and the more general towards the bottom. Otherwise, the specific exceptions will never be caught.\n",
    "\n"
   ]
  },
  {
   "cell_type": "code",
   "execution_count": 36,
   "id": "7f8bf451-b3ca-481d-b67a-7efbf4074c28",
   "metadata": {},
   "outputs": [
    {
     "name": "stdout",
     "output_type": "stream",
     "text": [
      "Please input the correct path and file name.\n",
      " [Errno 2] No such file or directory: 'demofile.txt'\n"
     ]
    }
   ],
   "source": [
    "# Use as many except statements as needed\n",
    "try:\n",
    "    with open(\"demofile.txt\", 'r') as f:\n",
    "        f.read()\n",
    "    # newfile = myfile\n",
    "except FileNotFoundError as fnf:\n",
    "    print(\"Please input the correct path and file name.\\n\",fnf) # Help users understand how to resolve the error\n",
    "except NameError as e:\n",
    "    print(e)"
   ]
  },
  {
   "cell_type": "code",
   "execution_count": 17,
   "id": "7dcb2ce4-3fdf-4512-a4cd-02a3cbce7293",
   "metadata": {},
   "outputs": [
    {
     "name": "stdout",
     "output_type": "stream",
     "text": [
      "1\n",
      "ran without exception\n",
      "\n",
      "\"finally\" always runs, do logging here\n"
     ]
    }
   ],
   "source": [
    "my_list = [1,2,3]\n",
    "\n",
    "try:\n",
    "    print(my_list[0]) # No error. Else and Finally execute\n",
    "    \n",
    "    # 5/0 # Error, specific exception runs, else does not run, finally always runs\n",
    "    \n",
    "    # with open(\"notyourfile.txt\", 'r') as f:\n",
    "    #      text = f.read()\n",
    "    \n",
    "    # print(my_list[3])\n",
    "    \n",
    "    # print('hi')\n",
    "except FileNotFoundError as e:\n",
    "    print(\"File not found. Please check the file path and try again.\")\n",
    "except ZeroDivisionError as e:\n",
    "    print(\"Attempting to divide by zero!\")\n",
    "except Exception as e:\n",
    "    print(\"all other errors caught here:\", e)\n",
    "else:\n",
    "    print(\"ran without exception\")\n",
    "finally:\n",
    "    print('\\n\"finally\" always runs, do logging here')\n"
   ]
  },
  {
   "cell_type": "markdown",
   "id": "6514c827-4d30-4225-a4fa-154d2b9fc91a",
   "metadata": {},
   "source": []
  },
  {
   "cell_type": "code",
   "execution_count": 25,
   "id": "89a18001-f2aa-4c0b-b4c0-897e8d4beaea",
   "metadata": {},
   "outputs": [
    {
     "name": "stdout",
     "output_type": "stream",
     "text": [
      "An error occurred:\n",
      "\t<built-in method with_traceback of ZeroDivisionError object at 0x78814c8905e0>\n",
      "\n",
      "\"finally\" always runs, do logging here\n"
     ]
    }
   ],
   "source": [
    "my_list = [1,2,3]\n",
    "\n",
    "try:\n",
    "    # print(my_list[0]) # No error. Else and Finally execute\n",
    "\n",
    "    # my_list = bad_var\n",
    "    \n",
    "    5/0 # Error, specific exception runs, else does not run, finally always runs\n",
    "    \n",
    "    # with open(\"notyourfile.txt\", 'r') as f:\n",
    "    #      text = f.read()\n",
    "    \n",
    "    # print(my_list[3])\n",
    "    \n",
    "    # print('hi')\n",
    "except (FileNotFoundError, ZeroDivisionError, NameError) as e:\n",
    "    print(f\"An error occurred:\\n\\t{e.with_traceback}\")\n",
    "except Exception as e:\n",
    "    print(\"all other errors caught here:\", e)\n",
    "else:\n",
    "    print(\"ran without exception\")\n",
    "finally:\n",
    "    print('\\n\"finally\" always runs, do logging here')\n"
   ]
  },
  {
   "cell_type": "markdown",
   "id": "4e20496d-9041-47c3-ad9d-54a88db71461",
   "metadata": {},
   "source": [
    "## Using Else and Finally\n",
    "Use the ```else``` clause to run code if NO errors are thrown.\n",
    "Code in the ```finally``` block always runs--irrespective of whether an exception was caught. Use ```finally``` to do clean-up, close files, write data to disk, etc."
   ]
  },
  {
   "cell_type": "code",
   "execution_count": 40,
   "id": "13fe2b53-6f8c-48a4-b6ec-10dbae028baa",
   "metadata": {},
   "outputs": [
    {
     "name": "stdout",
     "output_type": "stream",
     "text": [
      "[Errno 2] No such file or directory: 'demofile.txt' \n",
      "\n",
      "Please input the correct path and file name.\n",
      "\n",
      "Opening file process completed.\n",
      "\n"
     ]
    }
   ],
   "source": [
    "try:\n",
    "    with open(\"demofile.txt\", 'r') as f:\n",
    "        f.read()\n",
    "    newfile = \"\"\n",
    "except FileNotFoundError as e:\n",
    "    # Help users understand how to resolve the error\n",
    "    print(e, \"\\n\\nPlease input the correct path and file name.\\n\") \n",
    "except NameError as e:\n",
    "    print(e)\n",
    "else:\n",
    "    print(\"No exceptions thrown.\\n\")\n",
    "finally:\n",
    "    print(\"Opening file process completed.\\n\")"
   ]
  },
  {
   "cell_type": "code",
   "execution_count": 7,
   "id": "414d6fe7-dc6e-4470-b902-1c1183c2658b",
   "metadata": {},
   "outputs": [
    {
     "ename": "TypeError",
     "evalue": "Only integers are allowed",
     "output_type": "error",
     "traceback": [
      "\u001b[0;31m---------------------------------------------------------------------------\u001b[0m",
      "\u001b[0;31mTypeError\u001b[0m                                 Traceback (most recent call last)",
      "Cell \u001b[0;32mIn[7], line 6\u001b[0m\n\u001b[1;32m      3\u001b[0m x \u001b[38;5;241m=\u001b[39m \u001b[38;5;124m\"\u001b[39m\u001b[38;5;124mhello\u001b[39m\u001b[38;5;124m\"\u001b[39m\n\u001b[1;32m      5\u001b[0m \u001b[38;5;28;01mif\u001b[39;00m \u001b[38;5;129;01mnot\u001b[39;00m \u001b[38;5;28mtype\u001b[39m(x) \u001b[38;5;129;01mis\u001b[39;00m \u001b[38;5;28mint\u001b[39m:\n\u001b[0;32m----> 6\u001b[0m     \u001b[38;5;28;01mraise\u001b[39;00m \u001b[38;5;167;01mTypeError\u001b[39;00m(\u001b[38;5;124m\"\u001b[39m\u001b[38;5;124mOnly integers are allowed\u001b[39m\u001b[38;5;124m\"\u001b[39m) \n",
      "\u001b[0;31mTypeError\u001b[0m: Only integers are allowed"
     ]
    }
   ],
   "source": [
    "# You can also raise errors manually (outside try-except)\n",
    "\n",
    "x = \"hello\"\n",
    "\n",
    "if not type(x) is int:\n",
    "    raise TypeError(\"Only integers are allowed\") "
   ]
  },
  {
   "cell_type": "markdown",
   "id": "02f9b024-57fe-407a-ae6c-9b0b39a49c8f",
   "metadata": {},
   "source": [
    "# Raising Exceptions\n",
    "Use ```raise`` to create custom exceptions. For example, your code may demand that only an integer be provided for a specific function. \n",
    "\n",
    "Get the type of the variable and if it is not an integer, raise an exception and inform the user."
   ]
  },
  {
   "cell_type": "code",
   "execution_count": 8,
   "id": "2fba5106-2458-43ae-bd2a-67903f9fbf2d",
   "metadata": {},
   "outputs": [
    {
     "name": "stdout",
     "output_type": "stream",
     "text": [
      "Only integers are allowed\n"
     ]
    }
   ],
   "source": [
    "# Manually raising an error inside try..except\n",
    "try:\n",
    "    if not type(x) is int:\n",
    "        raise TypeError(\"Only integers are allowed\") \n",
    "except Exception as e:\n",
    "    print(e)"
   ]
  },
  {
   "cell_type": "markdown",
   "id": "800de310-fd94-4664-b244-83df8ac2ec43",
   "metadata": {},
   "source": [
    "# Making Assertions\n",
    "Use the ```AssertionError``` exception to verify that certain conditions are being met and to take action if they are not met."
   ]
  },
  {
   "cell_type": "code",
   "execution_count": 9,
   "id": "f37fdaca-a5e5-4460-8aaa-c83d51b6c5b3",
   "metadata": {},
   "outputs": [
    {
     "name": "stdout",
     "output_type": "stream",
     "text": [
      "This program only runs on Windows and Mac operating systems.\n"
     ]
    }
   ],
   "source": [
    "import sys\n",
    "\n",
    "current_os = sys.platform\n",
    "\n",
    "# MacOS = 'darwin'\n",
    "acceptable_os = ['win32','darwin']\n",
    "\n",
    "try:\n",
    "    assert(current_os in acceptable_os)\n",
    "except AssertionError:\n",
    "    print(f\"This program only runs on Windows and Mac operating systems.\")"
   ]
  },
  {
   "cell_type": "code",
   "execution_count": null,
   "id": "f249f297-6d56-426e-b32c-29ae213615b6",
   "metadata": {},
   "outputs": [],
   "source": []
  }
 ],
 "metadata": {
  "kernelspec": {
   "display_name": "Python 3 (ipykernel)",
   "language": "python",
   "name": "python3"
  },
  "language_info": {
   "codemirror_mode": {
    "name": "ipython",
    "version": 3
   },
   "file_extension": ".py",
   "mimetype": "text/x-python",
   "name": "python",
   "nbconvert_exporter": "python",
   "pygments_lexer": "ipython3",
   "version": "3.12.2"
  }
 },
 "nbformat": 4,
 "nbformat_minor": 5
}
