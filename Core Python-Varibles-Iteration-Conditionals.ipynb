{
 "cells": [
  {
   "cell_type": "markdown",
   "metadata": {
    "toc-nb-collapsed": true
   },
   "source": [
    "# Python Fundamentals\n",
    "\n",
    "Prepared by:**Gregory** J. Bott, Ph.D.\n",
    "(Sources: Dr. Nick Freeman, Python for Everyone, Charles Severance; A Whirlwind Tour of Python, Jake Vanderplas)"
   ]
  },
  {
   "cell_type": "markdown",
   "metadata": {},
   "source": [
    "## Why should a business student learn Python?\n",
    "\n",
    "Information is the lifeblood of <del>nearly</del> every organization. The purpose of this notebook is the help business students master the fundamental concepts and skills required to effectively use Python. Python skills are in high demand. One reason for this demand is Python's ability to efficiently acquire, manipulate, analyze and visual data. However, prior to performing data analytic tasks, business students must learn the fundamentals."
   ]
  },
  {
   "cell_type": "markdown",
   "metadata": {},
   "source": [
    "## Data Analysis is Part of *Every* Job\n",
    "It's not just data scientists or data analytics that need analysis skills. Nearly every job intersects with data. It's highly likely that even if your job doesn't have \"analyst\" or \"scientst\" in the title, you'll still benefit from understanding how to acquire, handle, manipulate, and report data.\n",
    "\n",
    "> ### Deloitte: \"...skills that were highly appreciated in Deloitte and projects were Java, Python/R...\"\n"
   ]
  },
  {
   "cell_type": "markdown",
   "metadata": {},
   "source": [
    "## Python skills are in high demand\n",
    "\n",
    "2021 Developer Survey by StackOverflow\n",
    "\n",
    "![](./images/MostWantedLanguages.jpg)"
   ]
  },
  {
   "cell_type": "markdown",
   "metadata": {
    "toc-hr-collapsed": false
   },
   "source": [
    "## Programming Teaches Problem solving\n",
    "\n",
    "The ability to think critically and solve problems is a general life skill. Proble solving applies to the all facets of life. In this course you'll learn Python syntax and structures, but more importantly you'll learn to abstract a problem and code a solution. "
   ]
  },
  {
   "cell_type": "markdown",
   "metadata": {},
   "source": [
    "## Python is the new Excel\n",
    "Business rightly assume that you have solid Excel skills. However, the new expectation is that you already possess the skills necessary to handle data acquisition, analysis, and visualization. And alothough this can arguably still be done in Excel, Python's tools and libraries are exponentially more efficient. \n",
    "\n",
    "Python is the new Excel. (see https://www.fincad.com/blog/python-new-excel)"
   ]
  },
  {
   "cell_type": "markdown",
   "metadata": {
    "toc-hr-collapsed": false
   },
   "source": [
    "## About the Python language\n",
    "(Sources: Wikipedia, Dr. Nickolas K. Freeman)\n",
    "\n",
    ">Python is an interpreted high-level programming language for general-purpose programming. Created by Guido van Rossum and first released in 1991, Python has a design philosophy that emphasizes code readability, and a syntax that allows programmers to express concepts in fewer lines of code, notably using significant whitespace. It provides constructs that enable clear programming on both small and large scales.\n",
    "\n",
    ">Python is a multi-paradigm programming language. Object-oriented programming and structured programming are fully supported, and many of its features support functional programming and aspect-oriented programming (including by metaprogramming and metaobjects (magic methods)). Many other paradigms are supported via extensions, including design by contract and logic programming.\n",
    "\n",
    ">The language's core philosophy is summarized in the document The Zen of Python (PEP 20), which includes aphorisms such as:\n",
    "\n",
    "> - Beautiful is better than ugly\n",
    "> - Explicit is better than implicit\n",
    "> - Simple is better than complex\n",
    "> - Complex is better than complicated\n",
    "> - Readability counts\n",
    "\n",
    "> Rather than having all of its functionality built into its core, Python was designed to be highly extensible. This compact modularity has made it particularly popular as a means of adding programmable interfaces to existing applications. Van Rossum's vision of a small core language with a large standard library and easily extensible interpreter stemmed from his frustrations with ABC, another programming language that espoused the opposite approach.\n",
    "\n",
    "> While offering choice in coding methodology, the Python philosophy rejects exuberant syntax (such as that of Perl) in favor of a simpler, less-cluttered grammar. As Alex Martelli put it: \"To describe something as 'clever' is not considered a compliment in the Python culture.\" Python's philosophy rejects the Perl \"there is more than one way to do it\" approach to language design in favor of \"there should be one—and preferably only one—obvious way to do it\".\n",
    "\n",
    ">Python's developers strive to avoid premature optimization, and reject patches to non-critical parts of CPython that would offer marginal increases in speed at the cost of clarity. When speed is important, a Python programmer can move time-critical functions to extension modules written in languages such as C, or use PyPy, a just-in-time compiler. Cython is also available, which translates a Python script into C and makes direct C-level API calls into the Python interpreter.\n",
    "\n",
    ">An important goal of Python's developers is keeping it fun to use. This is reflected in the language's name—a tribute to the British comedy group Monty Python—and in occasionally playful approaches to tutorials and reference materials, such as examples that refer to spam and eggs (from a famous Monty Python sketch) instead of the standard foo and bar.\n",
    "\n",
    ">A common neologism in the Python community is *pythonic*, which can have a wide range of meanings related to program style. To say that code is pythonic is to say that it uses Python idioms well, that it is natural or shows fluency in the language, that it conforms with Python's minimalist philosophy and emphasis on readability. In contrast, code that is difficult to understand or reads like a rough transcription from another programming language is called unpythonic.\n",
    "\n",
    ">Users and admirers of Python, especially those considered knowledgeable or experienced, are often referred to as Pythonists, Pythonistas, and Pythoneers\n",
    "# What is a Program?\n",
    "\n",
    "> ## A program is a sequence of instructions that specified how to perform a computation. \n",
    "\n",
    "## Building Blocks of Nearly Every Language\n",
    "* **input** - get data--from user via keyboard, from sensors, from other programs, from databases, etc.\n",
    "* **output** - display results in the console on the screen, on paper, to another program, a web page, etc.\n",
    "* **math** - perform mathematical operations (addition, multiplication, etc.)\n",
    "* **conditional execution** - check for certain values or states and run the appropriate code\n",
    "* **repetition** - repeatedly perform some action a certain number of times"
   ]
  },
  {
   "cell_type": "markdown",
   "metadata": {},
   "source": [
    "### Python is interpreted, not compiled.\n",
    "Programming languages generally fall into one of two categories: Compiled or Interpreted. With a compiled language, code you enter is reduced to a set of machine-specific instructions before being saved as an executable file. With interpreted languages, the code is saved in the same format that you entered. Compiled programs generally run faster than interpreted ones because interpreted programs must be reduced to machine instructions at runtime. However, with an interpreted language you can do things that cannot be done in a compiled language. For example, interpreted programs can modify themselves by adding or changing functions at runtime. It is also usually easier to develop applications in an interpreted environment because you don't have to recompile your application each time you want to test a small section. (source: http://www.vanguardsw.com/dphelp4/dph00296.htm)\n",
    "<br>\n",
    "\n",
    "![image](images/python_interpreted.png)\n"
   ]
  },
  {
   "cell_type": "markdown",
   "metadata": {
    "tags": [],
    "toc-hr-collapsed": true,
    "toc-nb-collapsed": true
   },
   "source": [
    "# Setting Up Your Environment and Getting Started\n",
    "<a id=\"Setting_up_your_environment\"> </a>\n",
    "\n"
   ]
  },
  {
   "cell_type": "markdown",
   "metadata": {},
   "source": [
    "## Installing Anaconda\n",
    "Anaconda is a free and open-source distribution of the Python and R programming languages for scientific computing that aims to simplify package management and deployment. Package versions are managed by the package management system conda. (source: Wikipedia) The Spyder IDE is one of packages included in Anaconda.\n",
    "\n",
    "**Miniconda** provides the Python interpreter and the conda package manager. If you don't want the preinstalled packages that come with Anaconda, you can install Miniconda and install the packages you want yourself.\n"
   ]
  },
  {
   "cell_type": "markdown",
   "metadata": {},
   "source": [
    "## Starting Jupyter Lab\n",
    "\n",
    "If you wish to control the starting folder (home folder) of Jupyter Lab, then following these instructions.\n",
    "\n",
    "1. Open Anaconda Prompt\n",
    "2. Navigate to starting folder (e.g., cd G:).\n",
    "3. Type ```jupyter lab``` and press ENTER\n",
    "   > <b>Note: The Home Folder is the starting folder of the Anaconda prompt.</b>"
   ]
  },
  {
   "cell_type": "markdown",
   "metadata": {},
   "source": [
    "## Choosing a Python IDE\n",
    "\n",
    "### Jupyter Notebook and Jupyter Lab\n",
    "Jupyer Notebook and Lab are the best IDEs for learning and documenting Python code. They are also a solid method to provide Python code and results to non-Python programmers. We will make extensive use of Jupyter Lab in this course.\n",
    "\n",
    "### Spyder\n",
    "Spyder is a simple IDE that is useful for learning Python. It is included with the install of Anaconda and supported in this course. You may find Spyder the best choice for completing assignments. If an automatic grading environment is being used, you may find it faster to write, debug, and test code in Spyder and then paste it into the automatic grading environment.\n",
    "\n",
    "### VS Code\n",
    "Visual Studio Code is also available with Anaconda, though it is not installed by default. VS Code is perhaps the best overall choice for an IDE, however, Spyder offers a more straightforward initial user experience for the beginner. \n",
    "\n",
    "### Sublime Text\n",
    "A highly functional and extensible text editor often used by Pythonistas.\n",
    "\n",
    "### PyCharm\n",
    "If you would like an IDE with a deep feature set, Pycharm is a good choice. They offer special licensing for academia.\n",
    "\n",
    "You are welcome to use any of these IDEs for this class. You are also welcome to use a different IDE, but we cannot support all IDEs, so if you choose an IDE besides these two, we'll give you best effort support, but you may be on your own making a different IDE work."
   ]
  },
  {
   "cell_type": "markdown",
   "metadata": {},
   "source": [
    "## Notebook Basics\n",
    "\n",
    "As with any tool in your professional arsenal, you should be intimately acquainted with the IDE (Jupyter Lab in our case) features and functions.\n",
    "\n",
    "Some of the Jupyter Lab concepts with which you should be familiar include:\n",
    "* Command vs edit mode within a notebook\n",
    "* Differences between cell types\n",
    "* The selection and role of the kernel, restarting the kernel\n",
    "* Running a cell, an entire notebook, or a group of cells\n",
    "* Navigating, cuting, pasting, joining and separating cells\n",
    "* Common notebook keyboard shortcuts (creating, deleting, cut/copy/paste, join, split, show line numbers, etc.)\n",
    "* Locating the notebook in the file system and accessing data from the file system\n",
    "* Clear one cell output, clear all output\n",
    "* Use a console within a notebook\n",
    "* Check for package and version using console and grep"
   ]
  },
  {
   "cell_type": "markdown",
   "metadata": {},
   "source": [
    "## Python Coding basics\n"
   ]
  },
  {
   "cell_type": "markdown",
   "metadata": {},
   "source": [
    "### Python is case-sensitive\n",
    "Most components in Python are case-sensitive (e.g., statements, variable names, file names, etc.). Windows is generally case-insensitive."
   ]
  },
  {
   "cell_type": "code",
   "execution_count": 2,
   "metadata": {},
   "outputs": [
    {
     "name": "stdout",
     "output_type": "stream",
     "text": [
      "1\n"
     ]
    },
    {
     "ename": "NameError",
     "evalue": "name 'myvar' is not defined",
     "output_type": "error",
     "traceback": [
      "\u001b[1;31m---------------------------------------------------------------------------\u001b[0m",
      "\u001b[1;31mNameError\u001b[0m                                 Traceback (most recent call last)",
      "\u001b[1;32m<ipython-input-2-4c6fde38b95c>\u001b[0m in \u001b[0;36m<module>\u001b[1;34m\u001b[0m\n\u001b[0;32m      2\u001b[0m \u001b[0mMyVar\u001b[0m \u001b[1;33m=\u001b[0m \u001b[1;36m1\u001b[0m\u001b[1;33m\u001b[0m\u001b[1;33m\u001b[0m\u001b[0m\n\u001b[0;32m      3\u001b[0m \u001b[0mprint\u001b[0m\u001b[1;33m(\u001b[0m\u001b[0mMyVar\u001b[0m\u001b[1;33m)\u001b[0m\u001b[1;33m\u001b[0m\u001b[1;33m\u001b[0m\u001b[0m\n\u001b[1;32m----> 4\u001b[1;33m \u001b[0mprint\u001b[0m\u001b[1;33m(\u001b[0m\u001b[0mmyvar\u001b[0m\u001b[1;33m)\u001b[0m\u001b[1;33m\u001b[0m\u001b[1;33m\u001b[0m\u001b[0m\n\u001b[0m",
      "\u001b[1;31mNameError\u001b[0m: name 'myvar' is not defined"
     ]
    }
   ],
   "source": [
    "# ERROR: 'myvar' is not defined (case problem)\n",
    "MyVar = 1\n",
    "print(MyVar)\n",
    "print(myvar)"
   ]
  },
  {
   "cell_type": "markdown",
   "metadata": {},
   "source": [
    "### Use proper indentation\n",
    "White space in many languages has little or no meaning. However, using Python, improper indentation will generate a syntax error:"
   ]
  },
  {
   "cell_type": "code",
   "execution_count": 7,
   "metadata": {},
   "outputs": [
    {
     "name": "stdout",
     "output_type": "stream",
     "text": [
      "4 is greater than 1\n",
      "hi\n"
     ]
    }
   ],
   "source": [
    "# Error: statements following an if statement must be indented.\n",
    "if 4 > 1:\n",
    "    print(\"4 is greater than 1\")\n",
    "    print(\"hi\")"
   ]
  },
  {
   "cell_type": "markdown",
   "metadata": {},
   "source": [
    "### Comment your code\n",
    "\n",
    "Make a habit of clearly commenting your code...even if the purpose of the code seems obvious. Even for code you have written yourself, it is often difficult to remember why you chose to implement something in a specific way. \n",
    "\n",
    "Start a comment using the hash (#) symbol "
   ]
  },
  {
   "cell_type": "markdown",
   "metadata": {},
   "source": [
    "### Printing values\n",
    "You will often print output. The print() function is versatile."
   ]
  },
  {
   "cell_type": "code",
   "execution_count": 18,
   "metadata": {},
   "outputs": [
    {
     "name": "stdout",
     "output_type": "stream",
     "text": [
      "Hello, world!\n",
      "North South East West\n",
      "North--South--East--West\n",
      "This is the first line. Also on same line.\n",
      "apple\n",
      "fuit: apple\n"
     ]
    }
   ],
   "source": [
    "# Basic usage\n",
    "print(\"Hello, world!\")\n",
    "\n",
    "# Print items separated by commas (default separator is a space ' ')\n",
    "print('North','South','East','West')\n",
    "\n",
    "# You can specify the seprator\n",
    "print('North','South','East','West', sep='--')\n",
    "\n",
    "# Default end is a new line (\\n), you may change that also\n",
    "print(\"This is the first line. \", end='')\n",
    "print(\"Also on same line.\")\n",
    "\n",
    "# Print variable and concatenate\n",
    "x = 'apple'\n",
    "print(x)\n",
    "print('fuit: ' + x)"
   ]
  },
  {
   "cell_type": "markdown",
   "metadata": {
    "tags": [],
    "toc-nb-collapsed": true
   },
   "source": [
    "# Variables, Expressions, and Types\n",
    "\n",
    "Python is a *dynamically typed* language. A programming language is said to be dynamically typed, or just 'dynamic', when the majority of its type checking is performed at run-time as opposed to at compile-time.\n",
    "\n",
    "Python is also *strongly typed* as the interpreter keeps track of all variables types. Again, it's also very dynamic as it rarely uses what it knows to limit variable usage. In Python, it's the program's responsibility to use built-in functions like isinstance() and issubclass() to test variable types and correct usage. Python tries to stay out of your way while giving you all you need to implement strong type checking.\n",
    "\n",
    "The difference between a strongly typed language and a weakly typed language is basically that a strongly typed language checks the type of a variable before performing an operation on it, whereas a weakly typed language does not.\n",
    "[Source: Wiki.Python.org](https://wiki.python.org/moin/Why%20is%20Python%20a%20dynamic%20language%20and%20also%20a%20strongly%20typed%20language)"
   ]
  },
  {
   "cell_type": "code",
   "execution_count": 8,
   "metadata": {},
   "outputs": [
    {
     "name": "stdout",
     "output_type": "stream",
     "text": [
      "3.141 <class 'float'>\n"
     ]
    }
   ],
   "source": [
    "#Store a float in the variable a\n",
    "a = 3.141\n",
    "print(a, type(a))"
   ]
  },
  {
   "cell_type": "code",
   "execution_count": 5,
   "metadata": {},
   "outputs": [
    {
     "name": "stdout",
     "output_type": "stream",
     "text": [
      "['apple', 3.141, 'banana'] <class 'list'>\n"
     ]
    }
   ],
   "source": [
    "#Store a list in a\n",
    "a = [\"apple\", 3.141, \"banana\"]\n",
    "print(a, type(a))"
   ]
  },
  {
   "cell_type": "code",
   "execution_count": null,
   "metadata": {},
   "outputs": [],
   "source": [
    "#Store a string in a\n",
    "a = \"apple\"\n",
    "print(a, type(a))"
   ]
  },
  {
   "cell_type": "markdown",
   "metadata": {
    "toc-hr-collapsed": true,
    "toc-nb-collapsed": true
   },
   "source": [
    "## Variables in Python\n",
    "Variables store values. Variable names can be as long as you want, can contain letters and numbers, but must not begin with a number or be a Python keyword (e.g., true, for, from, lambda).\n",
    "\n",
    "> **Python is case-sensitive.** unit_cost is not the same as Unit_cost. \n",
    "\n",
    "By convention variable names are lower case and use the underscore character to separate words. \n",
    "\n",
    "earnings_after_tax <br>\n",
    "default_gateway"
   ]
  },
  {
   "cell_type": "code",
   "execution_count": 12,
   "metadata": {},
   "outputs": [
    {
     "ename": "NameError",
     "evalue": "name 'fruit' is not defined",
     "output_type": "error",
     "traceback": [
      "\u001b[0;31m---------------------------------------------------------------------------\u001b[0m",
      "\u001b[0;31mNameError\u001b[0m                                 Traceback (most recent call last)",
      "\u001b[0;32m<ipython-input-12-b8b498e61bb1>\u001b[0m in \u001b[0;36m<module>\u001b[0;34m\u001b[0m\n\u001b[1;32m      1\u001b[0m \u001b[0;31m# Variables are case-sensitive --> Error\u001b[0m\u001b[0;34m\u001b[0m\u001b[0;34m\u001b[0m\u001b[0;34m\u001b[0m\u001b[0m\n\u001b[1;32m      2\u001b[0m \u001b[0mFruit\u001b[0m \u001b[0;34m=\u001b[0m \u001b[0;34m\"apple\"\u001b[0m\u001b[0;34m\u001b[0m\u001b[0;34m\u001b[0m\u001b[0m\n\u001b[0;32m----> 3\u001b[0;31m \u001b[0mprint\u001b[0m\u001b[0;34m(\u001b[0m\u001b[0mfruit\u001b[0m\u001b[0;34m)\u001b[0m\u001b[0;34m\u001b[0m\u001b[0;34m\u001b[0m\u001b[0m\n\u001b[0m",
      "\u001b[0;31mNameError\u001b[0m: name 'fruit' is not defined"
     ]
    }
   ],
   "source": [
    "# Variables are case-sensitive --> Error\n",
    "Fruit = \"apple\"\n",
    "print(fruit)"
   ]
  },
  {
   "cell_type": "code",
   "execution_count": 13,
   "metadata": {},
   "outputs": [
    {
     "ename": "SyntaxError",
     "evalue": "invalid syntax (<ipython-input-13-563647a99aea>, line 2)",
     "output_type": "error",
     "traceback": [
      "\u001b[0;36m  File \u001b[0;32m\"<ipython-input-13-563647a99aea>\"\u001b[0;36m, line \u001b[0;32m2\u001b[0m\n\u001b[0;31m    76trombones = 0\u001b[0m\n\u001b[0m      ^\u001b[0m\n\u001b[0;31mSyntaxError\u001b[0m\u001b[0;31m:\u001b[0m invalid syntax\n"
     ]
    }
   ],
   "source": [
    "# illegal -- must not start with a number\n",
    "76trombones = 0"
   ]
  },
  {
   "cell_type": "code",
   "execution_count": 14,
   "metadata": {},
   "outputs": [],
   "source": [
    "although_difficult_to_use_this_is_a_valid_variable = 1"
   ]
  },
  {
   "cell_type": "markdown",
   "metadata": {
    "toc-hr-collapsed": true,
    "toc-nb-collapsed": true
   },
   "source": [
    "## Using Variables to Store User Input\n",
    "\n",
    "Use variables to store input from users. To get input from the user Python provides a built-in function **input** that captures input from keyboard as a string."
   ]
  },
  {
   "cell_type": "code",
   "execution_count": 23,
   "metadata": {},
   "outputs": [
    {
     "name": "stdout",
     "output_type": "stream",
     "text": [
      "Card total? 22\n",
      "CardTotal type is: 22.\n"
     ]
    }
   ],
   "source": [
    "# Get card total from user and store in CardTotal \n",
    "card_total = input(\"Card total?\")\n",
    "print(f\"CardTotal type is: {card_total}.\")"
   ]
  },
  {
   "cell_type": "markdown",
   "metadata": {},
   "source": [
    "### input() function\n",
    "Used to get data from the user. Always returns a string, so you must cast if you are working with numbers."
   ]
  },
  {
   "cell_type": "code",
   "execution_count": 24,
   "metadata": {},
   "outputs": [
    {
     "data": {
      "text/plain": [
       "str"
      ]
     },
     "execution_count": 24,
     "metadata": {},
     "output_type": "execute_result"
    }
   ],
   "source": [
    "type(card_total)"
   ]
  },
  {
   "cell_type": "code",
   "execution_count": 25,
   "metadata": {},
   "outputs": [
    {
     "ename": "TypeError",
     "evalue": "'>' not supported between instances of 'str' and 'int'",
     "output_type": "error",
     "traceback": [
      "\u001b[0;31m---------------------------------------------------------------------------\u001b[0m",
      "\u001b[0;31mTypeError\u001b[0m                                 Traceback (most recent call last)",
      "\u001b[0;32m<ipython-input-25-9cc9558f4309>\u001b[0m in \u001b[0;36m<module>\u001b[0;34m\u001b[0m\n\u001b[1;32m      1\u001b[0m \u001b[0;31m# Error -- CardTotal is str\u001b[0m\u001b[0;34m\u001b[0m\u001b[0;34m\u001b[0m\u001b[0;34m\u001b[0m\u001b[0m\n\u001b[0;32m----> 2\u001b[0;31m \u001b[0;32mif\u001b[0m \u001b[0mcard_total\u001b[0m \u001b[0;34m>\u001b[0m \u001b[0;36m21\u001b[0m\u001b[0;34m:\u001b[0m\u001b[0;34m\u001b[0m\u001b[0;34m\u001b[0m\u001b[0m\n\u001b[0m\u001b[1;32m      3\u001b[0m     \u001b[0mprint\u001b[0m\u001b[0;34m(\u001b[0m\u001b[0;34m\"Busted\"\u001b[0m\u001b[0;34m)\u001b[0m\u001b[0;34m\u001b[0m\u001b[0;34m\u001b[0m\u001b[0m\n\u001b[1;32m      4\u001b[0m \u001b[0;32melse\u001b[0m\u001b[0;34m:\u001b[0m\u001b[0;34m\u001b[0m\u001b[0;34m\u001b[0m\u001b[0m\n\u001b[1;32m      5\u001b[0m     \u001b[0mprint\u001b[0m\u001b[0;34m(\u001b[0m\u001b[0;34m\"Hit me\"\u001b[0m\u001b[0;34m)\u001b[0m\u001b[0;34m\u001b[0m\u001b[0;34m\u001b[0m\u001b[0m\n",
      "\u001b[0;31mTypeError\u001b[0m: '>' not supported between instances of 'str' and 'int'"
     ]
    }
   ],
   "source": [
    "# Error -- CardTotal is str\n",
    "if card_total > 21:\n",
    "    print(\"Busted\")\n",
    "else:\n",
    "    print(\"Hit me\")"
   ]
  },
  {
   "cell_type": "markdown",
   "metadata": {},
   "source": [
    "### Comparison operators\n",
    "\n",
    "You are probably already familiar with the comparison operators.\n",
    "* x and y are variable names\n",
    "```Python\n",
    "x > y\n",
    "x >= y\n",
    "x < y\n",
    "x <= y\n",
    "x == y # Use double-equal to test for equality (single equal sign is for assignment), True if x is same as y\n",
    "x != y # test for inequality, True if x is different than y\n",
    "```"
   ]
  },
  {
   "cell_type": "code",
   "execution_count": 26,
   "metadata": {},
   "outputs": [
    {
     "name": "stdout",
     "output_type": "stream",
     "text": [
      "Busted\n"
     ]
    }
   ],
   "source": [
    "# Must cast to appropriate value type (int)\n",
    "if int(card_total) > 21:\n",
    "    print(\"Busted\")\n",
    "else:\n",
    "    print(\"Hit me\")"
   ]
  },
  {
   "cell_type": "code",
   "execution_count": 29,
   "metadata": {},
   "outputs": [
    {
     "name": "stdout",
     "output_type": "stream",
     "text": [
      "Hello||how are you?||22\n"
     ]
    }
   ],
   "source": [
    "print(\"Hello\", \"how are you?\", card_total, sep=\"||\") "
   ]
  },
  {
   "cell_type": "markdown",
   "metadata": {
    "toc-hr-collapsed": true,
    "toc-nb-collapsed": true
   },
   "source": [
    "## Basic Data Types in Python\n",
    "\n",
    "### Integers\n",
    "---\n",
    "A number with no fractional part. \n",
    "\n",
    "![image](./images/int-number-line.svg)\n",
    "\n",
    "#### Includes: \n",
    "* the counting numbers {1, 2, 3, ...}, \n",
    "* zero {0}, \n",
    "* and the negative of the counting numbers {-1, -2, -3, ...}\n",
    "\n",
    "We can write them all down like this: {..., -3, -2, -1, 0, 1, 2, 3, ...}\n",
    "\n",
    "Examples of integers: -16, -3, 0, 1, 198\n",
    "\n",
    "Integer size is limited only by your machine."
   ]
  },
  {
   "cell_type": "code",
   "execution_count": 30,
   "metadata": {},
   "outputs": [
    {
     "name": "stdout",
     "output_type": "stream",
     "text": [
      "1234568901234568901234568901234568901234564568901234568901234568901234568901234568901234568901234568901\n",
      "<class 'int'>\n"
     ]
    }
   ],
   "source": [
    "bigInt = 1234568901234568901234568901234568901234564568901234568901234568901234568901234568901234568901234568900\n",
    "\n",
    "print(bigInt + 1)\n",
    "\n",
    "print(type(bigInt))"
   ]
  },
  {
   "cell_type": "markdown",
   "metadata": {},
   "source": [
    "### Float type\n",
    "* Platform dependent\n",
    "* Typically equivalent to IEEE754 64-bit C double\n",
    "* Smallest float is effectively 2.225 x 10^-308"
   ]
  },
  {
   "cell_type": "code",
   "execution_count": 31,
   "metadata": {},
   "outputs": [
    {
     "data": {
      "text/plain": [
       "float"
      ]
     },
     "execution_count": 31,
     "metadata": {},
     "output_type": "execute_result"
    }
   ],
   "source": [
    "type(1.0)"
   ]
  },
  {
   "cell_type": "code",
   "execution_count": 32,
   "metadata": {},
   "outputs": [
    {
     "name": "stdout",
     "output_type": "stream",
     "text": [
      "b = 2 and is type <class 'int'>\n"
     ]
    }
   ],
   "source": [
    "b = 2\n",
    "\n",
    "print(\"b = {} and is type {}\".format(b, type(b)))"
   ]
  },
  {
   "cell_type": "code",
   "execution_count": 33,
   "metadata": {},
   "outputs": [
    {
     "name": "stdout",
     "output_type": "stream",
     "text": [
      "b = 2.2 and is type <class 'float'>\n"
     ]
    }
   ],
   "source": [
    "b = 2 * 1.1\n",
    "\n",
    "print(\"b = {} and is type {}\".format(b, type(b)))"
   ]
  },
  {
   "cell_type": "markdown",
   "metadata": {},
   "source": [
    "### Boolean type\n",
    "---"
   ]
  },
  {
   "cell_type": "markdown",
   "metadata": {},
   "source": [
    "What evaluates to `True`?\n",
    "* Non-zero values\n",
    "* Non-empty data structures (lists, dicts, tuples)\n",
    "* Non-empty strings\n",
    "\n",
    "What evaluates to `False`?\n",
    "* Zero\n",
    "* Empty data structures\n",
    "* Empty strings\n",
    "* NoneType values (aka `None`)"
   ]
  },
  {
   "cell_type": "code",
   "execution_count": 11,
   "metadata": {
    "tags": []
   },
   "outputs": [
    {
     "name": "stdout",
     "output_type": "stream",
     "text": [
      "False, False, False, False, False, False\n"
     ]
    }
   ],
   "source": [
    "false_values = [0, '', None, [], {}]\n",
    "\n",
    "for val in false_values:\n",
    "    print(bool(val), end=\", \")"
   ]
  },
  {
   "cell_type": "code",
   "execution_count": 38,
   "metadata": {},
   "outputs": [
    {
     "name": "stdout",
     "output_type": "stream",
     "text": [
      "Full-time\n"
     ]
    }
   ],
   "source": [
    "# Error = the boolean value must be capitalized (True, not true or TRUE)\n",
    "if is_fte == True:\n",
    "    print(\"Full-time\")"
   ]
  },
  {
   "cell_type": "markdown",
   "metadata": {},
   "source": [
    "Non-zero values evaluate to ```True``` while 0 (zero) evaluates to ```False```."
   ]
  },
  {
   "cell_type": "code",
   "execution_count": 39,
   "metadata": {},
   "outputs": [
    {
     "name": "stdout",
     "output_type": "stream",
     "text": [
      "No hours worked or invalid value.\n"
     ]
    }
   ],
   "source": [
    "hours_worked = 0\n",
    "#hours_worked = 37\n",
    "#hours_worked = 'yes'\n",
    "\n",
    "if hours_worked:\n",
    "    print(\"Need to calculate payroll.\")\n",
    "\n",
    "if not hours_worked:\n",
    "    print(\"No hours worked or invalid value.\")"
   ]
  },
  {
   "cell_type": "markdown",
   "metadata": {},
   "source": [
    "#### Logic Operators on boolean values\n",
    "a and b are boolean values\n",
    "\n",
    "```Python\n",
    "not a # True if a is False, False if a is True\n",
    "a and b # Both a and b must be True for statement to be True\n",
    "a or b # Either a or b must be True for statement to be True\n",
    "```"
   ]
  },
  {
   "cell_type": "markdown",
   "metadata": {},
   "source": [
    "### String Type\n",
    "A string is a sequence of characters. \n",
    "\n",
    "Values enclosed within quotation marks (single, double, or triple-double) are strings."
   ]
  },
  {
   "cell_type": "code",
   "execution_count": 40,
   "metadata": {},
   "outputs": [],
   "source": [
    "s = 'Monty Python'"
   ]
  },
  {
   "cell_type": "code",
   "execution_count": 41,
   "metadata": {},
   "outputs": [
    {
     "name": "stdout",
     "output_type": "stream",
     "text": [
      "12\n",
      "Monty\n",
      "P\n"
     ]
    }
   ],
   "source": [
    "# use len() function to get the length of a string\n",
    "print(len(s))\n",
    "\n",
    "# Print part of a string, a slice\n",
    "print(s[0:5])\n",
    "\n",
    "print(s[6])"
   ]
  },
  {
   "cell_type": "code",
   "execution_count": 42,
   "metadata": {},
   "outputs": [
    {
     "ename": "TypeError",
     "evalue": "'str' object does not support item assignment",
     "output_type": "error",
     "traceback": [
      "\u001b[0;31m---------------------------------------------------------------------------\u001b[0m",
      "\u001b[0;31mTypeError\u001b[0m                                 Traceback (most recent call last)",
      "\u001b[0;32m<ipython-input-42-e63af6ba768d>\u001b[0m in \u001b[0;36m<module>\u001b[0;34m\u001b[0m\n\u001b[1;32m      1\u001b[0m \u001b[0;31m# Strings are immutable (Can't change 'Python' to 'Jython')\u001b[0m\u001b[0;34m\u001b[0m\u001b[0;34m\u001b[0m\u001b[0;34m\u001b[0m\u001b[0m\n\u001b[0;32m----> 2\u001b[0;31m \u001b[0ms\u001b[0m\u001b[0;34m[\u001b[0m\u001b[0;36m6\u001b[0m\u001b[0;34m]\u001b[0m \u001b[0;34m=\u001b[0m \u001b[0;34m\"J\"\u001b[0m\u001b[0;34m\u001b[0m\u001b[0;34m\u001b[0m\u001b[0m\n\u001b[0m",
      "\u001b[0;31mTypeError\u001b[0m: 'str' object does not support item assignment"
     ]
    }
   ],
   "source": [
    "# Strings are immutable (Can't change 'Python' to 'Jython')\n",
    "s[6] = \"J\""
   ]
  },
  {
   "cell_type": "markdown",
   "metadata": {},
   "source": [
    "### None type\n",
    "\n",
    "The null keyword is available in languages such as C++ and Java. Null means empty. It is not equivalent to a zero-length string nor is it equivalent to zero (0). In Python, the None type  is the keyword equivalent to Null. None (the type) is not equivalent to the string, \"None\". In my humble opinion, None is more logical than null. None means the object is nothing, non-existent. \n",
    "\n",
    "#### Why use None?\n",
    "\n",
    "When instantiating (creating) an object, you may need to check to see if the instantiation was successful or not. If the creation of the new object failed, the object will return a None type.\n",
    "\n",
    "---"
   ]
  },
  {
   "cell_type": "code",
   "execution_count": 43,
   "metadata": {},
   "outputs": [
    {
     "name": "stdout",
     "output_type": "stream",
     "text": [
      "False\n",
      "<class 'NoneType'>\n"
     ]
    }
   ],
   "source": [
    "# None is not the \"None\" string. It is a class type.\n",
    "print(None == \"None\")\n",
    "print(type(None))"
   ]
  },
  {
   "cell_type": "code",
   "execution_count": 44,
   "metadata": {},
   "outputs": [
    {
     "name": "stdout",
     "output_type": "stream",
     "text": [
      "The database could not connect\n"
     ]
    }
   ],
   "source": [
    "#Source: https://www.pythoncentral.io/python-null-equivalent-none/\n",
    "database_connection = None\n",
    " \n",
    "# Try to connect (none of the variables for the connect have values...)\n",
    "try:\n",
    "    database = MyDatabase(db_host, db_user, db_password, db_database)\n",
    "    database_connection = database.connect()\n",
    "except:\n",
    "    pass\n",
    " \n",
    "if database_connection is None:\n",
    "    print('The database could not connect')\n",
    "else:\n",
    "    print('The database could connect')"
   ]
  },
  {
   "cell_type": "markdown",
   "metadata": {},
   "source": [
    "### Complex numbers\n",
    "---\n",
    "A Complex Number is a combination of a Real Number and an Imaginary Number. [1]\n",
    "\n",
    "![image](./images/complex-example.svg)\n",
    "\n",
    "   "
   ]
  },
  {
   "cell_type": "code",
   "execution_count": null,
   "metadata": {},
   "outputs": [],
   "source": [
    "print(\"3i is of type: \" + str(type(3j)))\n",
    "print(7 + 3j)"
   ]
  },
  {
   "cell_type": "markdown",
   "metadata": {},
   "source": [
    "   \n",
    "The \"unit\" imaginary number (like 1 for Real Numbers) is i, which is the square root of −1.   \n",
    "\n",
    "![image](./images/imaginary-square-root.svg)\n",
    "\n",
    "> **Except in Python, \"j\" is used instead of \"i\".**"
   ]
  },
  {
   "cell_type": "code",
   "execution_count": null,
   "metadata": {},
   "outputs": [],
   "source": [
    "1j * 1j == -1"
   ]
  },
  {
   "cell_type": "markdown",
   "metadata": {
    "toc-hr-collapsed": true,
    "toc-nb-collapsed": true
   },
   "source": [
    "## Converting values between types\n",
    "\n",
    "Often you may need to convert from values from one type to another. For example, you may need to convert the values received from the input() function from string to an int or a float."
   ]
  },
  {
   "cell_type": "code",
   "execution_count": 45,
   "metadata": {},
   "outputs": [
    {
     "name": "stdout",
     "output_type": "stream",
     "text": [
      "Enter a number and I'll tell you if it is even or odd:\n",
      " 33\n",
      "<class 'int'>\n"
     ]
    }
   ],
   "source": [
    "user_number = input(\"Enter a number and I'll tell you if it is even or odd:\\n\")\n",
    "print(type(int(user_number)))\n"
   ]
  },
  {
   "cell_type": "code",
   "execution_count": 12,
   "metadata": {
    "tags": []
   },
   "outputs": [
    {
     "ename": "ModuleNotFoundError",
     "evalue": "No module named 'matplotlib'",
     "output_type": "error",
     "traceback": [
      "\u001b[0;31m---------------------------------------------------------------------------\u001b[0m",
      "\u001b[0;31mModuleNotFoundError\u001b[0m                       Traceback (most recent call last)",
      "Cell \u001b[0;32mIn[12], line 4\u001b[0m\n\u001b[1;32m      1\u001b[0m \u001b[38;5;66;03m#Source: https://gist.github.com/jfpuget/60e07a82dece69b011bb -- Jean-François Puget¶\u001b[39;00m\n\u001b[1;32m      3\u001b[0m \u001b[38;5;28;01mimport\u001b[39;00m \u001b[38;5;21;01mnumpy\u001b[39;00m \u001b[38;5;28;01mas\u001b[39;00m \u001b[38;5;21;01mnp\u001b[39;00m\n\u001b[0;32m----> 4\u001b[0m \u001b[38;5;28;01mfrom\u001b[39;00m \u001b[38;5;21;01mmatplotlib\u001b[39;00m \u001b[38;5;28;01mimport\u001b[39;00m pyplot \u001b[38;5;28;01mas\u001b[39;00m plt\n\u001b[1;32m      5\u001b[0m \u001b[38;5;28;01mfrom\u001b[39;00m \u001b[38;5;21;01mmatplotlib\u001b[39;00m \u001b[38;5;28;01mimport\u001b[39;00m colors\n\u001b[1;32m      6\u001b[0m get_ipython()\u001b[38;5;241m.\u001b[39mrun_line_magic(\u001b[38;5;124m'\u001b[39m\u001b[38;5;124mmatplotlib\u001b[39m\u001b[38;5;124m'\u001b[39m, \u001b[38;5;124m'\u001b[39m\u001b[38;5;124minline\u001b[39m\u001b[38;5;124m'\u001b[39m)\n",
      "\u001b[0;31mModuleNotFoundError\u001b[0m: No module named 'matplotlib'"
     ]
    }
   ],
   "source": [
    "#Source: https://gist.github.com/jfpuget/60e07a82dece69b011bb -- Jean-François Puget¶\n",
    "\n",
    "import numpy as np\n",
    "from matplotlib import pyplot as plt\n",
    "from matplotlib import colors\n",
    "%matplotlib inline \n",
    "\n",
    "\n",
    "def mandelbrot_image(xmin,xmax,ymin,ymax,width=12,height=12,maxiter=80,cmap='hot'):\n",
    "    dpi = 72\n",
    "    img_width = dpi * width\n",
    "    img_height = dpi * height\n",
    "    x,y,z = mandelbrot_set(xmin,xmax,ymin,ymax,img_width,img_height,maxiter)\n",
    "    \n",
    "    fig, ax = plt.subplots(figsize=(width, height),dpi=72)\n",
    "    ticks = np.arange(0,img_width,3*dpi)\n",
    "    x_ticks = xmin + (xmax-xmin)*ticks/img_width\n",
    "    plt.xticks(ticks, x_ticks)\n",
    "    y_ticks = ymin + (ymax-ymin)*ticks/img_width\n",
    "    plt.yticks(ticks, y_ticks)\n",
    "    \n",
    "    norm = colors.PowerNorm(0.3)\n",
    "    ax.imshow(z.T,cmap=cmap,origin='lower',norm=norm)\n",
    "    \n",
    "def mandelbrot(c,maxiter):\n",
    "    z = c\n",
    "    for n in range(maxiter):\n",
    "        if abs(z) > 2:\n",
    "            return n\n",
    "        z = z*z + c\n",
    "    return 0\n",
    "\n",
    "def mandelbrot_set(xmin,xmax,ymin,ymax,width,height,maxiter):\n",
    "    r1 = np.linspace(xmin, xmax, width)\n",
    "    r2 = np.linspace(ymin, ymax, height)\n",
    "    n3 = np.empty((width,height))\n",
    "    for i in range(width):\n",
    "        for j in range(height):\n",
    "            n3[i,j] = mandelbrot(r1[i] + 1j*r2[j],maxiter)\n",
    "    return (r1,r2,n3)\n",
    "\n",
    "mandelbrot_image(-2.0,0.5,-1.25,1.25,maxiter=80,cmap='gnuplot2')"
   ]
  },
  {
   "cell_type": "markdown",
   "metadata": {},
   "source": [
    "## Order of Operations\n",
    "<a id=\"Setting_up_your_environment\"> </a>\n",
    "\n",
    "The order of evaluation of expressions with more than one operator follows *rules of precedence* -- PEMDAS\n",
    "\n",
    "* **Parentheses**\n",
    "* **Exponentiation**\n",
    "* **Multiplication and Division**\n",
    "* **Addition and Subraction**\n",
    "* **Left to Right** - operators with the same precedence are evaluated left to right"
   ]
  },
  {
   "cell_type": "code",
   "execution_count": 47,
   "metadata": {},
   "outputs": [
    {
     "data": {
      "text/plain": [
       "3"
      ]
     },
     "execution_count": 47,
     "metadata": {},
     "output_type": "execute_result"
    }
   ],
   "source": [
    "# Exponentiation, then Multiplication\n",
    "3*1**3"
   ]
  },
  {
   "cell_type": "markdown",
   "metadata": {},
   "source": [
    "## Operators"
   ]
  },
  {
   "cell_type": "markdown",
   "metadata": {},
   "source": [
    "### Modulo operator\n",
    "<a id=\"modulus_operator\"> </a>\n",
    "\n",
    "In computing, the modulo operation finds the remainder after division of one number by another (sometimes called modulus). Given two positive numbers, a (the dividend) and n (the divisor), a modulo n (abbreviated as a mod n) is the remainder of the Euclidean division of a by n.\n"
   ]
  },
  {
   "cell_type": "code",
   "execution_count": 48,
   "metadata": {},
   "outputs": [
    {
     "data": {
      "text/plain": [
       "2.3333333333333335"
      ]
     },
     "execution_count": 48,
     "metadata": {},
     "output_type": "execute_result"
    }
   ],
   "source": [
    "# Divide 7 by 3\n",
    "7/3"
   ]
  },
  {
   "cell_type": "code",
   "execution_count": 49,
   "metadata": {},
   "outputs": [
    {
     "data": {
      "text/plain": [
       "2"
      ]
     },
     "execution_count": 49,
     "metadata": {},
     "output_type": "execute_result"
    }
   ],
   "source": [
    "# Floor division\n",
    "7 // 3 # (2 is the quotient, 1 is the remainder)"
   ]
  },
  {
   "cell_type": "code",
   "execution_count": 50,
   "metadata": {},
   "outputs": [
    {
     "data": {
      "text/plain": [
       "1"
      ]
     },
     "execution_count": 50,
     "metadata": {},
     "output_type": "execute_result"
    }
   ],
   "source": [
    "# Return the remainder or modulus\n",
    "7 % 3"
   ]
  },
  {
   "cell_type": "markdown",
   "metadata": {},
   "source": [
    "### Assignment vs. Comparison\n",
    "---\n",
    "In Python, assignment of a value to a variable is accomplished using a single equal sign. \n",
    "\n",
    "Comparison is performed using a double equal sign.\n"
   ]
  },
  {
   "cell_type": "code",
   "execution_count": null,
   "metadata": {},
   "outputs": [],
   "source": [
    "x = 7\n",
    "print(x)\n",
    "x = 1000\n",
    "print(x)"
   ]
  },
  {
   "cell_type": "code",
   "execution_count": null,
   "metadata": {},
   "outputs": [],
   "source": [
    "# Must use a double equal sign to compare values\n",
    "if x == 7:\n",
    "    print(\"Lucky Seven\")\n",
    "else:\n",
    "    print(\"You lose!\")"
   ]
  },
  {
   "cell_type": "code",
   "execution_count": null,
   "metadata": {},
   "outputs": [],
   "source": [
    "# Error when adding string and integer\n",
    "userinput = \"5\"\n",
    "\n",
    "sum = 7 + int(userinput)\n",
    "print(sum)"
   ]
  },
  {
   "cell_type": "code",
   "execution_count": null,
   "metadata": {},
   "outputs": [],
   "source": [
    "sum = 7 + int(userinput)\n",
    "print(\"sum = {}\".format(sum))"
   ]
  },
  {
   "cell_type": "markdown",
   "metadata": {},
   "source": [
    "[1]: Source: https://www.mathsisfun.com"
   ]
  },
  {
   "cell_type": "markdown",
   "metadata": {},
   "source": [
    "## Variable Scope - LEGB\n",
    "When using variables, you must understand its scope. By scope we are referring the visibility of variables--in which parts of your program can access or change the variable. For example, if a variable is global, every part of your program can access it. However, variables used within a function should generally not be available outside the function.\n",
    "\n",
    "Python looks for variables in this order:\n",
    "* Local\n",
    "* Enclosing\n",
    "* Global\n",
    "* Built-in"
   ]
  },
  {
   "cell_type": "code",
   "execution_count": 51,
   "metadata": {},
   "outputs": [
    {
     "name": "stdout",
     "output_type": "stream",
     "text": [
      "inside function scope\n",
      "outside of function\n"
     ]
    }
   ],
   "source": [
    "# Local scope\n",
    "\n",
    "y = \"outside of function\"\n",
    "\n",
    "def my_function():\n",
    "    y = \"inside function scope\" # y is local to function--not available after function ends\n",
    "    print(y)\n",
    "\n",
    "my_function()\n",
    "\n",
    "print(y) # Prints enclosed y variable"
   ]
  },
  {
   "cell_type": "markdown",
   "metadata": {
    "tags": [],
    "toc-nb-collapsed": true
   },
   "source": [
    "# Conditional Execution\n",
    "\n",
    "In Python, use the if statement to perform decision-making by allowing conditional execution of a statement or group of statements based on the value of an expression.\n",
    "\n",
    "Remember that Python requires indentation to designate the start and end of code blocks. \n",
    "\n",
    "<condition> has a value of True or False\n",
    "\n",
    "```Python\n",
    "if <condition>:\n",
    "    <expression>\n",
    "    <expression>\n",
    "``` "
   ]
  },
  {
   "cell_type": "code",
   "execution_count": 52,
   "metadata": {},
   "outputs": [
    {
     "name": "stdout",
     "output_type": "stream",
     "text": [
      "busted!\n"
     ]
    }
   ],
   "source": [
    "CardTotal = 22\n",
    "if CardTotal > 21:\n",
    "    print(\"busted!\")"
   ]
  },
  {
   "cell_type": "code",
   "execution_count": 53,
   "metadata": {},
   "outputs": [
    {
     "name": "stdout",
     "output_type": "stream",
     "text": [
      "deal again? n\n"
     ]
    }
   ],
   "source": [
    "deal_again = input(\"deal again?\")\n",
    "if deal_again == 'yes':\n",
    "    print(\"dealing again...\")\n",
    "    # code here that deals again..."
   ]
  },
  {
   "cell_type": "markdown",
   "metadata": {},
   "source": [
    "## Conditionals with multiple expressions\n",
    "The ```if``` statement may be follwed by an ```else``` clause. The ```else``` clause will only be excecuted when the ```if``` statement evaluates to ```False```."
   ]
  },
  {
   "cell_type": "markdown",
   "metadata": {},
   "source": [
    "You can use an ```if...else``` statement to execute a set of statements based on whether the value of a variable is even or odd.\n",
    "\n",
    "![image](\\images\\if-then-elselogic.jpg)\n",
    "\n",
    "The basic if statement form:\n",
    "\n",
    "```Python\n",
    "if expr:\n",
    "    ''statement''\n",
    "else:\n",
    "    ''statement''\n",
    "```"
   ]
  },
  {
   "cell_type": "code",
   "execution_count": 54,
   "metadata": {},
   "outputs": [
    {
     "name": "stdout",
     "output_type": "stream",
     "text": [
      "x is odd\n"
     ]
    }
   ],
   "source": [
    "x = 9\n",
    "\n",
    "if x%2 == 0:\n",
    "    print('x is even')\n",
    "else:\n",
    "    print('x is odd')"
   ]
  },
  {
   "cell_type": "markdown",
   "metadata": {},
   "source": [
    "## Logical Operators"
   ]
  },
  {
   "cell_type": "code",
   "execution_count": 10,
   "metadata": {},
   "outputs": [
    {
     "name": "stdout",
     "output_type": "stream",
     "text": [
      "You're not one of us.\n"
     ]
    }
   ],
   "source": [
    "shave = True\n",
    "haircut = False\n",
    "\n",
    "if shave and haircut:\n",
    "    print(\"You know the secret knock!\")\n",
    "else:\n",
    "    print(\"You're not one of us.\")"
   ]
  },
  {
   "cell_type": "code",
   "execution_count": 9,
   "metadata": {},
   "outputs": [
    {
     "name": "stdout",
     "output_type": "stream",
     "text": [
      "You know the secret knock!\n"
     ]
    }
   ],
   "source": [
    "shave = False\n",
    "haircut = True\n",
    "\n",
    "if shave or haircut:\n",
    "    print(\"You know the secret knock!\")\n",
    "else:\n",
    "    print(\"You're not one of us.\")"
   ]
  },
  {
   "cell_type": "code",
   "execution_count": 13,
   "metadata": {},
   "outputs": [
    {
     "name": "stdout",
     "output_type": "stream",
     "text": [
      "True\n"
     ]
    }
   ],
   "source": [
    "#BOTH statements must be true to satisfy the statement and print True\n",
    "if 1 < 10 and -2 > -7:\n",
    "    print(True)\n",
    "else:\n",
    "    print(False)"
   ]
  },
  {
   "cell_type": "code",
   "execution_count": 14,
   "metadata": {},
   "outputs": [
    {
     "name": "stdout",
     "output_type": "stream",
     "text": [
      "True\n"
     ]
    }
   ],
   "source": [
    "#Only ONE expression must be true to satisfy the statement and print True\n",
    "if 100 < 10 or -2 > -7:\n",
    "    print(True)\n",
    "else:\n",
    "    print(False)"
   ]
  },
  {
   "cell_type": "markdown",
   "metadata": {},
   "source": [
    "## Chained Conditionals\n",
    "\n",
    "If more than two possibilities exist, one way to programmatically express this is using elif."
   ]
  },
  {
   "cell_type": "code",
   "execution_count": 60,
   "metadata": {},
   "outputs": [
    {
     "name": "stdout",
     "output_type": "stream",
     "text": [
      "x is greater than y\n"
     ]
    }
   ],
   "source": [
    "x = 8\n",
    "y = 5\n",
    "\n",
    "if x > y:\n",
    "    print(\"x is greater than y\")\n",
    "elif y > x:\n",
    "    print(\"y is greater than x\")\n",
    "else:\n",
    "    print(\"x and y are equal\")"
   ]
  },
  {
   "cell_type": "markdown",
   "metadata": {
    "toc-hr-collapsed": false
   },
   "source": [
    "## Nested Conditionals\n",
    "\n",
    "You can also nest one conditional inside another conditional. Consider the previous example:"
   ]
  },
  {
   "cell_type": "code",
   "execution_count": 61,
   "metadata": {},
   "outputs": [
    {
     "name": "stdout",
     "output_type": "stream",
     "text": [
      "x is less than y\n"
     ]
    }
   ],
   "source": [
    "x = 2\n",
    "y = 3\n",
    "\n",
    "if x == y:\n",
    "    print(\"x and y are equal\")\n",
    "else:\n",
    "    if x < y:\n",
    "        print(\"x is less than y\")\n",
    "    else:\n",
    "        print(\"x is greater than y\")"
   ]
  },
  {
   "cell_type": "markdown",
   "metadata": {},
   "source": [
    "## Grouping comparison operators\n",
    "Comparison operators can be grouped."
   ]
  },
  {
   "cell_type": "code",
   "execution_count": 62,
   "metadata": {},
   "outputs": [
    {
     "name": "stdout",
     "output_type": "stream",
     "text": [
      "x is a positive two-digit number\n"
     ]
    }
   ],
   "source": [
    "x = 111\n",
    "if 0 < x < 10:\n",
    "    print(\"x is a positive single-digit number\")\n",
    "elif x < 0:\n",
    "    print(\"x is a negative number\")\n",
    "elif x >= 10:\n",
    "    print(\"x is a positive two-digit number\")"
   ]
  },
  {
   "cell_type": "code",
   "execution_count": 63,
   "metadata": {},
   "outputs": [
    {
     "name": "stdout",
     "output_type": "stream",
     "text": [
      "1\n",
      "2\n",
      "6\n"
     ]
    }
   ],
   "source": [
    "x = 1\n",
    "y = 2\n",
    "z = 6\n",
    "\n",
    "# The entire expression must be true to print values\n",
    "if x < y < z: print(x); print(y); print(z)"
   ]
  },
  {
   "cell_type": "markdown",
   "metadata": {},
   "source": [
    "## Operators and Operands\n",
    "<a id=\"operators_and_operands\"> </a>\n",
    "Operators are special symbols that represent computations like addition and multiplication. The values the operator is applied to are called operands.\n",
    "The operators +, -, *, /, and ** perform addition, subtraction, multiplication, division, and exponentiation, as in the following examples:\n"
   ]
  },
  {
   "cell_type": "code",
   "execution_count": 64,
   "metadata": {},
   "outputs": [
    {
     "data": {
      "text/plain": [
       "43"
      ]
     },
     "execution_count": 64,
     "metadata": {},
     "output_type": "execute_result"
    }
   ],
   "source": [
    "#Addition and subtraction\n",
    "20+33-10"
   ]
  },
  {
   "cell_type": "code",
   "execution_count": 65,
   "metadata": {},
   "outputs": [
    {
     "data": {
      "text/plain": [
       "25"
      ]
     },
     "execution_count": 65,
     "metadata": {},
     "output_type": "execute_result"
    }
   ],
   "source": [
    "# Five squared\n",
    "5**2"
   ]
  },
  {
   "cell_type": "code",
   "execution_count": 66,
   "metadata": {},
   "outputs": [
    {
     "data": {
      "text/plain": [
       "55"
      ]
     },
     "execution_count": 66,
     "metadata": {},
     "output_type": "execute_result"
    }
   ],
   "source": [
    "# Multiplication\n",
    "(3+2)*(9+2)"
   ]
  },
  {
   "cell_type": "code",
   "execution_count": 67,
   "metadata": {},
   "outputs": [
    {
     "data": {
      "text/plain": [
       "4.0"
      ]
     },
     "execution_count": 67,
     "metadata": {},
     "output_type": "execute_result"
    }
   ],
   "source": [
    "# Division\n",
    "100/25"
   ]
  },
  {
   "cell_type": "markdown",
   "metadata": {
    "tags": [],
    "toc-nb-collapsed": true
   },
   "source": [
    "# Iteration (looping)\n",
    "Computers are very good and doing repetitive tasks. You will use iteration for many operations in Python. For example, you may loop through records in a database or examine lines in text file. \n",
    "\n",
    "Two methods for iterating are the While statement and the For loop. "
   ]
  },
  {
   "cell_type": "markdown",
   "metadata": {},
   "source": [
    "## While statement\n",
    "\n",
    "Computers are well-suited to repeat operations very quickly. Use the While statement to repeat a series of steps until a condition is met. Use when the number of iterations is not known.\n",
    "\n",
    "```Python\n",
    "while <condition>:\n",
    "    <expression>\n",
    "    <expression>\n",
    "    ...\n",
    "```"
   ]
  },
  {
   "cell_type": "code",
   "execution_count": 68,
   "metadata": {},
   "outputs": [
    {
     "name": "stdout",
     "output_type": "stream",
     "text": [
      "day 0\n",
      "day 1\n",
      "day 2\n",
      "day 3\n",
      "day 4\n",
      "day 5\n",
      "day 6\n"
     ]
    }
   ],
   "source": [
    "n = 0\n",
    "while n < 7:\n",
    "    print(\"day \" + str(n))\n",
    "    n = n + 1"
   ]
  },
  {
   "cell_type": "markdown",
   "metadata": {},
   "source": [
    "## For Loop\n",
    "Use the For Loop when you have a specific number of iterations or you are iterating through a collection of items (e.g., lines in a text file).\n",
    "\n",
    "```Python\n",
    "for <variable> in range(<value>):\n",
    "    <expression>\n",
    "    <expression>\n",
    "    ...\n",
    "```\n",
    "\n",
    "* On first loop, <variable> starts with smallest value\n",
    "* On each loop, <variable> is incremented (or decremented if negative step)\n",
    "* At <value> - 1, loop is complete"
   ]
  },
  {
   "cell_type": "markdown",
   "metadata": {},
   "source": [
    "### Range Function\n",
    "\n",
    "```Python\n",
    "range(start, stop, step)\n",
    "```\n",
    "Default values: start = 0, step = 1\n",
    "\n",
    "Range increments until value is stop - 1."
   ]
  },
  {
   "cell_type": "code",
   "execution_count": 69,
   "metadata": {},
   "outputs": [
    {
     "name": "stdout",
     "output_type": "stream",
     "text": [
      "0 1 2 3 4 5 6 7 8 9 10 "
     ]
    }
   ],
   "source": [
    "# Range function (see \"Functions\" section for more information about functions)\n",
    "# range(start_value, end_value, step_value)\n",
    "\n",
    "for x in range(11):\n",
    "    print(x, end=\" \")"
   ]
  },
  {
   "cell_type": "code",
   "execution_count": 70,
   "metadata": {},
   "outputs": [
    {
     "name": "stdout",
     "output_type": "stream",
     "text": [
      "10 9 8 7 6 5 4 3 2 1 "
     ]
    }
   ],
   "source": [
    "# To count down, set the step value to negative.\n",
    "for x in range(10,0,-1):\n",
    "    print(x, end=\" \")"
   ]
  },
  {
   "cell_type": "markdown",
   "metadata": {},
   "source": [
    "A counter variable can be used in either the For Loop or the While loop, but the counter variable must be initialized prior to its use."
   ]
  },
  {
   "cell_type": "code",
   "execution_count": 71,
   "metadata": {},
   "outputs": [
    {
     "name": "stdout",
     "output_type": "stream",
     "text": [
      "1 2 3 4 5 6 7 8 9 10 "
     ]
    }
   ],
   "source": [
    "# Initialze a counter variable, z.\n",
    "z = 0\n",
    "\n",
    "#Loop ten times (1 through 10)\n",
    "for y in range(1,11):\n",
    "\n",
    "    #Increment z by 1 during each loop. \n",
    "    z += 1 # This is shorthand for z = z + 1\n",
    "    \n",
    "    print(z, end=\" \")"
   ]
  },
  {
   "cell_type": "markdown",
   "metadata": {},
   "source": [
    "## Looping through items\n",
    "\n",
    "In addition to using the ```range()``` function or the ```while``` statement, you can also loop through a collection of objects such as the files in the working directory. Note that we do not need to obtain the number of items (files, in this case) present in the collection (folder). We simply ask Python to iterate through them."
   ]
  },
  {
   "cell_type": "code",
   "execution_count": 15,
   "metadata": {},
   "outputs": [
    {
     "name": "stdout",
     "output_type": "stream",
     "text": [
      ".git\n",
      ".gitignore\n",
      "images\n",
      "images_numpy\n",
      "Part2_HTML_Parsing_BeautifulSoup.ipynb\n",
      "Core Python-Error Handling-Debugging.ipynb\n",
      "Untitled.ipynb\n",
      "Part1_Web_API_Requests.ipynb\n",
      "files\n",
      "Pandas.ipynb\n",
      "NFL.ipynb\n",
      "Core Python-Selenium.ipynb\n",
      ".ipynb_checkpoints\n",
      "HW101\n",
      "Untitled3.ipynb\n",
      "Core Python-Previous version of Selenium.ipynb\n",
      "HW102\n",
      "Untitled1.ipynb\n",
      "Untitled2.ipynb\n",
      "Core Python-Functions-Strings.ipynb\n",
      "Core Python-Data Structures-JSON.ipynb\n",
      "Core Python-Varibles-Iteration-Conditionals.ipynb\n",
      "README.md\n",
      "Untitled4.ipynb\n",
      "Core Python-Pathlib-File Operations.ipynb\n",
      "Core Python-Regex.ipynb\n",
      "Analysis - Body fat.ipynb\n"
     ]
    }
   ],
   "source": [
    "# Add the os module to our environment (covered later)\n",
    "import os\n",
    "\n",
    "# Get a list of all the files in the current folder and store them in the\n",
    "#   variable files\n",
    "files = os.listdir()\n",
    "\n",
    "for x in files:\n",
    "    print(x)"
   ]
  },
  {
   "cell_type": "code",
   "execution_count": null,
   "metadata": {},
   "outputs": [],
   "source": [
    "# Traverse the directory hierarchy in the user's Documents folder and \n",
    "#   Display the full path of each file\n",
    "\n",
    "# Start in this folder (use ''~\\Documents' for user's document directory)\n",
    "root_folder = os.path.expanduser('~')\n",
    "\n",
    "# Return the path, folders, and files in the hierarchy\n",
    "for root, dirs, files in os.walk(root_folder):\n",
    "    for name in files:\n",
    "        print(os.path.join(root, name))"
   ]
  },
  {
   "cell_type": "markdown",
   "metadata": {},
   "source": [
    "## Break, Continue and Pass statements"
   ]
  },
  {
   "cell_type": "code",
   "execution_count": 1,
   "metadata": {},
   "outputs": [
    {
     "name": "stdout",
     "output_type": "stream",
     "text": [
      "100 5 total loops =  500\n"
     ]
    }
   ],
   "source": [
    "total_loops = 0\n",
    "for x in range(1,101):    \n",
    "    for y in range(1,6):\n",
    "        total_loops = total_loops + 1\n",
    "        if y == 5:\n",
    "            break\n",
    "print(x,y, \"total loops = \", total_loops)"
   ]
  },
  {
   "cell_type": "markdown",
   "metadata": {},
   "source": [
    "### Break\n",
    "Use the ```break``` statement to exit a loop. Break exits the current loop, so if you have a nested loop and wish to exit both, you'll need to provide two break statements, one for each loop."
   ]
  },
  {
   "cell_type": "code",
   "execution_count": 2,
   "metadata": {},
   "outputs": [
    {
     "name": "stdout",
     "output_type": "stream",
     "text": [
      "1\n",
      "2\n",
      "3\n",
      "4\n",
      "5\n",
      "6\n"
     ]
    }
   ],
   "source": [
    "for num in range(1,11):\n",
    "    if num == 7:\n",
    "        break\n",
    "    print(num)"
   ]
  },
  {
   "cell_type": "markdown",
   "metadata": {},
   "source": [
    "### Continue\n",
    "Use the ```continue``` statement to interrupt and then resume processing in a loop. Note that the print() function is not called when num equals 7."
   ]
  },
  {
   "cell_type": "code",
   "execution_count": 3,
   "metadata": {},
   "outputs": [
    {
     "name": "stdout",
     "output_type": "stream",
     "text": [
      "1\n",
      "2\n",
      "3\n",
      "4\n",
      "5\n",
      "6\n",
      "8\n",
      "9\n",
      "10\n"
     ]
    }
   ],
   "source": [
    "for num in range(1,11):\n",
    "    if num == 7:\n",
    "        continue\n",
    "    print(num)"
   ]
  },
  {
   "cell_type": "markdown",
   "metadata": {},
   "source": [
    "### Pass"
   ]
  },
  {
   "cell_type": "code",
   "execution_count": 8,
   "metadata": {},
   "outputs": [
    {
     "name": "stdout",
     "output_type": "stream",
     "text": [
      "1\n",
      "2\n",
      "3\n",
      "4\n",
      "5\n",
      "6\n",
      "7\n",
      "8\n",
      "9\n",
      "10\n"
     ]
    }
   ],
   "source": [
    "for num in range(1,11):\n",
    "    if num == 7:\n",
    "        pass\n",
    "    print(num)"
   ]
  },
  {
   "cell_type": "code",
   "execution_count": null,
   "metadata": {},
   "outputs": [],
   "source": []
  }
 ],
 "metadata": {
  "kernelspec": {
   "display_name": "Python 3 (ipykernel)",
   "language": "python",
   "name": "python3"
  },
  "language_info": {
   "codemirror_mode": {
    "name": "ipython",
    "version": 3
   },
   "file_extension": ".py",
   "mimetype": "text/x-python",
   "name": "python",
   "nbconvert_exporter": "python",
   "pygments_lexer": "ipython3",
   "version": "3.10.12"
  },
  "toc-autonumbering": true
 },
 "nbformat": 4,
 "nbformat_minor": 4
}
