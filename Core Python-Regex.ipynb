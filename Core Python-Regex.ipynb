{
 "cells": [
  {
   "cell_type": "markdown",
   "id": "1315b041-1f6b-40e9-8734-983e259fe0f4",
   "metadata": {
    "toc-hr-collapsed": true
   },
   "source": [
    "# Regular Expressions\n",
    "RegEx or regular expressions is a sequence of characters that match other strings or sets of strings, using a specialized syntax pattern. Python has a built-in package called re, which can be used to work with regular expressions. To use the re package, import re."
   ]
  },
  {
   "cell_type": "markdown",
   "id": "70df6c54-33f2-46dd-aebd-81d0b58888ea",
   "metadata": {},
   "source": [
    "## Raw Strings\n",
    "\n",
    "To avoid Python escaping the RegEx patterns, prefix the patter with 'r'."
   ]
  },
  {
   "cell_type": "markdown",
   "id": "90420984-d453-4254-a8a1-18f618a52ead",
   "metadata": {},
   "source": [
    "## Regex Cheat Sheet\n",
    "\n",
    "source: https://regexone.com\n",
    "\n",
    "For an excellent interactive tutorial, go to https://regexone.com/lesson/introduction_abcs\n",
    "\n",
    "To test and learn more about RegEx, https://regexr.com/ is also a helpful site.\n",
    "\n",
    "abc…\tLetters<br>\n",
    "123…\tDigits<br>\n",
    "\\d\tAny Digit<br>\n",
    "\\D\tAny Non-digit character<br>\n",
    ".\tAny Character<br>\n",
    "\\.\tPeriod<br>\n",
    "[abc]\tOnly a, b, or c<br>\n",
    "[^abc]\tNot a, b, nor c<br>\n",
    "[a-z]\tCharacters a to z<br>\n",
    "[0-9]\tNumbers 0 to 9<br>\n",
    "\\w\tAny Alphanumeric character<br>\n",
    "\\W\tAny Non-alphanumeric character<br>\n",
    "{m}\tm Repetitions<br>\n",
    "{m,n}\tm to n Repetitions<br>\n",
    "\\*\tZero or more repetitions<br>\n",
    "\\+\tOne or more repetitions<br>\n",
    "?\tOptional character<br>\n",
    "\\s\tAny Whitespace<br>\n",
    "\\S\tAny Non-whitespace character<br>\n",
    "^…$\tStarts and ends<br>\n",
    "(…)\tCapture Group<br>\n",
    "(a(bc))\tCapture Sub-group<br>\n",
    "(.*)\tCapture all<br>\n",
    "(abc|def)\tMatches abc or def<br>"
   ]
  },
  {
   "cell_type": "code",
   "execution_count": 20,
   "id": "e447d2dc-9d73-4caa-89f8-55f315aefe9b",
   "metadata": {},
   "outputs": [
    {
     "name": "stdout",
     "output_type": "stream",
     "text": [
      "['From stephen.marquard@uct.ac.za Sat Jan 5 09:14:16 2008 Return-Path: <postmaster@collab.sakaiproject.org> for <source@collab.sakaiproject.org>;Received: (from apache@localhost) Author:']\n",
      "found text is of type <class 'list'>\n"
     ]
    }
   ],
   "source": [
    "# Import the built-in Regular Expressions package\n",
    "import re\n",
    "import pprint as pp\n",
    "import pathlib\n",
    "\n",
    "email_header = \"Fire: From stephen.marquard@uct.ac.za Sat Jan 5 09:14:16 2008 Return-Path: <postmaster@collab.sakaiproject.org> for <source@collab.sakaiproject.org>;Received: (from apache@localhost) Author:  stephen.marquard@uct.ac\"\n",
    "\n",
    "found_text = re.findall('From.+:', email_header)\n",
    "print(found_text)\n",
    "print(\"found text is of type\",type(found_text))\n",
    "\n",
    "# author = re.findall('Author:\\s+\\S+', email_header)\n",
    "# print(author)"
   ]
  },
  {
   "cell_type": "code",
   "execution_count": 2,
   "id": "c10e46bf-27f7-42ad-94a4-610889127acb",
   "metadata": {},
   "outputs": [
    {
     "name": "stdout",
     "output_type": "stream",
     "text": [
      "['09:14:16']\n",
      "found text is of type <class 'list'>\n",
      "['Author:  stephen.marquard@uct.ac']\n"
     ]
    },
    {
     "name": "stderr",
     "output_type": "stream",
     "text": [
      "<>:7: SyntaxWarning: invalid escape sequence '\\d'\n",
      "<>:11: SyntaxWarning: invalid escape sequence '\\s'\n",
      "<>:7: SyntaxWarning: invalid escape sequence '\\d'\n",
      "<>:11: SyntaxWarning: invalid escape sequence '\\s'\n",
      "/tmp/ipykernel_230891/1886456285.py:7: SyntaxWarning: invalid escape sequence '\\d'\n",
      "  found_text = re.findall('\\d\\d:\\d\\d:\\d\\d', email_header)\n",
      "/tmp/ipykernel_230891/1886456285.py:11: SyntaxWarning: invalid escape sequence '\\s'\n",
      "  author = re.findall('Author:\\s+\\S+', email_header)\n"
     ]
    }
   ],
   "source": [
    "# Import the built-in Regular Expressions package\n",
    "import re\n",
    "import pprint as pp\n",
    "\n",
    "email_header = \"Fire: From stephen.marquard@uct.ac.za Sat Jan 5 09:14:16 2008 Return-Path: <postmaster@collab.sakaiproject.org> for <source@collab.sakaiproject.org>;Received: (from apache@localhost) Author:  stephen.marquard@uct.ac\"\n",
    "\n",
    "found_text = re.findall('\\d\\d:\\d\\d:\\d\\d', email_header)\n",
    "print(found_text)\n",
    "print(\"found text is of type\",type(found_text))\n",
    "\n",
    "author = re.findall('Author:\\s+\\S+', email_header)\n",
    "print(author)"
   ]
  },
  {
   "cell_type": "code",
   "execution_count": 4,
   "id": "6feec017-570c-43f1-868c-2249824d6940",
   "metadata": {},
   "outputs": [
    {
     "name": "stdout",
     "output_type": "stream",
     "text": [
      "From: stephen.marquard@uct.ac.za\n",
      "From: louis@media.berkeley.edu\n",
      "From: zqian@umich.edu\n",
      "From: rjlowe@iupui.edu\n",
      "From: zqian@umich.edu\n",
      "From: rjlowe@iupui.edu\n",
      "From: cwen@iupui.edu\n",
      "From: cwen@iupui.edu\n",
      "From: gsilver@umich.edu\n",
      "From: gsilver@umich.edu\n",
      "From: zqian@umich.edu\n",
      "From: gsilver@umich.edu\n",
      "From: wagnermr@iupui.edu\n",
      "From: zqian@umich.edu\n",
      "From: antranig@caret.cam.ac.uk\n",
      "From: gopal.ramasammycook@gmail.com\n",
      "From: david.horwitz@uct.ac.za\n",
      "From: david.horwitz@uct.ac.za\n",
      "From: david.horwitz@uct.ac.za\n",
      "From: david.horwitz@uct.ac.za\n",
      "From: stephen.marquard@uct.ac.za\n",
      "From: louis@media.berkeley.edu\n",
      "From: louis@media.berkeley.edu\n",
      "From: ray@media.berkeley.edu\n",
      "From: cwen@iupui.edu\n",
      "From: cwen@iupui.edu\n",
      "From: cwen@iupui.edu\n"
     ]
    }
   ],
   "source": [
    "mboxfile = open(\"data/mbox-short.txt\", \"r\")\n",
    "\n",
    "for line in mboxfile:\n",
    "    line = line.rstrip()\n",
    "    \n",
    "    # Search for lines that start with 'F', followed by 2 characters, followed by 'm:'\n",
    "    if re.search('^From:', line):        \n",
    "        print(line)\n",
    "mboxfile.close()"
   ]
  },
  {
   "cell_type": "code",
   "execution_count": 7,
   "id": "b8abeade-5dc5-48da-be9f-541a6f7fa819",
   "metadata": {},
   "outputs": [
    {
     "name": "stdout",
     "output_type": "stream",
     "text": [
      "305\n",
      "42\n",
      "{'200801041610.m04GA5KP007209@nakamura.uits.iupui.edu', '200801041635.m04GZQGZ007313@nakamura.uits.iupui.edu', '200801032127.m03LRUqH005177@nakamura.uits.iupui.edu', '200801032122.m03LMFo4005148@nakamura.uits.iupui.edu', 'postmaster@collab.sakaiproject.org', '200801041948.m04JmdwO007705@nakamura.uits.iupui.edu', 'antranig@caret.cam.ac.uk', '200801041502.m04F21Jo007031@nakamura.uits.iupui.edu', '200801042308.m04N8v6O008125@nakamura.uits.iupui.edu', '200801041200.m04C0gfK006793@nakamura.uits.iupui.edu', '200801032216.m03MGhDa005292@nakamura.uits.iupui.edu', 'ray@media.berkeley.edu', '200801051412.m05ECIaH010327@nakamura.uits.iupui.edu', 'cwen@iupui.edu', '200801041633.m04GX6eG007292@nakamura.uits.iupui.edu', '200801041611.m04GB1Lb007221@nakamura.uits.iupui.edu', '200801041515.m04FFv42007050@nakamura.uits.iupui.edu', 'stephen.marquard@uct.ac.za', '200801040947.m049lUxo006517@nakamura.uits.iupui.edu', 'zqian@umich.edu', '200801042109.m04L92hb007923@nakamura.uits.iupui.edu', 'hu2@iupui.edu', '200801041609.m04G9EuX007197@nakamura.uits.iupui.edu', '200801042044.m04Kiem3007881@nakamura.uits.iupui.edu', '200801040023.m040NpCc005473@nakamura.uits.iupui.edu', '200801041403.m04E3psW006926@nakamura.uits.iupui.edu', 'source@collab.sakaiproject.org', 'louis@media.berkeley.edu', 'gsilver@umich.edu', '200801041106.m04B6lK3006677@nakamura.uits.iupui.edu', 'wagnermr@iupui.edu', 'rjlowe@iupui.edu', '200801040905.m0495rWB006420@nakamura.uits.iupui.edu', '200801032133.m03LX3gG005191@nakamura.uits.iupui.edu', 'david.horwitz@uct.ac.za', '200801041608.m04G8d7w007184@nakamura.uits.iupui.edu', '200801041537.m04Fb6Ci007092@nakamura.uits.iupui.edu', '200801040932.m049W2i5006493@nakamura.uits.iupui.edu', '200801032205.m03M5Ea7005273@nakamura.uits.iupui.edu', 'gopal.ramasammycook@gmail.com', '200801042001.m04K1cO0007738@nakamura.uits.iupui.edu', 'josrodri@iupui.edu'}\n"
     ]
    },
    {
     "name": "stderr",
     "output_type": "stream",
     "text": [
      "<>:7: SyntaxWarning: invalid escape sequence '\\.'\n",
      "<>:7: SyntaxWarning: invalid escape sequence '\\.'\n",
      "/tmp/ipykernel_230891/3039386938.py:7: SyntaxWarning: invalid escape sequence '\\.'\n",
      "  x = re.findall('[A-Za-z0-9._%+-]+@(?:[A-Za-z0-9-]+\\.)+[A-Za-z]{2,}', line)\n"
     ]
    }
   ],
   "source": [
    "# Store all email addresses into a list (deep treatment of finding emails usign Regex: https://www.regular-expressions.info/email.html)\n",
    "mboxfile = open(\"data//mbox-short.txt\", \"r\")\n",
    "all_emails_list = []\n",
    "for line in mboxfile:\n",
    "    line = line.rstrip()\n",
    "    # x = re.findall('\\S+@\\S+\\.\\D\\D\\D', line)\n",
    "    x = re.findall('[A-Za-z0-9._%+-]+@(?:[A-Za-z0-9-]+\\.)+[A-Za-z]{2,}', line)\n",
    "    if len(x) > 0:\n",
    "        all_emails_list.extend(x)\n",
    "print(len(all_emails_list))\n",
    "# pp.pprint(all_emails_list) # Many duplicate emails\n",
    "print(len(set(all_emails_list)))\n",
    "print(set(all_emails_list))"
   ]
  },
  {
   "cell_type": "code",
   "execution_count": 6,
   "id": "5914a938-7ddd-47d2-9cdb-bc1c838dbde6",
   "metadata": {},
   "outputs": [
    {
     "data": {
      "text/plain": [
       "'Hello, A My Friend'"
      ]
     },
     "execution_count": 6,
     "metadata": {},
     "output_type": "execute_result"
    }
   ],
   "source": [
    "mystring = 'hello, a my friend'\n",
    "mystring.title()"
   ]
  },
  {
   "cell_type": "code",
   "execution_count": null,
   "id": "90b28723-9871-41ba-9b2f-70e961c6b2f2",
   "metadata": {},
   "outputs": [],
   "source": [
    "list((set(all_emails_list)))"
   ]
  },
  {
   "cell_type": "code",
   "execution_count": null,
   "id": "a50d49c2-2939-4906-8a72-d36a41c639ca",
   "metadata": {},
   "outputs": [],
   "source": [
    "mboxfile = open(\"files\\\\mbox-short.txt\", \"r\")\n",
    "all_emails_list = []\n",
    "for line in mboxfile:\n",
    "    line = line.rstrip()\n",
    "    x = re.findall('rev=.....', line)\n",
    "    if len(x) > 0:\n",
    "        all_emails_list.extend(x)\n",
    "\n",
    "print(all_emails_list)\n",
    "all_revs_set = set(all_emails_list)\n",
    "print(len(all_revs_set))"
   ]
  },
  {
   "cell_type": "code",
   "execution_count": null,
   "id": "685090a4-93c1-46d0-805a-dc71515ce5e2",
   "metadata": {},
   "outputs": [],
   "source": []
  }
 ],
 "metadata": {
  "kernelspec": {
   "display_name": "Python 3 (ipykernel)",
   "language": "python",
   "name": "python3"
  },
  "language_info": {
   "codemirror_mode": {
    "name": "ipython",
    "version": 3
   },
   "file_extension": ".py",
   "mimetype": "text/x-python",
   "name": "python",
   "nbconvert_exporter": "python",
   "pygments_lexer": "ipython3",
   "version": "3.12.2"
  }
 },
 "nbformat": 4,
 "nbformat_minor": 5
}
