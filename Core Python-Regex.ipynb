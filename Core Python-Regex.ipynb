{
 "cells": [
  {
   "cell_type": "markdown",
   "id": "1315b041-1f6b-40e9-8734-983e259fe0f4",
   "metadata": {
    "toc-hr-collapsed": true
   },
   "source": [
    "# Regular Expressions\n",
    "RegEx or regular expressions is a sequence of characters that match other strings or sets of strings, using a specialized syntax pattern. Python has a built-in package called re, which can be used to work with regular expressions. To use the re package, import re."
   ]
  },
  {
   "cell_type": "markdown",
   "id": "70df6c54-33f2-46dd-aebd-81d0b58888ea",
   "metadata": {},
   "source": [
    "## Raw Strings\n",
    "\n",
    "To avoid Python escaping the RegEx patterns, prefix the patter with 'r'."
   ]
  },
  {
   "cell_type": "markdown",
   "id": "90420984-d453-4254-a8a1-18f618a52ead",
   "metadata": {},
   "source": [
    "## Regex Cheat Sheet\n",
    "\n",
    "source: https://regexone.com\n",
    "\n",
    "For an excellent interactive tutorial, go to https://regexone.com/lesson/introduction_abcs\n",
    "\n",
    "To test and learn more about RegEx, https://regexr.com/ is also a helpful site.\n",
    "\n",
    "abc…\tLetters<br>\n",
    "123…\tDigits<br>\n",
    "\\d\tAny Digit<br>\n",
    "\\D\tAny Non-digit character<br>\n",
    ".\tAny Character<br>\n",
    "\\.\tPeriod<br>\n",
    "[abc]\tOnly a, b, or c<br>\n",
    "[^abc]\tNot a, b, nor c<br>\n",
    "[a-z]\tCharacters a to z<br>\n",
    "[0-9]\tNumbers 0 to 9<br>\n",
    "\\w\tAny Alphanumeric character<br>\n",
    "\\W\tAny Non-alphanumeric character<br>\n",
    "{m}\tm Repetitions<br>\n",
    "{m,n}\tm to n Repetitions<br>\n",
    "\\*\tZero or more repetitions<br>\n",
    "\\+\tOne or more repetitions<br>\n",
    "?\tOptional character<br>\n",
    "\\s\tAny Whitespace<br>\n",
    "\\S\tAny Non-whitespace character<br>\n",
    "^…$\tStarts and ends<br>\n",
    "(…)\tCapture Group<br>\n",
    "(a(bc))\tCapture Sub-group<br>\n",
    "(.*)\tCapture all<br>\n",
    "(abc|def)\tMatches abc or def<br>"
   ]
  },
  {
   "cell_type": "code",
   "execution_count": 37,
   "id": "e447d2dc-9d73-4caa-89f8-55f315aefe9b",
   "metadata": {},
   "outputs": [
    {
     "name": "stdout",
     "output_type": "stream",
     "text": [
      "['Fire: From stephen.marquard@uct.ac.za Sat Jan 5 09:14:16 2008 Return-Path: <postmaster@collab.sakaiproject.org> for <source@collab.sakaiproject.org>;Received:']\n",
      "found text is of type <class 'list'>\n"
     ]
    }
   ],
   "source": [
    "# Import the built-in Regular Expressions package\n",
    "import re\n",
    "import pprint as pp\n",
    "\n",
    "email_header = \"Fire: From stephen.marquard@uct.ac.za Sat Jan 5 09:14:16 2008 Return-Path: <postmaster@collab.sakaiproject.org> for <source@collab.sakaiproject.org>;Received: (from apache@localhost) Author:  stephen.marquard@uct.ac\"\n",
    "\n",
    "found_text = re.findall('^F.+:', email_header)\n",
    "print(found_text)\n",
    "print(\"found text is of type\",type(found_text))\n",
    "\n",
    "# author = re.findall('Author:\\s+\\S+', email_header)\n",
    "# print(author)"
   ]
  },
  {
   "cell_type": "code",
   "execution_count": 39,
   "id": "c10e46bf-27f7-42ad-94a4-610889127acb",
   "metadata": {},
   "outputs": [
    {
     "name": "stdout",
     "output_type": "stream",
     "text": [
      "['09:14:16']\n",
      "found text is of type <class 'list'>\n",
      "['Author:  stephen.marquard@uct.ac']\n"
     ]
    }
   ],
   "source": [
    "# Import the built-in Regular Expressions package\n",
    "import re\n",
    "import pprint as pp\n",
    "\n",
    "email_header = \"Fire: From stephen.marquard@uct.ac.za Sat Jan 5 09:14:16 2008 Return-Path: <postmaster@collab.sakaiproject.org> for <source@collab.sakaiproject.org>;Received: (from apache@localhost) Author:  stephen.marquard@uct.ac\"\n",
    "\n",
    "found_text = re.findall('\\d\\d:\\d\\d:\\d\\d', email_header)\n",
    "print(found_text)\n",
    "print(\"found text is of type\",type(found_text))\n",
    "\n",
    "author = re.findall('Author:\\s+\\S+', email_header)\n",
    "print(author)"
   ]
  },
  {
   "cell_type": "code",
   "execution_count": null,
   "id": "6feec017-570c-43f1-868c-2249824d6940",
   "metadata": {},
   "outputs": [],
   "source": [
    "mboxfile = open(\"files/mbox-short.txt\", \"r\")\n",
    "\n",
    "for line in mboxfile:\n",
    "    line = line.rstrip()\n",
    "    \n",
    "    # Search for lines that start with 'F', followed by 2 characters, followed by 'm:'\n",
    "    if re.search('F..m:', line):        \n",
    "        print(line)\n",
    "mboxfile.close()"
   ]
  },
  {
   "cell_type": "code",
   "execution_count": null,
   "id": "b8abeade-5dc5-48da-be9f-541a6f7fa819",
   "metadata": {},
   "outputs": [],
   "source": [
    "# Store all email addresses into a list (deep treatment of finding emails usign Regex: https://www.regular-expressions.info/email.html)\n",
    "mboxfile = open(\"files//mbox-short.txt\", \"r\")\n",
    "all_emails_list = []\n",
    "for line in mboxfile:\n",
    "    line = line.rstrip()\n",
    "    #x = re.findall('\\S+@\\S+\\.\\D\\D\\D', line)\n",
    "    x = re.findall('[A-Za-z0-9._%+-]+@(?:[A-Za-z0-9-]+\\.)+[A-Za-z]{2,}', line)\n",
    "    if len(x) > 0:\n",
    "        all_emails_list.extend(x)\n",
    "print(len(all_emails_list))\n",
    "pp.pprint(all_emails_list) # Many duplicate emails\n"
   ]
  },
  {
   "cell_type": "code",
   "execution_count": null,
   "id": "5914a938-7ddd-47d2-9cdb-bc1c838dbde6",
   "metadata": {},
   "outputs": [],
   "source": [
    "mystring = 'hello, a my friend'\n",
    "mystring.title()"
   ]
  },
  {
   "cell_type": "code",
   "execution_count": null,
   "id": "90b28723-9871-41ba-9b2f-70e961c6b2f2",
   "metadata": {},
   "outputs": [],
   "source": [
    "list((set(all_emails_list)))"
   ]
  },
  {
   "cell_type": "code",
   "execution_count": null,
   "id": "a50d49c2-2939-4906-8a72-d36a41c639ca",
   "metadata": {},
   "outputs": [],
   "source": [
    "mboxfile = open(\"files\\\\mbox-short.txt\", \"r\")\n",
    "all_emails_list = []\n",
    "for line in mboxfile:\n",
    "    line = line.rstrip()\n",
    "    x = re.findall('rev=.....', line)\n",
    "    if len(x) > 0:\n",
    "        all_emails_list.extend(x)\n",
    "\n",
    "print(all_emails_list)\n",
    "all_revs_set = set(all_emails_list)\n",
    "print(len(all_revs_set))"
   ]
  },
  {
   "cell_type": "code",
   "execution_count": null,
   "id": "685090a4-93c1-46d0-805a-dc71515ce5e2",
   "metadata": {},
   "outputs": [],
   "source": []
  }
 ],
 "metadata": {
  "kernelspec": {
   "display_name": "Python 3 (ipykernel)",
   "language": "python",
   "name": "python3"
  },
  "language_info": {
   "codemirror_mode": {
    "name": "ipython",
    "version": 3
   },
   "file_extension": ".py",
   "mimetype": "text/x-python",
   "name": "python",
   "nbconvert_exporter": "python",
   "pygments_lexer": "ipython3",
   "version": "3.9.12"
  }
 },
 "nbformat": 4,
 "nbformat_minor": 5
}
