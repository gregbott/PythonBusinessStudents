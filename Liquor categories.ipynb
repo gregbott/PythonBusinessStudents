{
 "cells": [
  {
   "cell_type": "markdown",
   "id": "fc020095-0af7-492b-a6b2-439727d4deca",
   "metadata": {
    "editable": true,
    "slideshow": {
     "slide_type": ""
    },
    "tags": []
   },
   "source": [
    "Whiskey (or Whisky):\n",
    "\n",
    "    Includes Scotch whisky, Bourbon, Rye whiskey, and more.\n",
    "    Typically made from fermented grain mash (such as barley, corn, rye, or wheat).\n",
    "    Aged in wooden barrels, which gives it its distinct flavor.\n",
    "\n",
    "Vodka:\n",
    "\n",
    "    A clear, neutral spirit.\n",
    "    Often made from grains, potatoes, or other agricultural products.\n",
    "    Known for its purity and lack of strong flavor.\n",
    "\n",
    "Rum:\n",
    "\n",
    "    Made from sugarcane byproducts such as molasses or sugarcane juice.\n",
    "    Can vary widely in flavor, ranging from light to dark and spiced varieties.\n",
    "\n",
    "Gin:\n",
    "\n",
    "    Flavored primarily with juniper berries and other botanicals.\n",
    "    Known for its herbal and aromatic qualities.\n",
    "\n",
    "Tequila:\n",
    "\n",
    "    Made from the blue agave plant, primarily in Mexico.\n",
    "    Categories include blanco (silver), reposado (rested), and añejo (aged) tequila.\n",
    "\n",
    "Brandy:\n",
    "\n",
    "    Made by distilling wine or fermented fruit juice.\n",
    "    Varieties include Cognac, Armagnac, and fruit brandies.\n",
    "\n",
    "Liqueurs:\n",
    "\n",
    "    Sweetened spirits flavored with fruits, herbs, spices, or other natural flavorings.\n",
    "    Examples include Amaretto, Grand Marnier, and Kahlúa.\n",
    "\n",
    "Beer:\n",
    "     Beer is an alcoholic beverage made through the fermentation of malted grains, typically barley, by yeast. It is characterized by its carbonation, flavor, and often its color, which can range from pale yellow to deep brown or black."
   ]
  },
  {
   "cell_type": "code",
   "execution_count": null,
   "id": "17659627-d10a-42da-b602-74aaea628797",
   "metadata": {},
   "outputs": [],
   "source": []
  }
 ],
 "metadata": {
  "kernelspec": {
   "display_name": "Python 3 (ipykernel)",
   "language": "python",
   "name": "python3"
  },
  "language_info": {
   "codemirror_mode": {
    "name": "ipython",
    "version": 3
   },
   "file_extension": ".py",
   "mimetype": "text/x-python",
   "name": "python",
   "nbconvert_exporter": "python",
   "pygments_lexer": "ipython3",
   "version": "3.10.12"
  }
 },
 "nbformat": 4,
 "nbformat_minor": 5
}
