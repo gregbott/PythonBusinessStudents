{
 "cells": [
  {
   "cell_type": "markdown",
   "id": "3cba2d74-18b0-4320-9574-a030e9ea0ea7",
   "metadata": {},
   "source": [
    "# What is Pandas?\n",
    "<a id=\"pandas\"> </a>\n",
    "\n",
    "The `pandas` package is one of the most popular Python tools for data management and manipulation. `pandas` is built *on top* of `numpy`. Thus, much of the functionality and methods that are available in `numpy` are also available in `pandas`. "
   ]
  },
  {
   "cell_type": "markdown",
   "id": "f8ce6256-6b5b-419a-9145-82b257e14155",
   "metadata": {},
   "source": [
    "## Getting started\n",
    "The`pandas` package is included with Anconda, but can be installed using either `conda` or `pip`.\n",
    "```Python\n",
    "# Use default channel\n",
    "conda install pandas\n",
    "\n",
    "# Specify the conda-forge channel\n",
    "conda install -c conda-forge pandas\n",
    "\n",
    "# Use pip\n",
    "pip install pandas\n",
    "\n",
    "```"
   ]
  },
  {
   "cell_type": "markdown",
   "id": "a3867869-4625-4a7a-8d3a-e63bdabad71d",
   "metadata": {},
   "source": [
    "### Set max rows/columns"
   ]
  },
  {
   "cell_type": "markdown",
   "id": "bd52f304-9043-4fba-8ebb-44760f2eb801",
   "metadata": {},
   "source": [
    "To see more than the default number of rows and column, set the display options."
   ]
  },
  {
   "cell_type": "code",
   "execution_count": 57,
   "id": "6e9f6695-cde0-4461-8158-b7466bd9ae85",
   "metadata": {},
   "outputs": [],
   "source": [
    "import pandas as pd\n",
    "\n",
    "pd.set_option('display.max_columns', 85)\n",
    "pd.set_option('display.max_rows', 85)"
   ]
  },
  {
   "cell_type": "markdown",
   "id": "0a15a2c7-58a0-473c-beed-d5c062563621",
   "metadata": {},
   "source": [
    "# Series and DataFrames\n",
    "A pandas Series object is a one-dimensional labeled array that can hold any data type. It is one of two fundamental data structures provided by the pandas library. The other data structure is the DataFrame, which we'll examine next. Isolating a single column from a DataFrame results in a Series object.\n",
    "\n",
    "A Series consists of two main components: the index and the data. The index provides labels for each element in the Series, allowing for easy and efficient data access and alignment. The data component contains the actual values.\n",
    "\n",
    "You can create a Series using various data sources, such as lists, arrays, dictionaries, DataFrames, or even other Series objects. Here's an example of creating a Series from a list:"
   ]
  },
  {
   "cell_type": "code",
   "execution_count": 58,
   "id": "96a84673-40f3-461a-9e32-a885c016ca7a",
   "metadata": {},
   "outputs": [],
   "source": [
    "import pandas as pd"
   ]
  },
  {
   "cell_type": "code",
   "execution_count": 59,
   "id": "57ccf6de-9f87-4a46-af3b-0efd610d4d62",
   "metadata": {},
   "outputs": [
    {
     "data": {
      "text/plain": [
       "0     88.0\n",
       "1     67.0\n",
       "2    100.0\n",
       "3     92.0\n",
       "4      NaN\n",
       "5     95.0\n",
       "6     82.0\n",
       "7    100.0\n",
       "8    100.0\n",
       "9     95.0\n",
       "dtype: float64"
      ]
     },
     "execution_count": 59,
     "metadata": {},
     "output_type": "execute_result"
    }
   ],
   "source": [
    "grades = [88, 67, 100, 92, None, 95, 82, 100, 100, 95]\n",
    "grade_series = pd.Series(grades)\n",
    "grade_series"
   ]
  },
  {
   "cell_type": "markdown",
   "id": "31bfa74e-30ec-456f-bbca-cbbe252721d9",
   "metadata": {},
   "source": [
    "Note that a default index is added to the grades to create the series object.\n",
    "\n",
    "Alternatively, you can specify an index. In this case, the stduent ID is provided as the index."
   ]
  },
  {
   "cell_type": "code",
   "execution_count": 60,
   "id": "8d2f45cf-f84e-4ab7-be9d-1710734a6be5",
   "metadata": {},
   "outputs": [
    {
     "data": {
      "text/plain": [
       "dmac         88.0\n",
       "edev         67.0\n",
       "joeb        100.0\n",
       "tdog         92.0\n",
       "txroy         NaN\n",
       "sthicks      95.0\n",
       "jfrerk       82.0\n",
       "spickard    100.0\n",
       "choenes     100.0\n",
       "jsisson      95.0\n",
       "dtype: float64"
      ]
     },
     "execution_count": 60,
     "metadata": {},
     "output_type": "execute_result"
    }
   ],
   "source": [
    "grades = [88, 67, 100, 92, None, 95, 82, 100, 100, 95]\n",
    "students = ['dmac', 'edev', 'joeb', 'tdog', 'txroy', 'sthicks', 'jfrerk', 'spickard', 'choenes', 'jsisson']\n",
    "student_grades_series = pd.Series(grades, students)\n",
    "student_grades_series"
   ]
  },
  {
   "cell_type": "markdown",
   "id": "ee54565a-6463-448d-ad15-cc22be90278f",
   "metadata": {},
   "source": [
    "Understanding what type of object you're working with is important in any programming language. Different objects (classes) have different methods and attributes. A pandas Series object has different methods and attributes than a pandas DataFrame. Below is a partial listing of the methods available with Series objects."
   ]
  },
  {
   "cell_type": "markdown",
   "id": "d4804255-7e42-41c7-bd35-1237182856ef",
   "metadata": {},
   "source": [
    "## Series functions"
   ]
  },
  {
   "cell_type": "markdown",
   "id": "e0baa78b-2055-449b-86f4-8dbedce817e5",
   "metadata": {},
   "source": [
    "### head()/tail()\n",
    "View the first few or last few items in a Series using head/tail."
   ]
  },
  {
   "cell_type": "code",
   "execution_count": 61,
   "id": "41e09fd1-7570-44b0-ad71-74b07c9115c8",
   "metadata": {},
   "outputs": [
    {
     "data": {
      "text/plain": [
       "0     88.0\n",
       "1     67.0\n",
       "2    100.0\n",
       "3     92.0\n",
       "4      NaN\n",
       "5     95.0\n",
       "6     82.0\n",
       "7    100.0\n",
       "8    100.0\n",
       "9     95.0\n",
       "dtype: float64"
      ]
     },
     "execution_count": 61,
     "metadata": {},
     "output_type": "execute_result"
    }
   ],
   "source": [
    "grade_series.head(10)"
   ]
  },
  {
   "cell_type": "code",
   "execution_count": 62,
   "id": "297b4611-cb6c-482b-a038-753c686d881f",
   "metadata": {},
   "outputs": [
    {
     "data": {
      "text/plain": [
       "5     95.0\n",
       "6     82.0\n",
       "7    100.0\n",
       "8    100.0\n",
       "9     95.0\n",
       "dtype: float64"
      ]
     },
     "execution_count": 62,
     "metadata": {},
     "output_type": "execute_result"
    }
   ],
   "source": [
    "grade_series.tail()"
   ]
  },
  {
   "cell_type": "markdown",
   "id": "e318871f-a08a-44c8-98ca-077f93dd8969",
   "metadata": {},
   "source": [
    "### Math functions\n",
    "* describe() - Display descriptive statistics of your data using the ```describe()``` function.\n",
    "* sum()\n",
    "* min()\n",
    "* max()\n",
    "* mean()\n",
    "* median()\n",
    "* std()"
   ]
  },
  {
   "cell_type": "code",
   "execution_count": 63,
   "id": "b826f001-6efe-4872-a0af-db6e8c14d166",
   "metadata": {},
   "outputs": [
    {
     "data": {
      "text/plain": [
       "count      9.000000\n",
       "mean      91.000000\n",
       "std       10.851267\n",
       "min       67.000000\n",
       "25%       88.000000\n",
       "50%       95.000000\n",
       "75%      100.000000\n",
       "max      100.000000\n",
       "dtype: float64"
      ]
     },
     "execution_count": 63,
     "metadata": {},
     "output_type": "execute_result"
    }
   ],
   "source": [
    "grade_series.describe()"
   ]
  },
  {
   "cell_type": "code",
   "execution_count": 64,
   "id": "6545663b-3ab5-403f-b5be-20b1a468cde0",
   "metadata": {},
   "outputs": [
    {
     "data": {
      "text/plain": [
       "67.0"
      ]
     },
     "execution_count": 64,
     "metadata": {},
     "output_type": "execute_result"
    }
   ],
   "source": [
    "grade_series.min()"
   ]
  },
  {
   "cell_type": "code",
   "execution_count": 65,
   "id": "7e0ba24b-895b-4c65-9cd4-5a1cc516a7c8",
   "metadata": {},
   "outputs": [
    {
     "data": {
      "text/plain": [
       "95.0"
      ]
     },
     "execution_count": 65,
     "metadata": {},
     "output_type": "execute_result"
    }
   ],
   "source": [
    "grade_series.median()"
   ]
  },
  {
   "cell_type": "markdown",
   "id": "a8a153d2-51d8-49b7-b11c-968ddba171fb",
   "metadata": {},
   "source": [
    "### Data Manipulation Functions\n",
    "* isnull() - checks for missing values (null/NaN)\n",
    "* unique() - returns an list of unique values\n",
    "* value_counts() - returns the fequencies of unique values\n",
    "* apply(function) - applies a function to each element\n",
    "* dropna() - returns a new series with missing values removed"
   ]
  },
  {
   "cell_type": "markdown",
   "id": "27ca9097-d3b3-4334-af46-122305a9d929",
   "metadata": {},
   "source": [
    "### isnull()\n",
    "Use ```isnull()``` to check for null values. A True/False series is returned, which corresponds to each item in the series. True indicates the value is null (NaN). NaN means \"Not a Number.\""
   ]
  },
  {
   "cell_type": "code",
   "execution_count": 66,
   "id": "fb976ad6-2d8c-4edb-a77f-eac98141e6a3",
   "metadata": {},
   "outputs": [
    {
     "data": {
      "text/plain": [
       "0    False\n",
       "1    False\n",
       "2    False\n",
       "3    False\n",
       "4     True\n",
       "5    False\n",
       "6    False\n",
       "7    False\n",
       "8    False\n",
       "9    False\n",
       "dtype: bool"
      ]
     },
     "execution_count": 66,
     "metadata": {},
     "output_type": "execute_result"
    }
   ],
   "source": [
    "grade_series.isnull()"
   ]
  },
  {
   "cell_type": "markdown",
   "id": "77ef2096-97eb-4a86-b646-0c86e30a7fb7",
   "metadata": {},
   "source": [
    "### unique() - Find unique values"
   ]
  },
  {
   "cell_type": "code",
   "execution_count": 67,
   "id": "64f49abd-c2a6-4191-b0d0-9e098bef014e",
   "metadata": {},
   "outputs": [
    {
     "name": "stdout",
     "output_type": "stream",
     "text": [
      "[ 88.  67. 100.  92.  nan  95.  82.]\n"
     ]
    }
   ],
   "source": [
    "print(grade_series.unique())"
   ]
  },
  {
   "cell_type": "markdown",
   "id": "b5581df2-ce15-4505-86b8-021c9a856c35",
   "metadata": {},
   "source": [
    "### apply() function\n",
    "Use the apply function to modify every item in a series using a standard or custom function. In this example, we use a custom function to create a series containing the letter grade."
   ]
  },
  {
   "cell_type": "code",
   "execution_count": 68,
   "id": "c0923e24-79eb-4f0a-b636-4301041e8724",
   "metadata": {},
   "outputs": [],
   "source": [
    "def number_to_letter_grade(score):\n",
    "\n",
    "    if score > 89:\n",
    "        return \"A\"\n",
    "    elif score > 79:\n",
    "        return \"B\"\n",
    "    elif score > 69:\n",
    "        return \"C\"\n",
    "    elif score > 59:\n",
    "        return \"D\"\n",
    "    else:\n",
    "        return None\n",
    "    "
   ]
  },
  {
   "cell_type": "code",
   "execution_count": 69,
   "id": "d1d578d5-f3b8-49db-bdee-25f7b6ff2bfb",
   "metadata": {},
   "outputs": [
    {
     "data": {
      "text/plain": [
       "'D'"
      ]
     },
     "execution_count": 69,
     "metadata": {},
     "output_type": "execute_result"
    }
   ],
   "source": [
    "number_to_letter_grade(62)"
   ]
  },
  {
   "cell_type": "markdown",
   "id": "12803cd2-d67a-411c-839f-de96c31b225f",
   "metadata": {},
   "source": [
    "apply() - Modifying values using a function"
   ]
  },
  {
   "cell_type": "code",
   "execution_count": 70,
   "id": "d43d0dc4-ef1f-40b7-8670-37bfbf305df1",
   "metadata": {},
   "outputs": [],
   "source": [
    "letter_series = grade_series.apply(number_to_letter_grade)"
   ]
  },
  {
   "cell_type": "code",
   "execution_count": 71,
   "id": "0c531ea4-5028-417c-b815-90f395f75a60",
   "metadata": {},
   "outputs": [
    {
     "data": {
      "text/plain": [
       "0       B\n",
       "1       D\n",
       "2       A\n",
       "3       A\n",
       "4    None\n",
       "5       A\n",
       "6       B\n",
       "7       A\n",
       "8       A\n",
       "9       A\n",
       "dtype: object"
      ]
     },
     "execution_count": 71,
     "metadata": {},
     "output_type": "execute_result"
    }
   ],
   "source": [
    "letter_series"
   ]
  },
  {
   "cell_type": "code",
   "execution_count": 72,
   "id": "3d6629de-249c-4336-a43e-8670d28d71c1",
   "metadata": {},
   "outputs": [
    {
     "data": {
      "text/plain": [
       "0     88.0\n",
       "1     67.0\n",
       "2    100.0\n",
       "3     92.0\n",
       "5     95.0\n",
       "6     82.0\n",
       "7    100.0\n",
       "8    100.0\n",
       "9     95.0\n",
       "dtype: float64"
      ]
     },
     "execution_count": 72,
     "metadata": {},
     "output_type": "execute_result"
    }
   ],
   "source": [
    "grades_no_missing = grade_series.dropna()\n",
    "grades_no_missing"
   ]
  },
  {
   "cell_type": "markdown",
   "id": "017f815f-3f4a-433a-b094-bd21e36f7f9b",
   "metadata": {},
   "source": [
    "Notice that the None/null/NaN item has been removed."
   ]
  },
  {
   "cell_type": "markdown",
   "id": "c69e12d0-be3a-4be6-85f5-cf9fd9868399",
   "metadata": {},
   "source": [
    "# Indexes"
   ]
  },
  {
   "cell_type": "markdown",
   "id": "26787a3e-a152-418d-a2ba-eca7988b3829",
   "metadata": {},
   "source": [
    "# Locating and Filtering data"
   ]
  },
  {
   "cell_type": "code",
   "execution_count": 73,
   "id": "122e7920-3b0c-4620-90f8-3fd588faf939",
   "metadata": {},
   "outputs": [
    {
     "name": "stdout",
     "output_type": "stream",
     "text": [
      "(200, 12)\n"
     ]
    },
    {
     "data": {
      "text/html": [
       "<div>\n",
       "<style scoped>\n",
       "    .dataframe tbody tr th:only-of-type {\n",
       "        vertical-align: middle;\n",
       "    }\n",
       "\n",
       "    .dataframe tbody tr th {\n",
       "        vertical-align: top;\n",
       "    }\n",
       "\n",
       "    .dataframe thead th {\n",
       "        text-align: right;\n",
       "    }\n",
       "</style>\n",
       "<table border=\"1\" class=\"dataframe\">\n",
       "  <thead>\n",
       "    <tr style=\"text-align: right;\">\n",
       "      <th></th>\n",
       "      <th>First Name</th>\n",
       "      <th>Last Name</th>\n",
       "      <th>Gender</th>\n",
       "      <th>Age</th>\n",
       "      <th>Email</th>\n",
       "      <th>Phone</th>\n",
       "      <th>Education</th>\n",
       "      <th>Occupation</th>\n",
       "      <th>Experience (Years)</th>\n",
       "      <th>Salary</th>\n",
       "      <th>Marital Status</th>\n",
       "      <th>Number of Children</th>\n",
       "    </tr>\n",
       "  </thead>\n",
       "  <tbody>\n",
       "    <tr>\n",
       "      <th>0</th>\n",
       "      <td>amy</td>\n",
       "      <td>moore</td>\n",
       "      <td>Female</td>\n",
       "      <td>26</td>\n",
       "      <td>a.moore@randatmail.com</td>\n",
       "      <td>177-8697-63</td>\n",
       "      <td>Bachelor</td>\n",
       "      <td>Astronomer</td>\n",
       "      <td>11</td>\n",
       "      <td>118590</td>\n",
       "      <td>Married</td>\n",
       "      <td>4</td>\n",
       "    </tr>\n",
       "    <tr>\n",
       "      <th>1</th>\n",
       "      <td>rosie</td>\n",
       "      <td>henderson</td>\n",
       "      <td>Female</td>\n",
       "      <td>29</td>\n",
       "      <td>r.henderson@randatmail.com</td>\n",
       "      <td>747-7768-48</td>\n",
       "      <td>Primary</td>\n",
       "      <td>Manager</td>\n",
       "      <td>14</td>\n",
       "      <td>42540</td>\n",
       "      <td>Single</td>\n",
       "      <td>1</td>\n",
       "    </tr>\n",
       "    <tr>\n",
       "      <th>2</th>\n",
       "      <td>garry</td>\n",
       "      <td>cooper</td>\n",
       "      <td>Male</td>\n",
       "      <td>29</td>\n",
       "      <td>g.cooper@randatmail.com</td>\n",
       "      <td>131-0615-33</td>\n",
       "      <td>Upper secondary</td>\n",
       "      <td>Agronamist</td>\n",
       "      <td>11</td>\n",
       "      <td>149123</td>\n",
       "      <td>Single</td>\n",
       "      <td>3</td>\n",
       "    </tr>\n",
       "    <tr>\n",
       "      <th>3</th>\n",
       "      <td>sarah</td>\n",
       "      <td>miller</td>\n",
       "      <td>Female</td>\n",
       "      <td>27</td>\n",
       "      <td>s.miller@randatmail.com</td>\n",
       "      <td>811-2617-15</td>\n",
       "      <td>Primary</td>\n",
       "      <td>Pharmacist</td>\n",
       "      <td>6</td>\n",
       "      <td>97946</td>\n",
       "      <td>Single</td>\n",
       "      <td>2</td>\n",
       "    </tr>\n",
       "    <tr>\n",
       "      <th>4</th>\n",
       "      <td>rubie</td>\n",
       "      <td>sullivan</td>\n",
       "      <td>Female</td>\n",
       "      <td>23</td>\n",
       "      <td>r.sullivan@randatmail.com</td>\n",
       "      <td>543-4162-06</td>\n",
       "      <td>Bachelor</td>\n",
       "      <td>Engineer</td>\n",
       "      <td>8</td>\n",
       "      <td>78613</td>\n",
       "      <td>Married</td>\n",
       "      <td>4</td>\n",
       "    </tr>\n",
       "  </tbody>\n",
       "</table>\n",
       "</div>"
      ],
      "text/plain": [
       "  First Name  Last Name  Gender  Age                       Email        Phone  \\\n",
       "0        amy      moore  Female   26      a.moore@randatmail.com  177-8697-63   \n",
       "1      rosie  henderson  Female   29  r.henderson@randatmail.com  747-7768-48   \n",
       "2      garry     cooper    Male   29     g.cooper@randatmail.com  131-0615-33   \n",
       "3      sarah     miller  Female   27     s.miller@randatmail.com  811-2617-15   \n",
       "4      rubie   sullivan  Female   23   r.sullivan@randatmail.com  543-4162-06   \n",
       "\n",
       "         Education  Occupation  Experience (Years)  Salary Marital Status  \\\n",
       "0         Bachelor  Astronomer                  11  118590        Married   \n",
       "1          Primary     Manager                  14   42540         Single   \n",
       "2  Upper secondary  Agronamist                  11  149123         Single   \n",
       "3          Primary  Pharmacist                   6   97946         Single   \n",
       "4         Bachelor    Engineer                   8   78613        Married   \n",
       "\n",
       "   Number of Children  \n",
       "0                   4  \n",
       "1                   1  \n",
       "2                   3  \n",
       "3                   2  \n",
       "4                   4  "
      ]
     },
     "execution_count": 73,
     "metadata": {},
     "output_type": "execute_result"
    }
   ],
   "source": [
    "import pandas as pd\n",
    "df_people = pd.read_csv('files/people_data.csv')\n",
    "print(df_people.shape)\n",
    "df_people.head()"
   ]
  },
  {
   "cell_type": "markdown",
   "id": "929b870c-6929-4659-b63e-3134d3b4cd2e",
   "metadata": {},
   "source": [
    "## Loading data and specifying an index\n",
    "If the data you are loading has a column that should be used as an index, you can specify that column as the index. Although there are better attributes to use for an index, we could index individuals using their email address number using the following statement. Note that the Email column appears far left and in bold indicating is is the index."
   ]
  },
  {
   "cell_type": "code",
   "execution_count": 74,
   "id": "ee501655-bd53-4837-b822-18356e7bfa9e",
   "metadata": {},
   "outputs": [
    {
     "data": {
      "text/html": [
       "<div>\n",
       "<style scoped>\n",
       "    .dataframe tbody tr th:only-of-type {\n",
       "        vertical-align: middle;\n",
       "    }\n",
       "\n",
       "    .dataframe tbody tr th {\n",
       "        vertical-align: top;\n",
       "    }\n",
       "\n",
       "    .dataframe thead th {\n",
       "        text-align: right;\n",
       "    }\n",
       "</style>\n",
       "<table border=\"1\" class=\"dataframe\">\n",
       "  <thead>\n",
       "    <tr style=\"text-align: right;\">\n",
       "      <th></th>\n",
       "      <th>First Name</th>\n",
       "      <th>Last Name</th>\n",
       "      <th>Gender</th>\n",
       "      <th>Age</th>\n",
       "      <th>Phone</th>\n",
       "      <th>Education</th>\n",
       "      <th>Occupation</th>\n",
       "      <th>Experience (Years)</th>\n",
       "      <th>Salary</th>\n",
       "      <th>Marital Status</th>\n",
       "      <th>Number of Children</th>\n",
       "    </tr>\n",
       "    <tr>\n",
       "      <th>Email</th>\n",
       "      <th></th>\n",
       "      <th></th>\n",
       "      <th></th>\n",
       "      <th></th>\n",
       "      <th></th>\n",
       "      <th></th>\n",
       "      <th></th>\n",
       "      <th></th>\n",
       "      <th></th>\n",
       "      <th></th>\n",
       "      <th></th>\n",
       "    </tr>\n",
       "  </thead>\n",
       "  <tbody>\n",
       "    <tr>\n",
       "      <th>a.moore@randatmail.com</th>\n",
       "      <td>amy</td>\n",
       "      <td>moore</td>\n",
       "      <td>Female</td>\n",
       "      <td>26</td>\n",
       "      <td>177-8697-63</td>\n",
       "      <td>Bachelor</td>\n",
       "      <td>Astronomer</td>\n",
       "      <td>11</td>\n",
       "      <td>118590</td>\n",
       "      <td>Married</td>\n",
       "      <td>4</td>\n",
       "    </tr>\n",
       "    <tr>\n",
       "      <th>r.henderson@randatmail.com</th>\n",
       "      <td>rosie</td>\n",
       "      <td>henderson</td>\n",
       "      <td>Female</td>\n",
       "      <td>29</td>\n",
       "      <td>747-7768-48</td>\n",
       "      <td>Primary</td>\n",
       "      <td>Manager</td>\n",
       "      <td>14</td>\n",
       "      <td>42540</td>\n",
       "      <td>Single</td>\n",
       "      <td>1</td>\n",
       "    </tr>\n",
       "    <tr>\n",
       "      <th>g.cooper@randatmail.com</th>\n",
       "      <td>garry</td>\n",
       "      <td>cooper</td>\n",
       "      <td>Male</td>\n",
       "      <td>29</td>\n",
       "      <td>131-0615-33</td>\n",
       "      <td>Upper secondary</td>\n",
       "      <td>Agronamist</td>\n",
       "      <td>11</td>\n",
       "      <td>149123</td>\n",
       "      <td>Single</td>\n",
       "      <td>3</td>\n",
       "    </tr>\n",
       "    <tr>\n",
       "      <th>s.miller@randatmail.com</th>\n",
       "      <td>sarah</td>\n",
       "      <td>miller</td>\n",
       "      <td>Female</td>\n",
       "      <td>27</td>\n",
       "      <td>811-2617-15</td>\n",
       "      <td>Primary</td>\n",
       "      <td>Pharmacist</td>\n",
       "      <td>6</td>\n",
       "      <td>97946</td>\n",
       "      <td>Single</td>\n",
       "      <td>2</td>\n",
       "    </tr>\n",
       "    <tr>\n",
       "      <th>r.sullivan@randatmail.com</th>\n",
       "      <td>rubie</td>\n",
       "      <td>sullivan</td>\n",
       "      <td>Female</td>\n",
       "      <td>23</td>\n",
       "      <td>543-4162-06</td>\n",
       "      <td>Bachelor</td>\n",
       "      <td>Engineer</td>\n",
       "      <td>8</td>\n",
       "      <td>78613</td>\n",
       "      <td>Married</td>\n",
       "      <td>4</td>\n",
       "    </tr>\n",
       "  </tbody>\n",
       "</table>\n",
       "</div>"
      ],
      "text/plain": [
       "                           First Name  Last Name  Gender  Age        Phone  \\\n",
       "Email                                                                        \n",
       "a.moore@randatmail.com            amy      moore  Female   26  177-8697-63   \n",
       "r.henderson@randatmail.com      rosie  henderson  Female   29  747-7768-48   \n",
       "g.cooper@randatmail.com         garry     cooper    Male   29  131-0615-33   \n",
       "s.miller@randatmail.com         sarah     miller  Female   27  811-2617-15   \n",
       "r.sullivan@randatmail.com       rubie   sullivan  Female   23  543-4162-06   \n",
       "\n",
       "                                  Education  Occupation  Experience (Years)  \\\n",
       "Email                                                                         \n",
       "a.moore@randatmail.com             Bachelor  Astronomer                  11   \n",
       "r.henderson@randatmail.com          Primary     Manager                  14   \n",
       "g.cooper@randatmail.com     Upper secondary  Agronamist                  11   \n",
       "s.miller@randatmail.com             Primary  Pharmacist                   6   \n",
       "r.sullivan@randatmail.com          Bachelor    Engineer                   8   \n",
       "\n",
       "                            Salary Marital Status  Number of Children  \n",
       "Email                                                                  \n",
       "a.moore@randatmail.com      118590        Married                   4  \n",
       "r.henderson@randatmail.com   42540         Single                   1  \n",
       "g.cooper@randatmail.com     149123         Single                   3  \n",
       "s.miller@randatmail.com      97946         Single                   2  \n",
       "r.sullivan@randatmail.com    78613        Married                   4  "
      ]
     },
     "execution_count": 74,
     "metadata": {},
     "output_type": "execute_result"
    }
   ],
   "source": [
    "df_people = pd.read_csv('files/people_data.csv', index_col = 'Email')\n",
    "df_people.head()"
   ]
  },
  {
   "cell_type": "code",
   "execution_count": 75,
   "id": "e17c8e83-b48c-4887-82f8-aaa3637183d2",
   "metadata": {},
   "outputs": [
    {
     "data": {
      "text/html": [
       "<div>\n",
       "<style scoped>\n",
       "    .dataframe tbody tr th:only-of-type {\n",
       "        vertical-align: middle;\n",
       "    }\n",
       "\n",
       "    .dataframe tbody tr th {\n",
       "        vertical-align: top;\n",
       "    }\n",
       "\n",
       "    .dataframe thead th {\n",
       "        text-align: right;\n",
       "    }\n",
       "</style>\n",
       "<table border=\"1\" class=\"dataframe\">\n",
       "  <thead>\n",
       "    <tr style=\"text-align: right;\">\n",
       "      <th></th>\n",
       "      <th>First Name</th>\n",
       "      <th>Last Name</th>\n",
       "      <th>Age</th>\n",
       "    </tr>\n",
       "    <tr>\n",
       "      <th>Email</th>\n",
       "      <th></th>\n",
       "      <th></th>\n",
       "      <th></th>\n",
       "    </tr>\n",
       "  </thead>\n",
       "  <tbody>\n",
       "    <tr>\n",
       "      <th>a.moore@randatmail.com</th>\n",
       "      <td>amy</td>\n",
       "      <td>moore</td>\n",
       "      <td>26</td>\n",
       "    </tr>\n",
       "    <tr>\n",
       "      <th>r.henderson@randatmail.com</th>\n",
       "      <td>rosie</td>\n",
       "      <td>henderson</td>\n",
       "      <td>29</td>\n",
       "    </tr>\n",
       "    <tr>\n",
       "      <th>g.cooper@randatmail.com</th>\n",
       "      <td>garry</td>\n",
       "      <td>cooper</td>\n",
       "      <td>29</td>\n",
       "    </tr>\n",
       "    <tr>\n",
       "      <th>s.miller@randatmail.com</th>\n",
       "      <td>sarah</td>\n",
       "      <td>miller</td>\n",
       "      <td>27</td>\n",
       "    </tr>\n",
       "    <tr>\n",
       "      <th>r.sullivan@randatmail.com</th>\n",
       "      <td>rubie</td>\n",
       "      <td>sullivan</td>\n",
       "      <td>23</td>\n",
       "    </tr>\n",
       "  </tbody>\n",
       "</table>\n",
       "</div>"
      ],
      "text/plain": [
       "                           First Name  Last Name  Age\n",
       "Email                                                \n",
       "a.moore@randatmail.com            amy      moore   26\n",
       "r.henderson@randatmail.com      rosie  henderson   29\n",
       "g.cooper@randatmail.com         garry     cooper   29\n",
       "s.miller@randatmail.com         sarah     miller   27\n",
       "r.sullivan@randatmail.com       rubie   sullivan   23"
      ]
     },
     "execution_count": 75,
     "metadata": {},
     "output_type": "execute_result"
    }
   ],
   "source": [
    "df_people.iloc[:5,[0,1,3]]"
   ]
  },
  {
   "cell_type": "markdown",
   "id": "890a424d-eec9-4131-8af9-42451580b026",
   "metadata": {},
   "source": [
    "The iloc function in pandas is used for indexing and selecting data from a DataFrame based on integer positions. It allows you to specify row and column indices to access specific data points or subsets of the DataFrame.\n",
    "\n",
    "The general syntax of iloc is:\n",
    "\n",
    "```Python\n",
    "df.iloc[row_index(s), column_index(s)]\n",
    "\n",
    "\n",
    "```"
   ]
  },
  {
   "cell_type": "code",
   "execution_count": 76,
   "id": "4a1b2343-ebe2-4fe1-906a-27e05a4bd08d",
   "metadata": {},
   "outputs": [
    {
     "data": {
      "text/plain": [
       "First Name                  rosie\n",
       "Last Name               henderson\n",
       "Gender                     Female\n",
       "Age                            29\n",
       "Phone                 747-7768-48\n",
       "Education                 Primary\n",
       "Occupation                Manager\n",
       "Experience (Years)             14\n",
       "Salary                      42540\n",
       "Marital Status             Single\n",
       "Number of Children              1\n",
       "Name: r.henderson@randatmail.com, dtype: object"
      ]
     },
     "execution_count": 76,
     "metadata": {},
     "output_type": "execute_result"
    }
   ],
   "source": [
    "# Return the first row. Since it is one-dimensional, it is returned as a Series.\n",
    "df_people.iloc[1]"
   ]
  },
  {
   "cell_type": "code",
   "execution_count": 77,
   "id": "2e58b40b-bdc1-406d-a1ad-a1f6fef4e8b9",
   "metadata": {},
   "outputs": [
    {
     "data": {
      "text/html": [
       "<div>\n",
       "<style scoped>\n",
       "    .dataframe tbody tr th:only-of-type {\n",
       "        vertical-align: middle;\n",
       "    }\n",
       "\n",
       "    .dataframe tbody tr th {\n",
       "        vertical-align: top;\n",
       "    }\n",
       "\n",
       "    .dataframe thead th {\n",
       "        text-align: right;\n",
       "    }\n",
       "</style>\n",
       "<table border=\"1\" class=\"dataframe\">\n",
       "  <thead>\n",
       "    <tr style=\"text-align: right;\">\n",
       "      <th></th>\n",
       "      <th>First Name</th>\n",
       "      <th>Last Name</th>\n",
       "    </tr>\n",
       "    <tr>\n",
       "      <th>Email</th>\n",
       "      <th></th>\n",
       "      <th></th>\n",
       "    </tr>\n",
       "  </thead>\n",
       "  <tbody>\n",
       "    <tr>\n",
       "      <th>a.moore@randatmail.com</th>\n",
       "      <td>amy</td>\n",
       "      <td>moore</td>\n",
       "    </tr>\n",
       "    <tr>\n",
       "      <th>r.henderson@randatmail.com</th>\n",
       "      <td>rosie</td>\n",
       "      <td>henderson</td>\n",
       "    </tr>\n",
       "    <tr>\n",
       "      <th>g.cooper@randatmail.com</th>\n",
       "      <td>garry</td>\n",
       "      <td>cooper</td>\n",
       "    </tr>\n",
       "    <tr>\n",
       "      <th>s.miller@randatmail.com</th>\n",
       "      <td>sarah</td>\n",
       "      <td>miller</td>\n",
       "    </tr>\n",
       "    <tr>\n",
       "      <th>r.sullivan@randatmail.com</th>\n",
       "      <td>rubie</td>\n",
       "      <td>sullivan</td>\n",
       "    </tr>\n",
       "    <tr>\n",
       "      <th>f.williams@randatmail.com</th>\n",
       "      <td>fiona</td>\n",
       "      <td>williams</td>\n",
       "    </tr>\n",
       "    <tr>\n",
       "      <th>t.carter@randatmail.com</th>\n",
       "      <td>thomas</td>\n",
       "      <td>carter</td>\n",
       "    </tr>\n",
       "    <tr>\n",
       "      <th>s.martin@randatmail.com</th>\n",
       "      <td>sawyer</td>\n",
       "      <td>martin</td>\n",
       "    </tr>\n",
       "  </tbody>\n",
       "</table>\n",
       "</div>"
      ],
      "text/plain": [
       "                           First Name  Last Name\n",
       "Email                                           \n",
       "a.moore@randatmail.com            amy      moore\n",
       "r.henderson@randatmail.com      rosie  henderson\n",
       "g.cooper@randatmail.com         garry     cooper\n",
       "s.miller@randatmail.com         sarah     miller\n",
       "r.sullivan@randatmail.com       rubie   sullivan\n",
       "f.williams@randatmail.com       fiona   williams\n",
       "t.carter@randatmail.com        thomas     carter\n",
       "s.martin@randatmail.com        sawyer     martin"
      ]
     },
     "execution_count": 77,
     "metadata": {},
     "output_type": "execute_result"
    }
   ],
   "source": [
    "# Return the first 8 rows and first 2 columns (the 0 can be ommitted)\n",
    "df_people.iloc[0:8,0:2]"
   ]
  },
  {
   "cell_type": "code",
   "execution_count": 78,
   "id": "b19671a7-04a0-40c2-94e9-88c737aa94a1",
   "metadata": {},
   "outputs": [
    {
     "data": {
      "text/html": [
       "<div>\n",
       "<style scoped>\n",
       "    .dataframe tbody tr th:only-of-type {\n",
       "        vertical-align: middle;\n",
       "    }\n",
       "\n",
       "    .dataframe tbody tr th {\n",
       "        vertical-align: top;\n",
       "    }\n",
       "\n",
       "    .dataframe thead th {\n",
       "        text-align: right;\n",
       "    }\n",
       "</style>\n",
       "<table border=\"1\" class=\"dataframe\">\n",
       "  <thead>\n",
       "    <tr style=\"text-align: right;\">\n",
       "      <th></th>\n",
       "      <th>First Name</th>\n",
       "      <th>Last Name</th>\n",
       "      <th>Marital Status</th>\n",
       "    </tr>\n",
       "    <tr>\n",
       "      <th>Email</th>\n",
       "      <th></th>\n",
       "      <th></th>\n",
       "      <th></th>\n",
       "    </tr>\n",
       "  </thead>\n",
       "  <tbody>\n",
       "    <tr>\n",
       "      <th>r.henderson@randatmail.com</th>\n",
       "      <td>rosie</td>\n",
       "      <td>henderson</td>\n",
       "      <td>Single</td>\n",
       "    </tr>\n",
       "    <tr>\n",
       "      <th>s.miller@randatmail.com</th>\n",
       "      <td>sarah</td>\n",
       "      <td>miller</td>\n",
       "      <td>Single</td>\n",
       "    </tr>\n",
       "    <tr>\n",
       "      <th>f.williams@randatmail.com</th>\n",
       "      <td>fiona</td>\n",
       "      <td>williams</td>\n",
       "      <td>Single</td>\n",
       "    </tr>\n",
       "  </tbody>\n",
       "</table>\n",
       "</div>"
      ],
      "text/plain": [
       "                           First Name  Last Name Marital Status\n",
       "Email                                                          \n",
       "r.henderson@randatmail.com      rosie  henderson         Single\n",
       "s.miller@randatmail.com         sarah     miller         Single\n",
       "f.williams@randatmail.com       fiona   williams         Single"
      ]
     },
     "execution_count": 78,
     "metadata": {},
     "output_type": "execute_result"
    }
   ],
   "source": [
    "# Return rows 1, 3, and 5 and show only the first name, last name, and salary\n",
    "df_people.iloc[[1,3,5],[0,1,9]]"
   ]
  },
  {
   "cell_type": "markdown",
   "id": "e0436c15-09d3-40a3-896f-078768439023",
   "metadata": {},
   "source": [
    "## Using loc()\n",
    "The ```loc()``` function in pandas is used for indexing and selecting data from a DataFrame based on labels. It allows you to specify row and column labels to access specific data points or subsets of the DataFrame.\n",
    "\n",
    "The general syntax of loc is:\n",
    "\n",
    "```Python\n",
    "df.loc[row_label(s), column_label(s)]\n",
    "```"
   ]
  },
  {
   "cell_type": "code",
   "execution_count": 96,
   "id": "8f8ffb37-ef47-4e66-8c47-3df85e7e6b08",
   "metadata": {},
   "outputs": [
    {
     "data": {
      "text/plain": [
       "First Name          rubie\n",
       "Last Name        sullivan\n",
       "Phone         543-4162-06\n",
       "Name: r.sullivan@randatmail.com, dtype: object"
      ]
     },
     "execution_count": 96,
     "metadata": {},
     "output_type": "execute_result"
    }
   ],
   "source": [
    "df_people.loc['r.sullivan@randatmail.com']"
   ]
  },
  {
   "cell_type": "code",
   "execution_count": 98,
   "id": "1f540e6c-3888-4805-941f-5a9734c74121",
   "metadata": {},
   "outputs": [
    {
     "data": {
      "text/html": [
       "<div>\n",
       "<style scoped>\n",
       "    .dataframe tbody tr th:only-of-type {\n",
       "        vertical-align: middle;\n",
       "    }\n",
       "\n",
       "    .dataframe tbody tr th {\n",
       "        vertical-align: top;\n",
       "    }\n",
       "\n",
       "    .dataframe thead th {\n",
       "        text-align: right;\n",
       "    }\n",
       "</style>\n",
       "<table border=\"1\" class=\"dataframe\">\n",
       "  <thead>\n",
       "    <tr style=\"text-align: right;\">\n",
       "      <th></th>\n",
       "      <th>First Name</th>\n",
       "      <th>Last Name</th>\n",
       "      <th>Phone</th>\n",
       "    </tr>\n",
       "    <tr>\n",
       "      <th>Email</th>\n",
       "      <th></th>\n",
       "      <th></th>\n",
       "      <th></th>\n",
       "    </tr>\n",
       "  </thead>\n",
       "  <tbody>\n",
       "    <tr>\n",
       "      <th>r.sullivan@randatmail.com</th>\n",
       "      <td>rubie</td>\n",
       "      <td>sullivan</td>\n",
       "      <td>543-4162-06</td>\n",
       "    </tr>\n",
       "    <tr>\n",
       "      <th>f.williams@randatmail.com</th>\n",
       "      <td>fiona</td>\n",
       "      <td>williams</td>\n",
       "      <td>807-4311-40</td>\n",
       "    </tr>\n",
       "    <tr>\n",
       "      <th>t.carter@randatmail.com</th>\n",
       "      <td>thomas</td>\n",
       "      <td>carter</td>\n",
       "      <td>281-1436-40</td>\n",
       "    </tr>\n",
       "    <tr>\n",
       "      <th>s.martin@randatmail.com</th>\n",
       "      <td>sawyer</td>\n",
       "      <td>martin</td>\n",
       "      <td>905-3877-91</td>\n",
       "    </tr>\n",
       "    <tr>\n",
       "      <th>e.robinson@randatmail.com</th>\n",
       "      <td>eleanor</td>\n",
       "      <td>robinson</td>\n",
       "      <td>049-5493-56</td>\n",
       "    </tr>\n",
       "  </tbody>\n",
       "</table>\n",
       "</div>"
      ],
      "text/plain": [
       "                          First Name Last Name        Phone\n",
       "Email                                                      \n",
       "r.sullivan@randatmail.com      rubie  sullivan  543-4162-06\n",
       "f.williams@randatmail.com      fiona  williams  807-4311-40\n",
       "t.carter@randatmail.com       thomas    carter  281-1436-40\n",
       "s.martin@randatmail.com       sawyer    martin  905-3877-91\n",
       "e.robinson@randatmail.com    eleanor  robinson  049-5493-56"
      ]
     },
     "execution_count": 98,
     "metadata": {},
     "output_type": "execute_result"
    }
   ],
   "source": [
    "df_people.loc['r.sullivan@randatmail.com':'e.robinson@randatmail.com', ['First Name', 'Last Name', 'Phone']]"
   ]
  },
  {
   "cell_type": "code",
   "execution_count": 79,
   "id": "e973bbb6-017d-46c1-a466-eecf7bde6428",
   "metadata": {},
   "outputs": [],
   "source": [
    "married_filter = (df_people['Marital Status'] == \"Married\")"
   ]
  },
  {
   "cell_type": "code",
   "execution_count": 90,
   "id": "b67ce71a-2388-47ed-b372-988c7fe12094",
   "metadata": {},
   "outputs": [
    {
     "data": {
      "text/html": [
       "<div>\n",
       "<style scoped>\n",
       "    .dataframe tbody tr th:only-of-type {\n",
       "        vertical-align: middle;\n",
       "    }\n",
       "\n",
       "    .dataframe tbody tr th {\n",
       "        vertical-align: top;\n",
       "    }\n",
       "\n",
       "    .dataframe thead th {\n",
       "        text-align: right;\n",
       "    }\n",
       "</style>\n",
       "<table border=\"1\" class=\"dataframe\">\n",
       "  <thead>\n",
       "    <tr style=\"text-align: right;\">\n",
       "      <th></th>\n",
       "      <th>First Name</th>\n",
       "      <th>Last Name</th>\n",
       "      <th>Gender</th>\n",
       "      <th>Age</th>\n",
       "      <th>Phone</th>\n",
       "      <th>Education</th>\n",
       "      <th>Occupation</th>\n",
       "      <th>Experience (Years)</th>\n",
       "      <th>Salary</th>\n",
       "      <th>Marital Status</th>\n",
       "      <th>Number of Children</th>\n",
       "    </tr>\n",
       "    <tr>\n",
       "      <th>Email</th>\n",
       "      <th></th>\n",
       "      <th></th>\n",
       "      <th></th>\n",
       "      <th></th>\n",
       "      <th></th>\n",
       "      <th></th>\n",
       "      <th></th>\n",
       "      <th></th>\n",
       "      <th></th>\n",
       "      <th></th>\n",
       "      <th></th>\n",
       "    </tr>\n",
       "  </thead>\n",
       "  <tbody>\n",
       "    <tr>\n",
       "      <th>a.moore@randatmail.com</th>\n",
       "      <td>amy</td>\n",
       "      <td>moore</td>\n",
       "      <td>Female</td>\n",
       "      <td>26</td>\n",
       "      <td>177-8697-63</td>\n",
       "      <td>Bachelor</td>\n",
       "      <td>Astronomer</td>\n",
       "      <td>11</td>\n",
       "      <td>118590</td>\n",
       "      <td>Married</td>\n",
       "      <td>4</td>\n",
       "    </tr>\n",
       "    <tr>\n",
       "      <th>r.sullivan@randatmail.com</th>\n",
       "      <td>rubie</td>\n",
       "      <td>sullivan</td>\n",
       "      <td>Female</td>\n",
       "      <td>23</td>\n",
       "      <td>543-4162-06</td>\n",
       "      <td>Bachelor</td>\n",
       "      <td>Engineer</td>\n",
       "      <td>8</td>\n",
       "      <td>78613</td>\n",
       "      <td>Married</td>\n",
       "      <td>4</td>\n",
       "    </tr>\n",
       "    <tr>\n",
       "      <th>s.martin@randatmail.com</th>\n",
       "      <td>sawyer</td>\n",
       "      <td>martin</td>\n",
       "      <td>Male</td>\n",
       "      <td>20</td>\n",
       "      <td>905-3877-91</td>\n",
       "      <td>Upper secondary</td>\n",
       "      <td>Lawer</td>\n",
       "      <td>7</td>\n",
       "      <td>140405</td>\n",
       "      <td>Married</td>\n",
       "      <td>0</td>\n",
       "    </tr>\n",
       "    <tr>\n",
       "      <th>e.robinson@randatmail.com</th>\n",
       "      <td>eleanor</td>\n",
       "      <td>robinson</td>\n",
       "      <td>Female</td>\n",
       "      <td>20</td>\n",
       "      <td>049-5493-56</td>\n",
       "      <td>Primary</td>\n",
       "      <td>Scientist</td>\n",
       "      <td>6</td>\n",
       "      <td>194147</td>\n",
       "      <td>Married</td>\n",
       "      <td>3</td>\n",
       "    </tr>\n",
       "    <tr>\n",
       "      <th>a.kelley@randatmail.com</th>\n",
       "      <td>adrianna</td>\n",
       "      <td>kelley</td>\n",
       "      <td>Female</td>\n",
       "      <td>22</td>\n",
       "      <td>251-3368-86</td>\n",
       "      <td>Upper secondary</td>\n",
       "      <td>Actor</td>\n",
       "      <td>0</td>\n",
       "      <td>160569</td>\n",
       "      <td>Married</td>\n",
       "      <td>1</td>\n",
       "    </tr>\n",
       "  </tbody>\n",
       "</table>\n",
       "</div>"
      ],
      "text/plain": [
       "                          First Name Last Name  Gender  Age        Phone  \\\n",
       "Email                                                                      \n",
       "a.moore@randatmail.com           amy     moore  Female   26  177-8697-63   \n",
       "r.sullivan@randatmail.com      rubie  sullivan  Female   23  543-4162-06   \n",
       "s.martin@randatmail.com       sawyer    martin    Male   20  905-3877-91   \n",
       "e.robinson@randatmail.com    eleanor  robinson  Female   20  049-5493-56   \n",
       "a.kelley@randatmail.com     adrianna    kelley  Female   22  251-3368-86   \n",
       "\n",
       "                                 Education  Occupation  Experience (Years)  \\\n",
       "Email                                                                        \n",
       "a.moore@randatmail.com            Bachelor  Astronomer                  11   \n",
       "r.sullivan@randatmail.com         Bachelor    Engineer                   8   \n",
       "s.martin@randatmail.com    Upper secondary       Lawer                   7   \n",
       "e.robinson@randatmail.com          Primary   Scientist                   6   \n",
       "a.kelley@randatmail.com    Upper secondary       Actor                   0   \n",
       "\n",
       "                           Salary Marital Status  Number of Children  \n",
       "Email                                                                 \n",
       "a.moore@randatmail.com     118590        Married                   4  \n",
       "r.sullivan@randatmail.com   78613        Married                   4  \n",
       "s.martin@randatmail.com    140405        Married                   0  \n",
       "e.robinson@randatmail.com  194147        Married                   3  \n",
       "a.kelley@randatmail.com    160569        Married                   1  "
      ]
     },
     "execution_count": 90,
     "metadata": {},
     "output_type": "execute_result"
    }
   ],
   "source": [
    "df_email_index = df_people.loc[married_filter]\n",
    "df_email_index.head()"
   ]
  },
  {
   "cell_type": "markdown",
   "id": "3d26d461-7635-4ec6-9680-f7458b4080b3",
   "metadata": {},
   "source": [
    "## Using logic and multiple attributes to locate data\n",
    "If we wanted to find Managers and Engineers who are married, we would use the following filter. Note the use of '&' for 'and' and the vertial bar '|' for 'or'."
   ]
  },
  {
   "cell_type": "code",
   "execution_count": 81,
   "id": "b0b9fb81-d4ec-4c93-bb52-7664628fc909",
   "metadata": {},
   "outputs": [],
   "source": [
    "multi_filter = (df_people['Marital Status'] == \"Married\") & ((df_people['Occupation']=='Manager') | (df_people['Occupation']=='Engineer'))"
   ]
  },
  {
   "cell_type": "code",
   "execution_count": 82,
   "id": "a370fa5a-8fce-4f6e-919e-07175a057084",
   "metadata": {},
   "outputs": [
    {
     "data": {
      "text/html": [
       "<div>\n",
       "<style scoped>\n",
       "    .dataframe tbody tr th:only-of-type {\n",
       "        vertical-align: middle;\n",
       "    }\n",
       "\n",
       "    .dataframe tbody tr th {\n",
       "        vertical-align: top;\n",
       "    }\n",
       "\n",
       "    .dataframe thead th {\n",
       "        text-align: right;\n",
       "    }\n",
       "</style>\n",
       "<table border=\"1\" class=\"dataframe\">\n",
       "  <thead>\n",
       "    <tr style=\"text-align: right;\">\n",
       "      <th></th>\n",
       "      <th>First Name</th>\n",
       "      <th>Last Name</th>\n",
       "      <th>Gender</th>\n",
       "      <th>Age</th>\n",
       "      <th>Phone</th>\n",
       "      <th>Education</th>\n",
       "      <th>Occupation</th>\n",
       "      <th>Experience (Years)</th>\n",
       "      <th>Salary</th>\n",
       "      <th>Marital Status</th>\n",
       "      <th>Number of Children</th>\n",
       "    </tr>\n",
       "    <tr>\n",
       "      <th>Email</th>\n",
       "      <th></th>\n",
       "      <th></th>\n",
       "      <th></th>\n",
       "      <th></th>\n",
       "      <th></th>\n",
       "      <th></th>\n",
       "      <th></th>\n",
       "      <th></th>\n",
       "      <th></th>\n",
       "      <th></th>\n",
       "      <th></th>\n",
       "    </tr>\n",
       "  </thead>\n",
       "  <tbody>\n",
       "    <tr>\n",
       "      <th>r.sullivan@randatmail.com</th>\n",
       "      <td>rubie</td>\n",
       "      <td>sullivan</td>\n",
       "      <td>Female</td>\n",
       "      <td>23</td>\n",
       "      <td>543-4162-06</td>\n",
       "      <td>Bachelor</td>\n",
       "      <td>Engineer</td>\n",
       "      <td>8</td>\n",
       "      <td>78613</td>\n",
       "      <td>Married</td>\n",
       "      <td>4</td>\n",
       "    </tr>\n",
       "    <tr>\n",
       "      <th>a.cameron@randatmail.com</th>\n",
       "      <td>alisa</td>\n",
       "      <td>cameron</td>\n",
       "      <td>Female</td>\n",
       "      <td>30</td>\n",
       "      <td>178-7304-99</td>\n",
       "      <td>Lower secondary</td>\n",
       "      <td>Engineer</td>\n",
       "      <td>7</td>\n",
       "      <td>193299</td>\n",
       "      <td>Married</td>\n",
       "      <td>3</td>\n",
       "    </tr>\n",
       "    <tr>\n",
       "      <th>m.morrison@randatmail.com</th>\n",
       "      <td>mike</td>\n",
       "      <td>morrison</td>\n",
       "      <td>Male</td>\n",
       "      <td>30</td>\n",
       "      <td>999-4285-82</td>\n",
       "      <td>Doctoral</td>\n",
       "      <td>Manager</td>\n",
       "      <td>8</td>\n",
       "      <td>94263</td>\n",
       "      <td>Married</td>\n",
       "      <td>2</td>\n",
       "    </tr>\n",
       "    <tr>\n",
       "      <th>v.foster@randatmail.com</th>\n",
       "      <td>violet</td>\n",
       "      <td>foster</td>\n",
       "      <td>Female</td>\n",
       "      <td>18</td>\n",
       "      <td>923-6053-60</td>\n",
       "      <td>Master</td>\n",
       "      <td>Manager</td>\n",
       "      <td>2</td>\n",
       "      <td>180192</td>\n",
       "      <td>Married</td>\n",
       "      <td>4</td>\n",
       "    </tr>\n",
       "    <tr>\n",
       "      <th>r.edwards@randatmail.com</th>\n",
       "      <td>robert</td>\n",
       "      <td>edwards</td>\n",
       "      <td>Male</td>\n",
       "      <td>21</td>\n",
       "      <td>913-0408-26</td>\n",
       "      <td>Upper secondary</td>\n",
       "      <td>Engineer</td>\n",
       "      <td>8</td>\n",
       "      <td>173872</td>\n",
       "      <td>Married</td>\n",
       "      <td>2</td>\n",
       "    </tr>\n",
       "    <tr>\n",
       "      <th>a.richards@randatmail.com</th>\n",
       "      <td>arthur</td>\n",
       "      <td>richards</td>\n",
       "      <td>Male</td>\n",
       "      <td>28</td>\n",
       "      <td>292-0356-03</td>\n",
       "      <td>Upper secondary</td>\n",
       "      <td>Manager</td>\n",
       "      <td>4</td>\n",
       "      <td>99047</td>\n",
       "      <td>Married</td>\n",
       "      <td>1</td>\n",
       "    </tr>\n",
       "    <tr>\n",
       "      <th>e.russell@randatmail.com</th>\n",
       "      <td>eleanor</td>\n",
       "      <td>russell</td>\n",
       "      <td>Female</td>\n",
       "      <td>29</td>\n",
       "      <td>383-7318-08</td>\n",
       "      <td>Primary</td>\n",
       "      <td>Manager</td>\n",
       "      <td>11</td>\n",
       "      <td>161017</td>\n",
       "      <td>Married</td>\n",
       "      <td>2</td>\n",
       "    </tr>\n",
       "    <tr>\n",
       "      <th>j.west@randatmail.com</th>\n",
       "      <td>james</td>\n",
       "      <td>west</td>\n",
       "      <td>Male</td>\n",
       "      <td>19</td>\n",
       "      <td>498-5620-38</td>\n",
       "      <td>Primary</td>\n",
       "      <td>Engineer</td>\n",
       "      <td>1</td>\n",
       "      <td>43406</td>\n",
       "      <td>Married</td>\n",
       "      <td>5</td>\n",
       "    </tr>\n",
       "  </tbody>\n",
       "</table>\n",
       "</div>"
      ],
      "text/plain": [
       "                          First Name Last Name  Gender  Age        Phone  \\\n",
       "Email                                                                      \n",
       "r.sullivan@randatmail.com      rubie  sullivan  Female   23  543-4162-06   \n",
       "a.cameron@randatmail.com       alisa   cameron  Female   30  178-7304-99   \n",
       "m.morrison@randatmail.com       mike  morrison    Male   30  999-4285-82   \n",
       "v.foster@randatmail.com       violet    foster  Female   18  923-6053-60   \n",
       "r.edwards@randatmail.com      robert   edwards    Male   21  913-0408-26   \n",
       "a.richards@randatmail.com     arthur  richards    Male   28  292-0356-03   \n",
       "e.russell@randatmail.com     eleanor   russell  Female   29  383-7318-08   \n",
       "j.west@randatmail.com          james      west    Male   19  498-5620-38   \n",
       "\n",
       "                                 Education Occupation  Experience (Years)  \\\n",
       "Email                                                                       \n",
       "r.sullivan@randatmail.com         Bachelor   Engineer                   8   \n",
       "a.cameron@randatmail.com   Lower secondary   Engineer                   7   \n",
       "m.morrison@randatmail.com         Doctoral    Manager                   8   \n",
       "v.foster@randatmail.com             Master    Manager                   2   \n",
       "r.edwards@randatmail.com   Upper secondary   Engineer                   8   \n",
       "a.richards@randatmail.com  Upper secondary    Manager                   4   \n",
       "e.russell@randatmail.com           Primary    Manager                  11   \n",
       "j.west@randatmail.com              Primary   Engineer                   1   \n",
       "\n",
       "                           Salary Marital Status  Number of Children  \n",
       "Email                                                                 \n",
       "r.sullivan@randatmail.com   78613        Married                   4  \n",
       "a.cameron@randatmail.com   193299        Married                   3  \n",
       "m.morrison@randatmail.com   94263        Married                   2  \n",
       "v.foster@randatmail.com    180192        Married                   4  \n",
       "r.edwards@randatmail.com   173872        Married                   2  \n",
       "a.richards@randatmail.com   99047        Married                   1  \n",
       "e.russell@randatmail.com   161017        Married                   2  \n",
       "j.west@randatmail.com       43406        Married                   5  "
      ]
     },
     "execution_count": 82,
     "metadata": {},
     "output_type": "execute_result"
    }
   ],
   "source": [
    "df_people.loc[multi_filter]"
   ]
  },
  {
   "cell_type": "markdown",
   "id": "18c44a66-95c4-495a-85f2-c612ad5f6e97",
   "metadata": {},
   "source": [
    "# Modifying data"
   ]
  },
  {
   "cell_type": "markdown",
   "id": "be4ad292-12ce-4394-a163-a8825bcbbc69",
   "metadata": {},
   "source": [
    "## unique() and nunique()\n",
    "\n",
    "The ```unique()``` function returns an array or list containing all the unique values present in a Series or column of a DataFrame. It eliminates any duplicates and provides a sorted array of unique values.\n",
    "\n",
    "The ```nunique()``` function returns the count of unique values in a Series or column of a DataFrame. It provides the total number of distinct values, excluding any duplicates."
   ]
  },
  {
   "cell_type": "code",
   "execution_count": 89,
   "id": "9427d909-3bcc-47d8-ab09-f8bda3d0d3a2",
   "metadata": {},
   "outputs": [
    {
     "name": "stdout",
     "output_type": "stream",
     "text": [
      "['Bachelor' 'Primary' 'Upper secondary' 'Doctoral' 'Lower secondary'\n",
      " 'Master']\n",
      "6\n"
     ]
    }
   ],
   "source": [
    "print(df_people['Education'].unique())\n",
    "print(df_people['Education'].nunique())"
   ]
  },
  {
   "cell_type": "markdown",
   "id": "5ffc9bb3-f6f1-45fa-91f7-a7d05b3eaffd",
   "metadata": {
    "tags": []
   },
   "source": [
    "# Add / Remove Rows and Columns"
   ]
  },
  {
   "cell_type": "markdown",
   "id": "5b14283a-3225-4660-9eba-110808685c8b",
   "metadata": {},
   "source": [
    "# Grouping and Aggregating"
   ]
  },
  {
   "cell_type": "code",
   "execution_count": 85,
   "id": "89e27240-d6a9-42a8-a6c4-88dd7480a1eb",
   "metadata": {},
   "outputs": [
    {
     "data": {
      "text/html": [
       "<div>\n",
       "<style scoped>\n",
       "    .dataframe tbody tr th:only-of-type {\n",
       "        vertical-align: middle;\n",
       "    }\n",
       "\n",
       "    .dataframe tbody tr th {\n",
       "        vertical-align: top;\n",
       "    }\n",
       "\n",
       "    .dataframe thead th {\n",
       "        text-align: right;\n",
       "    }\n",
       "</style>\n",
       "<table border=\"1\" class=\"dataframe\">\n",
       "  <thead>\n",
       "    <tr style=\"text-align: right;\">\n",
       "      <th></th>\n",
       "      <th>Age</th>\n",
       "      <th>Experience (Years)</th>\n",
       "      <th>Salary</th>\n",
       "      <th>Number of Children</th>\n",
       "    </tr>\n",
       "  </thead>\n",
       "  <tbody>\n",
       "    <tr>\n",
       "      <th>count</th>\n",
       "      <td>200.00000</td>\n",
       "      <td>200.00000</td>\n",
       "      <td>200.000000</td>\n",
       "      <td>200.000000</td>\n",
       "    </tr>\n",
       "    <tr>\n",
       "      <th>mean</th>\n",
       "      <td>23.85000</td>\n",
       "      <td>6.07000</td>\n",
       "      <td>115400.580000</td>\n",
       "      <td>2.630000</td>\n",
       "    </tr>\n",
       "    <tr>\n",
       "      <th>std</th>\n",
       "      <td>3.87201</td>\n",
       "      <td>3.71539</td>\n",
       "      <td>48731.819296</td>\n",
       "      <td>1.654323</td>\n",
       "    </tr>\n",
       "    <tr>\n",
       "      <th>min</th>\n",
       "      <td>18.00000</td>\n",
       "      <td>0.00000</td>\n",
       "      <td>31721.000000</td>\n",
       "      <td>0.000000</td>\n",
       "    </tr>\n",
       "    <tr>\n",
       "      <th>25%</th>\n",
       "      <td>20.00000</td>\n",
       "      <td>3.00000</td>\n",
       "      <td>70128.500000</td>\n",
       "      <td>1.000000</td>\n",
       "    </tr>\n",
       "    <tr>\n",
       "      <th>50%</th>\n",
       "      <td>24.50000</td>\n",
       "      <td>6.00000</td>\n",
       "      <td>116373.500000</td>\n",
       "      <td>3.000000</td>\n",
       "    </tr>\n",
       "    <tr>\n",
       "      <th>75%</th>\n",
       "      <td>27.00000</td>\n",
       "      <td>9.00000</td>\n",
       "      <td>155637.250000</td>\n",
       "      <td>4.000000</td>\n",
       "    </tr>\n",
       "    <tr>\n",
       "      <th>max</th>\n",
       "      <td>30.00000</td>\n",
       "      <td>14.00000</td>\n",
       "      <td>199056.000000</td>\n",
       "      <td>5.000000</td>\n",
       "    </tr>\n",
       "  </tbody>\n",
       "</table>\n",
       "</div>"
      ],
      "text/plain": [
       "             Age  Experience (Years)         Salary  Number of Children\n",
       "count  200.00000           200.00000     200.000000          200.000000\n",
       "mean    23.85000             6.07000  115400.580000            2.630000\n",
       "std      3.87201             3.71539   48731.819296            1.654323\n",
       "min     18.00000             0.00000   31721.000000            0.000000\n",
       "25%     20.00000             3.00000   70128.500000            1.000000\n",
       "50%     24.50000             6.00000  116373.500000            3.000000\n",
       "75%     27.00000             9.00000  155637.250000            4.000000\n",
       "max     30.00000            14.00000  199056.000000            5.000000"
      ]
     },
     "execution_count": 85,
     "metadata": {},
     "output_type": "execute_result"
    }
   ],
   "source": [
    "df_people.describe()"
   ]
  },
  {
   "cell_type": "markdown",
   "id": "15a85a86-42aa-4c60-ab1d-213470466e3f",
   "metadata": {},
   "source": [
    "# Handling Missing Values\n",
    "Missing values are a common problem when performing data analysis. This section discusses ways to handle missing values."
   ]
  },
  {
   "cell_type": "code",
   "execution_count": null,
   "id": "e578d9cf-2ea0-47b6-8348-08d40f273303",
   "metadata": {},
   "outputs": [],
   "source": [
    "import random\n",
    "import numpy as np\n",
    "\n",
    "import pandas as pd\n",
    "df_people = pd.read_csv('files/people_data.csv')"
   ]
  },
  {
   "cell_type": "markdown",
   "id": "803b4ee1-b87b-4185-9cd6-96b0fd289e7d",
   "metadata": {},
   "source": [
    "First, to make it easier, we'll create a small subset of the people DataFrame. Note the use of ```copy()```. Using ```copy()``` creates a *deep copy* of the DataFrame. This avoids making changes to a slice or shallow copy of the DataFrame, which would yield unpredictable results and an exception"
   ]
  },
  {
   "cell_type": "code",
   "execution_count": null,
   "id": "cb657d39-f30c-4b03-b967-85dd264111b8",
   "metadata": {},
   "outputs": [],
   "source": [
    "small_df = df_people.iloc[:10,:].copy()\n",
    "small_df.head()\n",
    "small_df.shape"
   ]
  },
  {
   "cell_type": "markdown",
   "id": "ab4f1e47-6c73-4194-a8c1-8b3870c1b036",
   "metadata": {},
   "source": [
    "Next, we'll randomly add missing values using the ```np.NaN``` object and create one row and column of NaN values."
   ]
  },
  {
   "cell_type": "code",
   "execution_count": null,
   "id": "c642cd94-6fdb-4394-8b83-aeb321a90aaa",
   "metadata": {},
   "outputs": [],
   "source": [
    "# Introduce missing (NaN) values into the small DataFame\n",
    "\n",
    "num_missing = 5\n",
    "\n",
    "for x in range(num_missing):\n",
    "    random_row = random.randint(0,9)\n",
    "    random_col = random.randint(0,9)\n",
    "    small_df.iloc[random_row, random_col] = np.NaN\n",
    "\n",
    "# Add a column of NaN values\n",
    "small_df['SS#'] = np.NaN\n",
    "\n",
    "# Add a row of NaN values\n",
    "small_df.loc[len(small_df.index)] = np.NaN"
   ]
  },
  {
   "cell_type": "markdown",
   "id": "64d539b6-200b-46ea-b36c-5def781a6bca",
   "metadata": {},
   "source": [
    "The syntax of ```dropna``` is as follow:\n",
    "\n",
    "```Python\n",
    "DataFrame.dropna(axis=0, how='any', thresh=None, subset=None, inplace=False)\n",
    "```\n",
    "\n",
    "- **axis**: drop rows (```axis=0```) or columns (```axis=1```) which contain missing values\n",
    "- **how**: drop (row|column) if it contains ```any``` missing value; only drop (row|column) if ```all``` values are missing"
   ]
  },
  {
   "cell_type": "markdown",
   "id": "2b6a8795-cda0-491a-b6fb-50ba5d413262",
   "metadata": {},
   "source": [
    "### Sum the count of missing values by column"
   ]
  },
  {
   "cell_type": "code",
   "execution_count": null,
   "id": "ddbacd64-2ee5-4e78-b9cb-e96b70f57e6c",
   "metadata": {},
   "outputs": [],
   "source": [
    "small_df.isna().sum()"
   ]
  },
  {
   "cell_type": "markdown",
   "id": "f3959dd5-a097-459b-a5f3-ff8c8551d363",
   "metadata": {},
   "source": [
    "# Casting Data Types\n",
    "After creating a pandas DataFrame, you may have columns that have not been defined using the correct data type. For example, after using the ```read_csv()``` function to create the people_df, salary is defined as an integer instead of a float. "
   ]
  },
  {
   "cell_type": "code",
   "execution_count": null,
   "id": "6bb77205-4678-442d-b303-904b8c90e87e",
   "metadata": {},
   "outputs": [],
   "source": [
    "df_people.dtypes"
   ]
  },
  {
   "cell_type": "code",
   "execution_count": null,
   "id": "1d5a63eb-7048-42fd-b2df-341efe0b0dd6",
   "metadata": {},
   "outputs": [],
   "source": [
    "df_people['Salary'] = df_people['Salary'].astype(float)"
   ]
  },
  {
   "cell_type": "markdown",
   "id": "9a6c6629-391a-4a51-bf9f-c30e124eb4dd",
   "metadata": {},
   "source": [
    "# Working with Time Series Data"
   ]
  },
  {
   "cell_type": "markdown",
   "id": "650dfdb6-6acc-49ae-907d-7743c2818722",
   "metadata": {},
   "source": [
    "# Interacting with Excel, JSON, Parquet files, SQL"
   ]
  },
  {
   "cell_type": "markdown",
   "id": "dc327df1-17f1-4d97-8b73-04aa7a28b22a",
   "metadata": {},
   "source": [
    "## Using iloc"
   ]
  },
  {
   "cell_type": "markdown",
   "id": "827f424c-06a3-4d72-aeff-fabe678eeb2a",
   "metadata": {},
   "source": [
    "# Using Polars with Pandas"
   ]
  },
  {
   "cell_type": "markdown",
   "id": "3711720a-263c-472e-9258-8eda2d88b8f2",
   "metadata": {},
   "source": [
    "## "
   ]
  },
  {
   "cell_type": "markdown",
   "id": "edd34724-b552-472b-9de9-229412d8322e",
   "metadata": {
    "tags": []
   },
   "source": [
    "# Initialize everything"
   ]
  },
  {
   "cell_type": "markdown",
   "id": "53038189-bfa3-41e9-b781-f23ec117aa91",
   "metadata": {},
   "source": [
    "This section is provided to quickly re-load the series and dataframe objects used in this notebook"
   ]
  },
  {
   "cell_type": "code",
   "execution_count": null,
   "id": "eb05b93a-6af7-4d4a-8c58-2836356717d3",
   "metadata": {},
   "outputs": [],
   "source": [
    "import pandas as pd\n",
    "import numpy as np\n",
    "\n",
    "grades = [88, 67, 100, 92, None, 95, 82, 100, 100, 95]\n",
    "grade_series = pd.Series(grades)\n",
    "\n",
    "grades = [88, 67, 100, 92, None, 95, 82, 100, 100, 95]\n",
    "students = ['dmac', 'edev', 'joeb', 'tdog', 'txroy', 'sthicks', 'jfrerk', 'spickard', 'choenes', 'jsisson']\n",
    "student_grades_series = pd.Series(grades, students)\n",
    "\n",
    "df_people = pd.read_csv('files/people_data.csv')\n",
    "small_df = df_people.iloc[:10,:].copy()"
   ]
  },
  {
   "cell_type": "code",
   "execution_count": null,
   "id": "b867f952-9048-4d04-9c19-d77f82022297",
   "metadata": {},
   "outputs": [],
   "source": [
    "df_nfl = pd.read_csv('files/NFLPlaybyPlay2015.csv', low_memory = False)"
   ]
  },
  {
   "cell_type": "code",
   "execution_count": null,
   "id": "928325fd-2a5b-4a30-a7b7-c7aabbf8e091",
   "metadata": {},
   "outputs": [],
   "source": [
    "df_nfl.info()"
   ]
  },
  {
   "cell_type": "code",
   "execution_count": null,
   "id": "1970a22f-5126-4379-af78-c0f94cf38e51",
   "metadata": {},
   "outputs": [],
   "source": [
    "df_nfl['InterceptionThrown'].unique()"
   ]
  },
  {
   "cell_type": "code",
   "execution_count": null,
   "id": "800c1bca-d08a-44f3-a911-4bcb6223a748",
   "metadata": {},
   "outputs": [],
   "source": [
    "df_nfl.isna().sum().sum()"
   ]
  },
  {
   "cell_type": "code",
   "execution_count": null,
   "id": "c9867cf3-e328-4ee1-942f-dfbfd5e95872",
   "metadata": {},
   "outputs": [],
   "source": [
    "df_nfl['Date2'] = pd.to_datetime(df_nfl['Date'])"
   ]
  },
  {
   "cell_type": "code",
   "execution_count": null,
   "id": "90b2b1fd-207e-455f-8684-0fb96c80823d",
   "metadata": {},
   "outputs": [],
   "source": [
    "df_nfl['Date2'].nunique()"
   ]
  },
  {
   "cell_type": "code",
   "execution_count": null,
   "id": "2a56a067-9a8f-4a0c-af86-d2fe7720d457",
   "metadata": {},
   "outputs": [],
   "source": []
  }
 ],
 "metadata": {
  "kernelspec": {
   "display_name": "Python 3 (ipykernel)",
   "language": "python",
   "name": "python3"
  },
  "language_info": {
   "codemirror_mode": {
    "name": "ipython",
    "version": 3
   },
   "file_extension": ".py",
   "mimetype": "text/x-python",
   "name": "python",
   "nbconvert_exporter": "python",
   "pygments_lexer": "ipython3",
   "version": "3.10.6"
  }
 },
 "nbformat": 4,
 "nbformat_minor": 5
}
