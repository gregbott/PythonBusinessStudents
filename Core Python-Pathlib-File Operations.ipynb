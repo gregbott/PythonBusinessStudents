{
 "cells": [
  {
   "cell_type": "markdown",
   "id": "3ef3e539-efbb-40d7-988e-22a02729cb4c",
   "metadata": {
    "toc-nb-collapsed": true
   },
   "source": [
    "# File Operations\n",
    "\n",
    "Use the open() function to read(r), append (a), or write (w) to a file. Opening a file returns a file handle, not the actual data in the file. After opening the file you can read or write to it. When you are finished with the file, ensure it is closed. Failing to close a file may lead to memory issues, inaccessible files, and possibly data loss."
   ]
  },
  {
   "cell_type": "code",
   "execution_count": null,
   "id": "93be1251-7c7b-4491-9b9f-ed20bb2e71e2",
   "metadata": {},
   "outputs": [],
   "source": [
    "%ls demofile.txt"
   ]
  },
  {
   "cell_type": "code",
   "execution_count": null,
   "id": "c91497ec-2156-4c81-8b67-9ab1075d093f",
   "metadata": {},
   "outputs": [],
   "source": [
    "# use the os module to access operating system information such as the current working directory (getcwd())\n",
    "import os\n",
    "\n",
    "# Create (or overwrite) a file\n",
    "# If no path is specified, the file will be created in the current working directory\n",
    "\n",
    "# If the file exists, opening with the \"w\" parameter will overwrite a file of the same name\n",
    "#   if present in the same folder. To append instead of overwriting, use the \"a\" mode.\n",
    "f = open(\"demofile.txt\", \"w\")\n",
    "\n",
    "f.write(\"This is the first line of the file.\\n\")\n",
    "\n",
    "# Be sure to close your file. Failure to do so will cause problems.\n",
    "f.close()\n",
    "\n",
    "# Get the current directory\n",
    "print(os.getcwd())"
   ]
  },
  {
   "cell_type": "code",
   "execution_count": null,
   "id": "f7f44abb-6be9-4589-a4f5-b93b5394e953",
   "metadata": {},
   "outputs": [],
   "source": [
    "%cat demofile.txt"
   ]
  },
  {
   "cell_type": "markdown",
   "id": "eef4b3f2-e744-4ab5-ac0c-fc99bbaa36d7",
   "metadata": {},
   "source": [
    "## Using the With statement for opening files\n",
    "One advantage to using the With statement is that files you open using this method are automatically closed."
   ]
  },
  {
   "cell_type": "code",
   "execution_count": null,
   "id": "c50d4006-987e-4946-bb19-7f3bb544cd43",
   "metadata": {},
   "outputs": [],
   "source": [
    "# Append the file\n",
    "with open(\"demofile.txt\", \"a\") as f:\n",
    "    f.write(\"This is the second line.\\n\")\n",
    "\n",
    "    # No need to explicitly close the file. Close() is automatically called."
   ]
  },
  {
   "cell_type": "code",
   "execution_count": null,
   "id": "1b6c62e8-e4e5-4e34-8903-fc4360c9db31",
   "metadata": {},
   "outputs": [],
   "source": [
    "%cat demofile.txt"
   ]
  },
  {
   "cell_type": "markdown",
   "id": "a8588914-d4d7-4c08-b080-b53b425b08e0",
   "metadata": {},
   "source": [
    "## Using pathlib\n",
    "Handling files and folders programatically can be really difficult. You may need to locate and work with all files that have a particular extension, process folders recursively, identify the parent folder of a file or folder, and so on. One of the most powerful modules for file and folder management is pathlib.\n",
    "\n",
    "As the name implies, pathlib creates paths. To do so, it uses the Path class (note the uppercase P)."
   ]
  },
  {
   "cell_type": "markdown",
   "id": "4038629e-efe4-4f73-aeef-90bbb34ab285",
   "metadata": {},
   "source": [
    "### Get Named Folders"
   ]
  },
  {
   "cell_type": "code",
   "execution_count": 1,
   "id": "371bbbbd-3e1c-4f97-951a-f36f9a87d286",
   "metadata": {},
   "outputs": [
    {
     "name": "stdout",
     "output_type": "stream",
     "text": [
      "Python_For_Business_Students\n"
     ]
    }
   ],
   "source": [
    "import pathlib\n",
    "my_path = pathlib.Path.cwd()\n",
    "print(my_path.name)"
   ]
  },
  {
   "cell_type": "markdown",
   "id": "24a6cd97-68e0-484f-b4a2-7f3480b2d717",
   "metadata": {},
   "source": [
    "The pathlib module provides an easy way to locate the user's home folder. "
   ]
  },
  {
   "cell_type": "code",
   "execution_count": 2,
   "id": "0b2c1e51-6ec1-4774-be7d-931dc30a093e",
   "metadata": {},
   "outputs": [
    {
     "name": "stdout",
     "output_type": "stream",
     "text": [
      "/home/gjbott\n"
     ]
    }
   ],
   "source": [
    "# Get the home folder for the current user\n",
    "home_path = pathlib.Path.home()\n",
    "print(home_path)"
   ]
  },
  {
   "cell_type": "markdown",
   "id": "96358f7f-00cb-4a35-a823-d6efc6b39941",
   "metadata": {},
   "source": [
    "Finding all files of a particular type is accomplished by using Pathlib and the glob (global) module. "
   ]
  },
  {
   "cell_type": "code",
   "execution_count": 6,
   "id": "89daa74c-69e7-46e5-85e4-71c6e5ed672a",
   "metadata": {},
   "outputs": [],
   "source": [
    "def show_tree(directory):\n",
    "    print(f'+ {directory}')\n",
    "    \n",
    "    # Limited to Python notebooks\n",
    "    for path in sorted(directory.rglob('*.ipynb')):\n",
    "        depth = len(path.relative_to(directory).parts)\n",
    "        indent = '    ' * depth\n",
    "        print(f'{indent}+ {path.name}')"
   ]
  },
  {
   "cell_type": "code",
   "execution_count": null,
   "id": "37c5f086-8f28-4218-a5bf-7ca2c8734202",
   "metadata": {},
   "outputs": [],
   "source": [
    "show_tree(pathlib.Path.home())"
   ]
  },
  {
   "cell_type": "markdown",
   "id": "bccb5d7f-90c4-417b-a713-8a2b8e68b3d7",
   "metadata": {},
   "source": [
    "## Checking if Path exists and creating a folder"
   ]
  },
  {
   "cell_type": "markdown",
   "id": "31123ed7-003a-4684-8fb2-e2cc06fd755f",
   "metadata": {},
   "source": [
    "```Python\n",
    "parents = True\n",
    "```\n",
    "creates all folders in the path as needed.\n",
    "\n",
    "```Python\n",
    "exist_ok = False\n",
    "```\n",
    "by default, raises FileExistsError if the target directory already exists."
   ]
  },
  {
   "cell_type": "code",
   "execution_count": 17,
   "id": "a3b49afd-c7cd-42b1-95d9-4a9bec35a878",
   "metadata": {},
   "outputs": [],
   "source": [
    "all_py_files = pathlib.Path.home().rglob('*.py')"
   ]
  },
  {
   "cell_type": "code",
   "execution_count": 18,
   "id": "3e55a477-d504-4f59-be60-29fd8d23417d",
   "metadata": {},
   "outputs": [],
   "source": [
    "all_py_files = [file.name for file in all_py_files]"
   ]
  },
  {
   "cell_type": "code",
   "execution_count": 19,
   "id": "fb394a6a-c174-4e43-86f5-dfc32556c28f",
   "metadata": {},
   "outputs": [
    {
     "data": {
      "text/plain": [
       "142902"
      ]
     },
     "execution_count": 19,
     "metadata": {},
     "output_type": "execute_result"
    }
   ],
   "source": [
    "len(all_py_files)"
   ]
  },
  {
   "cell_type": "code",
   "execution_count": null,
   "id": "9ca10ff6-5a62-4814-a50c-5b2986babe3d",
   "metadata": {},
   "outputs": [],
   "source": [
    "# This can be accomplished in a single line\n",
    "pathlib.Path.cwd().joinpath('HW102').mkdir(parents=True, exist_ok=True)"
   ]
  },
  {
   "cell_type": "code",
   "execution_count": null,
   "id": "b567352b-ebab-44e1-bb6e-ddf1c160cd94",
   "metadata": {},
   "outputs": [],
   "source": [
    "if pathlib.Path.cwd().joinpath('HW101').exists():\n",
    "    hw_path = pathlib.Path.cwd().joinpath('HW101').exists()\n",
    "else:\n",
    "    pathlib.Path.cwd().joinpath('HW101').mkdir()"
   ]
  },
  {
   "cell_type": "code",
   "execution_count": null,
   "id": "13aabb50-1c2a-45cd-8898-537ed92e3a64",
   "metadata": {},
   "outputs": [],
   "source": [
    "# Another way to create a path\n",
    "folder_name = \"HW101\"\n",
    "hw_path = pathlib.Path.cwd().joinpath(folder_name).exists()\n",
    "try:\n",
    "    pathlib.Path.cwd().joinpath(folder_name).mkdir()\n",
    "except FileExistsError:\n",
    "    print(f'{folder_name} exists.')\n",
    "else:\n",
    "    print(f'{folder_name} created.')"
   ]
  },
  {
   "cell_type": "markdown",
   "id": "23413566-a73f-4a3c-a002-5b1cd4178d83",
   "metadata": {},
   "source": [
    "### Check if file or folder exists"
   ]
  },
  {
   "cell_type": "code",
   "execution_count": null,
   "id": "73983598-6113-41e3-8a7d-549d89e70fe2",
   "metadata": {},
   "outputs": [],
   "source": [
    "# Build a path\n",
    "doc_path = pathlib.Path.home() / 'Documents' / 'MIS501'\n",
    "doc_path.exists()"
   ]
  },
  {
   "cell_type": "code",
   "execution_count": null,
   "id": "b9616651-d522-4da5-9dd7-701320ab9e67",
   "metadata": {},
   "outputs": [],
   "source": [
    "# ERROR: Why does the following line throw an exception?\n",
    "# How could you fix it?\n",
    "win_users = 'C:\\Users'"
   ]
  },
  {
   "cell_type": "markdown",
   "id": "312245e3-d3c6-497f-aa45-b49268020870",
   "metadata": {
    "tags": [],
    "toc-hr-collapsed": false
   },
   "source": [
    "## Reading files\n",
    "There are several ways to read data from a file. Some of the methods to read a file include: reading a specified number of characters, reading line-by-line, or a reading number of lines."
   ]
  },
  {
   "cell_type": "markdown",
   "id": "59801196-4cda-471f-addc-063317638ebd",
   "metadata": {},
   "source": [
    "### Reading an entire file"
   ]
  },
  {
   "cell_type": "code",
   "execution_count": null,
   "id": "bef2dc7f-2f64-4102-a797-95d28c690b36",
   "metadata": {},
   "outputs": [],
   "source": [
    "import pathlib"
   ]
  },
  {
   "cell_type": "code",
   "execution_count": null,
   "id": "8e0e0a1d-1d19-44d9-a1a2-399268824227",
   "metadata": {},
   "outputs": [],
   "source": [
    "\n",
    "file_path = pathlib.Path('files/gettysburg.txt')\n",
    "with open(file_path,\"r\") as fh_getty:\n",
    "    #read() will access the entire file. Not a good option for large files.\n",
    "    print(fh_getty.read())"
   ]
  },
  {
   "cell_type": "code",
   "execution_count": null,
   "id": "df300607-8866-4e54-b45b-a0b4d73546b4",
   "metadata": {},
   "outputs": [],
   "source": [
    "with open(file_path,\"r\") as fh_getty:\n",
    "    n = 100\n",
    "    #read() will access the entire file. Not a good option for large files.\n",
    "    print(fh_getty.read(n)) # Read the first n characters"
   ]
  },
  {
   "cell_type": "code",
   "execution_count": null,
   "id": "495b5c99-23fb-40ee-860f-e0ffdd4febc6",
   "metadata": {},
   "outputs": [],
   "source": [
    "with open(file_path,\"r\") as fh_getty:    \n",
    "    #read() will access the entire file. Not a good option for large files.\n",
    "    print(fh_getty.readline()) # Read a line\n",
    "    print(fh_getty.readline()) # Read a line\n",
    "    print(fh_getty.readline()) # Read a line"
   ]
  },
  {
   "cell_type": "code",
   "execution_count": null,
   "id": "98b35c34-56ad-4698-8c2a-0e287fb82ebb",
   "metadata": {},
   "outputs": [],
   "source": [
    "with open(file_path,\"r\") as fh_getty:    \n",
    "    #read() will access the entire file. Not a good option for large files.\n",
    "    x = fh_getty.readlines() # Read all lines with new line characters, separated by commas\n",
    "    print(x[5])"
   ]
  },
  {
   "cell_type": "code",
   "execution_count": null,
   "id": "79d16ab3-f5df-408a-9684-d116f0bdad6f",
   "metadata": {},
   "outputs": [],
   "source": [
    "with open(file_path,\"r\") as fh_getty:\n",
    "    line_number = 0\n",
    "    for x in fh_getty: # \"x\" will represent a line\n",
    "        print(str(line_number) + \": \" + x)\n",
    "        line_number += 1"
   ]
  },
  {
   "cell_type": "code",
   "execution_count": null,
   "id": "304f0b61-25ba-4501-afc1-5d8ae8a09276",
   "metadata": {},
   "outputs": [],
   "source": [
    "customer_file = pathlib.Path(r'files/fake_customer_list.txt')\n",
    "with open(customer_file, 'r') as fh_customers:\n",
    "\n",
    "    for line in fh_customers:\n",
    "        #print(line)\n",
    "        customer_list = line.strip().split(\"|\")\n",
    "        full_name = customer_list[0]\n",
    "        email = customer_list[-1]\n",
    "        print(full_name + \" -- \" + email)        "
   ]
  },
  {
   "cell_type": "code",
   "execution_count": null,
   "id": "4049cd31-7069-4c8c-bb68-4a1e1b155c04",
   "metadata": {},
   "outputs": [],
   "source": [
    "# List files in the current directory \n",
    "import os\n",
    "import pprint as pp # 'pretty prints' the output in a column\n",
    "pp.pprint(os.listdir(os.getcwd()))"
   ]
  },
  {
   "cell_type": "code",
   "execution_count": null,
   "id": "31f72199-6c63-48a5-8222-36cf592c85e5",
   "metadata": {},
   "outputs": [],
   "source": [
    "# 'Magic' command to list files in current directory\n",
    "%ls"
   ]
  },
  {
   "cell_type": "markdown",
   "id": "e6a01674-c93b-4365-9b9a-2694513b6b00",
   "metadata": {},
   "source": [
    "### Use the CSV module to read a file"
   ]
  },
  {
   "cell_type": "code",
   "execution_count": null,
   "id": "a9856175-0fa4-4be9-a419-ae83b72f2a76",
   "metadata": {},
   "outputs": [],
   "source": [
    "import csv\n",
    "with open('./files/lyricsonly2M.csv', 'r') as f:\n",
    "    reader = csv.reader(f)\n",
    "    your_list = list(reader)"
   ]
  },
  {
   "cell_type": "code",
   "execution_count": null,
   "id": "f6ac2985-9b42-4309-8a04-e2d21d4cd9c2",
   "metadata": {},
   "outputs": [],
   "source": [
    "pp.pprint(your_list[:99])"
   ]
  },
  {
   "cell_type": "code",
   "execution_count": null,
   "id": "271c076a-3809-4c5e-be83-75f6abbbf1c3",
   "metadata": {},
   "outputs": [],
   "source": [
    "len(your_list)"
   ]
  },
  {
   "cell_type": "code",
   "execution_count": null,
   "id": "d777fc49-1107-42ef-bdb7-409a10eab950",
   "metadata": {},
   "outputs": [],
   "source": [
    "import pandas as pd\n",
    "df_lyrics = pd.DataFrame(your_list, columns=your_list[0])"
   ]
  },
  {
   "cell_type": "code",
   "execution_count": null,
   "id": "5424ae7e-2ad0-4ed2-92d7-795b5440d579",
   "metadata": {},
   "outputs": [],
   "source": [
    "print(df_lyrics.shape)\n",
    "with pd.option_context('display.max_seq_items', None):\n",
    "    print(df_lyrics.head(5000))\n"
   ]
  },
  {
   "cell_type": "code",
   "execution_count": null,
   "id": "adbc576d-b2ff-479c-98ef-86bc2cd7b5bb",
   "metadata": {},
   "outputs": [],
   "source": [
    "print(your_list[0])"
   ]
  },
  {
   "cell_type": "markdown",
   "id": "1c583410-3795-4882-93a9-5e05fe507f7e",
   "metadata": {},
   "source": [
    "## Writing to a File"
   ]
  },
  {
   "cell_type": "markdown",
   "id": "cad66349-5b60-4e7e-8e5c-ed9b9ebf0c38",
   "metadata": {},
   "source": [
    "## Use Pandas to Read a file\n",
    "Although built-in file operations in Python may be useful for trivial matters, Pandas and Numpy are much more effective for reading, shaping, and analyzing data. Using these libraries is beyond the scope of this course, however, you should be aware of these libraries. See the Pandas notebook for more information."
   ]
  },
  {
   "cell_type": "code",
   "execution_count": null,
   "id": "a1ee1766-434f-4e8e-8772-4d20d2db5316",
   "metadata": {},
   "outputs": [],
   "source": [
    "import pathlib"
   ]
  },
  {
   "cell_type": "code",
   "execution_count": null,
   "id": "160a1d70-d15b-4487-a7cb-1ddef18e87e1",
   "metadata": {},
   "outputs": [],
   "source": [
    "import pandas as pd\n",
    "file_path = pathlib.Path('files/2017_instacart_products.csv')\n",
    "df = pd.read_csv(file_path)\n",
    "df.head()"
   ]
  },
  {
   "cell_type": "code",
   "execution_count": null,
   "id": "721e8bf2-78fe-4e49-b115-2e2aac8a6b2d",
   "metadata": {},
   "outputs": [],
   "source": [
    "# Use the describe function to display descriptive statistics for numerical fields (even if that doesn't make sense...)\n",
    "df.describe()"
   ]
  },
  {
   "cell_type": "code",
   "execution_count": null,
   "id": "f7200ca0-ebd0-461c-9ddc-1f56c556ec9c",
   "metadata": {},
   "outputs": [],
   "source": []
  }
 ],
 "metadata": {
  "kernelspec": {
   "display_name": "Python 3 (ipykernel)",
   "language": "python",
   "name": "python3"
  },
  "language_info": {
   "codemirror_mode": {
    "name": "ipython",
    "version": 3
   },
   "file_extension": ".py",
   "mimetype": "text/x-python",
   "name": "python",
   "nbconvert_exporter": "python",
   "pygments_lexer": "ipython3",
   "version": "3.9.12"
  }
 },
 "nbformat": 4,
 "nbformat_minor": 5
}
