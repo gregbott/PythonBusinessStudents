{
 "cells": [
  {
   "cell_type": "code",
   "execution_count": 1,
   "id": "c22c3f0c-e131-44db-8346-6cb197acdbc2",
   "metadata": {},
   "outputs": [],
   "source": [
    "import pandas as pd"
   ]
  },
  {
   "cell_type": "code",
   "execution_count": 2,
   "id": "27b89264-1834-41fc-b033-5a8de4b3ba2a",
   "metadata": {},
   "outputs": [],
   "source": [
    "df = pd.read_csv('files/NFLPlaybyPlay2015.csv',low_memory = False)"
   ]
  },
  {
   "cell_type": "code",
   "execution_count": 3,
   "id": "a8daa132-3ff8-4498-b617-ca4b80cc1070",
   "metadata": {},
   "outputs": [],
   "source": [
    "pd.set_option('display.max_columns', 100)\n",
    "pd.set_option('display.max_rows', 100)\n",
    "pd. set_option('display.max_colwidth', 199)"
   ]
  },
  {
   "cell_type": "markdown",
   "id": "dee6f0e7-9713-430c-aadb-4d9b8021d50a",
   "metadata": {},
   "source": [
    "How many rows and columns are in the data?"
   ]
  },
  {
   "cell_type": "code",
   "execution_count": 4,
   "id": "2add9287-d170-4a58-99a5-9983f7a60617",
   "metadata": {},
   "outputs": [
    {
     "name": "stdout",
     "output_type": "stream",
     "text": [
      "The data contains 46129 rows and 66 columns.\n"
     ]
    }
   ],
   "source": [
    "# Write code that calculates the number of rows and columns and presents them in a sentence.\n",
    "print(f'The data contains {df.shape[0]} rows and {df.shape[1]} columns.')"
   ]
  },
  {
   "cell_type": "code",
   "execution_count": 5,
   "id": "c6813f2d-2f77-4245-9e7e-a52019a563aa",
   "metadata": {},
   "outputs": [
    {
     "data": {
      "text/plain": [
       "Index(['Unnamed: 0', 'Date', 'GameID', 'Drive', 'qtr', 'down', 'time',\n",
       "       'TimeUnder', 'TimeSecs', 'PlayTimeDiff', 'SideofField', 'yrdln',\n",
       "       'yrdline100', 'ydstogo', 'ydsnet', 'GoalToGo', 'FirstDown', 'posteam',\n",
       "       'DefensiveTeam', 'desc', 'PlayAttempted', 'Yards.Gained', 'sp',\n",
       "       'Touchdown', 'ExPointResult', 'TwoPointConv', 'DefTwoPoint', 'Safety',\n",
       "       'PuntResult', 'PlayType', 'Passer', 'PassAttempt', 'PassOutcome',\n",
       "       'PassLength', 'PassLocation', 'InterceptionThrown', 'Interceptor',\n",
       "       'Rusher', 'RushAttempt', 'RunLocation', 'RunGap', 'Receiver',\n",
       "       'Reception', 'ReturnResult', 'Returner', 'BlockingPlayer', 'Tackler1',\n",
       "       'Tackler2', 'FieldGoalResult', 'FieldGoalDistance', 'Fumble',\n",
       "       'RecFumbTeam', 'RecFumbPlayer', 'Sack', 'Challenge.Replay',\n",
       "       'ChalReplayResult', 'Accepted.Penalty', 'PenalizedTeam', 'PenaltyType',\n",
       "       'PenalizedPlayer', 'Penalty.Yards', 'PosTeamScore', 'DefTeamScore',\n",
       "       'ScoreDiff', 'AbsScoreDiff', 'Season'],\n",
       "      dtype='object')"
      ]
     },
     "execution_count": 5,
     "metadata": {},
     "output_type": "execute_result"
    }
   ],
   "source": [
    "df.columns"
   ]
  },
  {
   "cell_type": "markdown",
   "id": "dc2c2694-7eaf-46eb-8754-b7a0bda7eebb",
   "metadata": {},
   "source": [
    "How many teams are there?"
   ]
  },
  {
   "cell_type": "code",
   "execution_count": 6,
   "id": "aae892c9-9571-4285-a7cc-8c3525f83dfb",
   "metadata": {},
   "outputs": [
    {
     "data": {
      "text/plain": [
       "33"
      ]
     },
     "execution_count": 6,
     "metadata": {},
     "output_type": "execute_result"
    }
   ],
   "source": [
    "len(list(df['posteam'].unique()))"
   ]
  },
  {
   "cell_type": "markdown",
   "id": "04d6b706-c16c-493e-b078-58c77dd4a496",
   "metadata": {},
   "source": [
    "List the teams in alphabetical order."
   ]
  },
  {
   "cell_type": "code",
   "execution_count": 7,
   "id": "026b4e40-7e59-41fa-8009-0ab53f33d57c",
   "metadata": {},
   "outputs": [
    {
     "name": "stdout",
     "output_type": "stream",
     "text": [
      "['ARI', 'ATL', 'BAL', 'BUF', 'CAR', 'CHI', 'CIN', 'CLE', 'DAL', 'DEN', 'DET', 'GB', 'HOU', 'IND', 'JAC', 'KC', 'MIA', 'MIN', 'NE', 'NO', 'NYG', 'NYJ', 'OAK', 'PHI', 'PIT', 'SD', 'SEA', 'SF', 'STL', 'TB', 'TEN', 'WAS']\n"
     ]
    }
   ],
   "source": [
    "teams = list(df['posteam'].dropna().unique())\n",
    "teams.sort()\n",
    "print(teams)"
   ]
  },
  {
   "cell_type": "code",
   "execution_count": 8,
   "id": "fe50bd7d-84c5-40f0-a830-b260080f3f93",
   "metadata": {},
   "outputs": [
    {
     "data": {
      "text/plain": [
       "627"
      ]
     },
     "execution_count": 8,
     "metadata": {},
     "output_type": "execute_result"
    }
   ],
   "source": [
    "df.loc[df['Fumble']==1].count()[-1]"
   ]
  },
  {
   "cell_type": "code",
   "execution_count": 21,
   "id": "574c58a5-6e78-4647-8b0e-a0afb316458c",
   "metadata": {},
   "outputs": [
    {
     "data": {
      "text/plain": [
       "posteam\n",
       "ATL    28\n",
       "PHI    27\n",
       "TEN    26\n",
       "OAK    26\n",
       "CLE    26\n",
       "Name: Fumble, dtype: int64"
      ]
     },
     "execution_count": 21,
     "metadata": {},
     "output_type": "execute_result"
    }
   ],
   "source": [
    "df.groupby(['posteam'])['Fumble'].sum().sort_values(ascending=False).head(5)"
   ]
  },
  {
   "cell_type": "code",
   "execution_count": 9,
   "id": "c3ae3910-030e-44a4-a7c7-1640f0443a42",
   "metadata": {},
   "outputs": [
    {
     "data": {
      "text/plain": [
       "posteam\n",
       "ATL    28\n",
       "PHI    27\n",
       "CLE    26\n",
       "OAK    26\n",
       "TEN    26\n",
       "Name: Fumble, dtype: int64"
      ]
     },
     "execution_count": 9,
     "metadata": {},
     "output_type": "execute_result"
    }
   ],
   "source": [
    "df.groupby(['posteam'])['Fumble'].sum().nlargest(5)"
   ]
  },
  {
   "cell_type": "code",
   "execution_count": 15,
   "id": "bca41925-a9d7-4c25-96a0-0a0009864b59",
   "metadata": {},
   "outputs": [
    {
     "data": {
      "text/plain": [
       "posteam\n",
       "GB     1304\n",
       "TB     1152\n",
       "SD     1117\n",
       "NE     1069\n",
       "IND    1067\n",
       "ARI    1060\n",
       "PHI    1050\n",
       "NYG    1048\n",
       "PIT    1041\n",
       "BUF    1033\n",
       "OAK    1012\n",
       "TEN    1004\n",
       "STL     978\n",
       "CIN     973\n",
       "CHI     971\n",
       "HOU     969\n",
       "KC      950\n",
       "CLE     940\n",
       "MIA     920\n",
       "WAS     899\n",
       "SF      853\n",
       "NO      851\n",
       "ATL     845\n",
       "SEA     840\n",
       "DAL     822\n",
       "CAR     820\n",
       "JAC     813\n",
       "BAL     809\n",
       "DET     764\n",
       "MIN     730\n",
       "DEN     698\n",
       "NYJ     692\n",
       "Name: Penalty.Yards, dtype: int64"
      ]
     },
     "execution_count": 15,
     "metadata": {},
     "output_type": "execute_result"
    }
   ],
   "source": [
    "df.groupby(['posteam'])['Penalty.Yards'].sum().sort_values(ascending=False)"
   ]
  },
  {
   "cell_type": "code",
   "execution_count": 10,
   "id": "77ef568a-ddd8-4c13-b66b-3b2d878e13cd",
   "metadata": {},
   "outputs": [],
   "source": [
    "sacks = df.loc[df['Sack']==1,['Tackler1','Sack']]"
   ]
  },
  {
   "cell_type": "code",
   "execution_count": 11,
   "id": "a0f41a79-bac8-4527-abfc-ee4aa00ac795",
   "metadata": {},
   "outputs": [
    {
     "data": {
      "text/html": [
       "<div>\n",
       "<style scoped>\n",
       "    .dataframe tbody tr th:only-of-type {\n",
       "        vertical-align: middle;\n",
       "    }\n",
       "\n",
       "    .dataframe tbody tr th {\n",
       "        vertical-align: top;\n",
       "    }\n",
       "\n",
       "    .dataframe thead th {\n",
       "        text-align: right;\n",
       "    }\n",
       "</style>\n",
       "<table border=\"1\" class=\"dataframe\">\n",
       "  <thead>\n",
       "    <tr style=\"text-align: right;\">\n",
       "      <th></th>\n",
       "      <th>Tackler1</th>\n",
       "      <th>Sack</th>\n",
       "    </tr>\n",
       "  </thead>\n",
       "  <tbody>\n",
       "    <tr>\n",
       "      <th>6</th>\n",
       "      <td>M.Brown</td>\n",
       "      <td>1</td>\n",
       "    </tr>\n",
       "    <tr>\n",
       "      <th>16</th>\n",
       "      <td>B.Dupree</td>\n",
       "      <td>1</td>\n",
       "    </tr>\n",
       "    <tr>\n",
       "      <th>23</th>\n",
       "      <td>D.Hightower</td>\n",
       "      <td>1</td>\n",
       "    </tr>\n",
       "    <tr>\n",
       "      <th>107</th>\n",
       "      <td>W.Allen</td>\n",
       "      <td>1</td>\n",
       "    </tr>\n",
       "    <tr>\n",
       "      <th>163</th>\n",
       "      <td>J.Sheard</td>\n",
       "      <td>1</td>\n",
       "    </tr>\n",
       "  </tbody>\n",
       "</table>\n",
       "</div>"
      ],
      "text/plain": [
       "        Tackler1  Sack\n",
       "6        M.Brown     1\n",
       "16      B.Dupree     1\n",
       "23   D.Hightower     1\n",
       "107      W.Allen     1\n",
       "163     J.Sheard     1"
      ]
     },
     "execution_count": 11,
     "metadata": {},
     "output_type": "execute_result"
    }
   ],
   "source": [
    "sacks.head()"
   ]
  },
  {
   "cell_type": "code",
   "execution_count": 12,
   "id": "68075144-b4e8-44a4-ac6b-2e12b142b5e2",
   "metadata": {},
   "outputs": [],
   "source": [
    "sacks = sacks.groupby(['Tackler1']).sum()"
   ]
  },
  {
   "cell_type": "code",
   "execution_count": 13,
   "id": "455db017-0945-4885-a600-008659f7b9fb",
   "metadata": {},
   "outputs": [],
   "source": [
    "sacks.sort_values(by=['Sack'], inplace=True, ascending=False)"
   ]
  },
  {
   "cell_type": "code",
   "execution_count": 18,
   "id": "f68f9e29-8fa3-411b-860e-81e6c3fa1e5c",
   "metadata": {},
   "outputs": [
    {
     "data": {
      "text/plain": [
       "Tackler1\n",
       "J.Watt      17\n",
       "C.Dunlap    14\n",
       "K.Mack      14\n",
       "E.Ansah     13\n",
       "C.Jones     13\n",
       "C.Jordan    13\n",
       "Name: Sack, dtype: int64"
      ]
     },
     "execution_count": 18,
     "metadata": {},
     "output_type": "execute_result"
    }
   ],
   "source": [
    "sacks['Sack'].nlargest(6) #Bott: figure out how to top 5 including tie, so six total"
   ]
  },
  {
   "cell_type": "code",
   "execution_count": 22,
   "id": "0187aec0-19a4-4769-b88e-067b4320c030",
   "metadata": {},
   "outputs": [],
   "source": [
    "interceptions = df[df['InterceptionThrown']==1]"
   ]
  },
  {
   "cell_type": "code",
   "execution_count": 23,
   "id": "8412b07a-6685-4253-8d16-386304be4ede",
   "metadata": {},
   "outputs": [
    {
     "data": {
      "text/plain": [
       "(468, 66)"
      ]
     },
     "execution_count": 23,
     "metadata": {},
     "output_type": "execute_result"
    }
   ],
   "source": [
    "interceptions.shape"
   ]
  },
  {
   "cell_type": "code",
   "execution_count": 24,
   "id": "0c654ead-abdb-48ce-9da0-0d116af2a077",
   "metadata": {},
   "outputs": [],
   "source": [
    "interceptions = interceptions[['Passer','desc','InterceptionThrown']].head(100)"
   ]
  },
  {
   "cell_type": "code",
   "execution_count": 25,
   "id": "9998ea6e-c33d-409a-aea1-7fe08584615c",
   "metadata": {},
   "outputs": [
    {
     "data": {
      "text/html": [
       "<div>\n",
       "<style scoped>\n",
       "    .dataframe tbody tr th:only-of-type {\n",
       "        vertical-align: middle;\n",
       "    }\n",
       "\n",
       "    .dataframe tbody tr th {\n",
       "        vertical-align: top;\n",
       "    }\n",
       "\n",
       "    .dataframe thead th {\n",
       "        text-align: right;\n",
       "    }\n",
       "</style>\n",
       "<table border=\"1\" class=\"dataframe\">\n",
       "  <thead>\n",
       "    <tr style=\"text-align: right;\">\n",
       "      <th></th>\n",
       "      <th>Passer</th>\n",
       "      <th>desc</th>\n",
       "      <th>InterceptionThrown</th>\n",
       "    </tr>\n",
       "  </thead>\n",
       "  <tbody>\n",
       "    <tr>\n",
       "      <th>145</th>\n",
       "      <td>B.Roethlisberger</td>\n",
       "      <td>(7:09) (No Huddle, Shotgun) B.Roethlisberger pass deep left intended for D.Heyward-Bey INTERCEPTED by D.Harmon at NE 7. D.Harmon ran ob at NE 7 for no gain.</td>\n",
       "      <td>1</td>\n",
       "    </tr>\n",
       "    <tr>\n",
       "      <th>334</th>\n",
       "      <td>J.Cutler</td>\n",
       "      <td>(3:55) (No Huddle, Shotgun) J.Cutler pass short right intended for M.Bennett INTERCEPTED by C.Matthews at GB 20. C.Matthews to CHI 32 for 48 yards (J.Bushrod). PENALTY on GB-N.Perry, Illegal Bloc...</td>\n",
       "      <td>1</td>\n",
       "    </tr>\n",
       "    <tr>\n",
       "      <th>366</th>\n",
       "      <td>B.Hoyer</td>\n",
       "      <td>(11:14) B.Hoyer pass short right intended for D.Hopkins INTERCEPTED by M.Peters at HOU 13. M.Peters to HOU 13 for no gain (D.Hopkins).</td>\n",
       "      <td>1</td>\n",
       "    </tr>\n",
       "    <tr>\n",
       "      <th>601</th>\n",
       "      <td>R.Fitzpatrick</td>\n",
       "      <td>(10:07) R.Fitzpatrick pass deep left intended for B.Marshall INTERCEPTED by T.Gipson at CLE 17. T.Gipson to CLE 17 for no gain (B.Marshall). FUMBLES (B.Marshall), RECOVERED by NYJ-B.Marshall at C...</td>\n",
       "      <td>1</td>\n",
       "    </tr>\n",
       "    <tr>\n",
       "      <th>649</th>\n",
       "      <td>J.Manziel</td>\n",
       "      <td>(10:52) (Shotgun) J.Manziel pass short left intended for B.Hartline INTERCEPTED by M.Williams at CLE 46. M.Williams pushed ob at CLE 28 for 18 yards (J.Bitonio).</td>\n",
       "      <td>1</td>\n",
       "    </tr>\n",
       "  </tbody>\n",
       "</table>\n",
       "</div>"
      ],
      "text/plain": [
       "               Passer  \\\n",
       "145  B.Roethlisberger   \n",
       "334          J.Cutler   \n",
       "366           B.Hoyer   \n",
       "601     R.Fitzpatrick   \n",
       "649         J.Manziel   \n",
       "\n",
       "                                                                                                                                                                                                       desc  \\\n",
       "145                                            (7:09) (No Huddle, Shotgun) B.Roethlisberger pass deep left intended for D.Heyward-Bey INTERCEPTED by D.Harmon at NE 7. D.Harmon ran ob at NE 7 for no gain.   \n",
       "334  (3:55) (No Huddle, Shotgun) J.Cutler pass short right intended for M.Bennett INTERCEPTED by C.Matthews at GB 20. C.Matthews to CHI 32 for 48 yards (J.Bushrod). PENALTY on GB-N.Perry, Illegal Bloc...   \n",
       "366                                                                  (11:14) B.Hoyer pass short right intended for D.Hopkins INTERCEPTED by M.Peters at HOU 13. M.Peters to HOU 13 for no gain (D.Hopkins).   \n",
       "601  (10:07) R.Fitzpatrick pass deep left intended for B.Marshall INTERCEPTED by T.Gipson at CLE 17. T.Gipson to CLE 17 for no gain (B.Marshall). FUMBLES (B.Marshall), RECOVERED by NYJ-B.Marshall at C...   \n",
       "649                                       (10:52) (Shotgun) J.Manziel pass short left intended for B.Hartline INTERCEPTED by M.Williams at CLE 46. M.Williams pushed ob at CLE 28 for 18 yards (J.Bitonio).   \n",
       "\n",
       "     InterceptionThrown  \n",
       "145                   1  \n",
       "334                   1  \n",
       "366                   1  \n",
       "601                   1  \n",
       "649                   1  "
      ]
     },
     "execution_count": 25,
     "metadata": {},
     "output_type": "execute_result"
    }
   ],
   "source": [
    "interceptions.head()"
   ]
  },
  {
   "cell_type": "code",
   "execution_count": null,
   "id": "cb4e1e1d-e9a7-4ca1-8f11-580b92f4b581",
   "metadata": {},
   "outputs": [],
   "source": []
  }
 ],
 "metadata": {
  "kernelspec": {
   "display_name": "Python 3 (ipykernel)",
   "language": "python",
   "name": "python3"
  },
  "language_info": {
   "codemirror_mode": {
    "name": "ipython",
    "version": 3
   },
   "file_extension": ".py",
   "mimetype": "text/x-python",
   "name": "python",
   "nbconvert_exporter": "python",
   "pygments_lexer": "ipython3",
   "version": "3.9.12"
  }
 },
 "nbformat": 4,
 "nbformat_minor": 5
}
