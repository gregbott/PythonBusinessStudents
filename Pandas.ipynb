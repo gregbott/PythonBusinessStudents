{
 "cells": [
  {
   "cell_type": "markdown",
   "metadata": {
    "toc-hr-collapsed": true,
    "toc-nb-collapsed": true
   },
   "source": [
    "# Pandas Fundamentals\n",
    "\n",
    "This notebook provides an introduction to the `pandas` package. This notebook also borrows heavily from the book *Data Science Handbook*, which was written by Jake VanderPlas and is available at https://jakevdp.github.io/PythonDataScienceHandbook/ (accessed 12/17/2019) and from the pandas documentation."
   ]
  },
  {
   "cell_type": "markdown",
   "metadata": {
    "toc-hr-collapsed": true,
    "toc-nb-collapsed": true
   },
   "source": [
    "# What is Pandas?\n",
    "<a id=\"pandas\"> </a>\n",
    "\n",
    "The `pandas` package is one of the most popular Python tools for data management and manipulation. `pandas` is built *on top* of `numpy`. Thus, much of the functionality and methods that are available in `numpy` are also available in `pandas`. \n",
    "\n",
    "From https://en.wikipedia.org/wiki/Pandas_(software) (accessed 1/7/2018):\n",
    "\n",
    ">Pandas is a software library written for the Python programming language for data manipulation and analysis. In particular, it offers data structures and operations for manipulating numerical tables and time series. It is free software released under the three-clause BSD license. The name is derived from the term \"panel data\", an econometrics term for multidimensional, structured data sets. Major features of the library are:\n",
    "\n",
    "> - DataFrame object for data manipulation with integrated indexing.\n",
    "> - Tools for reading and writing data between in-memory data structures and different file formats.\n",
    "> - Data alignment and integrated handling of missing data.\n",
    "> - Reshaping and pivoting of data sets.\n",
    "> - Label-based slicing, fancy indexing, and subsetting of large data sets.\n",
    "> - Data structure column insertion and deletion.\n",
    "> - Group by engine allowing split-apply-combine operations on data sets.\n",
    "> - Data set merging and joining.\n",
    "> - Hierarchical axis indexing to work with high-dimensional data in a lower-dimensional data structure.\n",
    "> - Time series-functionality: Date range generation and frequency conversion, moving window statistics, moving window linear regressions, date shifting and lagging.\n",
    "> The library is highly optimized for performance, with critical code paths written in Cython or C.\n",
    "\n",
    "The following code block uses the *import - as* approach to import Pandas. The alias *pd* is a standard convention. We also import NumPy."
   ]
  },
  {
   "cell_type": "code",
   "execution_count": 1,
   "metadata": {},
   "outputs": [
    {
     "name": "stdout",
     "output_type": "stream",
     "text": [
      "pandas                    1.3.4                    pypi_0    pypi\n",
      "\n",
      "Note: you may need to restart the kernel to use updated packages.\n"
     ]
    }
   ],
   "source": [
    "%conda list | grep pandas"
   ]
  },
  {
   "cell_type": "code",
   "execution_count": 2,
   "metadata": {},
   "outputs": [],
   "source": [
    "import pandas as pd\n",
    "import numpy as np\n",
    "from pathlib import Path\n",
    "import pprint as pp"
   ]
  },
  {
   "cell_type": "markdown",
   "metadata": {
    "toc-hr-collapsed": true,
    "toc-nb-collapsed": true
   },
   "source": [
    "# Pandas Objects\n",
    "<a id=\"Pandas_Objects\"> </a>\n",
    "\n",
    "Pandas objects can be thought of as enhanced NumPy arrays. The two main Pandas objects are:\n",
    "1. The Pandas `Series`, which is a one-dimensional array of indexed data. Accessing a single column of a DataFrame results in a `Series` object.\n",
    "2. The Pandas `DataFrame`, which is two-dimensional array of indexed data. A `DataFrame` is a container for multiple series objects. \n",
    "\n",
    "The fact that Pandas objects are indexed allows us to lookup and access values by the index. Also, in contrast to NumPy arrays which are for storing numeric data, Pandas objects can store pretty much any Python data type."
   ]
  },
  {
   "cell_type": "markdown",
   "metadata": {},
   "source": [
    "## Pandas `Series` Object\n",
    "To demonstrate the Pandas `Series` object, suppose we have the following 24 data points for sales over a 24 month period stored in a list object named `sales`. Also, we have a list object named `month` that stores the month that the sales occured in using the date format YYYY-MM."
   ]
  },
  {
   "cell_type": "code",
   "execution_count": 3,
   "metadata": {},
   "outputs": [],
   "source": [
    "month = ['2015-01-31', '2015-02-28', '2015-03-31', '2015-04-30',\n",
    "         '2015-05-31', '2015-06-30', '2015-07-31', '2015-08-31',\n",
    "         '2015-09-30', '2015-10-31', '2015-11-30', '2015-12-31',\n",
    "         '2016-01-31', '2016-02-29', '2016-03-31', '2016-04-30',\n",
    "         '2016-05-31', '2016-06-30', '2016-07-31', '2016-08-31',\n",
    "         '2016-09-30', '2016-10-31', '2016-11-30', '2016-12-31']\n",
    "\n",
    "sales = [ 872,  873,  990, 1129, \n",
    "          969,  964, 1148,  614,\n",
    "         1068, 1138, 1057,  748,\n",
    "         1255, 1016, 1058, 1064, \n",
    "         1229, 1060, 1144, 1119, \n",
    "         1188,  817,  638, 1205]"
   ]
  },
  {
   "cell_type": "markdown",
   "metadata": {},
   "source": [
    "Similar capabilities are found in NumPy (remember that Pandas is based on NumPy), but in many cases you may find NumPy limitations to be cumbersome. For example, it would be much easier to use month names AS the index rather than be limited to the integer index provided by NumPy."
   ]
  },
  {
   "cell_type": "code",
   "execution_count": 4,
   "metadata": {},
   "outputs": [
    {
     "name": "stdout",
     "output_type": "stream",
     "text": [
      "(2, 24)\n"
     ]
    }
   ],
   "source": [
    "# What type of object is month? sales?\n",
    "sales_data = [month, sales]\n",
    "np_sales = np.array(sales_data)\n",
    "print(np_sales.shape)"
   ]
  },
  {
   "cell_type": "code",
   "execution_count": 5,
   "metadata": {},
   "outputs": [
    {
     "name": "stdout",
     "output_type": "stream",
     "text": [
      "[['2015-01-31' '2015-02-28' '2015-03-31' '2015-04-30' '2015-05-31'\n",
      "  '2015-06-30' '2015-07-31' '2015-08-31' '2015-09-30' '2015-10-31'\n",
      "  '2015-11-30' '2015-12-31' '2016-01-31' '2016-02-29' '2016-03-31'\n",
      "  '2016-04-30' '2016-05-31' '2016-06-30' '2016-07-31' '2016-08-31'\n",
      "  '2016-09-30' '2016-10-31' '2016-11-30' '2016-12-31']\n",
      " ['872' '873' '990' '1129' '969' '964' '1148' '614' '1068' '1138' '1057'\n",
      "  '748' '1255' '1016' '1058' '1064' '1229' '1060' '1144' '1119' '1188'\n",
      "  '817' '638' '1205']]\n",
      "April 2015 sales:  1129\n",
      "April 2015 sales: $1,129.00\n"
     ]
    }
   ],
   "source": [
    "# Using numpy, if you want sales (row 1) for April, 2015 you have to know which column is April (column 3)\n",
    "print(np_sales)\n",
    "print(\"April 2015 sales: \",np_sales[1,3])\n",
    "\n",
    "# If you want to format it for currency, you can use the format method\n",
    "print(\"April 2015 sales: ${:0,.2f}\".format(float(np_sales[1,3])).replace('$-','-$'))"
   ]
  },
  {
   "cell_type": "markdown",
   "metadata": {},
   "source": [
    "The following code block uses the two lists to create a Pandas `Series` that is stored in a variable named `sales_series`."
   ]
  },
  {
   "cell_type": "code",
   "execution_count": 6,
   "metadata": {},
   "outputs": [
    {
     "name": "stdout",
     "output_type": "stream",
     "text": [
      "The sales_series series is\n",
      "2015-01-31     872\n",
      "2015-02-28     873\n",
      "2015-03-31     990\n",
      "2015-04-30    1129\n",
      "2015-05-31     969\n",
      "2015-06-30     964\n",
      "2015-07-31    1148\n",
      "2015-08-31     614\n",
      "2015-09-30    1068\n",
      "2015-10-31    1138\n",
      "2015-11-30    1057\n",
      "2015-12-31     748\n",
      "2016-01-31    1255\n",
      "2016-02-29    1016\n",
      "2016-03-31    1058\n",
      "2016-04-30    1064\n",
      "2016-05-31    1229\n",
      "2016-06-30    1060\n",
      "2016-07-31    1144\n",
      "2016-08-31    1119\n",
      "2016-09-30    1188\n",
      "2016-10-31     817\n",
      "2016-11-30     638\n",
      "2016-12-31    1205\n",
      "dtype: int64\n"
     ]
    }
   ],
   "source": [
    "sales_series = pd.Series(sales, index = month)\n",
    "\n",
    "print(f'The sales_series series is\\n{sales_series}')"
   ]
  },
  {
   "cell_type": "markdown",
   "metadata": {},
   "source": [
    "The following code block shows how we can access individual values, or a range of values, in the series."
   ]
  },
  {
   "cell_type": "code",
   "execution_count": 7,
   "metadata": {},
   "outputs": [
    {
     "name": "stdout",
     "output_type": "stream",
     "text": [
      "April sales: 1129\n"
     ]
    }
   ],
   "source": [
    "# Get the sales for April 2015\n",
    "print(\"April sales:\", sales_series['2015-04-30'])"
   ]
  },
  {
   "cell_type": "code",
   "execution_count": 8,
   "metadata": {},
   "outputs": [
    {
     "data": {
      "text/plain": [
       "2015-04-30    1129\n",
       "2015-05-31     969\n",
       "2015-06-30     964\n",
       "2015-07-31    1148\n",
       "2015-08-31     614\n",
       "2015-09-30    1068\n",
       "2015-10-31    1138\n",
       "2015-11-30    1057\n",
       "2015-12-31     748\n",
       "dtype: int64"
      ]
     },
     "execution_count": 8,
     "metadata": {},
     "output_type": "execute_result"
    }
   ],
   "source": [
    "# Get the sales for April 2015 through December 2015 \n",
    "sales_series['2015-04-30':'2015-12-31']"
   ]
  },
  {
   "cell_type": "code",
   "execution_count": 9,
   "metadata": {},
   "outputs": [
    {
     "data": {
      "text/plain": [
       "2015-01-31     872\n",
       "2015-02-28     873\n",
       "2015-03-31     990\n",
       "2015-04-30    1129\n",
       "2015-05-31     969\n",
       "dtype: int64"
      ]
     },
     "execution_count": 9,
     "metadata": {},
     "output_type": "execute_result"
    }
   ],
   "source": [
    "# Slice the Series object using Integers\n",
    "# Get the first five rows (Index 0 - 4, not including 5)\n",
    "sales_series[0:5]"
   ]
  },
  {
   "cell_type": "markdown",
   "metadata": {},
   "source": [
    "Using NumPy-like syntax, we can do computations on `Series` objects. The following code blocks provides examples.\n",
    "\n",
    "[Back to Table of Contents](#Table_of_Contents)<br>"
   ]
  },
  {
   "cell_type": "code",
   "execution_count": 10,
   "metadata": {},
   "outputs": [
    {
     "data": {
      "text/plain": [
       "6737"
      ]
     },
     "execution_count": 10,
     "metadata": {},
     "output_type": "execute_result"
    }
   ],
   "source": [
    "# Compute the total sales for June 2015 through December 2015 \n",
    "sales_series['2015-06-30':'2015-12-31'].sum()"
   ]
  },
  {
   "cell_type": "code",
   "execution_count": 11,
   "metadata": {},
   "outputs": [
    {
     "data": {
      "text/plain": [
       "962.4285714285714"
      ]
     },
     "execution_count": 11,
     "metadata": {},
     "output_type": "execute_result"
    }
   ],
   "source": [
    "# Compute the mean sales for June 2015 through December 2015 \n",
    "sales_series['2015-06-30':'2015-12-31'].mean()"
   ]
  },
  {
   "cell_type": "code",
   "execution_count": 12,
   "metadata": {},
   "outputs": [
    {
     "data": {
      "text/plain": [
       "1148"
      ]
     },
     "execution_count": 12,
     "metadata": {},
     "output_type": "execute_result"
    }
   ],
   "source": [
    "# Compute the maximum sales for June 2015 through December 2015 \n",
    "sales_series['2015-06-30':'2015-12-31'].max()"
   ]
  },
  {
   "cell_type": "markdown",
   "metadata": {},
   "source": [
    "## Pandas `DataFrame` Object\n",
    "\n",
    "We will now look at Pandas `DataFrame` object. "
   ]
  },
  {
   "cell_type": "code",
   "execution_count": 13,
   "metadata": {},
   "outputs": [
    {
     "name": "stdout",
     "output_type": "stream",
     "text": [
      "DatetimeIndex(['2020-01-31', '2020-02-29', '2020-03-31', '2020-04-30',\n",
      "               '2020-05-31', '2020-06-30', '2020-07-31', '2020-08-31',\n",
      "               '2020-09-30', '2020-10-31', '2020-11-30', '2020-12-31'],\n",
      "              dtype='datetime64[ns]', freq='M')\n"
     ]
    }
   ],
   "source": [
    "# Use the date_range function to populate a dataframe with a certain number of periods\n",
    "dates = pd.date_range('20200101', periods=12,freq='M')\n",
    "print(dates)"
   ]
  },
  {
   "cell_type": "code",
   "execution_count": 14,
   "metadata": {},
   "outputs": [
    {
     "data": {
      "text/html": [
       "<div>\n",
       "<style scoped>\n",
       "    .dataframe tbody tr th:only-of-type {\n",
       "        vertical-align: middle;\n",
       "    }\n",
       "\n",
       "    .dataframe tbody tr th {\n",
       "        vertical-align: top;\n",
       "    }\n",
       "\n",
       "    .dataframe thead th {\n",
       "        text-align: right;\n",
       "    }\n",
       "</style>\n",
       "<table border=\"1\" class=\"dataframe\">\n",
       "  <thead>\n",
       "    <tr style=\"text-align: right;\">\n",
       "      <th></th>\n",
       "      <th>A</th>\n",
       "      <th>B</th>\n",
       "      <th>C</th>\n",
       "      <th>D</th>\n",
       "    </tr>\n",
       "  </thead>\n",
       "  <tbody>\n",
       "    <tr>\n",
       "      <th>2020-01-31</th>\n",
       "      <td>1.644167</td>\n",
       "      <td>0.210344</td>\n",
       "      <td>0.466916</td>\n",
       "      <td>-0.007990</td>\n",
       "    </tr>\n",
       "    <tr>\n",
       "      <th>2020-02-29</th>\n",
       "      <td>-0.266836</td>\n",
       "      <td>0.599331</td>\n",
       "      <td>-1.267943</td>\n",
       "      <td>-0.620933</td>\n",
       "    </tr>\n",
       "    <tr>\n",
       "      <th>2020-03-31</th>\n",
       "      <td>0.822044</td>\n",
       "      <td>-0.057933</td>\n",
       "      <td>-0.743296</td>\n",
       "      <td>-0.959577</td>\n",
       "    </tr>\n",
       "    <tr>\n",
       "      <th>2020-04-30</th>\n",
       "      <td>0.787058</td>\n",
       "      <td>0.559977</td>\n",
       "      <td>-0.266449</td>\n",
       "      <td>1.263510</td>\n",
       "    </tr>\n",
       "    <tr>\n",
       "      <th>2020-05-31</th>\n",
       "      <td>-1.330695</td>\n",
       "      <td>0.880858</td>\n",
       "      <td>0.207283</td>\n",
       "      <td>1.486812</td>\n",
       "    </tr>\n",
       "    <tr>\n",
       "      <th>2020-06-30</th>\n",
       "      <td>0.918711</td>\n",
       "      <td>2.196563</td>\n",
       "      <td>0.805634</td>\n",
       "      <td>-0.303641</td>\n",
       "    </tr>\n",
       "    <tr>\n",
       "      <th>2020-07-31</th>\n",
       "      <td>-0.219359</td>\n",
       "      <td>1.736980</td>\n",
       "      <td>0.551994</td>\n",
       "      <td>-1.806071</td>\n",
       "    </tr>\n",
       "    <tr>\n",
       "      <th>2020-08-31</th>\n",
       "      <td>2.035084</td>\n",
       "      <td>0.928316</td>\n",
       "      <td>1.422360</td>\n",
       "      <td>-0.563213</td>\n",
       "    </tr>\n",
       "    <tr>\n",
       "      <th>2020-09-30</th>\n",
       "      <td>-1.254090</td>\n",
       "      <td>0.473360</td>\n",
       "      <td>0.232347</td>\n",
       "      <td>-0.744275</td>\n",
       "    </tr>\n",
       "    <tr>\n",
       "      <th>2020-10-31</th>\n",
       "      <td>1.128544</td>\n",
       "      <td>0.082781</td>\n",
       "      <td>0.024427</td>\n",
       "      <td>1.112258</td>\n",
       "    </tr>\n",
       "    <tr>\n",
       "      <th>2020-11-30</th>\n",
       "      <td>-0.576943</td>\n",
       "      <td>0.099467</td>\n",
       "      <td>-0.483043</td>\n",
       "      <td>0.908761</td>\n",
       "    </tr>\n",
       "    <tr>\n",
       "      <th>2020-12-31</th>\n",
       "      <td>-0.475586</td>\n",
       "      <td>0.561457</td>\n",
       "      <td>-1.725955</td>\n",
       "      <td>-2.140720</td>\n",
       "    </tr>\n",
       "  </tbody>\n",
       "</table>\n",
       "</div>"
      ],
      "text/plain": [
       "                   A         B         C         D\n",
       "2020-01-31  1.644167  0.210344  0.466916 -0.007990\n",
       "2020-02-29 -0.266836  0.599331 -1.267943 -0.620933\n",
       "2020-03-31  0.822044 -0.057933 -0.743296 -0.959577\n",
       "2020-04-30  0.787058  0.559977 -0.266449  1.263510\n",
       "2020-05-31 -1.330695  0.880858  0.207283  1.486812\n",
       "2020-06-30  0.918711  2.196563  0.805634 -0.303641\n",
       "2020-07-31 -0.219359  1.736980  0.551994 -1.806071\n",
       "2020-08-31  2.035084  0.928316  1.422360 -0.563213\n",
       "2020-09-30 -1.254090  0.473360  0.232347 -0.744275\n",
       "2020-10-31  1.128544  0.082781  0.024427  1.112258\n",
       "2020-11-30 -0.576943  0.099467 -0.483043  0.908761\n",
       "2020-12-31 -0.475586  0.561457 -1.725955 -2.140720"
      ]
     },
     "execution_count": 14,
     "metadata": {},
     "output_type": "execute_result"
    }
   ],
   "source": [
    "# Fill the DataFrame with random numbers and assign them to columns (A, B, C, D)\n",
    "df_random = pd.DataFrame(np.random.randn(12, 4), index=dates, columns=list('ABCD'))\n",
    "df_random.head(12)"
   ]
  },
  {
   "cell_type": "code",
   "execution_count": 15,
   "metadata": {},
   "outputs": [
    {
     "data": {
      "text/html": [
       "<div>\n",
       "<style scoped>\n",
       "    .dataframe tbody tr th:only-of-type {\n",
       "        vertical-align: middle;\n",
       "    }\n",
       "\n",
       "    .dataframe tbody tr th {\n",
       "        vertical-align: top;\n",
       "    }\n",
       "\n",
       "    .dataframe thead th {\n",
       "        text-align: right;\n",
       "    }\n",
       "</style>\n",
       "<table border=\"1\" class=\"dataframe\">\n",
       "  <thead>\n",
       "    <tr style=\"text-align: right;\">\n",
       "      <th></th>\n",
       "      <th>A</th>\n",
       "      <th>B</th>\n",
       "      <th>C</th>\n",
       "      <th>D</th>\n",
       "    </tr>\n",
       "  </thead>\n",
       "  <tbody>\n",
       "    <tr>\n",
       "      <th>count</th>\n",
       "      <td>12.000000</td>\n",
       "      <td>12.000000</td>\n",
       "      <td>12.000000</td>\n",
       "      <td>12.000000</td>\n",
       "    </tr>\n",
       "    <tr>\n",
       "      <th>mean</th>\n",
       "      <td>0.267675</td>\n",
       "      <td>0.689292</td>\n",
       "      <td>-0.064644</td>\n",
       "      <td>-0.197923</td>\n",
       "    </tr>\n",
       "    <tr>\n",
       "      <th>std</th>\n",
       "      <td>1.104527</td>\n",
       "      <td>0.677872</td>\n",
       "      <td>0.888598</td>\n",
       "      <td>1.187598</td>\n",
       "    </tr>\n",
       "    <tr>\n",
       "      <th>min</th>\n",
       "      <td>-1.330695</td>\n",
       "      <td>-0.057933</td>\n",
       "      <td>-1.725955</td>\n",
       "      <td>-2.140720</td>\n",
       "    </tr>\n",
       "    <tr>\n",
       "      <th>25%</th>\n",
       "      <td>-0.500925</td>\n",
       "      <td>0.182625</td>\n",
       "      <td>-0.548106</td>\n",
       "      <td>-0.798100</td>\n",
       "    </tr>\n",
       "    <tr>\n",
       "      <th>50%</th>\n",
       "      <td>0.283850</td>\n",
       "      <td>0.560717</td>\n",
       "      <td>0.115855</td>\n",
       "      <td>-0.433427</td>\n",
       "    </tr>\n",
       "    <tr>\n",
       "      <th>75%</th>\n",
       "      <td>0.971169</td>\n",
       "      <td>0.892723</td>\n",
       "      <td>0.488186</td>\n",
       "      <td>0.959635</td>\n",
       "    </tr>\n",
       "    <tr>\n",
       "      <th>max</th>\n",
       "      <td>2.035084</td>\n",
       "      <td>2.196563</td>\n",
       "      <td>1.422360</td>\n",
       "      <td>1.486812</td>\n",
       "    </tr>\n",
       "  </tbody>\n",
       "</table>\n",
       "</div>"
      ],
      "text/plain": [
       "               A          B          C          D\n",
       "count  12.000000  12.000000  12.000000  12.000000\n",
       "mean    0.267675   0.689292  -0.064644  -0.197923\n",
       "std     1.104527   0.677872   0.888598   1.187598\n",
       "min    -1.330695  -0.057933  -1.725955  -2.140720\n",
       "25%    -0.500925   0.182625  -0.548106  -0.798100\n",
       "50%     0.283850   0.560717   0.115855  -0.433427\n",
       "75%     0.971169   0.892723   0.488186   0.959635\n",
       "max     2.035084   2.196563   1.422360   1.486812"
      ]
     },
     "execution_count": 15,
     "metadata": {},
     "output_type": "execute_result"
    }
   ],
   "source": [
    "# Display a basic description of your DataFrame\n",
    "df_random.describe()"
   ]
  },
  {
   "cell_type": "code",
   "execution_count": 16,
   "metadata": {},
   "outputs": [
    {
     "data": {
      "text/html": [
       "<div>\n",
       "<style scoped>\n",
       "    .dataframe tbody tr th:only-of-type {\n",
       "        vertical-align: middle;\n",
       "    }\n",
       "\n",
       "    .dataframe tbody tr th {\n",
       "        vertical-align: top;\n",
       "    }\n",
       "\n",
       "    .dataframe thead th {\n",
       "        text-align: right;\n",
       "    }\n",
       "</style>\n",
       "<table border=\"1\" class=\"dataframe\">\n",
       "  <thead>\n",
       "    <tr style=\"text-align: right;\">\n",
       "      <th></th>\n",
       "      <th>A</th>\n",
       "      <th>B</th>\n",
       "      <th>C</th>\n",
       "      <th>D</th>\n",
       "    </tr>\n",
       "  </thead>\n",
       "  <tbody>\n",
       "    <tr>\n",
       "      <th>2020-03-31</th>\n",
       "      <td>0.822044</td>\n",
       "      <td>-0.057933</td>\n",
       "      <td>-0.743296</td>\n",
       "      <td>-0.959577</td>\n",
       "    </tr>\n",
       "    <tr>\n",
       "      <th>2020-10-31</th>\n",
       "      <td>1.128544</td>\n",
       "      <td>0.082781</td>\n",
       "      <td>0.024427</td>\n",
       "      <td>1.112258</td>\n",
       "    </tr>\n",
       "    <tr>\n",
       "      <th>2020-11-30</th>\n",
       "      <td>-0.576943</td>\n",
       "      <td>0.099467</td>\n",
       "      <td>-0.483043</td>\n",
       "      <td>0.908761</td>\n",
       "    </tr>\n",
       "    <tr>\n",
       "      <th>2020-01-31</th>\n",
       "      <td>1.644167</td>\n",
       "      <td>0.210344</td>\n",
       "      <td>0.466916</td>\n",
       "      <td>-0.007990</td>\n",
       "    </tr>\n",
       "    <tr>\n",
       "      <th>2020-09-30</th>\n",
       "      <td>-1.254090</td>\n",
       "      <td>0.473360</td>\n",
       "      <td>0.232347</td>\n",
       "      <td>-0.744275</td>\n",
       "    </tr>\n",
       "    <tr>\n",
       "      <th>2020-04-30</th>\n",
       "      <td>0.787058</td>\n",
       "      <td>0.559977</td>\n",
       "      <td>-0.266449</td>\n",
       "      <td>1.263510</td>\n",
       "    </tr>\n",
       "    <tr>\n",
       "      <th>2020-12-31</th>\n",
       "      <td>-0.475586</td>\n",
       "      <td>0.561457</td>\n",
       "      <td>-1.725955</td>\n",
       "      <td>-2.140720</td>\n",
       "    </tr>\n",
       "    <tr>\n",
       "      <th>2020-02-29</th>\n",
       "      <td>-0.266836</td>\n",
       "      <td>0.599331</td>\n",
       "      <td>-1.267943</td>\n",
       "      <td>-0.620933</td>\n",
       "    </tr>\n",
       "    <tr>\n",
       "      <th>2020-05-31</th>\n",
       "      <td>-1.330695</td>\n",
       "      <td>0.880858</td>\n",
       "      <td>0.207283</td>\n",
       "      <td>1.486812</td>\n",
       "    </tr>\n",
       "    <tr>\n",
       "      <th>2020-08-31</th>\n",
       "      <td>2.035084</td>\n",
       "      <td>0.928316</td>\n",
       "      <td>1.422360</td>\n",
       "      <td>-0.563213</td>\n",
       "    </tr>\n",
       "    <tr>\n",
       "      <th>2020-07-31</th>\n",
       "      <td>-0.219359</td>\n",
       "      <td>1.736980</td>\n",
       "      <td>0.551994</td>\n",
       "      <td>-1.806071</td>\n",
       "    </tr>\n",
       "    <tr>\n",
       "      <th>2020-06-30</th>\n",
       "      <td>0.918711</td>\n",
       "      <td>2.196563</td>\n",
       "      <td>0.805634</td>\n",
       "      <td>-0.303641</td>\n",
       "    </tr>\n",
       "  </tbody>\n",
       "</table>\n",
       "</div>"
      ],
      "text/plain": [
       "                   A         B         C         D\n",
       "2020-03-31  0.822044 -0.057933 -0.743296 -0.959577\n",
       "2020-10-31  1.128544  0.082781  0.024427  1.112258\n",
       "2020-11-30 -0.576943  0.099467 -0.483043  0.908761\n",
       "2020-01-31  1.644167  0.210344  0.466916 -0.007990\n",
       "2020-09-30 -1.254090  0.473360  0.232347 -0.744275\n",
       "2020-04-30  0.787058  0.559977 -0.266449  1.263510\n",
       "2020-12-31 -0.475586  0.561457 -1.725955 -2.140720\n",
       "2020-02-29 -0.266836  0.599331 -1.267943 -0.620933\n",
       "2020-05-31 -1.330695  0.880858  0.207283  1.486812\n",
       "2020-08-31  2.035084  0.928316  1.422360 -0.563213\n",
       "2020-07-31 -0.219359  1.736980  0.551994 -1.806071\n",
       "2020-06-30  0.918711  2.196563  0.805634 -0.303641"
      ]
     },
     "execution_count": 16,
     "metadata": {},
     "output_type": "execute_result"
    }
   ],
   "source": [
    "# Sort the DataFrame by values\n",
    "df_random.sort_values(by='B')"
   ]
  },
  {
   "cell_type": "code",
   "execution_count": 17,
   "metadata": {},
   "outputs": [
    {
     "data": {
      "text/plain": [
       "array([[ 1.64416742,  0.21034389,  0.46691622, -0.00798994],\n",
       "       [-0.26683582,  0.59933093, -1.26794291, -0.62093294],\n",
       "       [ 0.82204423, -0.057933  , -0.74329553, -0.95957737],\n",
       "       [ 0.78705823,  0.55997715, -0.26644872,  1.26350979],\n",
       "       [-1.33069484,  0.88085841,  0.20728262,  1.48681188],\n",
       "       [ 0.91871075,  2.19656277,  0.80563448, -0.30364089],\n",
       "       [-0.21935873,  1.73698033,  0.55199387, -1.80607057],\n",
       "       [ 2.03508369,  0.92831627,  1.42236022, -0.56321266],\n",
       "       [-1.25409015,  0.4733604 ,  0.23234728, -0.74427475],\n",
       "       [ 1.12854356,  0.08278067,  0.02442675,  1.11225794],\n",
       "       [-0.57694323,  0.09946714, -0.48304305,  0.90876069],\n",
       "       [-0.47558606,  0.56145737, -1.72595521, -2.14071966]])"
      ]
     },
     "execution_count": 17,
     "metadata": {},
     "output_type": "execute_result"
    }
   ],
   "source": [
    "# To display only the values, use the to_numpy() function\n",
    "df_random.to_numpy()"
   ]
  },
  {
   "cell_type": "code",
   "execution_count": 18,
   "metadata": {},
   "outputs": [],
   "source": [
    "# The following code provides four lists that provide information on the sales of two products, A and B,\n",
    "#   in three stores, W1, E1, and E2, over 10 years.\n",
    "\n",
    "stores_list = ['W1', 'W1', 'W1', 'W1', 'W1', 'W1', 'W1', 'W1', 'W1', 'W1', \n",
    "               'W1', 'W1', 'W1', 'W1', 'W1', 'W1', 'W1', 'W1', 'W1', 'W1', \n",
    "               'E1', 'E1', 'E1', 'E1', 'E1', 'E1', 'E1', 'E1', 'E1', 'E1', \n",
    "               'E1', 'E1', 'E1', 'E1', 'E1', 'E1', 'E1', 'E1', 'E1', 'E1', \n",
    "               'E2', 'E2', 'E2', 'E2', 'E2', 'E2', 'E2', 'E2', 'E2', 'E2', \n",
    "               'E2', 'E2', 'E2', 'E2', 'E2', 'E2', 'E2', 'E2', 'E2', 'E2']\n",
    "\n",
    "dates_list = ['12/31/2007', '12/31/2008', '12/31/2009', '12/31/2010', '12/31/2011', '12/31/2012', \n",
    "              '12/31/2013', '12/31/2014', '12/31/2015', '12/31/2016', '12/31/2007', '12/31/2008', \n",
    "              '12/31/2009', '12/31/2010', '12/31/2011', '12/31/2012', '12/31/2013', '12/31/2014', \n",
    "              '12/31/2015', '12/31/2016', '12/31/2007', '12/31/2008', '12/31/2009', '12/31/2010', \n",
    "              '12/31/2011', '12/31/2012', '12/31/2013', '12/31/2014', '12/31/2015', '12/31/2016', \n",
    "              '12/31/2007', '12/31/2008', '12/31/2009', '12/31/2010', '12/31/2011', '12/31/2012', \n",
    "              '12/31/2013', '12/31/2014', '12/31/2015', '12/31/2016', '12/31/2007', '12/31/2008', \n",
    "              '12/31/2009', '12/31/2010', '12/31/2011', '12/31/2012', '12/31/2013', '12/31/2014', \n",
    "              '12/31/2015', '12/31/2016', '12/31/2007', '12/31/2008', '12/31/2009', '12/31/2010', \n",
    "              '12/31/2011', '12/31/2012', '12/31/2013', '12/31/2014', '12/31/2015', '12/31/2016']\n",
    "\n",
    "product_list = ['A', 'A', 'A', 'A', 'A', 'A', 'A', 'A', 'A', 'A', \n",
    "                'B', 'B', 'B', 'B', 'B', 'B', 'B', 'B', 'B', 'B', \n",
    "                'A', 'A', 'A', 'A', 'A', 'A', 'A', 'A', 'A', 'A', \n",
    "                'B', 'B', 'B', 'B', 'B', 'B', 'B', 'B', 'B', 'B', \n",
    "                'A', 'A', 'A', 'A', 'A', 'A', 'A', 'A', 'A', 'A', \n",
    "                'B', 'B', 'B', 'B', 'B', 'B', 'B', 'B', 'B', 'B']\n",
    "\n",
    "sales_list = [1957, 1968, 1983, 2001, 1894, 1850, 2045, 1860, 1784, 1856, \n",
    "              1891, 1822, 1846, 1903, 1924, 1897, 1890, 1858, 1871, 1880, \n",
    "              1858, 1909, 1977, 1717, 1751, 1797, 1804, 1845, 1895, 1713, \n",
    "              1904, 1812, 1733, 1868, 1872, 1909, 2034, 1856, 1813, 1806, \n",
    "              1862, 1800, 1840, 1882, 1819, 1854, 1716, 1845, 1877, 1879, \n",
    "              1696, 1783, 1799, 1852, 1793, 1877, 1687, 1824, 1839, 1889]"
   ]
  },
  {
   "cell_type": "markdown",
   "metadata": {},
   "source": [
    "The following code block first uses the list to construct a Python dictionary, uses the dictionary to define a Pandas `DataFrame` object named `sales_data`, and uses the `head()` method to print the first 10 rows of the `DataFrame`.\n",
    "\n",
    "<div class=\"alert alert-block alert-info\">\n",
    "    <b>The <i>head()</i> function:</b> The <i>head()</i> function is a Pandas object method that prints the first five rows of a Pandas object by default. Specifying an integer argument instructs Pandas to return the specified number of rows from the beginning of the object. Similar to the <i>head()</i> method, the <i>tail()</i> method returns records from the end of a Pandas object.</div>"
   ]
  },
  {
   "cell_type": "code",
   "execution_count": 19,
   "metadata": {},
   "outputs": [
    {
     "name": "stdout",
     "output_type": "stream",
     "text": [
      "{'Store': ['W1', 'W1', 'W1', 'W1', 'W1', 'W1', 'W1', 'W1', 'W1', 'W1', 'W1', 'W1', 'W1', 'W1', 'W1', 'W1', 'W1', 'W1', 'W1', 'W1', 'E1', 'E1', 'E1', 'E1', 'E1', 'E1', 'E1', 'E1', 'E1', 'E1', 'E1', 'E1', 'E1', 'E1', 'E1', 'E1', 'E1', 'E1', 'E1', 'E1', 'E2', 'E2', 'E2', 'E2', 'E2', 'E2', 'E2', 'E2', 'E2', 'E2', 'E2', 'E2', 'E2', 'E2', 'E2', 'E2', 'E2', 'E2', 'E2', 'E2'], 'Product': ['A', 'A', 'A', 'A', 'A', 'A', 'A', 'A', 'A', 'A', 'B', 'B', 'B', 'B', 'B', 'B', 'B', 'B', 'B', 'B', 'A', 'A', 'A', 'A', 'A', 'A', 'A', 'A', 'A', 'A', 'B', 'B', 'B', 'B', 'B', 'B', 'B', 'B', 'B', 'B', 'A', 'A', 'A', 'A', 'A', 'A', 'A', 'A', 'A', 'A', 'B', 'B', 'B', 'B', 'B', 'B', 'B', 'B', 'B', 'B'], 'Sales': [1957, 1968, 1983, 2001, 1894, 1850, 2045, 1860, 1784, 1856, 1891, 1822, 1846, 1903, 1924, 1897, 1890, 1858, 1871, 1880, 1858, 1909, 1977, 1717, 1751, 1797, 1804, 1845, 1895, 1713, 1904, 1812, 1733, 1868, 1872, 1909, 2034, 1856, 1813, 1806, 1862, 1800, 1840, 1882, 1819, 1854, 1716, 1845, 1877, 1879, 1696, 1783, 1799, 1852, 1793, 1877, 1687, 1824, 1839, 1889], 'Year': ['12/31/2007', '12/31/2008', '12/31/2009', '12/31/2010', '12/31/2011', '12/31/2012', '12/31/2013', '12/31/2014', '12/31/2015', '12/31/2016', '12/31/2007', '12/31/2008', '12/31/2009', '12/31/2010', '12/31/2011', '12/31/2012', '12/31/2013', '12/31/2014', '12/31/2015', '12/31/2016', '12/31/2007', '12/31/2008', '12/31/2009', '12/31/2010', '12/31/2011', '12/31/2012', '12/31/2013', '12/31/2014', '12/31/2015', '12/31/2016', '12/31/2007', '12/31/2008', '12/31/2009', '12/31/2010', '12/31/2011', '12/31/2012', '12/31/2013', '12/31/2014', '12/31/2015', '12/31/2016', '12/31/2007', '12/31/2008', '12/31/2009', '12/31/2010', '12/31/2011', '12/31/2012', '12/31/2013', '12/31/2014', '12/31/2015', '12/31/2016', '12/31/2007', '12/31/2008', '12/31/2009', '12/31/2010', '12/31/2011', '12/31/2012', '12/31/2013', '12/31/2014', '12/31/2015', '12/31/2016']}\n"
     ]
    }
   ],
   "source": [
    "sales_dictionary = {'Store': stores_list,\n",
    "                    'Product': product_list,\n",
    "                    'Sales': sales_list,\n",
    "                    'Year': dates_list}\n",
    "# Although a dictionary is useful, it's hard to visualize and less convenient than a DataFrame\n",
    "print(sales_dictionary)"
   ]
  },
  {
   "cell_type": "code",
   "execution_count": 20,
   "metadata": {},
   "outputs": [
    {
     "data": {
      "text/html": [
       "<div>\n",
       "<style scoped>\n",
       "    .dataframe tbody tr th:only-of-type {\n",
       "        vertical-align: middle;\n",
       "    }\n",
       "\n",
       "    .dataframe tbody tr th {\n",
       "        vertical-align: top;\n",
       "    }\n",
       "\n",
       "    .dataframe thead th {\n",
       "        text-align: right;\n",
       "    }\n",
       "</style>\n",
       "<table border=\"1\" class=\"dataframe\">\n",
       "  <thead>\n",
       "    <tr style=\"text-align: right;\">\n",
       "      <th></th>\n",
       "      <th>Store</th>\n",
       "      <th>Product</th>\n",
       "      <th>Sales</th>\n",
       "      <th>Year</th>\n",
       "    </tr>\n",
       "  </thead>\n",
       "  <tbody>\n",
       "    <tr>\n",
       "      <th>0</th>\n",
       "      <td>W1</td>\n",
       "      <td>A</td>\n",
       "      <td>1957</td>\n",
       "      <td>12/31/2007</td>\n",
       "    </tr>\n",
       "    <tr>\n",
       "      <th>1</th>\n",
       "      <td>W1</td>\n",
       "      <td>A</td>\n",
       "      <td>1968</td>\n",
       "      <td>12/31/2008</td>\n",
       "    </tr>\n",
       "    <tr>\n",
       "      <th>2</th>\n",
       "      <td>W1</td>\n",
       "      <td>A</td>\n",
       "      <td>1983</td>\n",
       "      <td>12/31/2009</td>\n",
       "    </tr>\n",
       "    <tr>\n",
       "      <th>3</th>\n",
       "      <td>W1</td>\n",
       "      <td>A</td>\n",
       "      <td>2001</td>\n",
       "      <td>12/31/2010</td>\n",
       "    </tr>\n",
       "    <tr>\n",
       "      <th>4</th>\n",
       "      <td>W1</td>\n",
       "      <td>A</td>\n",
       "      <td>1894</td>\n",
       "      <td>12/31/2011</td>\n",
       "    </tr>\n",
       "    <tr>\n",
       "      <th>5</th>\n",
       "      <td>W1</td>\n",
       "      <td>A</td>\n",
       "      <td>1850</td>\n",
       "      <td>12/31/2012</td>\n",
       "    </tr>\n",
       "    <tr>\n",
       "      <th>6</th>\n",
       "      <td>W1</td>\n",
       "      <td>A</td>\n",
       "      <td>2045</td>\n",
       "      <td>12/31/2013</td>\n",
       "    </tr>\n",
       "    <tr>\n",
       "      <th>7</th>\n",
       "      <td>W1</td>\n",
       "      <td>A</td>\n",
       "      <td>1860</td>\n",
       "      <td>12/31/2014</td>\n",
       "    </tr>\n",
       "    <tr>\n",
       "      <th>8</th>\n",
       "      <td>W1</td>\n",
       "      <td>A</td>\n",
       "      <td>1784</td>\n",
       "      <td>12/31/2015</td>\n",
       "    </tr>\n",
       "    <tr>\n",
       "      <th>9</th>\n",
       "      <td>W1</td>\n",
       "      <td>A</td>\n",
       "      <td>1856</td>\n",
       "      <td>12/31/2016</td>\n",
       "    </tr>\n",
       "  </tbody>\n",
       "</table>\n",
       "</div>"
      ],
      "text/plain": [
       "  Store Product  Sales        Year\n",
       "0    W1       A   1957  12/31/2007\n",
       "1    W1       A   1968  12/31/2008\n",
       "2    W1       A   1983  12/31/2009\n",
       "3    W1       A   2001  12/31/2010\n",
       "4    W1       A   1894  12/31/2011\n",
       "5    W1       A   1850  12/31/2012\n",
       "6    W1       A   2045  12/31/2013\n",
       "7    W1       A   1860  12/31/2014\n",
       "8    W1       A   1784  12/31/2015\n",
       "9    W1       A   1856  12/31/2016"
      ]
     },
     "execution_count": 20,
     "metadata": {},
     "output_type": "execute_result"
    }
   ],
   "source": [
    "sales_data = pd.DataFrame.from_dict(sales_dictionary)\n",
    "\n",
    "sales_data.head(10)"
   ]
  },
  {
   "cell_type": "markdown",
   "metadata": {},
   "source": [
    "A key thing to note is that the format of the `DataFrame` object is very similar to what you would see when working with Microsoft Excel worksheets. \n",
    "\n",
    "There are many other ways to create Pandas objects from scratch. However, for the sake of space, we will stop here. See https://jakevdp.github.io/PythonDataScienceHandbook/03.01-introducing-pandas-objects.html or use Google to find other examples. "
   ]
  },
  {
   "cell_type": "markdown",
   "metadata": {
    "tags": [],
    "toc-nb-collapsed": true
   },
   "source": [
    "# Importing Data\n",
    "\n",
    "One of the most useful applications of Pandas is that it provides users with an easy way to import data from other sources. The following table was copied from https://pandas.pydata.org/pandas-docs/stable/io.html. Note that the hyperlinks will take you to sites descibing the different file formats or methods.\n",
    "\n",
    "<table border=\"1\" class=\"colwidths-given docutils\">\n",
    "<colgroup>\n",
    "<col width=\"12%\" />\n",
    "<col width=\"40%\" />\n",
    "<col width=\"24%\" />\n",
    "<col width=\"24%\" />\n",
    "</colgroup>\n",
    "<thead valign=\"bottom\">\n",
    "<tr class=\"row-odd\"><th class=\"head\">Format Type</th>\n",
    "<th class=\"head\">Data Description</th>\n",
    "<th class=\"head\">Reader</th>\n",
    "<th class=\"head\">Writer</th>\n",
    "</tr>\n",
    "</thead>\n",
    "<tbody valign=\"top\">\n",
    "<tr class=\"row-even\"><td>text</td>\n",
    "<td><a class=\"reference external\" href=\"https://en.wikipedia.org/wiki/Comma-separated_values\">CSV</a></td>\n",
    "<td><a class=\"reference internal\" href=\"https://pandas.pydata.org/pandas-docs/stable/io.html#io-read-csv-table\"><span class=\"std std-ref\">read_csv</span></a></td>\n",
    "<td><a class=\"reference internal\" href=\"https://pandas.pydata.org/pandas-docs/stable/io.html#io-store-in-csv\"><span class=\"std std-ref\">to_csv</span></a></td>\n",
    "</tr>\n",
    "<tr class=\"row-odd\"><td>text</td>\n",
    "<td><a class=\"reference external\" href=\"http://www.json.org/\">JSON</a></td>\n",
    "<td><a class=\"reference internal\" href=\"https://pandas.pydata.org/pandas-docs/stable/io.html#io-json-reader\"><span class=\"std std-ref\">read_json</span></a></td>\n",
    "<td><a class=\"reference internal\" href=\"https://pandas.pydata.org/pandas-docs/stable/io.html#io-json-writer\"><span class=\"std std-ref\">to_json</span></a></td>\n",
    "</tr>\n",
    "<tr class=\"row-even\"><td>text</td>\n",
    "<td><a class=\"reference external\" href=\"https://en.wikipedia.org/wiki/HTML\">HTML</a></td>\n",
    "<td><a class=\"reference internal\" href=\"https://pandas.pydata.org/pandas-docs/stable/io.html#io-read-html\"><span class=\"std std-ref\">read_html</span></a></td>\n",
    "<td><a class=\"reference internal\" href=\"https://pandas.pydata.org/pandas-docs/stable/io.html#io-html\"><span class=\"std std-ref\">to_html</span></a></td>\n",
    "</tr>\n",
    "<tr class=\"row-odd\"><td>text</td>\n",
    "<td>Local clipboard</td>\n",
    "<td><a class=\"reference internal\" href=\"https://pandas.pydata.org/pandas-docs/stable/io.html#io-clipboard\"><span class=\"std std-ref\">read_clipboard</span></a></td>\n",
    "<td><a class=\"reference internal\" href=\"https://pandas.pydata.org/pandas-docs/stable/io.html#io-clipboard\"><span class=\"std std-ref\">to_clipboard</span></a></td>\n",
    "</tr>\n",
    "<tr class=\"row-even\"><td>binary</td>\n",
    "<td><a class=\"reference external\" href=\"https://en.wikipedia.org/wiki/Microsoft_Excel\">MS Excel</a></td>\n",
    "<td><a class=\"reference internal\" href=\"https://pandas.pydata.org/pandas-docs/stable/io.html#io-excel-reader\"><span class=\"std std-ref\">read_excel</span></a></td>\n",
    "<td><a class=\"reference internal\" href=\"https://pandas.pydata.org/pandas-docs/stable/io.html#io-excel-writer\"><span class=\"std std-ref\">to_excel</span></a></td>\n",
    "</tr>\n",
    "<tr class=\"row-odd\"><td>binary</td>\n",
    "<td><a class=\"reference external\" href=\"https://support.hdfgroup.org/HDF5/whatishdf5.html\">HDF5 Format</a></td>\n",
    "<td><a class=\"reference internal\" href=\"https://pandas.pydata.org/pandas-docs/stable/io.html#io-hdf5\"><span class=\"std std-ref\">read_hdf</span></a></td>\n",
    "<td><a class=\"reference internal\" href=\"https://pandas.pydata.org/pandas-docs/stable/io.html#io-hdf5\"><span class=\"std std-ref\">to_hdf</span></a></td>\n",
    "</tr>\n",
    "<tr class=\"row-even\"><td>binary</td>\n",
    "<td><a class=\"reference external\" href=\"https://github.com/wesm/feather\">Feather Format</a></td>\n",
    "<td><a class=\"reference internal\" href=\"https://pandas.pydata.org/pandas-docs/stable/io.html#io-feather\"><span class=\"std std-ref\">read_feather</span></a></td>\n",
    "<td><a class=\"reference internal\" href=\"https://pandas.pydata.org/pandas-docs/stable/io.html#io-feather\"><span class=\"std std-ref\">to_feather</span></a></td>\n",
    "</tr>\n",
    "<tr class=\"row-odd\"><td>binary</td>\n",
    "<td><a class=\"reference external\" href=\"https://parquet.apache.org/\">Parquet Format</a></td>\n",
    "<td><a class=\"reference internal\" href=\"https://pandas.pydata.org/pandas-docs/stable/io.html#io-parquet\"><span class=\"std std-ref\">read_parquet</span></a></td>\n",
    "<td><a class=\"reference internal\" href=\"https://pandas.pydata.org/pandas-docs/stable/io.html#io-parquet\"><span class=\"std std-ref\">to_parquet</span></a></td>\n",
    "</tr>\n",
    "<tr class=\"row-even\"><td>binary</td>\n",
    "<td><a class=\"reference external\" href=\"http://msgpack.org/index.html\">Msgpack</a></td>\n",
    "<td><a class=\"reference internal\" href=\"https://pandas.pydata.org/pandas-docs/stable/io.html#io-msgpack\"><span class=\"std std-ref\">read_msgpack</span></a></td>\n",
    "<td><a class=\"reference internal\" href=\"https://pandas.pydata.org/pandas-docs/stable/io.html#io-msgpack\"><span class=\"std std-ref\">to_msgpack</span></a></td>\n",
    "</tr>\n",
    "<tr class=\"row-odd\"><td>binary</td>\n",
    "<td><a class=\"reference external\" href=\"https://en.wikipedia.org/wiki/Stata\">Stata</a></td>\n",
    "<td><a class=\"reference internal\" href=\"https://pandas.pydata.org/pandas-docs/stable/io.html#io-stata-reader\"><span class=\"std std-ref\">read_stata</span></a></td>\n",
    "<td><a class=\"reference internal\" href=\"https://pandas.pydata.org/pandas-docs/stable/io.html#io-stata-writer\"><span class=\"std std-ref\">to_stata</span></a></td>\n",
    "</tr>\n",
    "<tr class=\"row-even\"><td>binary</td>\n",
    "<td><a class=\"reference external\" href=\"https://en.wikipedia.org/wiki/SAS_(software)\">SAS</a></td>\n",
    "<td><a class=\"reference internal\" href=\"https://pandas.pydata.org/pandas-docs/stable/io.html#io-sas-reader\"><span class=\"std std-ref\">read_sas</span></a></td>\n",
    "<td>&#160;</td>\n",
    "</tr>\n",
    "<tr class=\"row-odd\"><td>binary</td>\n",
    "<td><a class=\"reference external\" href=\"https://docs.python.org/3/library/pickle.html\">Python Pickle Format</a></td>\n",
    "<td><a class=\"reference internal\" href=\"https://pandas.pydata.org/pandas-docs/stable/io.html#io-pickle\"><span class=\"std std-ref\">read_pickle</span></a></td>\n",
    "<td><a class=\"reference internal\" href=\"https://pandas.pydata.org/pandas-docs/stable/io.html#io-pickle\"><span class=\"std std-ref\">to_pickle</span></a></td>\n",
    "</tr>\n",
    "<tr class=\"row-even\"><td>SQL</td>\n",
    "<td><a class=\"reference external\" href=\"https://en.wikipedia.org/wiki/SQL\">SQL</a></td>\n",
    "<td><a class=\"reference internal\" href=\"https://pandas.pydata.org/pandas-docs/stable/io.html#io-sql\"><span class=\"std std-ref\">read_sql</span></a></td>\n",
    "<td><a class=\"reference internal\" href=\"https://pandas.pydata.org/pandas-docs/stable/io.html#io-sql\"><span class=\"std std-ref\">to_sql</span></a></td>\n",
    "</tr>\n",
    "<tr class=\"row-odd\"><td>SQL</td>\n",
    "<td><a class=\"reference external\" href=\"https://en.wikipedia.org/wiki/BigQuery\">Google Big Query</a></td>\n",
    "<td><a class=\"reference internal\" href=\"https://pandas.pydata.org/pandas-docs/stable/io.html#io-bigquery\"><span class=\"std std-ref\">read_gbq</span></a></td>\n",
    "<td><a class=\"reference internal\" href=\"https://pandas.pydata.org/pandas-docs/stable/io.html#io-bigquery\"><span class=\"std std-ref\">to_gbq</span></a></td>\n",
    "</tr>\n",
    "</tbody>\n",
    "</table>"
   ]
  },
  {
   "cell_type": "markdown",
   "metadata": {},
   "source": [
    "The following code block shows how the `read_csv` method that is available in Pandas can be used to read a file from the Internet that uses semi-colon delimiters, store it in an object named `my_data`, and use the `head()` method to print the first fives rows of the `DataFrame` object."
   ]
  },
  {
   "cell_type": "code",
   "execution_count": 21,
   "metadata": {
    "scrolled": true
   },
   "outputs": [
    {
     "data": {
      "text/html": [
       "<div>\n",
       "<style scoped>\n",
       "    .dataframe tbody tr th:only-of-type {\n",
       "        vertical-align: middle;\n",
       "    }\n",
       "\n",
       "    .dataframe tbody tr th {\n",
       "        vertical-align: top;\n",
       "    }\n",
       "\n",
       "    .dataframe thead th {\n",
       "        text-align: right;\n",
       "    }\n",
       "</style>\n",
       "<table border=\"1\" class=\"dataframe\">\n",
       "  <thead>\n",
       "    <tr style=\"text-align: right;\">\n",
       "      <th></th>\n",
       "      <th>Week of the month (first week, second, third, fourth or fifth week</th>\n",
       "      <th>Day of the week (Monday to Friday)</th>\n",
       "      <th>Non-urgent order</th>\n",
       "      <th>Urgent order</th>\n",
       "      <th>Order type A</th>\n",
       "      <th>Order type B</th>\n",
       "      <th>Order type C</th>\n",
       "      <th>Fiscal sector orders</th>\n",
       "      <th>Orders from the traffic controller sector</th>\n",
       "      <th>Banking orders (1)</th>\n",
       "      <th>Banking orders (2)</th>\n",
       "      <th>Banking orders (3)</th>\n",
       "      <th>Target (Total orders)</th>\n",
       "    </tr>\n",
       "  </thead>\n",
       "  <tbody>\n",
       "    <tr>\n",
       "      <th>0</th>\n",
       "      <td>1</td>\n",
       "      <td>4</td>\n",
       "      <td>316.307</td>\n",
       "      <td>223.270</td>\n",
       "      <td>61.543</td>\n",
       "      <td>175.586</td>\n",
       "      <td>302.448</td>\n",
       "      <td>0.000</td>\n",
       "      <td>65556</td>\n",
       "      <td>44914</td>\n",
       "      <td>188411</td>\n",
       "      <td>14793</td>\n",
       "      <td>539.577</td>\n",
       "    </tr>\n",
       "    <tr>\n",
       "      <th>1</th>\n",
       "      <td>1</td>\n",
       "      <td>5</td>\n",
       "      <td>128.633</td>\n",
       "      <td>96.042</td>\n",
       "      <td>38.058</td>\n",
       "      <td>56.037</td>\n",
       "      <td>130.580</td>\n",
       "      <td>0.000</td>\n",
       "      <td>40419</td>\n",
       "      <td>21399</td>\n",
       "      <td>89461</td>\n",
       "      <td>7679</td>\n",
       "      <td>224.675</td>\n",
       "    </tr>\n",
       "    <tr>\n",
       "      <th>2</th>\n",
       "      <td>1</td>\n",
       "      <td>6</td>\n",
       "      <td>43.651</td>\n",
       "      <td>84.375</td>\n",
       "      <td>21.826</td>\n",
       "      <td>25.125</td>\n",
       "      <td>82.461</td>\n",
       "      <td>1.386</td>\n",
       "      <td>11992</td>\n",
       "      <td>3452</td>\n",
       "      <td>21305</td>\n",
       "      <td>14947</td>\n",
       "      <td>129.412</td>\n",
       "    </tr>\n",
       "    <tr>\n",
       "      <th>3</th>\n",
       "      <td>2</td>\n",
       "      <td>2</td>\n",
       "      <td>171.297</td>\n",
       "      <td>127.667</td>\n",
       "      <td>41.542</td>\n",
       "      <td>113.294</td>\n",
       "      <td>162.284</td>\n",
       "      <td>18.156</td>\n",
       "      <td>49971</td>\n",
       "      <td>33703</td>\n",
       "      <td>69054</td>\n",
       "      <td>18423</td>\n",
       "      <td>317.120</td>\n",
       "    </tr>\n",
       "    <tr>\n",
       "      <th>4</th>\n",
       "      <td>2</td>\n",
       "      <td>3</td>\n",
       "      <td>90.532</td>\n",
       "      <td>113.526</td>\n",
       "      <td>37.679</td>\n",
       "      <td>56.618</td>\n",
       "      <td>116.220</td>\n",
       "      <td>6.459</td>\n",
       "      <td>48534</td>\n",
       "      <td>19646</td>\n",
       "      <td>16411</td>\n",
       "      <td>20257</td>\n",
       "      <td>210.517</td>\n",
       "    </tr>\n",
       "  </tbody>\n",
       "</table>\n",
       "</div>"
      ],
      "text/plain": [
       "   Week of the month (first week, second, third, fourth or fifth week  \\\n",
       "0                                                  1                    \n",
       "1                                                  1                    \n",
       "2                                                  1                    \n",
       "3                                                  2                    \n",
       "4                                                  2                    \n",
       "\n",
       "   Day of the week (Monday to Friday)  Non-urgent order  Urgent order  \\\n",
       "0                                   4           316.307       223.270   \n",
       "1                                   5           128.633        96.042   \n",
       "2                                   6            43.651        84.375   \n",
       "3                                   2           171.297       127.667   \n",
       "4                                   3            90.532       113.526   \n",
       "\n",
       "   Order type A  Order type B  Order type C  Fiscal sector orders  \\\n",
       "0        61.543       175.586       302.448                 0.000   \n",
       "1        38.058        56.037       130.580                 0.000   \n",
       "2        21.826        25.125        82.461                 1.386   \n",
       "3        41.542       113.294       162.284                18.156   \n",
       "4        37.679        56.618       116.220                 6.459   \n",
       "\n",
       "   Orders from the traffic controller sector  Banking orders (1)  \\\n",
       "0                                      65556               44914   \n",
       "1                                      40419               21399   \n",
       "2                                      11992                3452   \n",
       "3                                      49971               33703   \n",
       "4                                      48534               19646   \n",
       "\n",
       "   Banking orders (2)  Banking orders (3)  Target (Total orders)  \n",
       "0              188411               14793                539.577  \n",
       "1               89461                7679                224.675  \n",
       "2               21305               14947                129.412  \n",
       "3               69054               18423                317.120  \n",
       "4               16411               20257                210.517  "
      ]
     },
     "execution_count": 21,
     "metadata": {},
     "output_type": "execute_result"
    }
   ],
   "source": [
    "my_data = pd.read_csv('https://archive.ics.uci.edu/ml/machine-learning-databases/00409/Daily_Demand_Forecasting_Orders.csv',\n",
    "           delimiter = ';')\n",
    "\n",
    "my_data.head()"
   ]
  },
  {
   "cell_type": "code",
   "execution_count": 22,
   "metadata": {},
   "outputs": [
    {
     "data": {
      "text/plain": [
       "Week of the month (first week, second, third, fourth or fifth week      int64\n",
       "Day of the week (Monday to Friday)                                      int64\n",
       "Non-urgent order                                                      float64\n",
       "Urgent order                                                          float64\n",
       "Order type A                                                          float64\n",
       "Order type B                                                          float64\n",
       "Order type C                                                          float64\n",
       "Fiscal sector orders                                                  float64\n",
       "Orders from the traffic controller sector                               int64\n",
       "Banking orders (1)                                                      int64\n",
       "Banking orders (2)                                                      int64\n",
       "Banking orders (3)                                                      int64\n",
       "Target (Total orders)                                                 float64\n",
       "dtype: object"
      ]
     },
     "execution_count": 22,
     "metadata": {},
     "output_type": "execute_result"
    }
   ],
   "source": [
    "# After importing the data, it may be helpful to view the column data types\n",
    "#   Use the dtypes attribute\n",
    "my_data.dtypes"
   ]
  },
  {
   "cell_type": "markdown",
   "metadata": {},
   "source": [
    "Pandas can also read directly from a compressed file. Here is the code for you to directly read a compressed file to a dataframe.\n",
    "```Python\n",
    "df = pd.read_csv('Sales_Data.csv.gz', compression = 'gzip')\n",
    "```"
   ]
  },
  {
   "cell_type": "markdown",
   "metadata": {},
   "source": [
    "## Importing data from the clipboard\n",
    "\n",
    "Another method of obtaining data is to read it in from the clipboard. The clipboard is a location in memory where recently copied data can be accessed. It is where data are stored after cutting or copying."
   ]
  },
  {
   "cell_type": "code",
   "execution_count": 23,
   "metadata": {},
   "outputs": [
    {
     "data": {
      "text/html": [
       "<div>\n",
       "<style scoped>\n",
       "    .dataframe tbody tr th:only-of-type {\n",
       "        vertical-align: middle;\n",
       "    }\n",
       "\n",
       "    .dataframe tbody tr th {\n",
       "        vertical-align: top;\n",
       "    }\n",
       "\n",
       "    .dataframe thead th {\n",
       "        text-align: right;\n",
       "    }\n",
       "</style>\n",
       "<table border=\"1\" class=\"dataframe\">\n",
       "  <thead>\n",
       "    <tr style=\"text-align: right;\">\n",
       "      <th></th>\n",
       "      <th>0</th>\n",
       "      <th>1</th>\n",
       "    </tr>\n",
       "  </thead>\n",
       "  <tbody>\n",
       "    <tr>\n",
       "      <th>0</th>\n",
       "      <td>'RecipientLastName',</td>\n",
       "      <td>'RecipientFirstName',</td>\n",
       "    </tr>\n",
       "  </tbody>\n",
       "</table>\n",
       "</div>"
      ],
      "text/plain": [
       "                      0                      1\n",
       "0  'RecipientLastName',  'RecipientFirstName',"
      ]
     },
     "execution_count": 23,
     "metadata": {},
     "output_type": "execute_result"
    }
   ],
   "source": [
    "# Copy some table data \n",
    "import pandas as pd\n",
    "df = pd.read_clipboard(header=None)\n",
    "df"
   ]
  },
  {
   "cell_type": "markdown",
   "metadata": {},
   "source": [
    "# Indexing and Selecting Data\n",
    "\n",
    "Although we have already seen some ways to access data in Pandas objects, this section will look at such methods in more detail."
   ]
  },
  {
   "cell_type": "markdown",
   "metadata": {},
   "source": [
    "## Indexing and Selecting Data in Pandas `Series` Objects\n",
    "\n",
    "Recall the `sales_series` object that we created earlier."
   ]
  },
  {
   "cell_type": "code",
   "execution_count": 24,
   "metadata": {},
   "outputs": [],
   "source": [
    "# To increase the number of columns Jupyter Lab will display at a time use set_option\n",
    "pd.set_option('display.max_columns', 100)\n",
    "pd.set_option('display.max_rows', 100)"
   ]
  },
  {
   "cell_type": "code",
   "execution_count": 25,
   "metadata": {},
   "outputs": [
    {
     "data": {
      "text/plain": [
       "2015-01-31     872\n",
       "2015-02-28     873\n",
       "2015-03-31     990\n",
       "2015-04-30    1129\n",
       "2015-05-31     969\n",
       "2015-06-30     964\n",
       "2015-07-31    1148\n",
       "2015-08-31     614\n",
       "2015-09-30    1068\n",
       "2015-10-31    1138\n",
       "2015-11-30    1057\n",
       "2015-12-31     748\n",
       "2016-01-31    1255\n",
       "2016-02-29    1016\n",
       "2016-03-31    1058\n",
       "2016-04-30    1064\n",
       "2016-05-31    1229\n",
       "2016-06-30    1060\n",
       "2016-07-31    1144\n",
       "2016-08-31    1119\n",
       "2016-09-30    1188\n",
       "2016-10-31     817\n",
       "2016-11-30     638\n",
       "2016-12-31    1205\n",
       "dtype: int64"
      ]
     },
     "execution_count": 25,
     "metadata": {},
     "output_type": "execute_result"
    }
   ],
   "source": [
    "sales_series"
   ]
  },
  {
   "cell_type": "markdown",
   "metadata": {},
   "source": [
    "It's interesting to note that the Pandas `Series` object acts like both a one-dimensional NumPy array and a standard Python dictionary. For example, to get index values for a `Series` object, you can use the `keys()` method as shown below."
   ]
  },
  {
   "cell_type": "code",
   "execution_count": 26,
   "metadata": {},
   "outputs": [
    {
     "data": {
      "text/plain": [
       "Index(['2015-01-31', '2015-02-28', '2015-03-31', '2015-04-30', '2015-05-31',\n",
       "       '2015-06-30', '2015-07-31', '2015-08-31', '2015-09-30', '2015-10-31',\n",
       "       '2015-11-30', '2015-12-31', '2016-01-31', '2016-02-29', '2016-03-31',\n",
       "       '2016-04-30', '2016-05-31', '2016-06-30', '2016-07-31', '2016-08-31',\n",
       "       '2016-09-30', '2016-10-31', '2016-11-30', '2016-12-31'],\n",
       "      dtype='object')"
      ]
     },
     "execution_count": 26,
     "metadata": {},
     "output_type": "execute_result"
    }
   ],
   "source": [
    "sales_series.keys()"
   ]
  },
  {
   "cell_type": "markdown",
   "metadata": {},
   "source": [
    "We can also display its values."
   ]
  },
  {
   "cell_type": "code",
   "execution_count": 27,
   "metadata": {},
   "outputs": [
    {
     "data": {
      "text/plain": [
       "array([ 872,  873,  990, 1129,  969,  964, 1148,  614, 1068, 1138, 1057,\n",
       "        748, 1255, 1016, 1058, 1064, 1229, 1060, 1144, 1119, 1188,  817,\n",
       "        638, 1205])"
      ]
     },
     "execution_count": 27,
     "metadata": {},
     "output_type": "execute_result"
    }
   ],
   "source": [
    "sales_series.values"
   ]
  },
  {
   "cell_type": "markdown",
   "metadata": {},
   "source": [
    "Also, as shown earlier, we can use NumPy-like slicing as is demonstrated in the following code block."
   ]
  },
  {
   "cell_type": "code",
   "execution_count": 28,
   "metadata": {},
   "outputs": [
    {
     "data": {
      "text/plain": [
       "2015-06-30     964\n",
       "2015-07-31    1148\n",
       "2015-08-31     614\n",
       "2015-09-30    1068\n",
       "2015-10-31    1138\n",
       "2015-11-30    1057\n",
       "2015-12-31     748\n",
       "dtype: int64"
      ]
     },
     "execution_count": 28,
     "metadata": {},
     "output_type": "execute_result"
    }
   ],
   "source": [
    "# Get the sales for June 2015 through December 2015 \n",
    "sales_series['2015-06-30':'2015-12-31']"
   ]
  },
  {
   "cell_type": "markdown",
   "metadata": {},
   "source": [
    "Finally, we can use the boolean array capabilities of NumPy to get subsets of the `Series` object that satisfy a specified condition. As an example, the following code block identifies the months with sales greater than or equal to 1,000."
   ]
  },
  {
   "cell_type": "code",
   "execution_count": 29,
   "metadata": {},
   "outputs": [
    {
     "name": "stdout",
     "output_type": "stream",
     "text": [
      "Number of months > $1,000:  15\n",
      "Index(['2015-04-30', '2015-07-31', '2015-09-30', '2015-10-31', '2015-11-30',\n",
      "       '2016-01-31', '2016-02-29', '2016-03-31', '2016-04-30', '2016-05-31',\n",
      "       '2016-06-30', '2016-07-31', '2016-08-31', '2016-09-30', '2016-12-31'],\n",
      "      dtype='object')\n"
     ]
    }
   ],
   "source": [
    "# Which months had sales greater than $1,000? Show only the months, not the values by using keys().\n",
    "big_sales = sales_series[(sales_series > 1000)].keys()\n",
    "print(\"Number of months > $1,000: \", len(big_sales))\n",
    "print(big_sales)"
   ]
  },
  {
   "cell_type": "markdown",
   "metadata": {},
   "source": [
    "## Indexing and Selecting Data in Pandas `DataFrame` Objects\n",
    "\n",
    "We will now look at accessing data stored in a Pandas `DataFrame` object. Just as a reminder, the following code block prints the first five rows of the `sales_data` object that we created earlier."
   ]
  },
  {
   "cell_type": "code",
   "execution_count": 30,
   "metadata": {},
   "outputs": [
    {
     "data": {
      "text/html": [
       "<div>\n",
       "<style scoped>\n",
       "    .dataframe tbody tr th:only-of-type {\n",
       "        vertical-align: middle;\n",
       "    }\n",
       "\n",
       "    .dataframe tbody tr th {\n",
       "        vertical-align: top;\n",
       "    }\n",
       "\n",
       "    .dataframe thead th {\n",
       "        text-align: right;\n",
       "    }\n",
       "</style>\n",
       "<table border=\"1\" class=\"dataframe\">\n",
       "  <thead>\n",
       "    <tr style=\"text-align: right;\">\n",
       "      <th></th>\n",
       "      <th>Store</th>\n",
       "      <th>Product</th>\n",
       "      <th>Sales</th>\n",
       "      <th>Year</th>\n",
       "    </tr>\n",
       "  </thead>\n",
       "  <tbody>\n",
       "    <tr>\n",
       "      <th>0</th>\n",
       "      <td>W1</td>\n",
       "      <td>A</td>\n",
       "      <td>1957</td>\n",
       "      <td>12/31/2007</td>\n",
       "    </tr>\n",
       "    <tr>\n",
       "      <th>1</th>\n",
       "      <td>W1</td>\n",
       "      <td>A</td>\n",
       "      <td>1968</td>\n",
       "      <td>12/31/2008</td>\n",
       "    </tr>\n",
       "    <tr>\n",
       "      <th>2</th>\n",
       "      <td>W1</td>\n",
       "      <td>A</td>\n",
       "      <td>1983</td>\n",
       "      <td>12/31/2009</td>\n",
       "    </tr>\n",
       "    <tr>\n",
       "      <th>3</th>\n",
       "      <td>W1</td>\n",
       "      <td>A</td>\n",
       "      <td>2001</td>\n",
       "      <td>12/31/2010</td>\n",
       "    </tr>\n",
       "    <tr>\n",
       "      <th>4</th>\n",
       "      <td>W1</td>\n",
       "      <td>A</td>\n",
       "      <td>1894</td>\n",
       "      <td>12/31/2011</td>\n",
       "    </tr>\n",
       "  </tbody>\n",
       "</table>\n",
       "</div>"
      ],
      "text/plain": [
       "  Store Product  Sales        Year\n",
       "0    W1       A   1957  12/31/2007\n",
       "1    W1       A   1968  12/31/2008\n",
       "2    W1       A   1983  12/31/2009\n",
       "3    W1       A   2001  12/31/2010\n",
       "4    W1       A   1894  12/31/2011"
      ]
     },
     "execution_count": 30,
     "metadata": {},
     "output_type": "execute_result"
    }
   ],
   "source": [
    "sales_data.head()"
   ]
  },
  {
   "cell_type": "markdown",
   "metadata": {},
   "source": [
    "As shown in the following code block, we can select an entire column of the `DataFrame` object, resulting in a `Series`, by providing the column name in brackets."
   ]
  },
  {
   "cell_type": "code",
   "execution_count": 31,
   "metadata": {},
   "outputs": [
    {
     "data": {
      "text/plain": [
       "0    1957\n",
       "1    1968\n",
       "2    1983\n",
       "3    2001\n",
       "4    1894\n",
       "Name: Sales, dtype: int64"
      ]
     },
     "execution_count": 31,
     "metadata": {},
     "output_type": "execute_result"
    }
   ],
   "source": [
    "sales_data['Sales'][:5] #limit to the first 5 rows"
   ]
  },
  {
   "cell_type": "markdown",
   "metadata": {},
   "source": [
    "Moreover, we can return multiple columns by providing the names of the desired columns as a list. Since we are returning multiple columns, the resulting object is a `DataFrame`."
   ]
  },
  {
   "cell_type": "code",
   "execution_count": 32,
   "metadata": {},
   "outputs": [
    {
     "data": {
      "text/html": [
       "<div>\n",
       "<style scoped>\n",
       "    .dataframe tbody tr th:only-of-type {\n",
       "        vertical-align: middle;\n",
       "    }\n",
       "\n",
       "    .dataframe tbody tr th {\n",
       "        vertical-align: top;\n",
       "    }\n",
       "\n",
       "    .dataframe thead th {\n",
       "        text-align: right;\n",
       "    }\n",
       "</style>\n",
       "<table border=\"1\" class=\"dataframe\">\n",
       "  <thead>\n",
       "    <tr style=\"text-align: right;\">\n",
       "      <th></th>\n",
       "      <th>Product</th>\n",
       "      <th>Sales</th>\n",
       "    </tr>\n",
       "  </thead>\n",
       "  <tbody>\n",
       "    <tr>\n",
       "      <th>0</th>\n",
       "      <td>A</td>\n",
       "      <td>1957</td>\n",
       "    </tr>\n",
       "    <tr>\n",
       "      <th>1</th>\n",
       "      <td>A</td>\n",
       "      <td>1968</td>\n",
       "    </tr>\n",
       "    <tr>\n",
       "      <th>2</th>\n",
       "      <td>A</td>\n",
       "      <td>1983</td>\n",
       "    </tr>\n",
       "    <tr>\n",
       "      <th>3</th>\n",
       "      <td>A</td>\n",
       "      <td>2001</td>\n",
       "    </tr>\n",
       "    <tr>\n",
       "      <th>4</th>\n",
       "      <td>A</td>\n",
       "      <td>1894</td>\n",
       "    </tr>\n",
       "  </tbody>\n",
       "</table>\n",
       "</div>"
      ],
      "text/plain": [
       "  Product  Sales\n",
       "0       A   1957\n",
       "1       A   1968\n",
       "2       A   1983\n",
       "3       A   2001\n",
       "4       A   1894"
      ]
     },
     "execution_count": 32,
     "metadata": {},
     "output_type": "execute_result"
    }
   ],
   "source": [
    "sales_data[['Product','Sales']][:5]"
   ]
  },
  {
   "cell_type": "markdown",
   "metadata": {},
   "source": [
    "Similar to NumPy, we can perform calculations using entire columns."
   ]
  },
  {
   "cell_type": "code",
   "execution_count": 33,
   "metadata": {},
   "outputs": [
    {
     "data": {
      "text/plain": [
       "0    $5.36\n",
       "1    $5.39\n",
       "2    $5.43\n",
       "3    $5.48\n",
       "4    $5.19\n",
       "Name: Sales, dtype: object"
      ]
     },
     "execution_count": 33,
     "metadata": {},
     "output_type": "execute_result"
    }
   ],
   "source": [
    "(sales_data['Sales']/365).apply(lambda x: \"${:.2f}\".format(x))[:5]"
   ]
  },
  {
   "cell_type": "markdown",
   "metadata": {},
   "source": [
    "We can extract a subset of the available records by providing a boolean expression in brackets."
   ]
  },
  {
   "cell_type": "code",
   "execution_count": 34,
   "metadata": {},
   "outputs": [
    {
     "data": {
      "text/html": [
       "<div>\n",
       "<style scoped>\n",
       "    .dataframe tbody tr th:only-of-type {\n",
       "        vertical-align: middle;\n",
       "    }\n",
       "\n",
       "    .dataframe tbody tr th {\n",
       "        vertical-align: top;\n",
       "    }\n",
       "\n",
       "    .dataframe thead th {\n",
       "        text-align: right;\n",
       "    }\n",
       "</style>\n",
       "<table border=\"1\" class=\"dataframe\">\n",
       "  <thead>\n",
       "    <tr style=\"text-align: right;\">\n",
       "      <th></th>\n",
       "      <th>Store</th>\n",
       "      <th>Product</th>\n",
       "      <th>Sales</th>\n",
       "      <th>Year</th>\n",
       "    </tr>\n",
       "  </thead>\n",
       "  <tbody>\n",
       "    <tr>\n",
       "      <th>10</th>\n",
       "      <td>W1</td>\n",
       "      <td>B</td>\n",
       "      <td>1891</td>\n",
       "      <td>12/31/2007</td>\n",
       "    </tr>\n",
       "    <tr>\n",
       "      <th>11</th>\n",
       "      <td>W1</td>\n",
       "      <td>B</td>\n",
       "      <td>1822</td>\n",
       "      <td>12/31/2008</td>\n",
       "    </tr>\n",
       "    <tr>\n",
       "      <th>12</th>\n",
       "      <td>W1</td>\n",
       "      <td>B</td>\n",
       "      <td>1846</td>\n",
       "      <td>12/31/2009</td>\n",
       "    </tr>\n",
       "    <tr>\n",
       "      <th>13</th>\n",
       "      <td>W1</td>\n",
       "      <td>B</td>\n",
       "      <td>1903</td>\n",
       "      <td>12/31/2010</td>\n",
       "    </tr>\n",
       "    <tr>\n",
       "      <th>14</th>\n",
       "      <td>W1</td>\n",
       "      <td>B</td>\n",
       "      <td>1924</td>\n",
       "      <td>12/31/2011</td>\n",
       "    </tr>\n",
       "    <tr>\n",
       "      <th>15</th>\n",
       "      <td>W1</td>\n",
       "      <td>B</td>\n",
       "      <td>1897</td>\n",
       "      <td>12/31/2012</td>\n",
       "    </tr>\n",
       "    <tr>\n",
       "      <th>16</th>\n",
       "      <td>W1</td>\n",
       "      <td>B</td>\n",
       "      <td>1890</td>\n",
       "      <td>12/31/2013</td>\n",
       "    </tr>\n",
       "    <tr>\n",
       "      <th>17</th>\n",
       "      <td>W1</td>\n",
       "      <td>B</td>\n",
       "      <td>1858</td>\n",
       "      <td>12/31/2014</td>\n",
       "    </tr>\n",
       "    <tr>\n",
       "      <th>18</th>\n",
       "      <td>W1</td>\n",
       "      <td>B</td>\n",
       "      <td>1871</td>\n",
       "      <td>12/31/2015</td>\n",
       "    </tr>\n",
       "    <tr>\n",
       "      <th>19</th>\n",
       "      <td>W1</td>\n",
       "      <td>B</td>\n",
       "      <td>1880</td>\n",
       "      <td>12/31/2016</td>\n",
       "    </tr>\n",
       "    <tr>\n",
       "      <th>30</th>\n",
       "      <td>E1</td>\n",
       "      <td>B</td>\n",
       "      <td>1904</td>\n",
       "      <td>12/31/2007</td>\n",
       "    </tr>\n",
       "    <tr>\n",
       "      <th>31</th>\n",
       "      <td>E1</td>\n",
       "      <td>B</td>\n",
       "      <td>1812</td>\n",
       "      <td>12/31/2008</td>\n",
       "    </tr>\n",
       "    <tr>\n",
       "      <th>32</th>\n",
       "      <td>E1</td>\n",
       "      <td>B</td>\n",
       "      <td>1733</td>\n",
       "      <td>12/31/2009</td>\n",
       "    </tr>\n",
       "    <tr>\n",
       "      <th>33</th>\n",
       "      <td>E1</td>\n",
       "      <td>B</td>\n",
       "      <td>1868</td>\n",
       "      <td>12/31/2010</td>\n",
       "    </tr>\n",
       "    <tr>\n",
       "      <th>34</th>\n",
       "      <td>E1</td>\n",
       "      <td>B</td>\n",
       "      <td>1872</td>\n",
       "      <td>12/31/2011</td>\n",
       "    </tr>\n",
       "    <tr>\n",
       "      <th>35</th>\n",
       "      <td>E1</td>\n",
       "      <td>B</td>\n",
       "      <td>1909</td>\n",
       "      <td>12/31/2012</td>\n",
       "    </tr>\n",
       "    <tr>\n",
       "      <th>36</th>\n",
       "      <td>E1</td>\n",
       "      <td>B</td>\n",
       "      <td>2034</td>\n",
       "      <td>12/31/2013</td>\n",
       "    </tr>\n",
       "    <tr>\n",
       "      <th>37</th>\n",
       "      <td>E1</td>\n",
       "      <td>B</td>\n",
       "      <td>1856</td>\n",
       "      <td>12/31/2014</td>\n",
       "    </tr>\n",
       "    <tr>\n",
       "      <th>38</th>\n",
       "      <td>E1</td>\n",
       "      <td>B</td>\n",
       "      <td>1813</td>\n",
       "      <td>12/31/2015</td>\n",
       "    </tr>\n",
       "    <tr>\n",
       "      <th>39</th>\n",
       "      <td>E1</td>\n",
       "      <td>B</td>\n",
       "      <td>1806</td>\n",
       "      <td>12/31/2016</td>\n",
       "    </tr>\n",
       "    <tr>\n",
       "      <th>50</th>\n",
       "      <td>E2</td>\n",
       "      <td>B</td>\n",
       "      <td>1696</td>\n",
       "      <td>12/31/2007</td>\n",
       "    </tr>\n",
       "    <tr>\n",
       "      <th>51</th>\n",
       "      <td>E2</td>\n",
       "      <td>B</td>\n",
       "      <td>1783</td>\n",
       "      <td>12/31/2008</td>\n",
       "    </tr>\n",
       "    <tr>\n",
       "      <th>52</th>\n",
       "      <td>E2</td>\n",
       "      <td>B</td>\n",
       "      <td>1799</td>\n",
       "      <td>12/31/2009</td>\n",
       "    </tr>\n",
       "    <tr>\n",
       "      <th>53</th>\n",
       "      <td>E2</td>\n",
       "      <td>B</td>\n",
       "      <td>1852</td>\n",
       "      <td>12/31/2010</td>\n",
       "    </tr>\n",
       "    <tr>\n",
       "      <th>54</th>\n",
       "      <td>E2</td>\n",
       "      <td>B</td>\n",
       "      <td>1793</td>\n",
       "      <td>12/31/2011</td>\n",
       "    </tr>\n",
       "    <tr>\n",
       "      <th>55</th>\n",
       "      <td>E2</td>\n",
       "      <td>B</td>\n",
       "      <td>1877</td>\n",
       "      <td>12/31/2012</td>\n",
       "    </tr>\n",
       "    <tr>\n",
       "      <th>56</th>\n",
       "      <td>E2</td>\n",
       "      <td>B</td>\n",
       "      <td>1687</td>\n",
       "      <td>12/31/2013</td>\n",
       "    </tr>\n",
       "    <tr>\n",
       "      <th>57</th>\n",
       "      <td>E2</td>\n",
       "      <td>B</td>\n",
       "      <td>1824</td>\n",
       "      <td>12/31/2014</td>\n",
       "    </tr>\n",
       "    <tr>\n",
       "      <th>58</th>\n",
       "      <td>E2</td>\n",
       "      <td>B</td>\n",
       "      <td>1839</td>\n",
       "      <td>12/31/2015</td>\n",
       "    </tr>\n",
       "    <tr>\n",
       "      <th>59</th>\n",
       "      <td>E2</td>\n",
       "      <td>B</td>\n",
       "      <td>1889</td>\n",
       "      <td>12/31/2016</td>\n",
       "    </tr>\n",
       "  </tbody>\n",
       "</table>\n",
       "</div>"
      ],
      "text/plain": [
       "   Store Product  Sales        Year\n",
       "10    W1       B   1891  12/31/2007\n",
       "11    W1       B   1822  12/31/2008\n",
       "12    W1       B   1846  12/31/2009\n",
       "13    W1       B   1903  12/31/2010\n",
       "14    W1       B   1924  12/31/2011\n",
       "15    W1       B   1897  12/31/2012\n",
       "16    W1       B   1890  12/31/2013\n",
       "17    W1       B   1858  12/31/2014\n",
       "18    W1       B   1871  12/31/2015\n",
       "19    W1       B   1880  12/31/2016\n",
       "30    E1       B   1904  12/31/2007\n",
       "31    E1       B   1812  12/31/2008\n",
       "32    E1       B   1733  12/31/2009\n",
       "33    E1       B   1868  12/31/2010\n",
       "34    E1       B   1872  12/31/2011\n",
       "35    E1       B   1909  12/31/2012\n",
       "36    E1       B   2034  12/31/2013\n",
       "37    E1       B   1856  12/31/2014\n",
       "38    E1       B   1813  12/31/2015\n",
       "39    E1       B   1806  12/31/2016\n",
       "50    E2       B   1696  12/31/2007\n",
       "51    E2       B   1783  12/31/2008\n",
       "52    E2       B   1799  12/31/2009\n",
       "53    E2       B   1852  12/31/2010\n",
       "54    E2       B   1793  12/31/2011\n",
       "55    E2       B   1877  12/31/2012\n",
       "56    E2       B   1687  12/31/2013\n",
       "57    E2       B   1824  12/31/2014\n",
       "58    E2       B   1839  12/31/2015\n",
       "59    E2       B   1889  12/31/2016"
      ]
     },
     "execution_count": 34,
     "metadata": {},
     "output_type": "execute_result"
    }
   ],
   "source": [
    "sales_data[sales_data['Product']=='B']"
   ]
  },
  {
   "cell_type": "code",
   "execution_count": 35,
   "metadata": {},
   "outputs": [
    {
     "data": {
      "text/html": [
       "<div>\n",
       "<style scoped>\n",
       "    .dataframe tbody tr th:only-of-type {\n",
       "        vertical-align: middle;\n",
       "    }\n",
       "\n",
       "    .dataframe tbody tr th {\n",
       "        vertical-align: top;\n",
       "    }\n",
       "\n",
       "    .dataframe thead th {\n",
       "        text-align: right;\n",
       "    }\n",
       "</style>\n",
       "<table border=\"1\" class=\"dataframe\">\n",
       "  <thead>\n",
       "    <tr style=\"text-align: right;\">\n",
       "      <th></th>\n",
       "      <th>Store</th>\n",
       "      <th>Product</th>\n",
       "      <th>Sales</th>\n",
       "      <th>Year</th>\n",
       "    </tr>\n",
       "  </thead>\n",
       "  <tbody>\n",
       "    <tr>\n",
       "      <th>0</th>\n",
       "      <td>W1</td>\n",
       "      <td>A</td>\n",
       "      <td>1957</td>\n",
       "      <td>12/31/2007</td>\n",
       "    </tr>\n",
       "    <tr>\n",
       "      <th>1</th>\n",
       "      <td>W1</td>\n",
       "      <td>A</td>\n",
       "      <td>1968</td>\n",
       "      <td>12/31/2008</td>\n",
       "    </tr>\n",
       "    <tr>\n",
       "      <th>2</th>\n",
       "      <td>W1</td>\n",
       "      <td>A</td>\n",
       "      <td>1983</td>\n",
       "      <td>12/31/2009</td>\n",
       "    </tr>\n",
       "    <tr>\n",
       "      <th>3</th>\n",
       "      <td>W1</td>\n",
       "      <td>A</td>\n",
       "      <td>2001</td>\n",
       "      <td>12/31/2010</td>\n",
       "    </tr>\n",
       "    <tr>\n",
       "      <th>4</th>\n",
       "      <td>W1</td>\n",
       "      <td>A</td>\n",
       "      <td>1894</td>\n",
       "      <td>12/31/2011</td>\n",
       "    </tr>\n",
       "    <tr>\n",
       "      <th>5</th>\n",
       "      <td>W1</td>\n",
       "      <td>A</td>\n",
       "      <td>1850</td>\n",
       "      <td>12/31/2012</td>\n",
       "    </tr>\n",
       "    <tr>\n",
       "      <th>6</th>\n",
       "      <td>W1</td>\n",
       "      <td>A</td>\n",
       "      <td>2045</td>\n",
       "      <td>12/31/2013</td>\n",
       "    </tr>\n",
       "    <tr>\n",
       "      <th>7</th>\n",
       "      <td>W1</td>\n",
       "      <td>A</td>\n",
       "      <td>1860</td>\n",
       "      <td>12/31/2014</td>\n",
       "    </tr>\n",
       "    <tr>\n",
       "      <th>8</th>\n",
       "      <td>W1</td>\n",
       "      <td>A</td>\n",
       "      <td>1784</td>\n",
       "      <td>12/31/2015</td>\n",
       "    </tr>\n",
       "    <tr>\n",
       "      <th>9</th>\n",
       "      <td>W1</td>\n",
       "      <td>A</td>\n",
       "      <td>1856</td>\n",
       "      <td>12/31/2016</td>\n",
       "    </tr>\n",
       "    <tr>\n",
       "      <th>10</th>\n",
       "      <td>W1</td>\n",
       "      <td>B</td>\n",
       "      <td>1891</td>\n",
       "      <td>12/31/2007</td>\n",
       "    </tr>\n",
       "    <tr>\n",
       "      <th>11</th>\n",
       "      <td>W1</td>\n",
       "      <td>B</td>\n",
       "      <td>1822</td>\n",
       "      <td>12/31/2008</td>\n",
       "    </tr>\n",
       "    <tr>\n",
       "      <th>12</th>\n",
       "      <td>W1</td>\n",
       "      <td>B</td>\n",
       "      <td>1846</td>\n",
       "      <td>12/31/2009</td>\n",
       "    </tr>\n",
       "    <tr>\n",
       "      <th>13</th>\n",
       "      <td>W1</td>\n",
       "      <td>B</td>\n",
       "      <td>1903</td>\n",
       "      <td>12/31/2010</td>\n",
       "    </tr>\n",
       "    <tr>\n",
       "      <th>14</th>\n",
       "      <td>W1</td>\n",
       "      <td>B</td>\n",
       "      <td>1924</td>\n",
       "      <td>12/31/2011</td>\n",
       "    </tr>\n",
       "  </tbody>\n",
       "</table>\n",
       "</div>"
      ],
      "text/plain": [
       "   Store Product  Sales        Year\n",
       "0     W1       A   1957  12/31/2007\n",
       "1     W1       A   1968  12/31/2008\n",
       "2     W1       A   1983  12/31/2009\n",
       "3     W1       A   2001  12/31/2010\n",
       "4     W1       A   1894  12/31/2011\n",
       "5     W1       A   1850  12/31/2012\n",
       "6     W1       A   2045  12/31/2013\n",
       "7     W1       A   1860  12/31/2014\n",
       "8     W1       A   1784  12/31/2015\n",
       "9     W1       A   1856  12/31/2016\n",
       "10    W1       B   1891  12/31/2007\n",
       "11    W1       B   1822  12/31/2008\n",
       "12    W1       B   1846  12/31/2009\n",
       "13    W1       B   1903  12/31/2010\n",
       "14    W1       B   1924  12/31/2011"
      ]
     },
     "execution_count": 35,
     "metadata": {},
     "output_type": "execute_result"
    }
   ],
   "source": [
    "# Viewing the data does not change the underlying dataset\n",
    "sales_data.head(15)"
   ]
  },
  {
   "cell_type": "markdown",
   "metadata": {},
   "source": [
    "Being build on top of NumPy, we can create more complicated boolean expressions to select subsets of records. The following code block shows how we can define and use multi-condition boolean expression to select records where the store is *E1* and the sales is greater than 1,850."
   ]
  },
  {
   "cell_type": "code",
   "execution_count": 36,
   "metadata": {},
   "outputs": [
    {
     "data": {
      "text/html": [
       "<div>\n",
       "<style scoped>\n",
       "    .dataframe tbody tr th:only-of-type {\n",
       "        vertical-align: middle;\n",
       "    }\n",
       "\n",
       "    .dataframe tbody tr th {\n",
       "        vertical-align: top;\n",
       "    }\n",
       "\n",
       "    .dataframe thead th {\n",
       "        text-align: right;\n",
       "    }\n",
       "</style>\n",
       "<table border=\"1\" class=\"dataframe\">\n",
       "  <thead>\n",
       "    <tr style=\"text-align: right;\">\n",
       "      <th></th>\n",
       "      <th>Store</th>\n",
       "      <th>Product</th>\n",
       "      <th>Sales</th>\n",
       "      <th>Year</th>\n",
       "    </tr>\n",
       "  </thead>\n",
       "  <tbody>\n",
       "    <tr>\n",
       "      <th>20</th>\n",
       "      <td>E1</td>\n",
       "      <td>A</td>\n",
       "      <td>1858</td>\n",
       "      <td>12/31/2007</td>\n",
       "    </tr>\n",
       "    <tr>\n",
       "      <th>21</th>\n",
       "      <td>E1</td>\n",
       "      <td>A</td>\n",
       "      <td>1909</td>\n",
       "      <td>12/31/2008</td>\n",
       "    </tr>\n",
       "    <tr>\n",
       "      <th>22</th>\n",
       "      <td>E1</td>\n",
       "      <td>A</td>\n",
       "      <td>1977</td>\n",
       "      <td>12/31/2009</td>\n",
       "    </tr>\n",
       "    <tr>\n",
       "      <th>28</th>\n",
       "      <td>E1</td>\n",
       "      <td>A</td>\n",
       "      <td>1895</td>\n",
       "      <td>12/31/2015</td>\n",
       "    </tr>\n",
       "    <tr>\n",
       "      <th>30</th>\n",
       "      <td>E1</td>\n",
       "      <td>B</td>\n",
       "      <td>1904</td>\n",
       "      <td>12/31/2007</td>\n",
       "    </tr>\n",
       "    <tr>\n",
       "      <th>33</th>\n",
       "      <td>E1</td>\n",
       "      <td>B</td>\n",
       "      <td>1868</td>\n",
       "      <td>12/31/2010</td>\n",
       "    </tr>\n",
       "    <tr>\n",
       "      <th>34</th>\n",
       "      <td>E1</td>\n",
       "      <td>B</td>\n",
       "      <td>1872</td>\n",
       "      <td>12/31/2011</td>\n",
       "    </tr>\n",
       "    <tr>\n",
       "      <th>35</th>\n",
       "      <td>E1</td>\n",
       "      <td>B</td>\n",
       "      <td>1909</td>\n",
       "      <td>12/31/2012</td>\n",
       "    </tr>\n",
       "    <tr>\n",
       "      <th>36</th>\n",
       "      <td>E1</td>\n",
       "      <td>B</td>\n",
       "      <td>2034</td>\n",
       "      <td>12/31/2013</td>\n",
       "    </tr>\n",
       "    <tr>\n",
       "      <th>37</th>\n",
       "      <td>E1</td>\n",
       "      <td>B</td>\n",
       "      <td>1856</td>\n",
       "      <td>12/31/2014</td>\n",
       "    </tr>\n",
       "  </tbody>\n",
       "</table>\n",
       "</div>"
      ],
      "text/plain": [
       "   Store Product  Sales        Year\n",
       "20    E1       A   1858  12/31/2007\n",
       "21    E1       A   1909  12/31/2008\n",
       "22    E1       A   1977  12/31/2009\n",
       "28    E1       A   1895  12/31/2015\n",
       "30    E1       B   1904  12/31/2007\n",
       "33    E1       B   1868  12/31/2010\n",
       "34    E1       B   1872  12/31/2011\n",
       "35    E1       B   1909  12/31/2012\n",
       "36    E1       B   2034  12/31/2013\n",
       "37    E1       B   1856  12/31/2014"
      ]
     },
     "execution_count": 36,
     "metadata": {},
     "output_type": "execute_result"
    }
   ],
   "source": [
    "my_condition = (sales_data['Store'] == 'E1') & (sales_data['Sales'] > 1850)\n",
    "\n",
    "sales_data[my_condition]"
   ]
  },
  {
   "cell_type": "markdown",
   "metadata": {},
   "source": [
    "## Using iloc (integer location) to access data\n",
    "Use `iloc` to access data within a DataFrame by passing an integer or list of integers.\n",
    "\n",
    "For example, if you want the first two rows of data pass an inner list to your DataFrame."
   ]
  },
  {
   "cell_type": "code",
   "execution_count": 37,
   "metadata": {},
   "outputs": [
    {
     "data": {
      "text/html": [
       "<div>\n",
       "<style scoped>\n",
       "    .dataframe tbody tr th:only-of-type {\n",
       "        vertical-align: middle;\n",
       "    }\n",
       "\n",
       "    .dataframe tbody tr th {\n",
       "        vertical-align: top;\n",
       "    }\n",
       "\n",
       "    .dataframe thead th {\n",
       "        text-align: right;\n",
       "    }\n",
       "</style>\n",
       "<table border=\"1\" class=\"dataframe\">\n",
       "  <thead>\n",
       "    <tr style=\"text-align: right;\">\n",
       "      <th></th>\n",
       "      <th>Store</th>\n",
       "      <th>Product</th>\n",
       "      <th>Sales</th>\n",
       "      <th>Year</th>\n",
       "    </tr>\n",
       "  </thead>\n",
       "  <tbody>\n",
       "    <tr>\n",
       "      <th>0</th>\n",
       "      <td>W1</td>\n",
       "      <td>A</td>\n",
       "      <td>1957</td>\n",
       "      <td>12/31/2007</td>\n",
       "    </tr>\n",
       "    <tr>\n",
       "      <th>1</th>\n",
       "      <td>W1</td>\n",
       "      <td>A</td>\n",
       "      <td>1968</td>\n",
       "      <td>12/31/2008</td>\n",
       "    </tr>\n",
       "    <tr>\n",
       "      <th>2</th>\n",
       "      <td>W1</td>\n",
       "      <td>A</td>\n",
       "      <td>1983</td>\n",
       "      <td>12/31/2009</td>\n",
       "    </tr>\n",
       "    <tr>\n",
       "      <th>3</th>\n",
       "      <td>W1</td>\n",
       "      <td>A</td>\n",
       "      <td>2001</td>\n",
       "      <td>12/31/2010</td>\n",
       "    </tr>\n",
       "    <tr>\n",
       "      <th>4</th>\n",
       "      <td>W1</td>\n",
       "      <td>A</td>\n",
       "      <td>1894</td>\n",
       "      <td>12/31/2011</td>\n",
       "    </tr>\n",
       "  </tbody>\n",
       "</table>\n",
       "</div>"
      ],
      "text/plain": [
       "  Store Product  Sales        Year\n",
       "0    W1       A   1957  12/31/2007\n",
       "1    W1       A   1968  12/31/2008\n",
       "2    W1       A   1983  12/31/2009\n",
       "3    W1       A   2001  12/31/2010\n",
       "4    W1       A   1894  12/31/2011"
      ]
     },
     "execution_count": 37,
     "metadata": {},
     "output_type": "execute_result"
    }
   ],
   "source": [
    "sales_data.head()"
   ]
  },
  {
   "cell_type": "code",
   "execution_count": 38,
   "metadata": {},
   "outputs": [
    {
     "data": {
      "text/html": [
       "<div>\n",
       "<style scoped>\n",
       "    .dataframe tbody tr th:only-of-type {\n",
       "        vertical-align: middle;\n",
       "    }\n",
       "\n",
       "    .dataframe tbody tr th {\n",
       "        vertical-align: top;\n",
       "    }\n",
       "\n",
       "    .dataframe thead th {\n",
       "        text-align: right;\n",
       "    }\n",
       "</style>\n",
       "<table border=\"1\" class=\"dataframe\">\n",
       "  <thead>\n",
       "    <tr style=\"text-align: right;\">\n",
       "      <th></th>\n",
       "      <th>Store</th>\n",
       "      <th>Product</th>\n",
       "      <th>Sales</th>\n",
       "      <th>Year</th>\n",
       "    </tr>\n",
       "  </thead>\n",
       "  <tbody>\n",
       "    <tr>\n",
       "      <th>0</th>\n",
       "      <td>W1</td>\n",
       "      <td>A</td>\n",
       "      <td>1957</td>\n",
       "      <td>12/31/2007</td>\n",
       "    </tr>\n",
       "    <tr>\n",
       "      <th>2</th>\n",
       "      <td>W1</td>\n",
       "      <td>A</td>\n",
       "      <td>1983</td>\n",
       "      <td>12/31/2009</td>\n",
       "    </tr>\n",
       "  </tbody>\n",
       "</table>\n",
       "</div>"
      ],
      "text/plain": [
       "  Store Product  Sales        Year\n",
       "0    W1       A   1957  12/31/2007\n",
       "2    W1       A   1983  12/31/2009"
      ]
     },
     "execution_count": 38,
     "metadata": {},
     "output_type": "execute_result"
    }
   ],
   "source": [
    "# Use integer location (iloc) to display the first and third rows--row 0 and row 2)\n",
    "sales_data.iloc[[0,2]]"
   ]
  },
  {
   "cell_type": "code",
   "execution_count": 39,
   "metadata": {},
   "outputs": [
    {
     "data": {
      "text/html": [
       "<div>\n",
       "<style scoped>\n",
       "    .dataframe tbody tr th:only-of-type {\n",
       "        vertical-align: middle;\n",
       "    }\n",
       "\n",
       "    .dataframe tbody tr th {\n",
       "        vertical-align: top;\n",
       "    }\n",
       "\n",
       "    .dataframe thead th {\n",
       "        text-align: right;\n",
       "    }\n",
       "</style>\n",
       "<table border=\"1\" class=\"dataframe\">\n",
       "  <thead>\n",
       "    <tr style=\"text-align: right;\">\n",
       "      <th></th>\n",
       "      <th>Store</th>\n",
       "      <th>Sales</th>\n",
       "    </tr>\n",
       "  </thead>\n",
       "  <tbody>\n",
       "    <tr>\n",
       "      <th>2</th>\n",
       "      <td>W1</td>\n",
       "      <td>1983</td>\n",
       "    </tr>\n",
       "    <tr>\n",
       "      <th>3</th>\n",
       "      <td>W1</td>\n",
       "      <td>2001</td>\n",
       "    </tr>\n",
       "  </tbody>\n",
       "</table>\n",
       "</div>"
      ],
      "text/plain": [
       "  Store  Sales\n",
       "2    W1   1983\n",
       "3    W1   2001"
      ]
     },
     "execution_count": 39,
     "metadata": {},
     "output_type": "execute_result"
    }
   ],
   "source": [
    "# Display row index 2 and 3 and only the first (index 0) and third (index 2) columns\n",
    "sales_data.iloc[[2,3],[0,2]]"
   ]
  },
  {
   "cell_type": "markdown",
   "metadata": {},
   "source": [
    "## Using loc to access and change data\n",
    "Using the `.loc` *indexer* method for Pandas, we can use this boolean expression to return a subset of the available columns."
   ]
  },
  {
   "cell_type": "code",
   "execution_count": 40,
   "metadata": {},
   "outputs": [
    {
     "data": {
      "text/html": [
       "<div>\n",
       "<style scoped>\n",
       "    .dataframe tbody tr th:only-of-type {\n",
       "        vertical-align: middle;\n",
       "    }\n",
       "\n",
       "    .dataframe tbody tr th {\n",
       "        vertical-align: top;\n",
       "    }\n",
       "\n",
       "    .dataframe thead th {\n",
       "        text-align: right;\n",
       "    }\n",
       "</style>\n",
       "<table border=\"1\" class=\"dataframe\">\n",
       "  <thead>\n",
       "    <tr style=\"text-align: right;\">\n",
       "      <th></th>\n",
       "      <th>Product</th>\n",
       "      <th>Year</th>\n",
       "    </tr>\n",
       "  </thead>\n",
       "  <tbody>\n",
       "    <tr>\n",
       "      <th>20</th>\n",
       "      <td>A</td>\n",
       "      <td>12/31/2007</td>\n",
       "    </tr>\n",
       "    <tr>\n",
       "      <th>21</th>\n",
       "      <td>A</td>\n",
       "      <td>12/31/2008</td>\n",
       "    </tr>\n",
       "    <tr>\n",
       "      <th>22</th>\n",
       "      <td>A</td>\n",
       "      <td>12/31/2009</td>\n",
       "    </tr>\n",
       "    <tr>\n",
       "      <th>28</th>\n",
       "      <td>A</td>\n",
       "      <td>12/31/2015</td>\n",
       "    </tr>\n",
       "    <tr>\n",
       "      <th>30</th>\n",
       "      <td>B</td>\n",
       "      <td>12/31/2007</td>\n",
       "    </tr>\n",
       "    <tr>\n",
       "      <th>33</th>\n",
       "      <td>B</td>\n",
       "      <td>12/31/2010</td>\n",
       "    </tr>\n",
       "    <tr>\n",
       "      <th>34</th>\n",
       "      <td>B</td>\n",
       "      <td>12/31/2011</td>\n",
       "    </tr>\n",
       "    <tr>\n",
       "      <th>35</th>\n",
       "      <td>B</td>\n",
       "      <td>12/31/2012</td>\n",
       "    </tr>\n",
       "    <tr>\n",
       "      <th>36</th>\n",
       "      <td>B</td>\n",
       "      <td>12/31/2013</td>\n",
       "    </tr>\n",
       "    <tr>\n",
       "      <th>37</th>\n",
       "      <td>B</td>\n",
       "      <td>12/31/2014</td>\n",
       "    </tr>\n",
       "  </tbody>\n",
       "</table>\n",
       "</div>"
      ],
      "text/plain": [
       "   Product        Year\n",
       "20       A  12/31/2007\n",
       "21       A  12/31/2008\n",
       "22       A  12/31/2009\n",
       "28       A  12/31/2015\n",
       "30       B  12/31/2007\n",
       "33       B  12/31/2010\n",
       "34       B  12/31/2011\n",
       "35       B  12/31/2012\n",
       "36       B  12/31/2013\n",
       "37       B  12/31/2014"
      ]
     },
     "execution_count": 40,
     "metadata": {},
     "output_type": "execute_result"
    }
   ],
   "source": [
    "my_condition = (sales_data['Store'] == 'E1') & (sales_data['Sales'] > 1850)\n",
    "\n",
    "## The following loc expression uses the boolean expression to filter the rows,\n",
    "## and then uses the list of column names to define the subset of columns to return\n",
    "sales_data.loc[my_condition,['Product','Year']]"
   ]
  },
  {
   "cell_type": "markdown",
   "metadata": {},
   "source": [
    "Please see https://jakevdp.github.io/PythonDataScienceHandbook/03.02-data-indexing-and-selection.html for more discussion on indexing and selecting with Pandas objects."
   ]
  },
  {
   "cell_type": "markdown",
   "metadata": {
    "tags": [],
    "toc-hr-collapsed": true,
    "toc-nb-collapsed": true
   },
   "source": [
    "# Handling Missing Data\n",
    "\n",
    "In this section, we will look at a few capabilities built into Pandas for the purpose of handling missing data. For this demonstration, we will use a subset of the data contained in the `sales_data` object. The following code block creates and prints the data subset."
   ]
  },
  {
   "cell_type": "code",
   "execution_count": 41,
   "metadata": {},
   "outputs": [
    {
     "data": {
      "text/html": [
       "<div>\n",
       "<style scoped>\n",
       "    .dataframe tbody tr th:only-of-type {\n",
       "        vertical-align: middle;\n",
       "    }\n",
       "\n",
       "    .dataframe tbody tr th {\n",
       "        vertical-align: top;\n",
       "    }\n",
       "\n",
       "    .dataframe thead th {\n",
       "        text-align: right;\n",
       "    }\n",
       "</style>\n",
       "<table border=\"1\" class=\"dataframe\">\n",
       "  <thead>\n",
       "    <tr style=\"text-align: right;\">\n",
       "      <th></th>\n",
       "      <th>Store</th>\n",
       "      <th>Product</th>\n",
       "      <th>Sales</th>\n",
       "      <th>Year</th>\n",
       "    </tr>\n",
       "  </thead>\n",
       "  <tbody>\n",
       "    <tr>\n",
       "      <th>0</th>\n",
       "      <td>W1</td>\n",
       "      <td>A</td>\n",
       "      <td>1957</td>\n",
       "      <td>12/31/2007</td>\n",
       "    </tr>\n",
       "    <tr>\n",
       "      <th>1</th>\n",
       "      <td>W1</td>\n",
       "      <td>A</td>\n",
       "      <td>1968</td>\n",
       "      <td>12/31/2008</td>\n",
       "    </tr>\n",
       "    <tr>\n",
       "      <th>2</th>\n",
       "      <td>W1</td>\n",
       "      <td>A</td>\n",
       "      <td>1983</td>\n",
       "      <td>12/31/2009</td>\n",
       "    </tr>\n",
       "    <tr>\n",
       "      <th>3</th>\n",
       "      <td>W1</td>\n",
       "      <td>A</td>\n",
       "      <td>2001</td>\n",
       "      <td>12/31/2010</td>\n",
       "    </tr>\n",
       "    <tr>\n",
       "      <th>4</th>\n",
       "      <td>W1</td>\n",
       "      <td>A</td>\n",
       "      <td>1894</td>\n",
       "      <td>12/31/2011</td>\n",
       "    </tr>\n",
       "    <tr>\n",
       "      <th>5</th>\n",
       "      <td>W1</td>\n",
       "      <td>A</td>\n",
       "      <td>1850</td>\n",
       "      <td>12/31/2012</td>\n",
       "    </tr>\n",
       "    <tr>\n",
       "      <th>6</th>\n",
       "      <td>W1</td>\n",
       "      <td>A</td>\n",
       "      <td>2045</td>\n",
       "      <td>12/31/2013</td>\n",
       "    </tr>\n",
       "    <tr>\n",
       "      <th>7</th>\n",
       "      <td>W1</td>\n",
       "      <td>A</td>\n",
       "      <td>1860</td>\n",
       "      <td>12/31/2014</td>\n",
       "    </tr>\n",
       "    <tr>\n",
       "      <th>8</th>\n",
       "      <td>W1</td>\n",
       "      <td>A</td>\n",
       "      <td>1784</td>\n",
       "      <td>12/31/2015</td>\n",
       "    </tr>\n",
       "    <tr>\n",
       "      <th>9</th>\n",
       "      <td>W1</td>\n",
       "      <td>A</td>\n",
       "      <td>1856</td>\n",
       "      <td>12/31/2016</td>\n",
       "    </tr>\n",
       "  </tbody>\n",
       "</table>\n",
       "</div>"
      ],
      "text/plain": [
       "  Store Product  Sales        Year\n",
       "0    W1       A   1957  12/31/2007\n",
       "1    W1       A   1968  12/31/2008\n",
       "2    W1       A   1983  12/31/2009\n",
       "3    W1       A   2001  12/31/2010\n",
       "4    W1       A   1894  12/31/2011\n",
       "5    W1       A   1850  12/31/2012\n",
       "6    W1       A   2045  12/31/2013\n",
       "7    W1       A   1860  12/31/2014\n",
       "8    W1       A   1784  12/31/2015\n",
       "9    W1       A   1856  12/31/2016"
      ]
     },
     "execution_count": 41,
     "metadata": {},
     "output_type": "execute_result"
    }
   ],
   "source": [
    "my_subset = sales_data.copy()\n",
    "my_condition = (my_subset['Product']=='A') & (my_subset['Store']=='W1')\n",
    "my_subset = my_subset[my_condition]\n",
    "my_subset"
   ]
  },
  {
   "cell_type": "markdown",
   "metadata": {},
   "source": [
    "## Using NaN\n",
    "For the sake of demonstration, assume that we were missing sales for the years 2011 and 2014. The following code block uses the `None` value to delete these sales values from the `my_subset` object. Note that in the resulting DatafFrame, the sales values are replaced with `NaN`, which stands for __Not a Number__."
   ]
  },
  {
   "cell_type": "code",
   "execution_count": 42,
   "metadata": {},
   "outputs": [
    {
     "data": {
      "text/html": [
       "<div>\n",
       "<style scoped>\n",
       "    .dataframe tbody tr th:only-of-type {\n",
       "        vertical-align: middle;\n",
       "    }\n",
       "\n",
       "    .dataframe tbody tr th {\n",
       "        vertical-align: top;\n",
       "    }\n",
       "\n",
       "    .dataframe thead th {\n",
       "        text-align: right;\n",
       "    }\n",
       "</style>\n",
       "<table border=\"1\" class=\"dataframe\">\n",
       "  <thead>\n",
       "    <tr style=\"text-align: right;\">\n",
       "      <th></th>\n",
       "      <th>Store</th>\n",
       "      <th>Product</th>\n",
       "      <th>Sales</th>\n",
       "      <th>Year</th>\n",
       "    </tr>\n",
       "  </thead>\n",
       "  <tbody>\n",
       "    <tr>\n",
       "      <th>0</th>\n",
       "      <td>W1</td>\n",
       "      <td>A</td>\n",
       "      <td>1957.0</td>\n",
       "      <td>12/31/2007</td>\n",
       "    </tr>\n",
       "    <tr>\n",
       "      <th>1</th>\n",
       "      <td>W1</td>\n",
       "      <td>A</td>\n",
       "      <td>1968.0</td>\n",
       "      <td>12/31/2008</td>\n",
       "    </tr>\n",
       "    <tr>\n",
       "      <th>2</th>\n",
       "      <td>W1</td>\n",
       "      <td>A</td>\n",
       "      <td>1983.0</td>\n",
       "      <td>12/31/2009</td>\n",
       "    </tr>\n",
       "    <tr>\n",
       "      <th>3</th>\n",
       "      <td>W1</td>\n",
       "      <td>A</td>\n",
       "      <td>2001.0</td>\n",
       "      <td>12/31/2010</td>\n",
       "    </tr>\n",
       "    <tr>\n",
       "      <th>4</th>\n",
       "      <td>W1</td>\n",
       "      <td>A</td>\n",
       "      <td>NaN</td>\n",
       "      <td>12/31/2011</td>\n",
       "    </tr>\n",
       "    <tr>\n",
       "      <th>5</th>\n",
       "      <td>W1</td>\n",
       "      <td>A</td>\n",
       "      <td>1850.0</td>\n",
       "      <td>12/31/2012</td>\n",
       "    </tr>\n",
       "    <tr>\n",
       "      <th>6</th>\n",
       "      <td>W1</td>\n",
       "      <td>A</td>\n",
       "      <td>2045.0</td>\n",
       "      <td>12/31/2013</td>\n",
       "    </tr>\n",
       "    <tr>\n",
       "      <th>7</th>\n",
       "      <td>W1</td>\n",
       "      <td>A</td>\n",
       "      <td>NaN</td>\n",
       "      <td>12/31/2014</td>\n",
       "    </tr>\n",
       "    <tr>\n",
       "      <th>8</th>\n",
       "      <td>W1</td>\n",
       "      <td>A</td>\n",
       "      <td>1784.0</td>\n",
       "      <td>12/31/2015</td>\n",
       "    </tr>\n",
       "    <tr>\n",
       "      <th>9</th>\n",
       "      <td>W1</td>\n",
       "      <td>A</td>\n",
       "      <td>1856.0</td>\n",
       "      <td>12/31/2016</td>\n",
       "    </tr>\n",
       "  </tbody>\n",
       "</table>\n",
       "</div>"
      ],
      "text/plain": [
       "  Store Product   Sales        Year\n",
       "0    W1       A  1957.0  12/31/2007\n",
       "1    W1       A  1968.0  12/31/2008\n",
       "2    W1       A  1983.0  12/31/2009\n",
       "3    W1       A  2001.0  12/31/2010\n",
       "4    W1       A     NaN  12/31/2011\n",
       "5    W1       A  1850.0  12/31/2012\n",
       "6    W1       A  2045.0  12/31/2013\n",
       "7    W1       A     NaN  12/31/2014\n",
       "8    W1       A  1784.0  12/31/2015\n",
       "9    W1       A  1856.0  12/31/2016"
      ]
     },
     "execution_count": 42,
     "metadata": {},
     "output_type": "execute_result"
    }
   ],
   "source": [
    "my_subset.loc[my_subset['Year']=='12/31/2011', 'Sales'] = None\n",
    "\n",
    "my_subset.loc[my_subset['Year']=='12/31/2014', 'Sales'] = None\n",
    "\n",
    "my_subset"
   ]
  },
  {
   "cell_type": "markdown",
   "metadata": {},
   "source": [
    "## Fill NaN with a number"
   ]
  },
  {
   "cell_type": "code",
   "execution_count": 43,
   "metadata": {},
   "outputs": [
    {
     "data": {
      "text/html": [
       "<div>\n",
       "<style scoped>\n",
       "    .dataframe tbody tr th:only-of-type {\n",
       "        vertical-align: middle;\n",
       "    }\n",
       "\n",
       "    .dataframe tbody tr th {\n",
       "        vertical-align: top;\n",
       "    }\n",
       "\n",
       "    .dataframe thead th {\n",
       "        text-align: right;\n",
       "    }\n",
       "</style>\n",
       "<table border=\"1\" class=\"dataframe\">\n",
       "  <thead>\n",
       "    <tr style=\"text-align: right;\">\n",
       "      <th></th>\n",
       "      <th>Store</th>\n",
       "      <th>Product</th>\n",
       "      <th>Sales</th>\n",
       "      <th>Year</th>\n",
       "    </tr>\n",
       "  </thead>\n",
       "  <tbody>\n",
       "    <tr>\n",
       "      <th>0</th>\n",
       "      <td>W1</td>\n",
       "      <td>A</td>\n",
       "      <td>1957.0</td>\n",
       "      <td>12/31/2007</td>\n",
       "    </tr>\n",
       "    <tr>\n",
       "      <th>1</th>\n",
       "      <td>W1</td>\n",
       "      <td>A</td>\n",
       "      <td>1968.0</td>\n",
       "      <td>12/31/2008</td>\n",
       "    </tr>\n",
       "    <tr>\n",
       "      <th>2</th>\n",
       "      <td>W1</td>\n",
       "      <td>A</td>\n",
       "      <td>1983.0</td>\n",
       "      <td>12/31/2009</td>\n",
       "    </tr>\n",
       "    <tr>\n",
       "      <th>3</th>\n",
       "      <td>W1</td>\n",
       "      <td>A</td>\n",
       "      <td>2001.0</td>\n",
       "      <td>12/31/2010</td>\n",
       "    </tr>\n",
       "    <tr>\n",
       "      <th>4</th>\n",
       "      <td>W1</td>\n",
       "      <td>A</td>\n",
       "      <td>0.0</td>\n",
       "      <td>12/31/2011</td>\n",
       "    </tr>\n",
       "    <tr>\n",
       "      <th>5</th>\n",
       "      <td>W1</td>\n",
       "      <td>A</td>\n",
       "      <td>1850.0</td>\n",
       "      <td>12/31/2012</td>\n",
       "    </tr>\n",
       "    <tr>\n",
       "      <th>6</th>\n",
       "      <td>W1</td>\n",
       "      <td>A</td>\n",
       "      <td>2045.0</td>\n",
       "      <td>12/31/2013</td>\n",
       "    </tr>\n",
       "    <tr>\n",
       "      <th>7</th>\n",
       "      <td>W1</td>\n",
       "      <td>A</td>\n",
       "      <td>0.0</td>\n",
       "      <td>12/31/2014</td>\n",
       "    </tr>\n",
       "    <tr>\n",
       "      <th>8</th>\n",
       "      <td>W1</td>\n",
       "      <td>A</td>\n",
       "      <td>1784.0</td>\n",
       "      <td>12/31/2015</td>\n",
       "    </tr>\n",
       "    <tr>\n",
       "      <th>9</th>\n",
       "      <td>W1</td>\n",
       "      <td>A</td>\n",
       "      <td>1856.0</td>\n",
       "      <td>12/31/2016</td>\n",
       "    </tr>\n",
       "  </tbody>\n",
       "</table>\n",
       "</div>"
      ],
      "text/plain": [
       "  Store Product   Sales        Year\n",
       "0    W1       A  1957.0  12/31/2007\n",
       "1    W1       A  1968.0  12/31/2008\n",
       "2    W1       A  1983.0  12/31/2009\n",
       "3    W1       A  2001.0  12/31/2010\n",
       "4    W1       A     0.0  12/31/2011\n",
       "5    W1       A  1850.0  12/31/2012\n",
       "6    W1       A  2045.0  12/31/2013\n",
       "7    W1       A     0.0  12/31/2014\n",
       "8    W1       A  1784.0  12/31/2015\n",
       "9    W1       A  1856.0  12/31/2016"
      ]
     },
     "execution_count": 43,
     "metadata": {},
     "output_type": "execute_result"
    }
   ],
   "source": [
    "my_subset.fillna(0)"
   ]
  },
  {
   "cell_type": "markdown",
   "metadata": {},
   "source": [
    "## Forward Fill Values\n",
    "In some situations, it may be reasonable to *forward fill* values whenever missing values are encountered. Essentially, the *forward filling* method use a preceding value in the DataFrame, and can be accomplished using the `fillna` Pandas method as shown in the following code block. **Note that this function can take an *axis* argument, specifying the direction of filling. In this case, we want to fill across the rows, or axis 0.**"
   ]
  },
  {
   "cell_type": "code",
   "execution_count": 44,
   "metadata": {},
   "outputs": [
    {
     "data": {
      "text/html": [
       "<div>\n",
       "<style scoped>\n",
       "    .dataframe tbody tr th:only-of-type {\n",
       "        vertical-align: middle;\n",
       "    }\n",
       "\n",
       "    .dataframe tbody tr th {\n",
       "        vertical-align: top;\n",
       "    }\n",
       "\n",
       "    .dataframe thead th {\n",
       "        text-align: right;\n",
       "    }\n",
       "</style>\n",
       "<table border=\"1\" class=\"dataframe\">\n",
       "  <thead>\n",
       "    <tr style=\"text-align: right;\">\n",
       "      <th></th>\n",
       "      <th>Store</th>\n",
       "      <th>Product</th>\n",
       "      <th>Sales</th>\n",
       "      <th>Year</th>\n",
       "    </tr>\n",
       "  </thead>\n",
       "  <tbody>\n",
       "    <tr>\n",
       "      <th>0</th>\n",
       "      <td>W1</td>\n",
       "      <td>A</td>\n",
       "      <td>1957.0</td>\n",
       "      <td>12/31/2007</td>\n",
       "    </tr>\n",
       "    <tr>\n",
       "      <th>1</th>\n",
       "      <td>W1</td>\n",
       "      <td>A</td>\n",
       "      <td>1968.0</td>\n",
       "      <td>12/31/2008</td>\n",
       "    </tr>\n",
       "    <tr>\n",
       "      <th>2</th>\n",
       "      <td>W1</td>\n",
       "      <td>A</td>\n",
       "      <td>1983.0</td>\n",
       "      <td>12/31/2009</td>\n",
       "    </tr>\n",
       "    <tr>\n",
       "      <th>3</th>\n",
       "      <td>W1</td>\n",
       "      <td>A</td>\n",
       "      <td>2001.0</td>\n",
       "      <td>12/31/2010</td>\n",
       "    </tr>\n",
       "    <tr>\n",
       "      <th>4</th>\n",
       "      <td>W1</td>\n",
       "      <td>A</td>\n",
       "      <td>2001.0</td>\n",
       "      <td>12/31/2011</td>\n",
       "    </tr>\n",
       "    <tr>\n",
       "      <th>5</th>\n",
       "      <td>W1</td>\n",
       "      <td>A</td>\n",
       "      <td>1850.0</td>\n",
       "      <td>12/31/2012</td>\n",
       "    </tr>\n",
       "    <tr>\n",
       "      <th>6</th>\n",
       "      <td>W1</td>\n",
       "      <td>A</td>\n",
       "      <td>2045.0</td>\n",
       "      <td>12/31/2013</td>\n",
       "    </tr>\n",
       "    <tr>\n",
       "      <th>7</th>\n",
       "      <td>W1</td>\n",
       "      <td>A</td>\n",
       "      <td>2045.0</td>\n",
       "      <td>12/31/2014</td>\n",
       "    </tr>\n",
       "    <tr>\n",
       "      <th>8</th>\n",
       "      <td>W1</td>\n",
       "      <td>A</td>\n",
       "      <td>1784.0</td>\n",
       "      <td>12/31/2015</td>\n",
       "    </tr>\n",
       "    <tr>\n",
       "      <th>9</th>\n",
       "      <td>W1</td>\n",
       "      <td>A</td>\n",
       "      <td>1856.0</td>\n",
       "      <td>12/31/2016</td>\n",
       "    </tr>\n",
       "  </tbody>\n",
       "</table>\n",
       "</div>"
      ],
      "text/plain": [
       "  Store Product   Sales        Year\n",
       "0    W1       A  1957.0  12/31/2007\n",
       "1    W1       A  1968.0  12/31/2008\n",
       "2    W1       A  1983.0  12/31/2009\n",
       "3    W1       A  2001.0  12/31/2010\n",
       "4    W1       A  2001.0  12/31/2011\n",
       "5    W1       A  1850.0  12/31/2012\n",
       "6    W1       A  2045.0  12/31/2013\n",
       "7    W1       A  2045.0  12/31/2014\n",
       "8    W1       A  1784.0  12/31/2015\n",
       "9    W1       A  1856.0  12/31/2016"
      ]
     },
     "execution_count": 44,
     "metadata": {},
     "output_type": "execute_result"
    }
   ],
   "source": [
    "my_subset.fillna(axis = 0, method = 'ffill')"
   ]
  },
  {
   "cell_type": "markdown",
   "metadata": {},
   "source": [
    "## Back Fill Values\n",
    "In contrast, it is also possible to *back fill* values, using values that follow in the DataFrame. This approach can be accomplished as shown in the following code block."
   ]
  },
  {
   "cell_type": "code",
   "execution_count": 45,
   "metadata": {},
   "outputs": [
    {
     "data": {
      "text/html": [
       "<div>\n",
       "<style scoped>\n",
       "    .dataframe tbody tr th:only-of-type {\n",
       "        vertical-align: middle;\n",
       "    }\n",
       "\n",
       "    .dataframe tbody tr th {\n",
       "        vertical-align: top;\n",
       "    }\n",
       "\n",
       "    .dataframe thead th {\n",
       "        text-align: right;\n",
       "    }\n",
       "</style>\n",
       "<table border=\"1\" class=\"dataframe\">\n",
       "  <thead>\n",
       "    <tr style=\"text-align: right;\">\n",
       "      <th></th>\n",
       "      <th>Store</th>\n",
       "      <th>Product</th>\n",
       "      <th>Sales</th>\n",
       "      <th>Year</th>\n",
       "    </tr>\n",
       "  </thead>\n",
       "  <tbody>\n",
       "    <tr>\n",
       "      <th>0</th>\n",
       "      <td>W1</td>\n",
       "      <td>A</td>\n",
       "      <td>1957.0</td>\n",
       "      <td>12/31/2007</td>\n",
       "    </tr>\n",
       "    <tr>\n",
       "      <th>1</th>\n",
       "      <td>W1</td>\n",
       "      <td>A</td>\n",
       "      <td>1968.0</td>\n",
       "      <td>12/31/2008</td>\n",
       "    </tr>\n",
       "    <tr>\n",
       "      <th>2</th>\n",
       "      <td>W1</td>\n",
       "      <td>A</td>\n",
       "      <td>1983.0</td>\n",
       "      <td>12/31/2009</td>\n",
       "    </tr>\n",
       "    <tr>\n",
       "      <th>3</th>\n",
       "      <td>W1</td>\n",
       "      <td>A</td>\n",
       "      <td>2001.0</td>\n",
       "      <td>12/31/2010</td>\n",
       "    </tr>\n",
       "    <tr>\n",
       "      <th>4</th>\n",
       "      <td>W1</td>\n",
       "      <td>A</td>\n",
       "      <td>1850.0</td>\n",
       "      <td>12/31/2011</td>\n",
       "    </tr>\n",
       "    <tr>\n",
       "      <th>5</th>\n",
       "      <td>W1</td>\n",
       "      <td>A</td>\n",
       "      <td>1850.0</td>\n",
       "      <td>12/31/2012</td>\n",
       "    </tr>\n",
       "    <tr>\n",
       "      <th>6</th>\n",
       "      <td>W1</td>\n",
       "      <td>A</td>\n",
       "      <td>2045.0</td>\n",
       "      <td>12/31/2013</td>\n",
       "    </tr>\n",
       "    <tr>\n",
       "      <th>7</th>\n",
       "      <td>W1</td>\n",
       "      <td>A</td>\n",
       "      <td>1784.0</td>\n",
       "      <td>12/31/2014</td>\n",
       "    </tr>\n",
       "    <tr>\n",
       "      <th>8</th>\n",
       "      <td>W1</td>\n",
       "      <td>A</td>\n",
       "      <td>1784.0</td>\n",
       "      <td>12/31/2015</td>\n",
       "    </tr>\n",
       "    <tr>\n",
       "      <th>9</th>\n",
       "      <td>W1</td>\n",
       "      <td>A</td>\n",
       "      <td>1856.0</td>\n",
       "      <td>12/31/2016</td>\n",
       "    </tr>\n",
       "  </tbody>\n",
       "</table>\n",
       "</div>"
      ],
      "text/plain": [
       "  Store Product   Sales        Year\n",
       "0    W1       A  1957.0  12/31/2007\n",
       "1    W1       A  1968.0  12/31/2008\n",
       "2    W1       A  1983.0  12/31/2009\n",
       "3    W1       A  2001.0  12/31/2010\n",
       "4    W1       A  1850.0  12/31/2011\n",
       "5    W1       A  1850.0  12/31/2012\n",
       "6    W1       A  2045.0  12/31/2013\n",
       "7    W1       A  1784.0  12/31/2014\n",
       "8    W1       A  1784.0  12/31/2015\n",
       "9    W1       A  1856.0  12/31/2016"
      ]
     },
     "execution_count": 45,
     "metadata": {},
     "output_type": "execute_result"
    }
   ],
   "source": [
    "my_subset.fillna(axis = 0, method = 'bfill')"
   ]
  },
  {
   "cell_type": "markdown",
   "metadata": {},
   "source": [
    "## Interpolate Values\n",
    "Instead of forward or back filling missing values, we may also use the `interpolate` method to take the average of preceding and following values. This approach is demonstrated below."
   ]
  },
  {
   "cell_type": "code",
   "execution_count": 46,
   "metadata": {},
   "outputs": [
    {
     "data": {
      "text/html": [
       "<div>\n",
       "<style scoped>\n",
       "    .dataframe tbody tr th:only-of-type {\n",
       "        vertical-align: middle;\n",
       "    }\n",
       "\n",
       "    .dataframe tbody tr th {\n",
       "        vertical-align: top;\n",
       "    }\n",
       "\n",
       "    .dataframe thead th {\n",
       "        text-align: right;\n",
       "    }\n",
       "</style>\n",
       "<table border=\"1\" class=\"dataframe\">\n",
       "  <thead>\n",
       "    <tr style=\"text-align: right;\">\n",
       "      <th></th>\n",
       "      <th>Store</th>\n",
       "      <th>Product</th>\n",
       "      <th>Sales</th>\n",
       "      <th>Year</th>\n",
       "    </tr>\n",
       "  </thead>\n",
       "  <tbody>\n",
       "    <tr>\n",
       "      <th>0</th>\n",
       "      <td>W1</td>\n",
       "      <td>A</td>\n",
       "      <td>1957.0</td>\n",
       "      <td>12/31/2007</td>\n",
       "    </tr>\n",
       "    <tr>\n",
       "      <th>1</th>\n",
       "      <td>W1</td>\n",
       "      <td>A</td>\n",
       "      <td>1968.0</td>\n",
       "      <td>12/31/2008</td>\n",
       "    </tr>\n",
       "    <tr>\n",
       "      <th>2</th>\n",
       "      <td>W1</td>\n",
       "      <td>A</td>\n",
       "      <td>1983.0</td>\n",
       "      <td>12/31/2009</td>\n",
       "    </tr>\n",
       "    <tr>\n",
       "      <th>3</th>\n",
       "      <td>W1</td>\n",
       "      <td>A</td>\n",
       "      <td>2001.0</td>\n",
       "      <td>12/31/2010</td>\n",
       "    </tr>\n",
       "    <tr>\n",
       "      <th>4</th>\n",
       "      <td>W1</td>\n",
       "      <td>A</td>\n",
       "      <td>1925.5</td>\n",
       "      <td>12/31/2011</td>\n",
       "    </tr>\n",
       "    <tr>\n",
       "      <th>5</th>\n",
       "      <td>W1</td>\n",
       "      <td>A</td>\n",
       "      <td>1850.0</td>\n",
       "      <td>12/31/2012</td>\n",
       "    </tr>\n",
       "    <tr>\n",
       "      <th>6</th>\n",
       "      <td>W1</td>\n",
       "      <td>A</td>\n",
       "      <td>2045.0</td>\n",
       "      <td>12/31/2013</td>\n",
       "    </tr>\n",
       "    <tr>\n",
       "      <th>7</th>\n",
       "      <td>W1</td>\n",
       "      <td>A</td>\n",
       "      <td>1914.5</td>\n",
       "      <td>12/31/2014</td>\n",
       "    </tr>\n",
       "    <tr>\n",
       "      <th>8</th>\n",
       "      <td>W1</td>\n",
       "      <td>A</td>\n",
       "      <td>1784.0</td>\n",
       "      <td>12/31/2015</td>\n",
       "    </tr>\n",
       "    <tr>\n",
       "      <th>9</th>\n",
       "      <td>W1</td>\n",
       "      <td>A</td>\n",
       "      <td>1856.0</td>\n",
       "      <td>12/31/2016</td>\n",
       "    </tr>\n",
       "  </tbody>\n",
       "</table>\n",
       "</div>"
      ],
      "text/plain": [
       "  Store Product   Sales        Year\n",
       "0    W1       A  1957.0  12/31/2007\n",
       "1    W1       A  1968.0  12/31/2008\n",
       "2    W1       A  1983.0  12/31/2009\n",
       "3    W1       A  2001.0  12/31/2010\n",
       "4    W1       A  1925.5  12/31/2011\n",
       "5    W1       A  1850.0  12/31/2012\n",
       "6    W1       A  2045.0  12/31/2013\n",
       "7    W1       A  1914.5  12/31/2014\n",
       "8    W1       A  1784.0  12/31/2015\n",
       "9    W1       A  1856.0  12/31/2016"
      ]
     },
     "execution_count": 46,
     "metadata": {},
     "output_type": "execute_result"
    }
   ],
   "source": [
    "my_subset.interpolate(axis = 0)"
   ]
  },
  {
   "cell_type": "markdown",
   "metadata": {},
   "source": [
    "## Drop Values \n",
    "The final approach to handling missing values that we will cover is to drop the values. This can be done using the `dropna` method shown in the following code block."
   ]
  },
  {
   "cell_type": "code",
   "execution_count": 47,
   "metadata": {},
   "outputs": [
    {
     "data": {
      "text/html": [
       "<div>\n",
       "<style scoped>\n",
       "    .dataframe tbody tr th:only-of-type {\n",
       "        vertical-align: middle;\n",
       "    }\n",
       "\n",
       "    .dataframe tbody tr th {\n",
       "        vertical-align: top;\n",
       "    }\n",
       "\n",
       "    .dataframe thead th {\n",
       "        text-align: right;\n",
       "    }\n",
       "</style>\n",
       "<table border=\"1\" class=\"dataframe\">\n",
       "  <thead>\n",
       "    <tr style=\"text-align: right;\">\n",
       "      <th></th>\n",
       "      <th>Store</th>\n",
       "      <th>Product</th>\n",
       "      <th>Sales</th>\n",
       "      <th>Year</th>\n",
       "    </tr>\n",
       "  </thead>\n",
       "  <tbody>\n",
       "    <tr>\n",
       "      <th>0</th>\n",
       "      <td>W1</td>\n",
       "      <td>A</td>\n",
       "      <td>1957.0</td>\n",
       "      <td>12/31/2007</td>\n",
       "    </tr>\n",
       "    <tr>\n",
       "      <th>1</th>\n",
       "      <td>W1</td>\n",
       "      <td>A</td>\n",
       "      <td>1968.0</td>\n",
       "      <td>12/31/2008</td>\n",
       "    </tr>\n",
       "    <tr>\n",
       "      <th>2</th>\n",
       "      <td>W1</td>\n",
       "      <td>A</td>\n",
       "      <td>1983.0</td>\n",
       "      <td>12/31/2009</td>\n",
       "    </tr>\n",
       "    <tr>\n",
       "      <th>3</th>\n",
       "      <td>W1</td>\n",
       "      <td>A</td>\n",
       "      <td>2001.0</td>\n",
       "      <td>12/31/2010</td>\n",
       "    </tr>\n",
       "    <tr>\n",
       "      <th>5</th>\n",
       "      <td>W1</td>\n",
       "      <td>A</td>\n",
       "      <td>1850.0</td>\n",
       "      <td>12/31/2012</td>\n",
       "    </tr>\n",
       "    <tr>\n",
       "      <th>6</th>\n",
       "      <td>W1</td>\n",
       "      <td>A</td>\n",
       "      <td>2045.0</td>\n",
       "      <td>12/31/2013</td>\n",
       "    </tr>\n",
       "    <tr>\n",
       "      <th>8</th>\n",
       "      <td>W1</td>\n",
       "      <td>A</td>\n",
       "      <td>1784.0</td>\n",
       "      <td>12/31/2015</td>\n",
       "    </tr>\n",
       "    <tr>\n",
       "      <th>9</th>\n",
       "      <td>W1</td>\n",
       "      <td>A</td>\n",
       "      <td>1856.0</td>\n",
       "      <td>12/31/2016</td>\n",
       "    </tr>\n",
       "  </tbody>\n",
       "</table>\n",
       "</div>"
      ],
      "text/plain": [
       "  Store Product   Sales        Year\n",
       "0    W1       A  1957.0  12/31/2007\n",
       "1    W1       A  1968.0  12/31/2008\n",
       "2    W1       A  1983.0  12/31/2009\n",
       "3    W1       A  2001.0  12/31/2010\n",
       "5    W1       A  1850.0  12/31/2012\n",
       "6    W1       A  2045.0  12/31/2013\n",
       "8    W1       A  1784.0  12/31/2015\n",
       "9    W1       A  1856.0  12/31/2016"
      ]
     },
     "execution_count": 47,
     "metadata": {},
     "output_type": "execute_result"
    }
   ],
   "source": [
    "my_subset.dropna(axis = 0)"
   ]
  },
  {
   "cell_type": "markdown",
   "metadata": {},
   "source": [
    "We can also drop missing values by specifying a condition that the records with missing values will fail. For example, the following code block uses the condition `my_subset['Sales']>0` to effectively drop the records with missing sales values (i.e., 2011 and 2014 sales). \n",
    "\n",
    "[Back to Table of Contents](#Table_of_Contents)<br>"
   ]
  },
  {
   "cell_type": "code",
   "execution_count": 48,
   "metadata": {},
   "outputs": [
    {
     "data": {
      "text/html": [
       "<div>\n",
       "<style scoped>\n",
       "    .dataframe tbody tr th:only-of-type {\n",
       "        vertical-align: middle;\n",
       "    }\n",
       "\n",
       "    .dataframe tbody tr th {\n",
       "        vertical-align: top;\n",
       "    }\n",
       "\n",
       "    .dataframe thead th {\n",
       "        text-align: right;\n",
       "    }\n",
       "</style>\n",
       "<table border=\"1\" class=\"dataframe\">\n",
       "  <thead>\n",
       "    <tr style=\"text-align: right;\">\n",
       "      <th></th>\n",
       "      <th>Store</th>\n",
       "      <th>Product</th>\n",
       "      <th>Sales</th>\n",
       "      <th>Year</th>\n",
       "    </tr>\n",
       "  </thead>\n",
       "  <tbody>\n",
       "    <tr>\n",
       "      <th>0</th>\n",
       "      <td>W1</td>\n",
       "      <td>A</td>\n",
       "      <td>1957.0</td>\n",
       "      <td>12/31/2007</td>\n",
       "    </tr>\n",
       "    <tr>\n",
       "      <th>1</th>\n",
       "      <td>W1</td>\n",
       "      <td>A</td>\n",
       "      <td>1968.0</td>\n",
       "      <td>12/31/2008</td>\n",
       "    </tr>\n",
       "    <tr>\n",
       "      <th>2</th>\n",
       "      <td>W1</td>\n",
       "      <td>A</td>\n",
       "      <td>1983.0</td>\n",
       "      <td>12/31/2009</td>\n",
       "    </tr>\n",
       "    <tr>\n",
       "      <th>3</th>\n",
       "      <td>W1</td>\n",
       "      <td>A</td>\n",
       "      <td>2001.0</td>\n",
       "      <td>12/31/2010</td>\n",
       "    </tr>\n",
       "    <tr>\n",
       "      <th>5</th>\n",
       "      <td>W1</td>\n",
       "      <td>A</td>\n",
       "      <td>1850.0</td>\n",
       "      <td>12/31/2012</td>\n",
       "    </tr>\n",
       "    <tr>\n",
       "      <th>6</th>\n",
       "      <td>W1</td>\n",
       "      <td>A</td>\n",
       "      <td>2045.0</td>\n",
       "      <td>12/31/2013</td>\n",
       "    </tr>\n",
       "    <tr>\n",
       "      <th>8</th>\n",
       "      <td>W1</td>\n",
       "      <td>A</td>\n",
       "      <td>1784.0</td>\n",
       "      <td>12/31/2015</td>\n",
       "    </tr>\n",
       "    <tr>\n",
       "      <th>9</th>\n",
       "      <td>W1</td>\n",
       "      <td>A</td>\n",
       "      <td>1856.0</td>\n",
       "      <td>12/31/2016</td>\n",
       "    </tr>\n",
       "  </tbody>\n",
       "</table>\n",
       "</div>"
      ],
      "text/plain": [
       "  Store Product   Sales        Year\n",
       "0    W1       A  1957.0  12/31/2007\n",
       "1    W1       A  1968.0  12/31/2008\n",
       "2    W1       A  1983.0  12/31/2009\n",
       "3    W1       A  2001.0  12/31/2010\n",
       "5    W1       A  1850.0  12/31/2012\n",
       "6    W1       A  2045.0  12/31/2013\n",
       "8    W1       A  1784.0  12/31/2015\n",
       "9    W1       A  1856.0  12/31/2016"
      ]
     },
     "execution_count": 48,
     "metadata": {},
     "output_type": "execute_result"
    }
   ],
   "source": [
    "my_subset[my_subset['Sales']>0]"
   ]
  },
  {
   "cell_type": "markdown",
   "metadata": {
    "tags": [],
    "toc-hr-collapsed": true
   },
   "source": [
    "# Working with Dates and times in Pandas\n",
    "Pandas offers power and convenient featurs to handle dates and times. \n",
    "\n",
    "Properly read \n",
    "Filter by date time\n",
    "Group date time\n",
    "Plot using timeseries data"
   ]
  },
  {
   "cell_type": "code",
   "execution_count": 49,
   "metadata": {},
   "outputs": [],
   "source": [
    "ms_store_file = Path.cwd() / 'files' / 'Microsoft_Store.csv'"
   ]
  },
  {
   "cell_type": "code",
   "execution_count": 50,
   "metadata": {},
   "outputs": [],
   "source": [
    "# Load Microsoft Store rating data\n",
    "import pandas as pd\n",
    "try:\n",
    "    df_ms = pd.read_csv('files/Microsoft_Store.csv')\n",
    "except Exception as e:\n",
    "    print(e)"
   ]
  },
  {
   "cell_type": "code",
   "execution_count": 51,
   "metadata": {},
   "outputs": [
    {
     "data": {
      "text/html": [
       "<div>\n",
       "<style scoped>\n",
       "    .dataframe tbody tr th:only-of-type {\n",
       "        vertical-align: middle;\n",
       "    }\n",
       "\n",
       "    .dataframe tbody tr th {\n",
       "        vertical-align: top;\n",
       "    }\n",
       "\n",
       "    .dataframe thead th {\n",
       "        text-align: right;\n",
       "    }\n",
       "</style>\n",
       "<table border=\"1\" class=\"dataframe\">\n",
       "  <thead>\n",
       "    <tr style=\"text-align: right;\">\n",
       "      <th></th>\n",
       "      <th>Name</th>\n",
       "      <th>Rating</th>\n",
       "      <th>No of people Rated</th>\n",
       "      <th>Category</th>\n",
       "      <th>Date</th>\n",
       "      <th>Price</th>\n",
       "    </tr>\n",
       "  </thead>\n",
       "  <tbody>\n",
       "    <tr>\n",
       "      <th>0</th>\n",
       "      <td>Dynamic Reader</td>\n",
       "      <td>3.5</td>\n",
       "      <td>268</td>\n",
       "      <td>Books</td>\n",
       "      <td>07-01-2014</td>\n",
       "      <td>Free</td>\n",
       "    </tr>\n",
       "    <tr>\n",
       "      <th>1</th>\n",
       "      <td>Chemistry, Organic Chemistry and Biochemistry-...</td>\n",
       "      <td>3.0</td>\n",
       "      <td>627</td>\n",
       "      <td>Books</td>\n",
       "      <td>08-01-2014</td>\n",
       "      <td>Free</td>\n",
       "    </tr>\n",
       "    <tr>\n",
       "      <th>2</th>\n",
       "      <td>BookViewer</td>\n",
       "      <td>3.5</td>\n",
       "      <td>593</td>\n",
       "      <td>Books</td>\n",
       "      <td>29-02-2016</td>\n",
       "      <td>free</td>\n",
       "    </tr>\n",
       "    <tr>\n",
       "      <th>3</th>\n",
       "      <td>Brick Instructions</td>\n",
       "      <td>3.5</td>\n",
       "      <td>684</td>\n",
       "      <td>Books</td>\n",
       "      <td>30-01-2018</td>\n",
       "      <td>free</td>\n",
       "    </tr>\n",
       "    <tr>\n",
       "      <th>4</th>\n",
       "      <td>Introduction to Python Programming by GoLearni...</td>\n",
       "      <td>2.0</td>\n",
       "      <td>634</td>\n",
       "      <td>Books</td>\n",
       "      <td>30-01-2018</td>\n",
       "      <td>Free</td>\n",
       "    </tr>\n",
       "    <tr>\n",
       "      <th>5</th>\n",
       "      <td>Gurbani Reader</td>\n",
       "      <td>4.5</td>\n",
       "      <td>399</td>\n",
       "      <td>Books</td>\n",
       "      <td>18-01-2017</td>\n",
       "      <td>Free</td>\n",
       "    </tr>\n",
       "    <tr>\n",
       "      <th>6</th>\n",
       "      <td>NFO Viewer</td>\n",
       "      <td>4.5</td>\n",
       "      <td>566</td>\n",
       "      <td>Books</td>\n",
       "      <td>13-11-2012</td>\n",
       "      <td>Free</td>\n",
       "    </tr>\n",
       "    <tr>\n",
       "      <th>7</th>\n",
       "      <td>Text to Speech TTS</td>\n",
       "      <td>3.0</td>\n",
       "      <td>175</td>\n",
       "      <td>Books</td>\n",
       "      <td>17-10-2013</td>\n",
       "      <td>Free</td>\n",
       "    </tr>\n",
       "    <tr>\n",
       "      <th>8</th>\n",
       "      <td>ACK Comics</td>\n",
       "      <td>4.0</td>\n",
       "      <td>460</td>\n",
       "      <td>Books</td>\n",
       "      <td>20-12-2012</td>\n",
       "      <td>Free</td>\n",
       "    </tr>\n",
       "    <tr>\n",
       "      <th>9</th>\n",
       "      <td>Learn Biology and Human Body Anatomy by GoLear...</td>\n",
       "      <td>3.5</td>\n",
       "      <td>363</td>\n",
       "      <td>Books</td>\n",
       "      <td>25-11-2013</td>\n",
       "      <td>Free</td>\n",
       "    </tr>\n",
       "  </tbody>\n",
       "</table>\n",
       "</div>"
      ],
      "text/plain": [
       "                                                Name  Rating  \\\n",
       "0                                     Dynamic Reader     3.5   \n",
       "1  Chemistry, Organic Chemistry and Biochemistry-...     3.0   \n",
       "2                                         BookViewer     3.5   \n",
       "3                                 Brick Instructions     3.5   \n",
       "4  Introduction to Python Programming by GoLearni...     2.0   \n",
       "5                                     Gurbani Reader     4.5   \n",
       "6                                         NFO Viewer     4.5   \n",
       "7                                 Text to Speech TTS     3.0   \n",
       "8                                         ACK Comics     4.0   \n",
       "9  Learn Biology and Human Body Anatomy by GoLear...     3.5   \n",
       "\n",
       "   No of people Rated Category        Date Price  \n",
       "0                 268    Books  07-01-2014  Free  \n",
       "1                 627    Books  08-01-2014  Free  \n",
       "2                 593    Books  29-02-2016  free  \n",
       "3                 684    Books  30-01-2018  free  \n",
       "4                 634    Books  30-01-2018  Free  \n",
       "5                 399    Books  18-01-2017  Free  \n",
       "6                 566    Books  13-11-2012  Free  \n",
       "7                 175    Books  17-10-2013  Free  \n",
       "8                 460    Books  20-12-2012  Free  \n",
       "9                 363    Books  25-11-2013  Free  "
      ]
     },
     "execution_count": 51,
     "metadata": {},
     "output_type": "execute_result"
    }
   ],
   "source": [
    "# View first 5 rows\n",
    "df_ms.head(10)"
   ]
  },
  {
   "cell_type": "code",
   "execution_count": 52,
   "metadata": {},
   "outputs": [
    {
     "data": {
      "text/plain": [
       "Name                   object\n",
       "Rating                float64\n",
       "No of people Rated      int64\n",
       "Category               object\n",
       "Date                   object\n",
       "Price                  object\n",
       "dtype: object"
      ]
     },
     "execution_count": 52,
     "metadata": {},
     "output_type": "execute_result"
    }
   ],
   "source": [
    "df_ms.dtypes"
   ]
  },
  {
   "cell_type": "code",
   "execution_count": 53,
   "metadata": {},
   "outputs": [
    {
     "data": {
      "text/html": [
       "<div>\n",
       "<style scoped>\n",
       "    .dataframe tbody tr th:only-of-type {\n",
       "        vertical-align: middle;\n",
       "    }\n",
       "\n",
       "    .dataframe tbody tr th {\n",
       "        vertical-align: top;\n",
       "    }\n",
       "\n",
       "    .dataframe thead th {\n",
       "        text-align: right;\n",
       "    }\n",
       "</style>\n",
       "<table border=\"1\" class=\"dataframe\">\n",
       "  <thead>\n",
       "    <tr style=\"text-align: right;\">\n",
       "      <th></th>\n",
       "      <th>Name</th>\n",
       "      <th>Category</th>\n",
       "    </tr>\n",
       "  </thead>\n",
       "  <tbody>\n",
       "    <tr>\n",
       "      <th>0</th>\n",
       "      <td>Dynamic Reader</td>\n",
       "      <td>Books</td>\n",
       "    </tr>\n",
       "    <tr>\n",
       "      <th>1</th>\n",
       "      <td>Chemistry, Organic Chemistry and Biochemistry-...</td>\n",
       "      <td>Books</td>\n",
       "    </tr>\n",
       "    <tr>\n",
       "      <th>2</th>\n",
       "      <td>BookViewer</td>\n",
       "      <td>Books</td>\n",
       "    </tr>\n",
       "    <tr>\n",
       "      <th>3</th>\n",
       "      <td>Brick Instructions</td>\n",
       "      <td>Books</td>\n",
       "    </tr>\n",
       "    <tr>\n",
       "      <th>4</th>\n",
       "      <td>Introduction to Python Programming by GoLearni...</td>\n",
       "      <td>Books</td>\n",
       "    </tr>\n",
       "    <tr>\n",
       "      <th>...</th>\n",
       "      <td>...</td>\n",
       "      <td>...</td>\n",
       "    </tr>\n",
       "    <tr>\n",
       "      <th>5317</th>\n",
       "      <td>JS King</td>\n",
       "      <td>Developer Tools</td>\n",
       "    </tr>\n",
       "    <tr>\n",
       "      <th>5318</th>\n",
       "      <td>MQTTSniffer</td>\n",
       "      <td>Developer Tools</td>\n",
       "    </tr>\n",
       "    <tr>\n",
       "      <th>5319</th>\n",
       "      <td>Dev Utils - JSON, CSV and XML</td>\n",
       "      <td>Developer Tools</td>\n",
       "    </tr>\n",
       "    <tr>\n",
       "      <th>5320</th>\n",
       "      <td>Simply Text</td>\n",
       "      <td>Developer Tools</td>\n",
       "    </tr>\n",
       "    <tr>\n",
       "      <th>5321</th>\n",
       "      <td>NaN</td>\n",
       "      <td>NaN</td>\n",
       "    </tr>\n",
       "  </tbody>\n",
       "</table>\n",
       "<p>5322 rows × 2 columns</p>\n",
       "</div>"
      ],
      "text/plain": [
       "                                                   Name         Category\n",
       "0                                        Dynamic Reader            Books\n",
       "1     Chemistry, Organic Chemistry and Biochemistry-...            Books\n",
       "2                                            BookViewer            Books\n",
       "3                                    Brick Instructions            Books\n",
       "4     Introduction to Python Programming by GoLearni...            Books\n",
       "...                                                 ...              ...\n",
       "5317                                            JS King  Developer Tools\n",
       "5318                                        MQTTSniffer  Developer Tools\n",
       "5319                      Dev Utils - JSON, CSV and XML  Developer Tools\n",
       "5320                                        Simply Text  Developer Tools\n",
       "5321                                                NaN              NaN\n",
       "\n",
       "[5322 rows x 2 columns]"
      ]
     },
     "execution_count": 53,
     "metadata": {},
     "output_type": "execute_result"
    }
   ],
   "source": [
    "df_ms[['Name','Category']]"
   ]
  },
  {
   "cell_type": "code",
   "execution_count": 54,
   "metadata": {},
   "outputs": [
    {
     "data": {
      "text/html": [
       "<div>\n",
       "<style scoped>\n",
       "    .dataframe tbody tr th:only-of-type {\n",
       "        vertical-align: middle;\n",
       "    }\n",
       "\n",
       "    .dataframe tbody tr th {\n",
       "        vertical-align: top;\n",
       "    }\n",
       "\n",
       "    .dataframe thead th {\n",
       "        text-align: right;\n",
       "    }\n",
       "</style>\n",
       "<table border=\"1\" class=\"dataframe\">\n",
       "  <thead>\n",
       "    <tr style=\"text-align: right;\">\n",
       "      <th></th>\n",
       "      <th>Name</th>\n",
       "      <th>Rating</th>\n",
       "      <th>No of people Rated</th>\n",
       "      <th>Category</th>\n",
       "      <th>Date</th>\n",
       "      <th>Price</th>\n",
       "    </tr>\n",
       "  </thead>\n",
       "  <tbody>\n",
       "    <tr>\n",
       "      <th>0</th>\n",
       "      <td>Dynamic Reader</td>\n",
       "      <td>3.5</td>\n",
       "      <td>268</td>\n",
       "      <td>Books</td>\n",
       "      <td>07-01-2014</td>\n",
       "      <td>Free</td>\n",
       "    </tr>\n",
       "    <tr>\n",
       "      <th>1</th>\n",
       "      <td>Chemistry, Organic Chemistry and Biochemistry-...</td>\n",
       "      <td>3.0</td>\n",
       "      <td>627</td>\n",
       "      <td>Books</td>\n",
       "      <td>08-01-2014</td>\n",
       "      <td>Free</td>\n",
       "    </tr>\n",
       "    <tr>\n",
       "      <th>2</th>\n",
       "      <td>BookViewer</td>\n",
       "      <td>3.5</td>\n",
       "      <td>593</td>\n",
       "      <td>Books</td>\n",
       "      <td>29-02-2016</td>\n",
       "      <td>free</td>\n",
       "    </tr>\n",
       "    <tr>\n",
       "      <th>3</th>\n",
       "      <td>Brick Instructions</td>\n",
       "      <td>3.5</td>\n",
       "      <td>684</td>\n",
       "      <td>Books</td>\n",
       "      <td>30-01-2018</td>\n",
       "      <td>free</td>\n",
       "    </tr>\n",
       "    <tr>\n",
       "      <th>4</th>\n",
       "      <td>Introduction to Python Programming by GoLearni...</td>\n",
       "      <td>2.0</td>\n",
       "      <td>634</td>\n",
       "      <td>Books</td>\n",
       "      <td>30-01-2018</td>\n",
       "      <td>Free</td>\n",
       "    </tr>\n",
       "  </tbody>\n",
       "</table>\n",
       "</div>"
      ],
      "text/plain": [
       "                                                Name  Rating  \\\n",
       "0                                     Dynamic Reader     3.5   \n",
       "1  Chemistry, Organic Chemistry and Biochemistry-...     3.0   \n",
       "2                                         BookViewer     3.5   \n",
       "3                                 Brick Instructions     3.5   \n",
       "4  Introduction to Python Programming by GoLearni...     2.0   \n",
       "\n",
       "   No of people Rated Category        Date Price  \n",
       "0                 268    Books  07-01-2014  Free  \n",
       "1                 627    Books  08-01-2014  Free  \n",
       "2                 593    Books  29-02-2016  free  \n",
       "3                 684    Books  30-01-2018  free  \n",
       "4                 634    Books  30-01-2018  Free  "
      ]
     },
     "execution_count": 54,
     "metadata": {},
     "output_type": "execute_result"
    }
   ],
   "source": [
    "df_ms.head(5)"
   ]
  },
  {
   "cell_type": "code",
   "execution_count": 55,
   "metadata": {},
   "outputs": [
    {
     "data": {
      "text/html": [
       "<div>\n",
       "<style scoped>\n",
       "    .dataframe tbody tr th:only-of-type {\n",
       "        vertical-align: middle;\n",
       "    }\n",
       "\n",
       "    .dataframe tbody tr th {\n",
       "        vertical-align: top;\n",
       "    }\n",
       "\n",
       "    .dataframe thead th {\n",
       "        text-align: right;\n",
       "    }\n",
       "</style>\n",
       "<table border=\"1\" class=\"dataframe\">\n",
       "  <thead>\n",
       "    <tr style=\"text-align: right;\">\n",
       "      <th></th>\n",
       "      <th>Date</th>\n",
       "      <th>Name</th>\n",
       "      <th>Price</th>\n",
       "    </tr>\n",
       "  </thead>\n",
       "  <tbody>\n",
       "    <tr>\n",
       "      <th>5</th>\n",
       "      <td>18-01-2017</td>\n",
       "      <td>Gurbani Reader</td>\n",
       "      <td>Free</td>\n",
       "    </tr>\n",
       "    <tr>\n",
       "      <th>6</th>\n",
       "      <td>13-11-2012</td>\n",
       "      <td>NFO Viewer</td>\n",
       "      <td>Free</td>\n",
       "    </tr>\n",
       "    <tr>\n",
       "      <th>7</th>\n",
       "      <td>17-10-2013</td>\n",
       "      <td>Text to Speech TTS</td>\n",
       "      <td>Free</td>\n",
       "    </tr>\n",
       "    <tr>\n",
       "      <th>8</th>\n",
       "      <td>20-12-2012</td>\n",
       "      <td>ACK Comics</td>\n",
       "      <td>Free</td>\n",
       "    </tr>\n",
       "    <tr>\n",
       "      <th>9</th>\n",
       "      <td>25-11-2013</td>\n",
       "      <td>Learn Biology and Human Body Anatomy by GoLear...</td>\n",
       "      <td>Free</td>\n",
       "    </tr>\n",
       "    <tr>\n",
       "      <th>10</th>\n",
       "      <td>30-01-2018</td>\n",
       "      <td>Coding Made Easy - SQL</td>\n",
       "      <td>Free</td>\n",
       "    </tr>\n",
       "  </tbody>\n",
       "</table>\n",
       "</div>"
      ],
      "text/plain": [
       "          Date                                               Name Price\n",
       "5   18-01-2017                                     Gurbani Reader  Free\n",
       "6   13-11-2012                                         NFO Viewer  Free\n",
       "7   17-10-2013                                 Text to Speech TTS  Free\n",
       "8   20-12-2012                                         ACK Comics  Free\n",
       "9   25-11-2013  Learn Biology and Human Body Anatomy by GoLear...  Free\n",
       "10  30-01-2018                             Coding Made Easy - SQL  Free"
      ]
     },
     "execution_count": 55,
     "metadata": {},
     "output_type": "execute_result"
    }
   ],
   "source": [
    "df_ms.loc[5:10, ['Date', 'Name', 'Price']]"
   ]
  },
  {
   "cell_type": "code",
   "execution_count": 56,
   "metadata": {},
   "outputs": [
    {
     "ename": "ValueError",
     "evalue": "Cannot mask with non-boolean array containing NA / NaN values",
     "output_type": "error",
     "traceback": [
      "\u001b[0;31m---------------------------------------------------------------------------\u001b[0m",
      "\u001b[0;31mValueError\u001b[0m                                Traceback (most recent call last)",
      "\u001b[0;32m<ipython-input-56-de67b5df9ee6>\u001b[0m in \u001b[0;36m<module>\u001b[0;34m\u001b[0m\n\u001b[1;32m      1\u001b[0m \u001b[0;31m# Error: Name contains NA/NaN values\u001b[0m\u001b[0;34m\u001b[0m\u001b[0;34m\u001b[0m\u001b[0;34m\u001b[0m\u001b[0m\n\u001b[0;32m----> 2\u001b[0;31m \u001b[0mpython_books\u001b[0m \u001b[0;34m=\u001b[0m \u001b[0mdf_ms\u001b[0m\u001b[0;34m.\u001b[0m\u001b[0mloc\u001b[0m\u001b[0;34m[\u001b[0m\u001b[0mdf_ms\u001b[0m\u001b[0;34m[\u001b[0m\u001b[0;34m'Name'\u001b[0m\u001b[0;34m]\u001b[0m\u001b[0;34m.\u001b[0m\u001b[0mstr\u001b[0m\u001b[0;34m.\u001b[0m\u001b[0mcontains\u001b[0m\u001b[0;34m(\u001b[0m\u001b[0;34m\"Python\"\u001b[0m\u001b[0;34m,\u001b[0m \u001b[0mcase\u001b[0m\u001b[0;34m=\u001b[0m\u001b[0;32mFalse\u001b[0m\u001b[0;34m)\u001b[0m\u001b[0;34m]\u001b[0m\u001b[0;34m\u001b[0m\u001b[0;34m\u001b[0m\u001b[0m\n\u001b[0m",
      "\u001b[0;32m~/anaconda3/envs/primary/lib/python3.9/site-packages/pandas/core/indexing.py\u001b[0m in \u001b[0;36m__getitem__\u001b[0;34m(self, key)\u001b[0m\n\u001b[1;32m    929\u001b[0m \u001b[0;34m\u001b[0m\u001b[0m\n\u001b[1;32m    930\u001b[0m             \u001b[0mmaybe_callable\u001b[0m \u001b[0;34m=\u001b[0m \u001b[0mcom\u001b[0m\u001b[0;34m.\u001b[0m\u001b[0mapply_if_callable\u001b[0m\u001b[0;34m(\u001b[0m\u001b[0mkey\u001b[0m\u001b[0;34m,\u001b[0m \u001b[0mself\u001b[0m\u001b[0;34m.\u001b[0m\u001b[0mobj\u001b[0m\u001b[0;34m)\u001b[0m\u001b[0;34m\u001b[0m\u001b[0;34m\u001b[0m\u001b[0m\n\u001b[0;32m--> 931\u001b[0;31m             \u001b[0;32mreturn\u001b[0m \u001b[0mself\u001b[0m\u001b[0;34m.\u001b[0m\u001b[0m_getitem_axis\u001b[0m\u001b[0;34m(\u001b[0m\u001b[0mmaybe_callable\u001b[0m\u001b[0;34m,\u001b[0m \u001b[0maxis\u001b[0m\u001b[0;34m=\u001b[0m\u001b[0maxis\u001b[0m\u001b[0;34m)\u001b[0m\u001b[0;34m\u001b[0m\u001b[0;34m\u001b[0m\u001b[0m\n\u001b[0m\u001b[1;32m    932\u001b[0m \u001b[0;34m\u001b[0m\u001b[0m\n\u001b[1;32m    933\u001b[0m     \u001b[0;32mdef\u001b[0m \u001b[0m_is_scalar_access\u001b[0m\u001b[0;34m(\u001b[0m\u001b[0mself\u001b[0m\u001b[0;34m,\u001b[0m \u001b[0mkey\u001b[0m\u001b[0;34m:\u001b[0m \u001b[0mtuple\u001b[0m\u001b[0;34m)\u001b[0m\u001b[0;34m:\u001b[0m\u001b[0;34m\u001b[0m\u001b[0;34m\u001b[0m\u001b[0m\n",
      "\u001b[0;32m~/anaconda3/envs/primary/lib/python3.9/site-packages/pandas/core/indexing.py\u001b[0m in \u001b[0;36m_getitem_axis\u001b[0;34m(self, key, axis)\u001b[0m\n\u001b[1;32m   1141\u001b[0m             \u001b[0mself\u001b[0m\u001b[0;34m.\u001b[0m\u001b[0m_validate_key\u001b[0m\u001b[0;34m(\u001b[0m\u001b[0mkey\u001b[0m\u001b[0;34m,\u001b[0m \u001b[0maxis\u001b[0m\u001b[0;34m)\u001b[0m\u001b[0;34m\u001b[0m\u001b[0;34m\u001b[0m\u001b[0m\n\u001b[1;32m   1142\u001b[0m             \u001b[0;32mreturn\u001b[0m \u001b[0mself\u001b[0m\u001b[0;34m.\u001b[0m\u001b[0m_get_slice_axis\u001b[0m\u001b[0;34m(\u001b[0m\u001b[0mkey\u001b[0m\u001b[0;34m,\u001b[0m \u001b[0maxis\u001b[0m\u001b[0;34m=\u001b[0m\u001b[0maxis\u001b[0m\u001b[0;34m)\u001b[0m\u001b[0;34m\u001b[0m\u001b[0;34m\u001b[0m\u001b[0m\n\u001b[0;32m-> 1143\u001b[0;31m         \u001b[0;32melif\u001b[0m \u001b[0mcom\u001b[0m\u001b[0;34m.\u001b[0m\u001b[0mis_bool_indexer\u001b[0m\u001b[0;34m(\u001b[0m\u001b[0mkey\u001b[0m\u001b[0;34m)\u001b[0m\u001b[0;34m:\u001b[0m\u001b[0;34m\u001b[0m\u001b[0;34m\u001b[0m\u001b[0m\n\u001b[0m\u001b[1;32m   1144\u001b[0m             \u001b[0;32mreturn\u001b[0m \u001b[0mself\u001b[0m\u001b[0;34m.\u001b[0m\u001b[0m_getbool_axis\u001b[0m\u001b[0;34m(\u001b[0m\u001b[0mkey\u001b[0m\u001b[0;34m,\u001b[0m \u001b[0maxis\u001b[0m\u001b[0;34m=\u001b[0m\u001b[0maxis\u001b[0m\u001b[0;34m)\u001b[0m\u001b[0;34m\u001b[0m\u001b[0;34m\u001b[0m\u001b[0m\n\u001b[1;32m   1145\u001b[0m         \u001b[0;32melif\u001b[0m \u001b[0mis_list_like_indexer\u001b[0m\u001b[0;34m(\u001b[0m\u001b[0mkey\u001b[0m\u001b[0;34m)\u001b[0m\u001b[0;34m:\u001b[0m\u001b[0;34m\u001b[0m\u001b[0;34m\u001b[0m\u001b[0m\n",
      "\u001b[0;32m~/anaconda3/envs/primary/lib/python3.9/site-packages/pandas/core/common.py\u001b[0m in \u001b[0;36mis_bool_indexer\u001b[0;34m(key)\u001b[0m\n\u001b[1;32m    137\u001b[0m                     \u001b[0;31m# Don't raise on e.g. [\"A\", \"B\", np.nan], see\u001b[0m\u001b[0;34m\u001b[0m\u001b[0;34m\u001b[0m\u001b[0;34m\u001b[0m\u001b[0m\n\u001b[1;32m    138\u001b[0m                     \u001b[0;31m#  test_loc_getitem_list_of_labels_categoricalindex_with_na\u001b[0m\u001b[0;34m\u001b[0m\u001b[0;34m\u001b[0m\u001b[0;34m\u001b[0m\u001b[0m\n\u001b[0;32m--> 139\u001b[0;31m                     \u001b[0;32mraise\u001b[0m \u001b[0mValueError\u001b[0m\u001b[0;34m(\u001b[0m\u001b[0mna_msg\u001b[0m\u001b[0;34m)\u001b[0m\u001b[0;34m\u001b[0m\u001b[0;34m\u001b[0m\u001b[0m\n\u001b[0m\u001b[1;32m    140\u001b[0m                 \u001b[0;32mreturn\u001b[0m \u001b[0;32mFalse\u001b[0m\u001b[0;34m\u001b[0m\u001b[0;34m\u001b[0m\u001b[0m\n\u001b[1;32m    141\u001b[0m             \u001b[0;32mreturn\u001b[0m \u001b[0;32mTrue\u001b[0m\u001b[0;34m\u001b[0m\u001b[0;34m\u001b[0m\u001b[0m\n",
      "\u001b[0;31mValueError\u001b[0m: Cannot mask with non-boolean array containing NA / NaN values"
     ]
    }
   ],
   "source": [
    "# Error: Name contains NA/NaN values\n",
    "python_books = df_ms.loc[df_ms['Name'].str.contains(\"Python\", case=False)]"
   ]
  },
  {
   "cell_type": "code",
   "execution_count": 57,
   "metadata": {},
   "outputs": [
    {
     "data": {
      "text/html": [
       "<div>\n",
       "<style scoped>\n",
       "    .dataframe tbody tr th:only-of-type {\n",
       "        vertical-align: middle;\n",
       "    }\n",
       "\n",
       "    .dataframe tbody tr th {\n",
       "        vertical-align: top;\n",
       "    }\n",
       "\n",
       "    .dataframe thead th {\n",
       "        text-align: right;\n",
       "    }\n",
       "</style>\n",
       "<table border=\"1\" class=\"dataframe\">\n",
       "  <thead>\n",
       "    <tr style=\"text-align: right;\">\n",
       "      <th></th>\n",
       "      <th>Name</th>\n",
       "      <th>Rating</th>\n",
       "      <th>No of people Rated</th>\n",
       "      <th>Category</th>\n",
       "      <th>Date</th>\n",
       "      <th>Price</th>\n",
       "    </tr>\n",
       "  </thead>\n",
       "  <tbody>\n",
       "    <tr>\n",
       "      <th>4</th>\n",
       "      <td>Introduction to Python Programming by GoLearni...</td>\n",
       "      <td>2.0</td>\n",
       "      <td>634</td>\n",
       "      <td>Books</td>\n",
       "      <td>30-01-2018</td>\n",
       "      <td>Free</td>\n",
       "    </tr>\n",
       "    <tr>\n",
       "      <th>358</th>\n",
       "      <td>Learn Django and Python by GoLearningBus</td>\n",
       "      <td>3.0</td>\n",
       "      <td>711</td>\n",
       "      <td>Books</td>\n",
       "      <td>12-06-2014</td>\n",
       "      <td>Free</td>\n",
       "    </tr>\n",
       "    <tr>\n",
       "      <th>1278</th>\n",
       "      <td>Python 3.8</td>\n",
       "      <td>3.5</td>\n",
       "      <td>697</td>\n",
       "      <td>Developer Tools</td>\n",
       "      <td>18-12-2018</td>\n",
       "      <td>Free</td>\n",
       "    </tr>\n",
       "    <tr>\n",
       "      <th>1283</th>\n",
       "      <td>Python 3.7</td>\n",
       "      <td>3.5</td>\n",
       "      <td>804</td>\n",
       "      <td>Developer Tools</td>\n",
       "      <td>12-12-2018</td>\n",
       "      <td>Free</td>\n",
       "    </tr>\n",
       "    <tr>\n",
       "      <th>1295</th>\n",
       "      <td>Python 3.9 (Beta)</td>\n",
       "      <td>5.0</td>\n",
       "      <td>100</td>\n",
       "      <td>Developer Tools</td>\n",
       "      <td>19-11-2019</td>\n",
       "      <td>Free</td>\n",
       "    </tr>\n",
       "    <tr>\n",
       "      <th>1404</th>\n",
       "      <td>InstantPython</td>\n",
       "      <td>5.0</td>\n",
       "      <td>414</td>\n",
       "      <td>Developer Tools</td>\n",
       "      <td>20-04-2020</td>\n",
       "      <td>Free</td>\n",
       "    </tr>\n",
       "    <tr>\n",
       "      <th>5290</th>\n",
       "      <td>Python Playground</td>\n",
       "      <td>3.0</td>\n",
       "      <td>457</td>\n",
       "      <td>Developer Tools</td>\n",
       "      <td>23-08-2018</td>\n",
       "      <td>₹ 54.00</td>\n",
       "    </tr>\n",
       "  </tbody>\n",
       "</table>\n",
       "</div>"
      ],
      "text/plain": [
       "                                                   Name  Rating  \\\n",
       "4     Introduction to Python Programming by GoLearni...     2.0   \n",
       "358            Learn Django and Python by GoLearningBus     3.0   \n",
       "1278                                         Python 3.8     3.5   \n",
       "1283                                         Python 3.7     3.5   \n",
       "1295                                  Python 3.9 (Beta)     5.0   \n",
       "1404                                      InstantPython     5.0   \n",
       "5290                                  Python Playground     3.0   \n",
       "\n",
       "      No of people Rated         Category        Date    Price  \n",
       "4                    634            Books  30-01-2018     Free  \n",
       "358                  711            Books  12-06-2014     Free  \n",
       "1278                 697  Developer Tools  18-12-2018     Free  \n",
       "1283                 804  Developer Tools  12-12-2018     Free  \n",
       "1295                 100  Developer Tools  19-11-2019     Free  \n",
       "1404                 414  Developer Tools  20-04-2020     Free  \n",
       "5290                 457  Developer Tools  23-08-2018  ₹ 54.00  "
      ]
     },
     "execution_count": 57,
     "metadata": {},
     "output_type": "execute_result"
    }
   ],
   "source": [
    "# Ignore NA values by setting na = False\n",
    "python_books = df_ms.loc[df_ms['Name'].str.contains(\"Python\", case=False, na=False)]\n",
    "python_books"
   ]
  },
  {
   "cell_type": "markdown",
   "metadata": {},
   "source": [
    "## Replacing Data\n",
    "Often when using a data set you will need to make values consistent. For example, in the ms_df DataFrame, one of the categoris is Deveoper Tools. In all other data sets within your organization a different term is used for that category. Instead of \"Developer Tools\", your organization has standardized on \"DevTools\". Consequently, you'll want to change every occurrence of \"Developer Tools\" to \"DevTools\". This is easily accomplished in Pandas."
   ]
  },
  {
   "cell_type": "code",
   "execution_count": 58,
   "metadata": {},
   "outputs": [],
   "source": [
    "df_ms[\"Category\"].replace(\"Developer Tools\",\"DevTools\", inplace=True)"
   ]
  },
  {
   "cell_type": "code",
   "execution_count": 59,
   "metadata": {},
   "outputs": [
    {
     "data": {
      "text/html": [
       "<div>\n",
       "<style scoped>\n",
       "    .dataframe tbody tr th:only-of-type {\n",
       "        vertical-align: middle;\n",
       "    }\n",
       "\n",
       "    .dataframe tbody tr th {\n",
       "        vertical-align: top;\n",
       "    }\n",
       "\n",
       "    .dataframe thead th {\n",
       "        text-align: right;\n",
       "    }\n",
       "</style>\n",
       "<table border=\"1\" class=\"dataframe\">\n",
       "  <thead>\n",
       "    <tr style=\"text-align: right;\">\n",
       "      <th></th>\n",
       "      <th>Name</th>\n",
       "      <th>Rating</th>\n",
       "      <th>No of people Rated</th>\n",
       "      <th>Category</th>\n",
       "      <th>Date</th>\n",
       "      <th>Price</th>\n",
       "    </tr>\n",
       "  </thead>\n",
       "  <tbody>\n",
       "    <tr>\n",
       "      <th>4</th>\n",
       "      <td>Introduction to Python Programming by GoLearni...</td>\n",
       "      <td>2.0</td>\n",
       "      <td>634</td>\n",
       "      <td>Books</td>\n",
       "      <td>30-01-2018</td>\n",
       "      <td>Free</td>\n",
       "    </tr>\n",
       "    <tr>\n",
       "      <th>358</th>\n",
       "      <td>Learn Django and Python by GoLearningBus</td>\n",
       "      <td>3.0</td>\n",
       "      <td>711</td>\n",
       "      <td>Books</td>\n",
       "      <td>12-06-2014</td>\n",
       "      <td>Free</td>\n",
       "    </tr>\n",
       "    <tr>\n",
       "      <th>1278</th>\n",
       "      <td>Python 3.8</td>\n",
       "      <td>3.5</td>\n",
       "      <td>697</td>\n",
       "      <td>DevTools</td>\n",
       "      <td>18-12-2018</td>\n",
       "      <td>Free</td>\n",
       "    </tr>\n",
       "    <tr>\n",
       "      <th>1283</th>\n",
       "      <td>Python 3.7</td>\n",
       "      <td>3.5</td>\n",
       "      <td>804</td>\n",
       "      <td>DevTools</td>\n",
       "      <td>12-12-2018</td>\n",
       "      <td>Free</td>\n",
       "    </tr>\n",
       "    <tr>\n",
       "      <th>1295</th>\n",
       "      <td>Python 3.9 (Beta)</td>\n",
       "      <td>5.0</td>\n",
       "      <td>100</td>\n",
       "      <td>DevTools</td>\n",
       "      <td>19-11-2019</td>\n",
       "      <td>Free</td>\n",
       "    </tr>\n",
       "    <tr>\n",
       "      <th>1404</th>\n",
       "      <td>InstantPython</td>\n",
       "      <td>5.0</td>\n",
       "      <td>414</td>\n",
       "      <td>DevTools</td>\n",
       "      <td>20-04-2020</td>\n",
       "      <td>Free</td>\n",
       "    </tr>\n",
       "    <tr>\n",
       "      <th>5290</th>\n",
       "      <td>Python Playground</td>\n",
       "      <td>3.0</td>\n",
       "      <td>457</td>\n",
       "      <td>DevTools</td>\n",
       "      <td>23-08-2018</td>\n",
       "      <td>₹ 54.00</td>\n",
       "    </tr>\n",
       "  </tbody>\n",
       "</table>\n",
       "</div>"
      ],
      "text/plain": [
       "                                                   Name  Rating  \\\n",
       "4     Introduction to Python Programming by GoLearni...     2.0   \n",
       "358            Learn Django and Python by GoLearningBus     3.0   \n",
       "1278                                         Python 3.8     3.5   \n",
       "1283                                         Python 3.7     3.5   \n",
       "1295                                  Python 3.9 (Beta)     5.0   \n",
       "1404                                      InstantPython     5.0   \n",
       "5290                                  Python Playground     3.0   \n",
       "\n",
       "      No of people Rated  Category        Date    Price  \n",
       "4                    634     Books  30-01-2018     Free  \n",
       "358                  711     Books  12-06-2014     Free  \n",
       "1278                 697  DevTools  18-12-2018     Free  \n",
       "1283                 804  DevTools  12-12-2018     Free  \n",
       "1295                 100  DevTools  19-11-2019     Free  \n",
       "1404                 414  DevTools  20-04-2020     Free  \n",
       "5290                 457  DevTools  23-08-2018  ₹ 54.00  "
      ]
     },
     "execution_count": 59,
     "metadata": {},
     "output_type": "execute_result"
    }
   ],
   "source": [
    "# Examine the Python books (which are in the modified category)\n",
    "df_ms.loc[df_ms['Name'].str.contains(\"Python\", case=False, na=False)]"
   ]
  },
  {
   "cell_type": "markdown",
   "metadata": {
    "toc-hr-collapsed": true
   },
   "source": [
    "# Changing Data Types\n",
    "Call pandas.DataFrame.astype(dtype) with dtype as a dictionary containing mappings of column names to values to change the type of each column in pandas.DataFrame.\n"
   ]
  },
  {
   "cell_type": "code",
   "execution_count": 61,
   "metadata": {},
   "outputs": [
    {
     "name": "stdout",
     "output_type": "stream",
     "text": [
      "29-02-2016\n",
      "'str' object has no attribute 'day_name'\n"
     ]
    }
   ],
   "source": [
    "# Get date and day name of BookViewer entry\n",
    "# ERROR: This fails because .day_name is not a method for a string. \n",
    "try:\n",
    "    print(df_ms.loc[2, 'Date'])\n",
    "    print(df_ms.loc[2, 'Date'].day_name())\n",
    "except Exception as e:\n",
    "    print(e)"
   ]
  },
  {
   "cell_type": "code",
   "execution_count": 74,
   "metadata": {},
   "outputs": [
    {
     "data": {
      "text/plain": [
       "<bound method Series.unique of 0           Free\n",
       "1           Free\n",
       "2           free\n",
       "3           free\n",
       "4           Free\n",
       "          ...   \n",
       "5317    ₹ 269.00\n",
       "5318     ₹ 64.00\n",
       "5319    ₹ 269.00\n",
       "5320    ₹ 219.00\n",
       "5321         NaN\n",
       "Name: Price, Length: 5322, dtype: object>"
      ]
     },
     "execution_count": 74,
     "metadata": {},
     "output_type": "execute_result"
    }
   ],
   "source": [
    "df_ms['Price'].unique"
   ]
  },
  {
   "cell_type": "markdown",
   "metadata": {},
   "source": [
    "## Converting columns to other data types\n",
    "If the date/time column is in a standard format the Pandas understand, it will convert it automatically. If not, you must provide the string format for Pandas to properly interpret and convert the data. See (https://pandas.pydata.org/pandas-docs/stable/user_guide/timeseries.html#providing-a-format-argument) for details."
   ]
  },
  {
   "cell_type": "markdown",
   "metadata": {},
   "source": [
    "### Convert String to datetime object"
   ]
  },
  {
   "cell_type": "code",
   "execution_count": 63,
   "metadata": {},
   "outputs": [],
   "source": [
    "# Convert the date string to a datetime object.\n",
    "\n",
    "# With formatting string (unnecessary for this example because date format is recognized by Pandas)\n",
    "df_ms['Date'] = pd.to_datetime(df_ms['Date'], format='%d-%m-%Y')\n",
    "\n",
    "# No formatting string provides, so Pandas will make its best attempt at conversion.\n",
    "#df_ms['Date'] = pd.to_datetime(df_ms['Date'])\n"
   ]
  },
  {
   "cell_type": "code",
   "execution_count": 64,
   "metadata": {},
   "outputs": [
    {
     "data": {
      "text/plain": [
       "Name                    object\n",
       "Rating                 float64\n",
       "# of Ratings             int64\n",
       "Category                object\n",
       "Date            datetime64[ns]\n",
       "Price                   object\n",
       "dtype: object"
      ]
     },
     "execution_count": 64,
     "metadata": {},
     "output_type": "execute_result"
    }
   ],
   "source": [
    "df_ms.dtypes"
   ]
  },
  {
   "cell_type": "code",
   "execution_count": 65,
   "metadata": {},
   "outputs": [
    {
     "name": "stdout",
     "output_type": "stream",
     "text": [
      "2016-02-29 00:00:00\n",
      "Monday\n"
     ]
    }
   ],
   "source": [
    "# Get date of Bookviewer entry\n",
    "# This succeeds because 'Date' was converted from a string to a datetime object \n",
    "try:\n",
    "    print(df_ms.loc[2, 'Date'])\n",
    "    print(df_ms.loc[2, 'Date'].day_name())\n",
    "except Exception as e:\n",
    "    print(e)"
   ]
  },
  {
   "cell_type": "code",
   "execution_count": 66,
   "metadata": {},
   "outputs": [
    {
     "name": "stdout",
     "output_type": "stream",
     "text": [
      "Monday\n"
     ]
    }
   ],
   "source": [
    "# You can also perform date/time conversions when you load a dataset\n",
    "# Use the parse_dates parameter and pass the datetime columns of your dataset\n",
    "\n",
    "df_ms = pd.read_csv(ms_store_file, parse_dates=['Date'])\n",
    "print(df_ms.loc[2, 'Date'].day_name())"
   ]
  },
  {
   "cell_type": "markdown",
   "metadata": {},
   "source": [
    "### Convert string or object to float\n",
    "\n",
    "Syntax: \n",
    "```Python\n",
    "pandas.to_numeric(arg, errors=’raise’, downcast=None)\n",
    "```\n",
    "Parameters:\n",
    "\n",
    "arg : list, tuple, 1-d array, or Series\n",
    "\n",
    "errors : {‘ignore’, ‘raise’, ‘coerce’}, default ‘raise’\n",
    "* If ‘raise’, then invalid parsing will raise an exception\n",
    "* If ‘coerce’, then invalid parsing will be set as NaN\n",
    "* If ‘ignore’, then invalid parsing will return the input\n",
    "\n",
    "\n",
    "downcast : [default None] If not None, and if the data has been successfully cast to a numerical dtype downcast that resulting data to the smallest numerical dtype possible according to the following rules:\n",
    "* ‘integer’ or ‘signed’: smallest signed int dtype (min.: np.int8)\n",
    "* ‘unsigned’: smallest unsigned int dtype (min.: np.uint8)\n",
    "* ‘float’: smallest float dtype (min.: np.float32)\n",
    "\n",
    "Returns: numeric if parsing succeeded. Note that return type depends on input. Series if Series, otherwise ndarray."
   ]
  },
  {
   "cell_type": "code",
   "execution_count": 67,
   "metadata": {},
   "outputs": [
    {
     "data": {
      "text/plain": [
       "Name                          object\n",
       "Rating                       float64\n",
       "No of people Rated             int64\n",
       "Category                      object\n",
       "Date                  datetime64[ns]\n",
       "Price                         object\n",
       "dtype: object"
      ]
     },
     "execution_count": 67,
     "metadata": {},
     "output_type": "execute_result"
    }
   ],
   "source": [
    "# Check data types before conversion\n",
    "df_ms.dtypes"
   ]
  },
  {
   "cell_type": "code",
   "execution_count": 68,
   "metadata": {},
   "outputs": [
    {
     "data": {
      "text/html": [
       "<div>\n",
       "<style scoped>\n",
       "    .dataframe tbody tr th:only-of-type {\n",
       "        vertical-align: middle;\n",
       "    }\n",
       "\n",
       "    .dataframe tbody tr th {\n",
       "        vertical-align: top;\n",
       "    }\n",
       "\n",
       "    .dataframe thead th {\n",
       "        text-align: right;\n",
       "    }\n",
       "</style>\n",
       "<table border=\"1\" class=\"dataframe\">\n",
       "  <thead>\n",
       "    <tr style=\"text-align: right;\">\n",
       "      <th></th>\n",
       "      <th>Name</th>\n",
       "      <th>Rating</th>\n",
       "      <th>No of people Rated</th>\n",
       "      <th>Category</th>\n",
       "      <th>Date</th>\n",
       "      <th>Price</th>\n",
       "    </tr>\n",
       "  </thead>\n",
       "  <tbody>\n",
       "    <tr>\n",
       "      <th>0</th>\n",
       "      <td>Dynamic Reader</td>\n",
       "      <td>3.5</td>\n",
       "      <td>268</td>\n",
       "      <td>Books</td>\n",
       "      <td>2014-07-01</td>\n",
       "      <td>Free</td>\n",
       "    </tr>\n",
       "    <tr>\n",
       "      <th>1</th>\n",
       "      <td>Chemistry, Organic Chemistry and Biochemistry-...</td>\n",
       "      <td>3.0</td>\n",
       "      <td>627</td>\n",
       "      <td>Books</td>\n",
       "      <td>2014-08-01</td>\n",
       "      <td>Free</td>\n",
       "    </tr>\n",
       "    <tr>\n",
       "      <th>2</th>\n",
       "      <td>BookViewer</td>\n",
       "      <td>3.5</td>\n",
       "      <td>593</td>\n",
       "      <td>Books</td>\n",
       "      <td>2016-02-29</td>\n",
       "      <td>free</td>\n",
       "    </tr>\n",
       "    <tr>\n",
       "      <th>3</th>\n",
       "      <td>Brick Instructions</td>\n",
       "      <td>3.5</td>\n",
       "      <td>684</td>\n",
       "      <td>Books</td>\n",
       "      <td>2018-01-30</td>\n",
       "      <td>free</td>\n",
       "    </tr>\n",
       "    <tr>\n",
       "      <th>4</th>\n",
       "      <td>Introduction to Python Programming by GoLearni...</td>\n",
       "      <td>2.0</td>\n",
       "      <td>634</td>\n",
       "      <td>Books</td>\n",
       "      <td>2018-01-30</td>\n",
       "      <td>Free</td>\n",
       "    </tr>\n",
       "    <tr>\n",
       "      <th>5</th>\n",
       "      <td>Gurbani Reader</td>\n",
       "      <td>4.5</td>\n",
       "      <td>399</td>\n",
       "      <td>Books</td>\n",
       "      <td>2017-01-18</td>\n",
       "      <td>Free</td>\n",
       "    </tr>\n",
       "    <tr>\n",
       "      <th>6</th>\n",
       "      <td>NFO Viewer</td>\n",
       "      <td>4.5</td>\n",
       "      <td>566</td>\n",
       "      <td>Books</td>\n",
       "      <td>2012-11-13</td>\n",
       "      <td>Free</td>\n",
       "    </tr>\n",
       "    <tr>\n",
       "      <th>7</th>\n",
       "      <td>Text to Speech TTS</td>\n",
       "      <td>3.0</td>\n",
       "      <td>175</td>\n",
       "      <td>Books</td>\n",
       "      <td>2013-10-17</td>\n",
       "      <td>Free</td>\n",
       "    </tr>\n",
       "    <tr>\n",
       "      <th>8</th>\n",
       "      <td>ACK Comics</td>\n",
       "      <td>4.0</td>\n",
       "      <td>460</td>\n",
       "      <td>Books</td>\n",
       "      <td>2012-12-20</td>\n",
       "      <td>Free</td>\n",
       "    </tr>\n",
       "    <tr>\n",
       "      <th>9</th>\n",
       "      <td>Learn Biology and Human Body Anatomy by GoLear...</td>\n",
       "      <td>3.5</td>\n",
       "      <td>363</td>\n",
       "      <td>Books</td>\n",
       "      <td>2013-11-25</td>\n",
       "      <td>Free</td>\n",
       "    </tr>\n",
       "    <tr>\n",
       "      <th>10</th>\n",
       "      <td>Coding Made Easy - SQL</td>\n",
       "      <td>4.0</td>\n",
       "      <td>774</td>\n",
       "      <td>Books</td>\n",
       "      <td>2018-01-30</td>\n",
       "      <td>Free</td>\n",
       "    </tr>\n",
       "    <tr>\n",
       "      <th>11</th>\n",
       "      <td>Baani : Nitnem</td>\n",
       "      <td>4.0</td>\n",
       "      <td>533</td>\n",
       "      <td>Books</td>\n",
       "      <td>2014-08-29</td>\n",
       "      <td>Free</td>\n",
       "    </tr>\n",
       "    <tr>\n",
       "      <th>12</th>\n",
       "      <td>iMac® 101</td>\n",
       "      <td>4.0</td>\n",
       "      <td>707</td>\n",
       "      <td>Books</td>\n",
       "      <td>2014-03-28</td>\n",
       "      <td>Free</td>\n",
       "    </tr>\n",
       "    <tr>\n",
       "      <th>13</th>\n",
       "      <td>Complete C Programs</td>\n",
       "      <td>4.0</td>\n",
       "      <td>687</td>\n",
       "      <td>Books</td>\n",
       "      <td>2012-07-12</td>\n",
       "      <td>Free</td>\n",
       "    </tr>\n",
       "    <tr>\n",
       "      <th>14</th>\n",
       "      <td>Historical Places in India</td>\n",
       "      <td>4.5</td>\n",
       "      <td>825</td>\n",
       "      <td>Books</td>\n",
       "      <td>2018-02-18</td>\n",
       "      <td>Free</td>\n",
       "    </tr>\n",
       "  </tbody>\n",
       "</table>\n",
       "</div>"
      ],
      "text/plain": [
       "                                                 Name  Rating  \\\n",
       "0                                      Dynamic Reader     3.5   \n",
       "1   Chemistry, Organic Chemistry and Biochemistry-...     3.0   \n",
       "2                                          BookViewer     3.5   \n",
       "3                                  Brick Instructions     3.5   \n",
       "4   Introduction to Python Programming by GoLearni...     2.0   \n",
       "5                                      Gurbani Reader     4.5   \n",
       "6                                          NFO Viewer     4.5   \n",
       "7                                  Text to Speech TTS     3.0   \n",
       "8                                          ACK Comics     4.0   \n",
       "9   Learn Biology and Human Body Anatomy by GoLear...     3.5   \n",
       "10                             Coding Made Easy - SQL     4.0   \n",
       "11                                     Baani : Nitnem     4.0   \n",
       "12                                          iMac® 101     4.0   \n",
       "13                                Complete C Programs     4.0   \n",
       "14                         Historical Places in India     4.5   \n",
       "\n",
       "    No of people Rated Category       Date Price  \n",
       "0                  268    Books 2014-07-01  Free  \n",
       "1                  627    Books 2014-08-01  Free  \n",
       "2                  593    Books 2016-02-29  free  \n",
       "3                  684    Books 2018-01-30  free  \n",
       "4                  634    Books 2018-01-30  Free  \n",
       "5                  399    Books 2017-01-18  Free  \n",
       "6                  566    Books 2012-11-13  Free  \n",
       "7                  175    Books 2013-10-17  Free  \n",
       "8                  460    Books 2012-12-20  Free  \n",
       "9                  363    Books 2013-11-25  Free  \n",
       "10                 774    Books 2018-01-30  Free  \n",
       "11                 533    Books 2014-08-29  Free  \n",
       "12                 707    Books 2014-03-28  Free  \n",
       "13                 687    Books 2012-07-12  Free  \n",
       "14                 825    Books 2018-02-18  Free  "
      ]
     },
     "execution_count": 68,
     "metadata": {},
     "output_type": "execute_result"
    }
   ],
   "source": [
    "# Check the first few rows\n",
    "df_ms.head(15)"
   ]
  },
  {
   "cell_type": "code",
   "execution_count": 69,
   "metadata": {},
   "outputs": [
    {
     "data": {
      "text/html": [
       "<div>\n",
       "<style scoped>\n",
       "    .dataframe tbody tr th:only-of-type {\n",
       "        vertical-align: middle;\n",
       "    }\n",
       "\n",
       "    .dataframe tbody tr th {\n",
       "        vertical-align: top;\n",
       "    }\n",
       "\n",
       "    .dataframe thead th {\n",
       "        text-align: right;\n",
       "    }\n",
       "</style>\n",
       "<table border=\"1\" class=\"dataframe\">\n",
       "  <thead>\n",
       "    <tr style=\"text-align: right;\">\n",
       "      <th></th>\n",
       "      <th>Name</th>\n",
       "      <th>Rating</th>\n",
       "      <th>No of people Rated</th>\n",
       "      <th>Category</th>\n",
       "      <th>Date</th>\n",
       "      <th>Price</th>\n",
       "    </tr>\n",
       "  </thead>\n",
       "  <tbody>\n",
       "    <tr>\n",
       "      <th>5307</th>\n",
       "      <td>IpTray</td>\n",
       "      <td>1.5</td>\n",
       "      <td>848</td>\n",
       "      <td>Developer Tools</td>\n",
       "      <td>2019-04-03</td>\n",
       "      <td>₹ 209.00</td>\n",
       "    </tr>\n",
       "    <tr>\n",
       "      <th>5308</th>\n",
       "      <td>Database Designer SDK</td>\n",
       "      <td>3.5</td>\n",
       "      <td>502</td>\n",
       "      <td>Developer Tools</td>\n",
       "      <td>2018-01-16</td>\n",
       "      <td>₹ 699.00</td>\n",
       "    </tr>\n",
       "    <tr>\n",
       "      <th>5309</th>\n",
       "      <td>TPipingHMI</td>\n",
       "      <td>5.0</td>\n",
       "      <td>546</td>\n",
       "      <td>Developer Tools</td>\n",
       "      <td>2017-10-18</td>\n",
       "      <td>₹ 269.00</td>\n",
       "    </tr>\n",
       "    <tr>\n",
       "      <th>5310</th>\n",
       "      <td>EditPlus</td>\n",
       "      <td>4.0</td>\n",
       "      <td>778</td>\n",
       "      <td>Developer Tools</td>\n",
       "      <td>2016-09-27</td>\n",
       "      <td>₹ 1,899.00</td>\n",
       "    </tr>\n",
       "    <tr>\n",
       "      <th>5311</th>\n",
       "      <td>0x Hex Viewer</td>\n",
       "      <td>4.0</td>\n",
       "      <td>211</td>\n",
       "      <td>Developer Tools</td>\n",
       "      <td>2016-02-20</td>\n",
       "      <td>₹ 54.00</td>\n",
       "    </tr>\n",
       "    <tr>\n",
       "      <th>5312</th>\n",
       "      <td>Assets Resizer for Windows Store</td>\n",
       "      <td>3.5</td>\n",
       "      <td>566</td>\n",
       "      <td>Developer Tools</td>\n",
       "      <td>2015-09-22</td>\n",
       "      <td>₹ 54.00</td>\n",
       "    </tr>\n",
       "    <tr>\n",
       "      <th>5313</th>\n",
       "      <td>WWWmaster</td>\n",
       "      <td>3.5</td>\n",
       "      <td>150</td>\n",
       "      <td>Developer Tools</td>\n",
       "      <td>2018-12-01</td>\n",
       "      <td>₹ 489.00</td>\n",
       "    </tr>\n",
       "    <tr>\n",
       "      <th>5314</th>\n",
       "      <td>HexToolkit</td>\n",
       "      <td>3.5</td>\n",
       "      <td>214</td>\n",
       "      <td>Developer Tools</td>\n",
       "      <td>2017-09-25</td>\n",
       "      <td>₹ 54.00</td>\n",
       "    </tr>\n",
       "    <tr>\n",
       "      <th>5315</th>\n",
       "      <td>Visual Studio Image Scaler</td>\n",
       "      <td>1.0</td>\n",
       "      <td>756</td>\n",
       "      <td>Developer Tools</td>\n",
       "      <td>2017-05-15</td>\n",
       "      <td>₹ 54.00</td>\n",
       "    </tr>\n",
       "    <tr>\n",
       "      <th>5316</th>\n",
       "      <td>Get Color</td>\n",
       "      <td>3.0</td>\n",
       "      <td>785</td>\n",
       "      <td>Developer Tools</td>\n",
       "      <td>2019-08-08</td>\n",
       "      <td>₹ 54.50</td>\n",
       "    </tr>\n",
       "    <tr>\n",
       "      <th>5317</th>\n",
       "      <td>JS King</td>\n",
       "      <td>1.0</td>\n",
       "      <td>720</td>\n",
       "      <td>Developer Tools</td>\n",
       "      <td>2018-07-19</td>\n",
       "      <td>₹ 269.00</td>\n",
       "    </tr>\n",
       "    <tr>\n",
       "      <th>5318</th>\n",
       "      <td>MQTTSniffer</td>\n",
       "      <td>2.5</td>\n",
       "      <td>500</td>\n",
       "      <td>Developer Tools</td>\n",
       "      <td>2017-10-04</td>\n",
       "      <td>₹ 64.00</td>\n",
       "    </tr>\n",
       "    <tr>\n",
       "      <th>5319</th>\n",
       "      <td>Dev Utils - JSON, CSV and XML</td>\n",
       "      <td>4.0</td>\n",
       "      <td>862</td>\n",
       "      <td>Developer Tools</td>\n",
       "      <td>2019-11-18</td>\n",
       "      <td>₹ 269.00</td>\n",
       "    </tr>\n",
       "    <tr>\n",
       "      <th>5320</th>\n",
       "      <td>Simply Text</td>\n",
       "      <td>4.0</td>\n",
       "      <td>386</td>\n",
       "      <td>Developer Tools</td>\n",
       "      <td>2014-01-23</td>\n",
       "      <td>₹ 219.00</td>\n",
       "    </tr>\n",
       "    <tr>\n",
       "      <th>5321</th>\n",
       "      <td>NaN</td>\n",
       "      <td>NaN</td>\n",
       "      <td>948</td>\n",
       "      <td>NaN</td>\n",
       "      <td>NaT</td>\n",
       "      <td>NaN</td>\n",
       "    </tr>\n",
       "  </tbody>\n",
       "</table>\n",
       "</div>"
      ],
      "text/plain": [
       "                                  Name  Rating  No of people Rated  \\\n",
       "5307                            IpTray     1.5                 848   \n",
       "5308             Database Designer SDK     3.5                 502   \n",
       "5309                        TPipingHMI     5.0                 546   \n",
       "5310                          EditPlus     4.0                 778   \n",
       "5311                     0x Hex Viewer     4.0                 211   \n",
       "5312  Assets Resizer for Windows Store     3.5                 566   \n",
       "5313                         WWWmaster     3.5                 150   \n",
       "5314                        HexToolkit     3.5                 214   \n",
       "5315        Visual Studio Image Scaler     1.0                 756   \n",
       "5316                         Get Color     3.0                 785   \n",
       "5317                           JS King     1.0                 720   \n",
       "5318                       MQTTSniffer     2.5                 500   \n",
       "5319     Dev Utils - JSON, CSV and XML     4.0                 862   \n",
       "5320                       Simply Text     4.0                 386   \n",
       "5321                               NaN     NaN                 948   \n",
       "\n",
       "             Category       Date       Price  \n",
       "5307  Developer Tools 2019-04-03    ₹ 209.00  \n",
       "5308  Developer Tools 2018-01-16    ₹ 699.00  \n",
       "5309  Developer Tools 2017-10-18    ₹ 269.00  \n",
       "5310  Developer Tools 2016-09-27  ₹ 1,899.00  \n",
       "5311  Developer Tools 2016-02-20     ₹ 54.00  \n",
       "5312  Developer Tools 2015-09-22     ₹ 54.00  \n",
       "5313  Developer Tools 2018-12-01    ₹ 489.00  \n",
       "5314  Developer Tools 2017-09-25     ₹ 54.00  \n",
       "5315  Developer Tools 2017-05-15     ₹ 54.00  \n",
       "5316  Developer Tools 2019-08-08     ₹ 54.50  \n",
       "5317  Developer Tools 2018-07-19    ₹ 269.00  \n",
       "5318  Developer Tools 2017-10-04     ₹ 64.00  \n",
       "5319  Developer Tools 2019-11-18    ₹ 269.00  \n",
       "5320  Developer Tools 2014-01-23    ₹ 219.00  \n",
       "5321              NaN        NaT         NaN  "
      ]
     },
     "execution_count": 69,
     "metadata": {},
     "output_type": "execute_result"
    }
   ],
   "source": [
    "# Check the last few rows\n",
    "df_ms.tail(15)"
   ]
  },
  {
   "cell_type": "code",
   "execution_count": 70,
   "metadata": {},
   "outputs": [
    {
     "data": {
      "text/html": [
       "<div>\n",
       "<style scoped>\n",
       "    .dataframe tbody tr th:only-of-type {\n",
       "        vertical-align: middle;\n",
       "    }\n",
       "\n",
       "    .dataframe tbody tr th {\n",
       "        vertical-align: top;\n",
       "    }\n",
       "\n",
       "    .dataframe thead th {\n",
       "        text-align: right;\n",
       "    }\n",
       "</style>\n",
       "<table border=\"1\" class=\"dataframe\">\n",
       "  <thead>\n",
       "    <tr style=\"text-align: right;\">\n",
       "      <th></th>\n",
       "      <th>Name</th>\n",
       "      <th>Rating</th>\n",
       "      <th>No of people Rated</th>\n",
       "      <th>Category</th>\n",
       "      <th>Date</th>\n",
       "      <th>Price</th>\n",
       "    </tr>\n",
       "  </thead>\n",
       "  <tbody>\n",
       "    <tr>\n",
       "      <th>2</th>\n",
       "      <td>BookViewer</td>\n",
       "      <td>3.5</td>\n",
       "      <td>593</td>\n",
       "      <td>Books</td>\n",
       "      <td>2016-02-29</td>\n",
       "      <td>free</td>\n",
       "    </tr>\n",
       "    <tr>\n",
       "      <th>3</th>\n",
       "      <td>Brick Instructions</td>\n",
       "      <td>3.5</td>\n",
       "      <td>684</td>\n",
       "      <td>Books</td>\n",
       "      <td>2018-01-30</td>\n",
       "      <td>free</td>\n",
       "    </tr>\n",
       "    <tr>\n",
       "      <th>5163</th>\n",
       "      <td>Bluestacks app player: guide</td>\n",
       "      <td>1.5</td>\n",
       "      <td>760</td>\n",
       "      <td>Books</td>\n",
       "      <td>2019-12-16</td>\n",
       "      <td>₹ 144.00</td>\n",
       "    </tr>\n",
       "    <tr>\n",
       "      <th>5164</th>\n",
       "      <td>Adobe Acrobat Reader DC PC Guide</td>\n",
       "      <td>2.0</td>\n",
       "      <td>163</td>\n",
       "      <td>Books</td>\n",
       "      <td>2020-06-28</td>\n",
       "      <td>₹ 144.00</td>\n",
       "    </tr>\n",
       "    <tr>\n",
       "      <th>5165</th>\n",
       "      <td>Play Books Online (Client For Google Books)</td>\n",
       "      <td>2.5</td>\n",
       "      <td>292</td>\n",
       "      <td>Books</td>\n",
       "      <td>2016-01-14</td>\n",
       "      <td>₹ 54.00</td>\n",
       "    </tr>\n",
       "    <tr>\n",
       "      <th>...</th>\n",
       "      <td>...</td>\n",
       "      <td>...</td>\n",
       "      <td>...</td>\n",
       "      <td>...</td>\n",
       "      <td>...</td>\n",
       "      <td>...</td>\n",
       "    </tr>\n",
       "    <tr>\n",
       "      <th>5317</th>\n",
       "      <td>JS King</td>\n",
       "      <td>1.0</td>\n",
       "      <td>720</td>\n",
       "      <td>Developer Tools</td>\n",
       "      <td>2018-07-19</td>\n",
       "      <td>₹ 269.00</td>\n",
       "    </tr>\n",
       "    <tr>\n",
       "      <th>5318</th>\n",
       "      <td>MQTTSniffer</td>\n",
       "      <td>2.5</td>\n",
       "      <td>500</td>\n",
       "      <td>Developer Tools</td>\n",
       "      <td>2017-10-04</td>\n",
       "      <td>₹ 64.00</td>\n",
       "    </tr>\n",
       "    <tr>\n",
       "      <th>5319</th>\n",
       "      <td>Dev Utils - JSON, CSV and XML</td>\n",
       "      <td>4.0</td>\n",
       "      <td>862</td>\n",
       "      <td>Developer Tools</td>\n",
       "      <td>2019-11-18</td>\n",
       "      <td>₹ 269.00</td>\n",
       "    </tr>\n",
       "    <tr>\n",
       "      <th>5320</th>\n",
       "      <td>Simply Text</td>\n",
       "      <td>4.0</td>\n",
       "      <td>386</td>\n",
       "      <td>Developer Tools</td>\n",
       "      <td>2014-01-23</td>\n",
       "      <td>₹ 219.00</td>\n",
       "    </tr>\n",
       "    <tr>\n",
       "      <th>5321</th>\n",
       "      <td>NaN</td>\n",
       "      <td>NaN</td>\n",
       "      <td>948</td>\n",
       "      <td>NaN</td>\n",
       "      <td>NaT</td>\n",
       "      <td>NaN</td>\n",
       "    </tr>\n",
       "  </tbody>\n",
       "</table>\n",
       "<p>161 rows × 6 columns</p>\n",
       "</div>"
      ],
      "text/plain": [
       "                                             Name  Rating  No of people Rated  \\\n",
       "2                                      BookViewer     3.5                 593   \n",
       "3                              Brick Instructions     3.5                 684   \n",
       "5163                 Bluestacks app player: guide     1.5                 760   \n",
       "5164             Adobe Acrobat Reader DC PC Guide     2.0                 163   \n",
       "5165  Play Books Online (Client For Google Books)     2.5                 292   \n",
       "...                                           ...     ...                 ...   \n",
       "5317                                      JS King     1.0                 720   \n",
       "5318                                  MQTTSniffer     2.5                 500   \n",
       "5319                Dev Utils - JSON, CSV and XML     4.0                 862   \n",
       "5320                                  Simply Text     4.0                 386   \n",
       "5321                                          NaN     NaN                 948   \n",
       "\n",
       "             Category       Date     Price  \n",
       "2               Books 2016-02-29      free  \n",
       "3               Books 2018-01-30      free  \n",
       "5163            Books 2019-12-16  ₹ 144.00  \n",
       "5164            Books 2020-06-28  ₹ 144.00  \n",
       "5165            Books 2016-01-14   ₹ 54.00  \n",
       "...               ...        ...       ...  \n",
       "5317  Developer Tools 2018-07-19  ₹ 269.00  \n",
       "5318  Developer Tools 2017-10-04   ₹ 64.00  \n",
       "5319  Developer Tools 2019-11-18  ₹ 269.00  \n",
       "5320  Developer Tools 2014-01-23  ₹ 219.00  \n",
       "5321              NaN        NaT       NaN  \n",
       "\n",
       "[161 rows x 6 columns]"
      ]
     },
     "execution_count": 70,
     "metadata": {},
     "output_type": "execute_result"
    }
   ],
   "source": [
    "# Check items that aren't free\n",
    "df_ms[df_ms['Price']!='Free']"
   ]
  },
  {
   "cell_type": "code",
   "execution_count": 75,
   "metadata": {},
   "outputs": [
    {
     "data": {
      "text/plain": [
       "True"
      ]
     },
     "execution_count": 75,
     "metadata": {},
     "output_type": "execute_result"
    }
   ],
   "source": [
    "# Does a particular column have any NaN values?\n",
    "df_ms['Price'].isnull().values.any()"
   ]
  },
  {
   "cell_type": "code",
   "execution_count": 76,
   "metadata": {},
   "outputs": [
    {
     "data": {
      "text/plain": [
       "True"
      ]
     },
     "execution_count": 76,
     "metadata": {},
     "output_type": "execute_result"
    }
   ],
   "source": [
    "# Does the DataFrame have any NaN values?\n",
    "df_ms.isnull().values.any()"
   ]
  },
  {
   "cell_type": "code",
   "execution_count": 77,
   "metadata": {},
   "outputs": [
    {
     "data": {
      "text/plain": [
       "Name                  1\n",
       "Rating                1\n",
       "No of people Rated    0\n",
       "Category              1\n",
       "Date                  1\n",
       "Price                 1\n",
       "dtype: int64"
      ]
     },
     "execution_count": 77,
     "metadata": {},
     "output_type": "execute_result"
    }
   ],
   "source": [
    "# How many NaN values are in the DataFrame (by column)?\n",
    "df_ms.isnull().sum()"
   ]
  },
  {
   "cell_type": "code",
   "execution_count": 78,
   "metadata": {},
   "outputs": [
    {
     "data": {
      "text/plain": [
       "5"
      ]
     },
     "execution_count": 78,
     "metadata": {},
     "output_type": "execute_result"
    }
   ],
   "source": [
    "# How many NaN values are in the DataFrame (entire DataFrame)?\n",
    "df_ms.isnull().sum().sum()"
   ]
  },
  {
   "cell_type": "code",
   "execution_count": 79,
   "metadata": {},
   "outputs": [
    {
     "data": {
      "text/html": [
       "<div>\n",
       "<style scoped>\n",
       "    .dataframe tbody tr th:only-of-type {\n",
       "        vertical-align: middle;\n",
       "    }\n",
       "\n",
       "    .dataframe tbody tr th {\n",
       "        vertical-align: top;\n",
       "    }\n",
       "\n",
       "    .dataframe thead th {\n",
       "        text-align: right;\n",
       "    }\n",
       "</style>\n",
       "<table border=\"1\" class=\"dataframe\">\n",
       "  <thead>\n",
       "    <tr style=\"text-align: right;\">\n",
       "      <th></th>\n",
       "      <th>Name</th>\n",
       "      <th>Rating</th>\n",
       "      <th>No of people Rated</th>\n",
       "      <th>Category</th>\n",
       "      <th>Date</th>\n",
       "      <th>Price</th>\n",
       "    </tr>\n",
       "  </thead>\n",
       "  <tbody>\n",
       "    <tr>\n",
       "      <th>5321</th>\n",
       "      <td>NaN</td>\n",
       "      <td>NaN</td>\n",
       "      <td>948</td>\n",
       "      <td>NaN</td>\n",
       "      <td>NaT</td>\n",
       "      <td>NaN</td>\n",
       "    </tr>\n",
       "  </tbody>\n",
       "</table>\n",
       "</div>"
      ],
      "text/plain": [
       "     Name  Rating  No of people Rated Category Date Price\n",
       "5321  NaN     NaN                 948      NaN  NaT   NaN"
      ]
     },
     "execution_count": 79,
     "metadata": {},
     "output_type": "execute_result"
    }
   ],
   "source": [
    "# Return the NaN rows\n",
    "df_ms[df_ms['Price'].isnull()]"
   ]
  },
  {
   "cell_type": "code",
   "execution_count": 80,
   "metadata": {},
   "outputs": [],
   "source": [
    "# Delete (drop) the row using its index number\n",
    "df_ms.drop(5321, inplace=True)"
   ]
  },
  {
   "cell_type": "code",
   "execution_count": 81,
   "metadata": {},
   "outputs": [
    {
     "data": {
      "text/plain": [
       "array(['Free', 'free', '₹ 144.00', '₹ 54.00', '₹ 99.00', '₹ 219.00',\n",
       "       '₹ 269.00', '₹ 134.00', '₹ 164.00', '₹ 109.00', '₹ 1,624.00',\n",
       "       '₹ 1,099.00', '₹ 1,349.00', '₹ 59.00', '₹ 154.00', '₹ 119.00',\n",
       "       '₹ 94.00', '₹ 69.00', '₹ 139.00', '₹ 189.00', '₹ 549.00',\n",
       "       '₹ 79.00', '₹ 2,599.00', '₹ 299.00', '₹ 574.00', '₹ 329.40',\n",
       "       '₹ 1,521.80', '₹ 324.00', '₹ 824.00', '₹ 5,449.00', '₹ 89.50',\n",
       "       '₹ 114.00', '₹ 194.00', '₹ 319.00', '₹ 624.00', '₹ 2,149.00',\n",
       "       '₹ 1,149.00', '₹ 434.00', '₹ 279.00', '₹ 209.00', '₹ 699.00',\n",
       "       '₹ 1,899.00', '₹ 489.00', '₹ 54.50', '₹ 64.00'], dtype=object)"
      ]
     },
     "execution_count": 81,
     "metadata": {},
     "output_type": "execute_result"
    }
   ],
   "source": [
    "# Get all unique prices \n",
    "#   (not feasible to display all unique prices for a large data set)\n",
    "df_ms['Price'].unique()"
   ]
  },
  {
   "cell_type": "code",
   "execution_count": 82,
   "metadata": {},
   "outputs": [],
   "source": [
    "# Carefully consider (and test) the error parameter. \n",
    "#   What if we used 'ignore'? Valid? Ideal output? 'coerce'?\n",
    "df_ms['Price'] = pd.to_numeric(df_ms['Price'], downcast='float', errors='ignore')"
   ]
  },
  {
   "cell_type": "code",
   "execution_count": 83,
   "metadata": {},
   "outputs": [],
   "source": [
    "# We'll assume that null prices are Free apps and replace NaN with Zero\n",
    "df_ms['Price'] = df_ms['Price'].replace([np.nan], 0)"
   ]
  },
  {
   "cell_type": "code",
   "execution_count": 84,
   "metadata": {},
   "outputs": [],
   "source": [
    "# Since we want the column to be a float, let's replace all the 'Free' prices with Zero\n",
    "df_ms['Price'] = df_ms['Price'].replace('[F|f]ree', 0, regex=True)"
   ]
  },
  {
   "cell_type": "code",
   "execution_count": 85,
   "metadata": {},
   "outputs": [],
   "source": [
    "# Conversion failed earlier because of the symbol. Let's remove it.\n",
    "df_ms['Price'] = df_ms['Price'].str.replace('₹ ', '')"
   ]
  },
  {
   "cell_type": "code",
   "execution_count": 86,
   "metadata": {},
   "outputs": [
    {
     "data": {
      "text/plain": [
       "array([nan, '144.00', '54.00', '99.00', '219.00', '269.00', '134.00',\n",
       "       '164.00', '109.00', '1,624.00', '1,099.00', '1,349.00', '59.00',\n",
       "       '154.00', '119.00', '94.00', '69.00', '139.00', '189.00', '549.00',\n",
       "       '79.00', '2,599.00', '299.00', '574.00', '329.40', '1,521.80',\n",
       "       '324.00', '824.00', '5,449.00', '89.50', '114.00', '194.00',\n",
       "       '319.00', '624.00', '2,149.00', '1,149.00', '434.00', '279.00',\n",
       "       '209.00', '699.00', '1,899.00', '489.00', '54.50', '64.00'],\n",
       "      dtype=object)"
      ]
     },
     "execution_count": 86,
     "metadata": {},
     "output_type": "execute_result"
    }
   ],
   "source": [
    "# Get all unique prices\n",
    "df_ms['Price'].unique()"
   ]
  },
  {
   "cell_type": "code",
   "execution_count": 87,
   "metadata": {},
   "outputs": [],
   "source": [
    "# Carefully consider (and test) the error parameter. \n",
    "#   What if we used 'ignore'? Valid? Ideal output? 'coerce'?\n",
    "df_ms['Price'] = pd.to_numeric(df_ms['Price'], downcast='float', errors='coerce')"
   ]
  },
  {
   "cell_type": "code",
   "execution_count": 88,
   "metadata": {},
   "outputs": [
    {
     "data": {
      "text/plain": [
       "Name                          object\n",
       "Rating                       float64\n",
       "No of people Rated             int64\n",
       "Category                      object\n",
       "Date                  datetime64[ns]\n",
       "Price                        float32\n",
       "dtype: object"
      ]
     },
     "execution_count": 88,
     "metadata": {},
     "output_type": "execute_result"
    }
   ],
   "source": [
    "# Confirm Price is a float. What type of float is it? Why?\n",
    "df_ms.dtypes"
   ]
  },
  {
   "cell_type": "markdown",
   "metadata": {},
   "source": [
    "# Adding, Renaming and dropping columns\n"
   ]
  },
  {
   "cell_type": "code",
   "execution_count": 91,
   "metadata": {},
   "outputs": [],
   "source": [
    "# Provide the current name and new name of a column. Write the change to the DataFrame using inplace = True\n",
    "df_ms.rename(columns = {'No of people Rated':'# of Ratings'}, inplace = True)"
   ]
  },
  {
   "cell_type": "code",
   "execution_count": 72,
   "metadata": {},
   "outputs": [
    {
     "data": {
      "text/plain": [
       "Index(['Name', 'Rating', 'No of people Rated', 'Category', 'Date', 'Price'], dtype='object')"
      ]
     },
     "execution_count": 72,
     "metadata": {},
     "output_type": "execute_result"
    }
   ],
   "source": [
    "df_ms.columns"
   ]
  },
  {
   "cell_type": "code",
   "execution_count": 89,
   "metadata": {},
   "outputs": [],
   "source": [
    "df_ms['Local tax'] = df_ms['Price'] *.09"
   ]
  },
  {
   "cell_type": "code",
   "execution_count": 93,
   "metadata": {},
   "outputs": [
    {
     "data": {
      "text/html": [
       "<div>\n",
       "<style scoped>\n",
       "    .dataframe tbody tr th:only-of-type {\n",
       "        vertical-align: middle;\n",
       "    }\n",
       "\n",
       "    .dataframe tbody tr th {\n",
       "        vertical-align: top;\n",
       "    }\n",
       "\n",
       "    .dataframe thead th {\n",
       "        text-align: right;\n",
       "    }\n",
       "</style>\n",
       "<table border=\"1\" class=\"dataframe\">\n",
       "  <thead>\n",
       "    <tr style=\"text-align: right;\">\n",
       "      <th></th>\n",
       "      <th>Name</th>\n",
       "      <th>Price</th>\n",
       "      <th>Local tax</th>\n",
       "    </tr>\n",
       "  </thead>\n",
       "  <tbody>\n",
       "    <tr>\n",
       "      <th>0</th>\n",
       "      <td>Dynamic Reader</td>\n",
       "      <td>NaN</td>\n",
       "      <td>NaN</td>\n",
       "    </tr>\n",
       "    <tr>\n",
       "      <th>1</th>\n",
       "      <td>Chemistry, Organic Chemistry and Biochemistry-...</td>\n",
       "      <td>NaN</td>\n",
       "      <td>NaN</td>\n",
       "    </tr>\n",
       "    <tr>\n",
       "      <th>2</th>\n",
       "      <td>BookViewer</td>\n",
       "      <td>NaN</td>\n",
       "      <td>NaN</td>\n",
       "    </tr>\n",
       "    <tr>\n",
       "      <th>3</th>\n",
       "      <td>Brick Instructions</td>\n",
       "      <td>NaN</td>\n",
       "      <td>NaN</td>\n",
       "    </tr>\n",
       "    <tr>\n",
       "      <th>4</th>\n",
       "      <td>Introduction to Python Programming by GoLearni...</td>\n",
       "      <td>NaN</td>\n",
       "      <td>NaN</td>\n",
       "    </tr>\n",
       "    <tr>\n",
       "      <th>...</th>\n",
       "      <td>...</td>\n",
       "      <td>...</td>\n",
       "      <td>...</td>\n",
       "    </tr>\n",
       "    <tr>\n",
       "      <th>5316</th>\n",
       "      <td>Get Color</td>\n",
       "      <td>54.5</td>\n",
       "      <td>4.905000</td>\n",
       "    </tr>\n",
       "    <tr>\n",
       "      <th>5317</th>\n",
       "      <td>JS King</td>\n",
       "      <td>269.0</td>\n",
       "      <td>24.210001</td>\n",
       "    </tr>\n",
       "    <tr>\n",
       "      <th>5318</th>\n",
       "      <td>MQTTSniffer</td>\n",
       "      <td>64.0</td>\n",
       "      <td>5.760000</td>\n",
       "    </tr>\n",
       "    <tr>\n",
       "      <th>5319</th>\n",
       "      <td>Dev Utils - JSON, CSV and XML</td>\n",
       "      <td>269.0</td>\n",
       "      <td>24.210001</td>\n",
       "    </tr>\n",
       "    <tr>\n",
       "      <th>5320</th>\n",
       "      <td>Simply Text</td>\n",
       "      <td>219.0</td>\n",
       "      <td>19.710001</td>\n",
       "    </tr>\n",
       "  </tbody>\n",
       "</table>\n",
       "<p>5321 rows × 3 columns</p>\n",
       "</div>"
      ],
      "text/plain": [
       "                                                   Name  Price  Local tax\n",
       "0                                        Dynamic Reader    NaN        NaN\n",
       "1     Chemistry, Organic Chemistry and Biochemistry-...    NaN        NaN\n",
       "2                                            BookViewer    NaN        NaN\n",
       "3                                    Brick Instructions    NaN        NaN\n",
       "4     Introduction to Python Programming by GoLearni...    NaN        NaN\n",
       "...                                                 ...    ...        ...\n",
       "5316                                          Get Color   54.5   4.905000\n",
       "5317                                            JS King  269.0  24.210001\n",
       "5318                                        MQTTSniffer   64.0   5.760000\n",
       "5319                      Dev Utils - JSON, CSV and XML  269.0  24.210001\n",
       "5320                                        Simply Text  219.0  19.710001\n",
       "\n",
       "[5321 rows x 3 columns]"
      ]
     },
     "execution_count": 93,
     "metadata": {},
     "output_type": "execute_result"
    }
   ],
   "source": [
    "df_ms[['Name','Price','Local tax']]"
   ]
  },
  {
   "cell_type": "code",
   "execution_count": 94,
   "metadata": {},
   "outputs": [],
   "source": [
    "df_ms.drop(columns=['Local tax'],inplace=True)"
   ]
  },
  {
   "cell_type": "code",
   "execution_count": 95,
   "metadata": {},
   "outputs": [
    {
     "data": {
      "text/plain": [
       "Index(['Name', 'Rating', '# of Ratings', 'Category', 'Date', 'Price'], dtype='object')"
      ]
     },
     "execution_count": 95,
     "metadata": {},
     "output_type": "execute_result"
    }
   ],
   "source": [
    "df_ms.columns #Local tax is no longer listed"
   ]
  },
  {
   "cell_type": "markdown",
   "metadata": {},
   "source": [
    "## Using the `dt` class\n",
    "The `dt` class on the Series object provides useful date and time features."
   ]
  },
  {
   "cell_type": "code",
   "execution_count": null,
   "metadata": {},
   "outputs": [],
   "source": [
    "df_ms.columns"
   ]
  },
  {
   "cell_type": "code",
   "execution_count": null,
   "metadata": {},
   "outputs": [],
   "source": [
    "# Create a DayOfWeek column and store the named day\n",
    "df_ms['DayOfWeek'] = df_ms['Date'].dt.day_name()\n",
    "df_ms.head()"
   ]
  },
  {
   "cell_type": "code",
   "execution_count": null,
   "metadata": {},
   "outputs": [],
   "source": [
    "# Get earliest date\n",
    "print('Earlist date: ;', df_ms['Date'].min())\n",
    "\n",
    "# Get latest date\n",
    "print('Latest date: ', df_ms['Date'].max())\n",
    "\n",
    "# Get number of days between earliest and latest date\n",
    "print(df_ms['Date'].max() - df_ms['Date'].min())"
   ]
  },
  {
   "cell_type": "code",
   "execution_count": null,
   "metadata": {},
   "outputs": [],
   "source": [
    "# Filter Microsoft Store records by date\n",
    "# Show only records after 2018\n",
    "date_filter = (df_ms['Date'] >= '2018')\n",
    "df_ms.loc[date_filter]"
   ]
  },
  {
   "cell_type": "code",
   "execution_count": null,
   "metadata": {},
   "outputs": [],
   "source": [
    "# Filter Microsoft Store records by date\n",
    "# Show only records in 2018\n",
    "date_filter = (df_ms['Date'] >= '2018') & (df_ms['Date'] < '2019')\n",
    "df_ms.loc[date_filter]"
   ]
  },
  {
   "cell_type": "code",
   "execution_count": null,
   "metadata": {},
   "outputs": [],
   "source": [
    "# Filter Microsoft Store records by date\n",
    "# Show only records in December of 2018\n",
    "date_filter = (df_ms['Date'] >= pd.to_datetime('2018-12-01')) & (df_ms['Date'] <= pd.to_datetime('2018-12-31'))\n",
    "df_dec_2018 = df_ms.loc[date_filter]\n",
    "df_dec_2018"
   ]
  },
  {
   "cell_type": "code",
   "execution_count": null,
   "metadata": {},
   "outputs": [],
   "source": [
    "# Get average item rating for December\n",
    "print(\"Average item rating in Dec 2018: \", df_dec_2018['Rating'].mean())"
   ]
  },
  {
   "cell_type": "code",
   "execution_count": null,
   "metadata": {},
   "outputs": [],
   "source": [
    "# Add a Quarter column and a week column using dt.to_period\n",
    "df_ms['Quarter'] = df_ms['Date'].dt.to_period('Q')\n",
    "df_ms['WeekOfYear'] = df_ms['Date'].dt.to_period('W')\n",
    "df_ms\n",
    "\n",
    "# See https://pandas.pydata.org/pandas-docs/stable/user_guide/timeseries.html#dateoffset-objects for more objects"
   ]
  },
  {
   "cell_type": "markdown",
   "metadata": {},
   "source": [
    "# Filtering Data"
   ]
  },
  {
   "cell_type": "code",
   "execution_count": null,
   "metadata": {},
   "outputs": [],
   "source": [
    "# Review the columsn contained the the Microsoft Store Dataset\n",
    "df_ms.columns"
   ]
  },
  {
   "cell_type": "code",
   "execution_count": null,
   "metadata": {},
   "outputs": [],
   "source": [
    "df_ms.dtypes"
   ]
  },
  {
   "cell_type": "code",
   "execution_count": null,
   "metadata": {},
   "outputs": [],
   "source": [
    "high_num_ratings = (df_ms['No of people Rated'] > 999)\n",
    "\n",
    "# To include multiple columns in the result, use a list.\n",
    "df_ms.loc[high_num_ratings,['Name', 'No of people Rated','Category']]"
   ]
  },
  {
   "cell_type": "code",
   "execution_count": null,
   "metadata": {},
   "outputs": [],
   "source": [
    "# Exclude the 'Books' category using the tilde character\n",
    "high_num_ratings = (df_ms['No of people Rated'] > 997) & ~(df_ms['Category'] =='Books')\n",
    "\n",
    "# To include multiple columns in the result, use a list.\n",
    "df_ms.loc[high_num_ratings,['Name', 'No of people Rated','Category','Price']]"
   ]
  },
  {
   "cell_type": "code",
   "execution_count": null,
   "metadata": {},
   "outputs": [],
   "source": [
    "# Only include certain categories. Use isin() instead of multiple OR statements\n",
    "include_categories = ['Books', 'Lifestyle', 'Social', 'Music']\n",
    "high_num_ratings = (df_ms['No of people Rated'] > 997) & (df_ms['Category'].isin(include_categories))\n",
    "                                                          \n",
    "# To include multiple columns in the result, use a list.\n",
    "df_ms.loc[high_num_ratings,['Name', 'No of people Rated','Category']]"
   ]
  },
  {
   "cell_type": "code",
   "execution_count": null,
   "metadata": {},
   "outputs": [],
   "source": [
    "# Find the Top 20 items by # of people rated\n",
    "df_ms.nlargest(20, ['No of people Rated'])"
   ]
  },
  {
   "cell_type": "code",
   "execution_count": null,
   "metadata": {},
   "outputs": [],
   "source": [
    "# Search for partial string within a column\n",
    "#   To avoid None (NaN) errors, set na=False\n",
    "string_filter = df_ms['Name'].str.contains('Psyc'.title(),na=False)\n",
    "df_ms.loc[string_filter, \"Name\"]"
   ]
  },
  {
   "cell_type": "code",
   "execution_count": null,
   "metadata": {},
   "outputs": [],
   "source": [
    "df_ms.describe()"
   ]
  },
  {
   "cell_type": "code",
   "execution_count": null,
   "metadata": {},
   "outputs": [],
   "source": [
    "df_ms['Name'].unique()"
   ]
  },
  {
   "cell_type": "code",
   "execution_count": null,
   "metadata": {},
   "outputs": [],
   "source": [
    "# What's happening? The filter results in a True/False 'mask' applied to the data\n",
    "#   Since only 5 of more than 5,000 app names contain the string 'Pysc' all visible mask items are False\n",
    "print(string_filter)"
   ]
  },
  {
   "cell_type": "markdown",
   "metadata": {},
   "source": [
    "# Grouping and Aggregating Data\n",
    "\n",
    "In this section, we will look at how to use the `groupby` Pandas method to aggregate data that resides in a Pandas DataFrame object. Essentiall, the `groupby` method allows us to define a subset of the columns in a DataFrame to aggregate on. We can then use defined and user-specifed functions to compute aggregate statistics for the aggregated data. The following table, modified from that found at https://jakevdp.github.io/PythonDataScienceHandbook/03.08-aggregation-and-grouping.html, describes some of the defined aggregations.\n",
    "\n",
    "<table>\n",
    "<thead><tr>\n",
    "<th>Aggregation</th>\n",
    "<th>Description</th>\n",
    "</tr>\n",
    "</thead>\n",
    "<tbody>\n",
    "<tr>\n",
    "<td><code>count()</code></td>\n",
    "<td>Total number of items</td>\n",
    "</tr>\n",
    "<tr>\n",
    "<td><code>first()</code>, <code>last()</code></td>\n",
    "<td>First and last item</td>\n",
    "</tr>\n",
    "<tr>\n",
    "<td><code>mean()</code>, <code>median()</code></td>\n",
    "<td>Mean and median</td>\n",
    "</tr>\n",
    "<tr>\n",
    "<td><code>min()</code>, <code>max()</code></td>\n",
    "<td>Minimum and maximum</td>\n",
    "</tr>\n",
    "<tr>\n",
    "<td><code>std()</code>, <code>var()</code></td>\n",
    "<td>Standard deviation and variance</td>\n",
    "</tr>\n",
    "<tr>\n",
    "<td><code>mad()</code></td>\n",
    "<td>Mean absolute deviation</td>\n",
    "</tr>\n",
    "<tr>\n",
    "<td><code>prod()</code></td>\n",
    "<td>Product of all items</td>\n",
    "</tr>\n",
    "<tr>\n",
    "<td><code>sum()</code></td>\n",
    "<td>Sum of all items</td>\n",
    "</tr>\n",
    "<tr>\n",
    "<td><code>unique()</code></td>\n",
    "<td>Unique values</td>\n",
    "</tr>\n",
    "<tr>\n",
    "<td><code>nunique()</code></td>\n",
    "<td>Number of unique values</td>\n",
    "</tr>\n",
    "</tbody>\n",
    "</table>\n",
    "\n",
    "The following code block demonstrates how to use the `groupby` method to compute the total sales for each of the stores included in the DataFrame. "
   ]
  },
  {
   "cell_type": "code",
   "execution_count": null,
   "metadata": {},
   "outputs": [],
   "source": [
    "sales_data.groupby(['Store'])['Sales'].sum()"
   ]
  },
  {
   "cell_type": "code",
   "execution_count": null,
   "metadata": {},
   "outputs": [],
   "source": [
    "# How would you group by product and display the total sales for each product?\n",
    "sales_data.groupby(['Product'])['Sales'].sum()"
   ]
  },
  {
   "cell_type": "markdown",
   "metadata": {},
   "source": [
    "The following code block provides a closer look at how the `groupby` method works. Specifically, if we convert the grouped object to a list, we see that we get a list of tuples. The first value in the tuple specifies the grouping, and the second item specifies the data that belongs to the associated group.\n",
    "\n",
    "[Back to Table of Contents](#Table_of_Contents)<br>"
   ]
  },
  {
   "cell_type": "code",
   "execution_count": null,
   "metadata": {},
   "outputs": [],
   "source": [
    "list(sales_data.groupby(['Store']))"
   ]
  },
  {
   "cell_type": "markdown",
   "metadata": {},
   "source": [
    "If a single column is specified for grouping, any aggregations are returned as a `Series` object. Thus, we can access the values using the indexing and selection methods for `Series` objects. For example, the following code block shows how to get the total sales for store *E1*."
   ]
  },
  {
   "cell_type": "code",
   "execution_count": null,
   "metadata": {},
   "outputs": [],
   "source": [
    "sales_data.groupby(['Store'])['Sales'].sum()['E1']"
   ]
  },
  {
   "cell_type": "markdown",
   "metadata": {},
   "source": [
    "If more than one column is specified for grouping, aggregated data is again returned as a `Series` object. However, this object will utilize a *multi-level* index as shown below."
   ]
  },
  {
   "cell_type": "code",
   "execution_count": null,
   "metadata": {},
   "outputs": [],
   "source": [
    "sales_data.groupby(['Store','Year'])['Sales'].sum()"
   ]
  },
  {
   "cell_type": "markdown",
   "metadata": {},
   "source": [
    "To access the total sales for store *E1* during 2007, we first need to get the data for store *E1*, as shown below."
   ]
  },
  {
   "cell_type": "code",
   "execution_count": null,
   "metadata": {},
   "outputs": [],
   "source": [
    "sales_data.groupby(['Store','Year'])['Sales'].sum()['E1']"
   ]
  },
  {
   "cell_type": "markdown",
   "metadata": {},
   "source": [
    "Then, we can index into the resulting `Series` to get the 2007 sales."
   ]
  },
  {
   "cell_type": "code",
   "execution_count": null,
   "metadata": {},
   "outputs": [],
   "source": [
    "sales_data.groupby(['Store','Year'])['Sales'].sum()['E1']['12/31/2007']"
   ]
  },
  {
   "cell_type": "markdown",
   "metadata": {},
   "source": [
    "Essentially, when multiple columns are grouped on, the resulting aggregations can be accessed in a manner that is similar to a multi-level dictionary. If we would like the object returned to resemble a DataFrame instead, we can set the optional `as_index` argument to `False`. This is demonstrated below. "
   ]
  },
  {
   "cell_type": "code",
   "execution_count": null,
   "metadata": {},
   "outputs": [],
   "source": [
    "sales_data.groupby(['Store','Year'], as_index = False)['Sales'].sum()"
   ]
  },
  {
   "cell_type": "markdown",
   "metadata": {},
   "source": [
    "In addition to grouping on several columns, we can also perform several aggregations using the `agg` method. The following code block shows an example where we group the `sales_data` object by *Store* and *Year*, and then determine the *mean*, *total*, and *maximum* sales for each grouping. "
   ]
  },
  {
   "cell_type": "code",
   "execution_count": null,
   "metadata": {},
   "outputs": [],
   "source": [
    "sales_data.groupby(['Store','Year'], as_index = False)['Sales'].agg({'mean','sum','max'})"
   ]
  },
  {
   "cell_type": "markdown",
   "metadata": {},
   "source": [
    "As you can see in the previous code block, even though we specified `as_index = False`, the returned object still utilizes a multi-level index. However, by *chaining* the expression with the `reset_index()` method, we can obtain a standard DataFrame object as shown below."
   ]
  },
  {
   "cell_type": "code",
   "execution_count": null,
   "metadata": {},
   "outputs": [],
   "source": [
    "sales_data.groupby(['Store','Year'], as_index = False)['Sales'].agg({'mean','sum','max'}).reset_index()"
   ]
  },
  {
   "cell_type": "markdown",
   "metadata": {},
   "source": [
    "We can also customize the column names as shown below."
   ]
  },
  {
   "cell_type": "code",
   "execution_count": null,
   "metadata": {},
   "outputs": [],
   "source": [
    "sales_data.groupby(['Store','Year'], as_index = False)['Sales'].agg({'Mean Sales':'mean',\n",
    "                                                                     'Total Sales':'sum',\n",
    "                                                                     'Maximum Sales':'max'}).reset_index()"
   ]
  },
  {
   "cell_type": "markdown",
   "metadata": {},
   "source": [
    "Finally, in addition to using the defined aggregations, a user can specify custom aggregations using a *lambda function*. A *lambda function* is essentially a function without a defined name. To apply a lambda function, we use the syntax `lambda my_var: my_func(my_var)`, where `my_var` represents a variable that will be passed as an argument and `myfunc()` represents a function that receives `my_var` as an argument. In the case of our groupby object, the values belonging to each group will be passed as the variable.\n",
    "\n",
    "The following code block shows how to use a lambda function to compute the $90^{th}$ percentile of the sales for each store, using NumPy's `percentile` method, along with the *mean*, *total*, and *maximum* sales for each store."
   ]
  },
  {
   "cell_type": "code",
   "execution_count": null,
   "metadata": {},
   "outputs": [],
   "source": [
    "sales_data.groupby(['Store','Year'], as_index = False)['Sales'].agg({'Mean Sales':'mean',\n",
    "                                                                     'Total Sales':'sum',\n",
    "                                                                     'Maximum Sales':'max',\n",
    "                                                                     '90% Sales': lambda x: np.percentile(x, 90)}).reset_index()"
   ]
  },
  {
   "cell_type": "markdown",
   "metadata": {},
   "source": [
    "It is also possible to perform different aggregations for different variables. However, it becomes quite complex to work with the returned objects. FOr more information, see https://pandas.pydata.org/pandas-docs/stable/groupby.html."
   ]
  },
  {
   "cell_type": "markdown",
   "metadata": {},
   "source": [
    "# Pivot Tables\n",
    "\n",
    "The previous section showed how the `groupby` functionality available in Pandas allows you to aggregate data that resides in a `DataFrame` object in a very flexible manner. However, many users are very familiar with the aggregation capabilities made available by Microsoft Excel's pivot table functionality. Noting this, the Pandas package comes with a builtin `pivot_table` method that attempts to replicate this functionality in a simple fashion.\n",
    "\n",
    "The following code block shows how to use this function to compute the `mean` sales for each store, by year. "
   ]
  },
  {
   "cell_type": "code",
   "execution_count": null,
   "metadata": {
    "scrolled": true
   },
   "outputs": [],
   "source": [
    "pd.pivot_table(sales_data, values = 'Sales', columns = 'Store', index = 'Year', aggfunc = 'mean')"
   ]
  },
  {
   "cell_type": "markdown",
   "metadata": {},
   "source": [
    "The following code block shows how to use this function to compute the total sales for each store, by year."
   ]
  },
  {
   "cell_type": "code",
   "execution_count": null,
   "metadata": {},
   "outputs": [],
   "source": [
    "pd.pivot_table(sales_data, values = 'Sales', columns = 'Store', index = 'Year', aggfunc = 'sum')"
   ]
  },
  {
   "cell_type": "code",
   "execution_count": null,
   "metadata": {},
   "outputs": [],
   "source": [
    "format_mapping = {\"Sales\": \"${:,.2f}\", \"E2\": \"{:,.0f}\", \"W1\": \"{:.2f}%\"}\n",
    "\n",
    "sales_data.style.format(format_mapping)"
   ]
  },
  {
   "cell_type": "code",
   "execution_count": null,
   "metadata": {},
   "outputs": [],
   "source": [
    "sales_data['Store'].unique()"
   ]
  },
  {
   "cell_type": "markdown",
   "metadata": {},
   "source": [
    "# Combining Datasets\n",
    "\n",
    "The final thing that we consider in this notebook is how to merge DataFrame objects. In particular, let's assume that we have another DataFrame object that includes information on each of the stores. The following code block creates such an object."
   ]
  },
  {
   "cell_type": "code",
   "execution_count": null,
   "metadata": {},
   "outputs": [],
   "source": [
    "stores_list = ['W1', 'E1', 'E2']\n",
    "\n",
    "city_list = ['City A', 'City B', 'City C',]\n",
    "\n",
    "state_list = ['State 1', 'State 2', 'State 2']\n",
    "\n",
    "my_dict = {'Store': stores_list,\n",
    "           'City': city_list,\n",
    "           'State': state_list}\n",
    "\n",
    "store_info = pd.DataFrame.from_dict(my_dict)\n",
    "\n",
    "store_info"
   ]
  },
  {
   "cell_type": "markdown",
   "metadata": {},
   "source": [
    "Let's assume that we want the total sales by state. To calculate this quantity, we first need to group the data in the `sales_data` object by store. This grouping is performed in the following code block, and the resulting object is stored in a new object called `grouped_data`."
   ]
  },
  {
   "cell_type": "code",
   "execution_count": null,
   "metadata": {},
   "outputs": [],
   "source": [
    "grouped_data = sales_data.groupby('Store', as_index = False)['Sales'].sum()\n",
    "grouped_data"
   ]
  },
  {
   "cell_type": "markdown",
   "metadata": {},
   "source": [
    "We can now use Pandas `merge` method to merge the `grouped_data` object with the `store_info` object. Since they both have a column that is named *Store*, the method will merge on this common column. This is shown below."
   ]
  },
  {
   "cell_type": "code",
   "execution_count": null,
   "metadata": {},
   "outputs": [],
   "source": [
    "grouped_data.merge(store_info)"
   ]
  },
  {
   "cell_type": "markdown",
   "metadata": {},
   "source": [
    "We can now *chain* the `groupby` method to the end of the merged data to obtain the total sales by store as is shown in the following code block."
   ]
  },
  {
   "cell_type": "code",
   "execution_count": null,
   "metadata": {},
   "outputs": [],
   "source": [
    "grouped_data.merge(store_info).groupby('State', as_index = False)['Sales'].sum()"
   ]
  },
  {
   "cell_type": "markdown",
   "metadata": {},
   "source": [
    "**Note that we could have performed the merging and aggregation in a single, *chained* statement as follows.**"
   ]
  },
  {
   "cell_type": "code",
   "execution_count": null,
   "metadata": {},
   "outputs": [],
   "source": [
    "sales_data.groupby('Store', as_index = False)['Sales'].sum()\\\n",
    ".merge(store_info).groupby('State', as_index = False)['Sales'].sum()"
   ]
  },
  {
   "cell_type": "markdown",
   "metadata": {},
   "source": [
    "Let's now consider the case where we don't have nformation for all of the stores. The following code block creates a new version of the `store_info` object where we only have information for stores *E1* and *W1*."
   ]
  },
  {
   "cell_type": "code",
   "execution_count": null,
   "metadata": {},
   "outputs": [],
   "source": [
    "stores_list = ['W1', 'E1', ]\n",
    "\n",
    "city_list = ['City A', 'City B',]\n",
    "\n",
    "state_list = ['State 1', 'State 2']\n",
    "\n",
    "my_dict = {'Store': stores_list,\n",
    "           'City': city_list,\n",
    "           'State': state_list}\n",
    "\n",
    "store_info2 = pd.DataFrame.from_dict(my_dict)\n",
    "\n",
    "store_info2"
   ]
  },
  {
   "cell_type": "markdown",
   "metadata": {},
   "source": [
    "The following code block shows the result of using the `merge` method to combine the `grouped_data` object with our new `store_info2` object. As you can see, with the default arguments, the returned object only includes records for stores included in both objects. Actually, the `method` is performing what is known as a *inner* where only records in both DataFrame objects are returned."
   ]
  },
  {
   "cell_type": "code",
   "execution_count": null,
   "metadata": {},
   "outputs": [],
   "source": [
    "grouped_data.merge(store_info2)"
   ]
  },
  {
   "cell_type": "markdown",
   "metadata": {},
   "source": [
    "If we wanted the object returned to include records for all stores, even if one is missing in one of the DataFrames being joined, we can specify an *outer* join using the `how` argument. This is shown in the following code block. Since he `store_info2` object does not include any information for store *E2*, we will get a `NaN` value for the *City* and *State* columns of the associated row in the returned object."
   ]
  },
  {
   "cell_type": "code",
   "execution_count": null,
   "metadata": {},
   "outputs": [],
   "source": [
    "grouped_data.merge(store_info2, how = 'outer')"
   ]
  },
  {
   "cell_type": "markdown",
   "metadata": {},
   "source": [
    "The Pandas package includes additional capabilities for joining DataFrame objects. For more info, see https://jakevdp.github.io/PythonDataScienceHandbook/03.07-merge-and-join.html."
   ]
  }
 ],
 "metadata": {
  "kernelspec": {
   "display_name": "Python 3",
   "language": "python",
   "name": "python3"
  },
  "language_info": {
   "codemirror_mode": {
    "name": "ipython",
    "version": 3
   },
   "file_extension": ".py",
   "mimetype": "text/x-python",
   "name": "python",
   "nbconvert_exporter": "python",
   "pygments_lexer": "ipython3",
   "version": "3.9.5"
  },
  "toc-autonumbering": true,
  "toc-showmarkdowntxt": false
 },
 "nbformat": 4,
 "nbformat_minor": 4
}
