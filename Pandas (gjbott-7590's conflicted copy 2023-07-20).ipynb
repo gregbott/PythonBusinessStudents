{
 "cells": [
  {
   "cell_type": "markdown",
   "id": "58eb3e84-30c1-49a3-8202-b086d718a08f",
   "metadata": {},
   "source": [
    "#### Initialize variables"
   ]
  },
  {
   "cell_type": "code",
   "execution_count": null,
   "id": "cdae03bf-4745-464d-b80c-d259d6ccc564",
   "metadata": {},
   "outputs": [],
   "source": [
    "import pandas as pd\n",
    "import numpy as np\n",
    "import matplotlib.pyplot as plt\n",
    "import random\n",
    "\n",
    "grades = [88, np.NaN, 100, 92, None, 95, 82, 100, 100, 95]\n",
    "grade_series = pd.Series(grades)\n",
    "\n",
    "grades = [88, np.NaN, 100, 92, None, 95, 82, 100, 100, 95]\n",
    "students = ['dmac', 'edev', 'joeb', 'tdog', 'txroy', 'sthicks', 'jfrerk', 'spickard', 'choenes', 'jsisson']\n",
    "student_grades_series = pd.Series(grades, students)\n",
    "\n",
    "df_people = pd.read_csv('files/people_data.csv')\n",
    "small_df = df_people.iloc[:10,:].copy()\n",
    "df_super = pd.read_csv('files/supermarket_sales.csv')\n",
    "\n",
    "pd.set_option('display.max_rows', 100)\n",
    "pd.set_option('display.max_columns', 50)"
   ]
  },
  {
   "cell_type": "markdown",
   "id": "0893310d-9bdd-4a7d-8e9a-37091199e109",
   "metadata": {
    "tags": []
   },
   "source": [
    "# What is Pandas?\n",
    "<a id=\"pandas\"> </a>\n",
    "\n",
    "The `pandas` package is one of the most popular Python tools for data management and manipulation. `pandas` is built *on top* of `numpy`. Thus, much of the functionality and methods that are available in `numpy` are also available in `pandas`. "
   ]
  },
  {
   "cell_type": "markdown",
   "id": "f8ce6256-6b5b-419a-9145-82b257e14155",
   "metadata": {},
   "source": [
    "## Installing Pandas\n",
    "The`pandas` package is included with Anconda, but can be installed using either `conda` or `pip`.\n",
    "```Python\n",
    "# Use default channel\n",
    "conda install pandas\n",
    "\n",
    "# Specify the conda-forge channel\n",
    "conda install -c conda-forge pandas\n",
    "\n",
    "# Use pip\n",
    "pip install pandas\n",
    "\n",
    "```"
   ]
  },
  {
   "cell_type": "markdown",
   "id": "a3867869-4625-4a7a-8d3a-e63bdabad71d",
   "metadata": {},
   "source": [
    "## Set max rows/columns"
   ]
  },
  {
   "cell_type": "markdown",
   "id": "bd52f304-9043-4fba-8ebb-44760f2eb801",
   "metadata": {},
   "source": [
    "To see more than the default number of rows and column, set the display options."
   ]
  },
  {
   "cell_type": "code",
   "execution_count": null,
   "id": "6e9f6695-cde0-4461-8158-b7466bd9ae85",
   "metadata": {},
   "outputs": [],
   "source": [
    "import pandas as pd\n",
    "\n",
    "pd.set_option('display.max_columns', 85)\n",
    "pd.set_option('display.max_rows', 85)"
   ]
  },
  {
   "cell_type": "markdown",
   "id": "0a15a2c7-58a0-473c-beed-d5c062563621",
   "metadata": {},
   "source": [
    "# Series and DataFrames\n",
    "A pandas Series object is a one-dimensional labeled array that can hold any data type. It is one of two fundamental data structures provided by the pandas library. The other data structure is the DataFrame, which we'll examine next. Isolating a single column from a DataFrame results in a Series object.\n",
    "\n",
    "A Series consists of two main components: the index and the data. The index provides labels for each element in the Series, allowing for easy and efficient data access and alignment. The data component contains the actual values.\n",
    "\n",
    "You can create a Series using various data sources, such as lists, arrays, dictionaries, DataFrames, or even other Series objects. Here's an example of creating a Series from a list:"
   ]
  },
  {
   "cell_type": "code",
   "execution_count": null,
   "id": "57ccf6de-9f87-4a46-af3b-0efd610d4d62",
   "metadata": {},
   "outputs": [],
   "source": [
    "grades = [88, 67, 100, 92, None, 95, 82, 100, 100, 95]\n",
    "grade_series = pd.Series(grades)\n",
    "grade_series"
   ]
  },
  {
   "cell_type": "markdown",
   "id": "31bfa74e-30ec-456f-bbca-cbbe252721d9",
   "metadata": {},
   "source": [
    "Note that a default index is added to the grades to create the series object.\n",
    "\n",
    "Alternatively, you can specify an index. In this case, the stduent ID is provided as the index."
   ]
  },
  {
   "cell_type": "code",
   "execution_count": null,
   "id": "8d2f45cf-f84e-4ab7-be9d-1710734a6be5",
   "metadata": {},
   "outputs": [],
   "source": [
    "grades = [88, 67, 100, 92, None, 95, 82, 100, 100, 95]\n",
    "students = ['dmac', 'edev', 'joeb', 'tdog', 'txroy', 'sthicks', 'jfrerk', 'spickard', 'choenes', 'jsisson']\n",
    "student_grades_series = pd.Series(grades, students)\n",
    "student_grades_series"
   ]
  },
  {
   "cell_type": "markdown",
   "id": "ee54565a-6463-448d-ad15-cc22be90278f",
   "metadata": {},
   "source": [
    "Understanding what type of object you're working with is important in any programming language. Different objects (classes) have different methods and attributes. A pandas Series object has different methods and attributes than a pandas DataFrame. Below is a partial listing of the methods available with Series objects."
   ]
  },
  {
   "cell_type": "markdown",
   "id": "d4804255-7e42-41c7-bd35-1237182856ef",
   "metadata": {
    "tags": []
   },
   "source": [
    "## Series functions"
   ]
  },
  {
   "cell_type": "markdown",
   "id": "e0baa78b-2055-449b-86f4-8dbedce817e5",
   "metadata": {},
   "source": [
    "### head()/tail()\n",
    "View the first few or last few items in a Series using head/tail."
   ]
  },
  {
   "cell_type": "code",
   "execution_count": null,
   "id": "41e09fd1-7570-44b0-ad71-74b07c9115c8",
   "metadata": {},
   "outputs": [],
   "source": [
    "grade_series.head(10)"
   ]
  },
  {
   "cell_type": "code",
   "execution_count": null,
   "id": "297b4611-cb6c-482b-a038-753c686d881f",
   "metadata": {},
   "outputs": [],
   "source": [
    "grade_series.tail()"
   ]
  },
  {
   "cell_type": "markdown",
   "id": "e318871f-a08a-44c8-98ca-077f93dd8969",
   "metadata": {},
   "source": [
    "### Math functions\n",
    "* describe() - Display descriptive statistics of your data using the ```describe()``` function.\n",
    "* sum()\n",
    "* min()\n",
    "* mode()\n",
    "* max()\n",
    "* mean()\n",
    "* median()\n",
    "* std()"
   ]
  },
  {
   "cell_type": "code",
   "execution_count": null,
   "id": "b826f001-6efe-4872-a0af-db6e8c14d166",
   "metadata": {},
   "outputs": [],
   "source": [
    "grade_series.describe()"
   ]
  },
  {
   "cell_type": "code",
   "execution_count": null,
   "id": "6545663b-3ab5-403f-b5be-20b1a468cde0",
   "metadata": {},
   "outputs": [],
   "source": [
    "grade_series.min()"
   ]
  },
  {
   "cell_type": "code",
   "execution_count": null,
   "id": "5ac97cf1-abb8-4cfb-9743-f5cb236b95b0",
   "metadata": {},
   "outputs": [],
   "source": [
    "grade_series.mode()"
   ]
  },
  {
   "cell_type": "code",
   "execution_count": null,
   "id": "7e0ba24b-895b-4c65-9cd4-5a1cc516a7c8",
   "metadata": {},
   "outputs": [],
   "source": [
    "grade_series.median()"
   ]
  },
  {
   "cell_type": "code",
   "execution_count": null,
   "id": "51bfbb7a",
   "metadata": {},
   "outputs": [],
   "source": [
    "grade_series.min()"
   ]
  },
  {
   "cell_type": "markdown",
   "id": "a8a153d2-51d8-49b7-b11c-968ddba171fb",
   "metadata": {},
   "source": [
    "### Data Manipulation Functions\n",
    "* isna() - checks for missing values (null/NaN)\n",
    "* unique() - returns an list of unique values\n",
    "* value_counts() - returns the fequencies of unique values\n",
    "* apply(function) - applies a function to each element\n",
    "* dropna() - returns a new series with missing values removed"
   ]
  },
  {
   "cell_type": "markdown",
   "id": "24bc9517-1ef1-4eb0-9576-6bdb72c3b745",
   "metadata": {},
   "source": [
    "### isna()\n",
    "Use ```isna()``` to check for missing values. A True/False series is returned, which corresponds to each item in the series. True indicates the value is NaN or None. NaN means \"Not a Number.\""
   ]
  },
  {
   "cell_type": "code",
   "execution_count": null,
   "id": "13310c2b-b0d8-44eb-b60b-96182a7d61c4",
   "metadata": {},
   "outputs": [],
   "source": [
    "grade_series.isna()"
   ]
  },
  {
   "cell_type": "markdown",
   "id": "77ef2096-97eb-4a86-b646-0c86e30a7fb7",
   "metadata": {},
   "source": [
    "### unique() - Find unique values"
   ]
  },
  {
   "cell_type": "code",
   "execution_count": null,
   "id": "3b990d19-ee1a-4a18-b4e9-fd0a578449fe",
   "metadata": {},
   "outputs": [],
   "source": [
    "df_people.dtypes"
   ]
  },
  {
   "cell_type": "code",
   "execution_count": null,
   "id": "685db1ed-f185-4b9d-8ca7-f231140b0789",
   "metadata": {},
   "outputs": [],
   "source": [
    "df_people['Occupation'].unique()"
   ]
  },
  {
   "cell_type": "code",
   "execution_count": null,
   "id": "64f49abd-c2a6-4191-b0d0-9e098bef014e",
   "metadata": {},
   "outputs": [],
   "source": [
    "print(grade_series.unique())"
   ]
  },
  {
   "cell_type": "markdown",
   "id": "b5581df2-ce15-4505-86b8-021c9a856c35",
   "metadata": {},
   "source": [
    "### Series.apply() function\n",
    "\n",
    "```Python\n",
    "Series.apply(func, convert_dtype=True, args=(), **kwds)\n",
    "```\n",
    "\n",
    "Use the apply function to modify every item in a series using a standard or custom function. In this example, we use a custom function to create a series containing the letter grade."
   ]
  },
  {
   "cell_type": "code",
   "execution_count": null,
   "id": "c0923e24-79eb-4f0a-b636-4301041e8724",
   "metadata": {},
   "outputs": [],
   "source": [
    "def number_to_letter_grade(score):\n",
    "\n",
    "    if score > 89:\n",
    "        return \"A\"\n",
    "    elif score > 79:\n",
    "        return \"B\"\n",
    "    elif score > 69:\n",
    "        return \"C\"\n",
    "    elif score > 59:\n",
    "        return \"D\"\n",
    "    else:\n",
    "        return \"F\"\n",
    "    "
   ]
  },
  {
   "cell_type": "code",
   "execution_count": null,
   "id": "d1d578d5-f3b8-49db-bdee-25f7b6ff2bfb",
   "metadata": {},
   "outputs": [],
   "source": [
    "number_to_letter_grade(88)"
   ]
  },
  {
   "cell_type": "code",
   "execution_count": null,
   "id": "0bae41b2-f77d-40f0-9db0-f4514297224d",
   "metadata": {},
   "outputs": [],
   "source": [
    "grade_series"
   ]
  },
  {
   "cell_type": "markdown",
   "id": "12803cd2-d67a-411c-839f-de96c31b225f",
   "metadata": {},
   "source": [
    "apply() - Modifying values using a function"
   ]
  },
  {
   "cell_type": "code",
   "execution_count": null,
   "id": "d43d0dc4-ef1f-40b7-8670-37bfbf305df1",
   "metadata": {},
   "outputs": [],
   "source": [
    "letter_series = grade_series.apply(number_to_letter_grade)"
   ]
  },
  {
   "cell_type": "code",
   "execution_count": null,
   "id": "0c531ea4-5028-417c-b815-90f395f75a60",
   "metadata": {},
   "outputs": [],
   "source": [
    "letter_series"
   ]
  },
  {
   "cell_type": "code",
   "execution_count": null,
   "id": "3d6629de-249c-4336-a43e-8670d28d71c1",
   "metadata": {},
   "outputs": [],
   "source": [
    "grades_no_missing = grade_series.fillna(0)\n",
    "grades_no_missing"
   ]
  },
  {
   "cell_type": "markdown",
   "id": "03edf4d9-6350-4b7d-bcaa-7b56c786af2c",
   "metadata": {},
   "source": [
    "### Series.replace()\n",
    "```Python\n",
    "Series.replace(to_replace=None, value=None, inplace=False, limit=None, regex=False, method=’pad’)\n",
    "```"
   ]
  },
  {
   "cell_type": "markdown",
   "id": "017f815f-3f4a-433a-b094-bd21e36f7f9b",
   "metadata": {},
   "source": [
    "Notice that the None/null/NaN item has been removed."
   ]
  },
  {
   "cell_type": "markdown",
   "id": "c69e12d0-be3a-4be6-85f5-cf9fd9868399",
   "metadata": {},
   "source": [
    "# Indexes"
   ]
  },
  {
   "cell_type": "markdown",
   "id": "929b870c-6929-4659-b63e-3134d3b4cd2e",
   "metadata": {},
   "source": [
    "## Loading data and specifying an index\n",
    "If the data you are loading has a column that should be used as an index, you can specify that column as the index. Although there are better attributes to use for an index, we could index individuals using their email address number using the following statement. Note that the Email column appears far left and in bold indicating is is the index. Also note that ```inplace=True``` was passed as a parameter which effectives \"saves\" the changes made to the index. Without that parameter, the DataFrame will display Email as the index, but the DataFrame remains unchanged."
   ]
  },
  {
   "cell_type": "code",
   "execution_count": null,
   "id": "ee501655-bd53-4837-b822-18356e7bfa9e",
   "metadata": {},
   "outputs": [],
   "source": [
    "df_people.set_index('Email',inplace=True)\n",
    "df_people.head()"
   ]
  },
  {
   "cell_type": "code",
   "execution_count": null,
   "id": "b6e6e8be-f15b-4e31-9b0b-84569386e380",
   "metadata": {},
   "outputs": [],
   "source": [
    "df_people.loc['s.miller@randatmail.com']"
   ]
  },
  {
   "cell_type": "code",
   "execution_count": null,
   "id": "d6808ad3-2651-4297-b35f-1c86bedd2e68",
   "metadata": {},
   "outputs": [],
   "source": [
    "# After\n",
    "df_people = df_people.reset_index(drop=False)"
   ]
  },
  {
   "cell_type": "code",
   "execution_count": null,
   "id": "844e3955-ec55-44c2-a569-76a5ff26677e",
   "metadata": {},
   "outputs": [],
   "source": [
    "df_people"
   ]
  },
  {
   "cell_type": "code",
   "execution_count": null,
   "id": "1ef4def4-c1b3-4440-99a7-3c671606dd03",
   "metadata": {},
   "outputs": [],
   "source": [
    "# Before - didn't work\n",
    "df_people.set_index(df_people['Marital Status'])"
   ]
  },
  {
   "cell_type": "code",
   "execution_count": null,
   "id": "27baac6c-2185-47c1-919a-2d2719030563",
   "metadata": {},
   "outputs": [],
   "source": [
    "df_people"
   ]
  },
  {
   "cell_type": "code",
   "execution_count": null,
   "id": "128a2259-8af7-4d3a-8c72-a2a32f5c1eed",
   "metadata": {},
   "outputs": [],
   "source": [
    "df_phone = df_people.set_index('Phone')"
   ]
  },
  {
   "cell_type": "code",
   "execution_count": null,
   "id": "0d61f81d-9cce-4894-977b-3be5a8c7f249",
   "metadata": {},
   "outputs": [],
   "source": [
    "df_phone"
   ]
  },
  {
   "cell_type": "markdown",
   "id": "217c9059-a86d-435f-9068-4619325f431a",
   "metadata": {},
   "source": [
    "# Locating and Filtering data"
   ]
  },
  {
   "cell_type": "code",
   "execution_count": null,
   "id": "122e7920-3b0c-4620-90f8-3fd588faf939",
   "metadata": {},
   "outputs": [],
   "source": [
    "import pandas as pd\n",
    "df_people = pd.read_csv('files/people_data.csv')\n",
    "print(df_people.shape)\n",
    "df_people.head()"
   ]
  },
  {
   "cell_type": "markdown",
   "id": "890a424d-eec9-4131-8af9-42451580b026",
   "metadata": {},
   "source": [
    "## Using iloc()\n",
    "The iloc function in pandas is used for indexing and selecting data from a DataFrame based on integer positions. It allows you to specify row and column indices to access specific data points or subsets of the DataFrame.\n",
    "\n",
    "The general syntax of iloc is:\n",
    "\n",
    "```Python\n",
    "df.iloc[row_index(s), column_index(s)]\n",
    "\n",
    "\n",
    "```"
   ]
  },
  {
   "cell_type": "code",
   "execution_count": null,
   "id": "4a1b2343-ebe2-4fe1-906a-27e05a4bd08d",
   "metadata": {},
   "outputs": [],
   "source": [
    "# Return the first row. Since it is one-dimensional, it is returned as a Series.\n",
    "df_people.iloc[1]"
   ]
  },
  {
   "cell_type": "code",
   "execution_count": null,
   "id": "e17c8e83-b48c-4887-82f8-aaa3637183d2",
   "metadata": {},
   "outputs": [],
   "source": [
    "# Select the first five rows and column indexes 0, 1, and 3.\n",
    "df_people.iloc[:5,[0,1,3]]"
   ]
  },
  {
   "cell_type": "code",
   "execution_count": null,
   "id": "2e58b40b-bdc1-406d-a1ad-a1f6fef4e8b9",
   "metadata": {},
   "outputs": [],
   "source": [
    "# Return the first 8 rows and first 4 columns (the 0 can be ommitted)\n",
    "df_people.iloc[0:8,0:4]"
   ]
  },
  {
   "cell_type": "code",
   "execution_count": null,
   "id": "b19671a7-04a0-40c2-94e9-88c737aa94a1",
   "metadata": {},
   "outputs": [],
   "source": [
    "# Return rows 1, 3, and 5 and show only the first name, last name, and salary\n",
    "df_people.iloc[[1,3,5],[0,1,9]]"
   ]
  },
  {
   "cell_type": "markdown",
   "id": "e0436c15-09d3-40a3-896f-078768439023",
   "metadata": {},
   "source": [
    "## Using loc()\n",
    "The ```loc()``` function in pandas is used for indexing and selecting data from a DataFrame based on labels. It allows you to specify row and column labels to access specific data points or subsets of the DataFrame.\n",
    "\n",
    "The general syntax of loc is:\n",
    "\n",
    "```Python\n",
    "df.loc[row_label(s), column_label(s)]\n",
    "```"
   ]
  },
  {
   "cell_type": "code",
   "execution_count": null,
   "id": "8f8ffb37-ef47-4e66-8c47-3df85e7e6b08",
   "metadata": {},
   "outputs": [],
   "source": [
    "# If the requested value is not in the index, a KeyError exception is raised.\n",
    "try:\n",
    "    print(df_people.loc['r.sullivan@randatmail.com'])\n",
    "except KeyError:\n",
    "    print(\"KeyError: Confirm the value requested is in the indexed values.\")"
   ]
  },
  {
   "cell_type": "code",
   "execution_count": null,
   "id": "369d3f4c-5101-44f1-8ea4-7bd28c55251c",
   "metadata": {},
   "outputs": [],
   "source": [
    "df_people.set_index('Email', inplace=True)"
   ]
  },
  {
   "cell_type": "code",
   "execution_count": null,
   "id": "f2072026-36bf-4f44-b039-8f3c8bb35b57",
   "metadata": {},
   "outputs": [],
   "source": [
    "df_people.head()"
   ]
  },
  {
   "cell_type": "code",
   "execution_count": null,
   "id": "b83583d3-aaa3-45a7-835b-79573e411f5e",
   "metadata": {},
   "outputs": [],
   "source": [
    "try:\n",
    "    print(df_people.loc['r.sullivan@randatmail.com'])\n",
    "except KeyError:\n",
    "    print(\"KeyError: Confirm the value requested is in the indexed values.\")"
   ]
  },
  {
   "cell_type": "code",
   "execution_count": null,
   "id": "1f540e6c-3888-4805-941f-5a9734c74121",
   "metadata": {},
   "outputs": [],
   "source": [
    "df_people.loc[0:5, ['First Name', 'Last Name', 'Phone']]"
   ]
  },
  {
   "cell_type": "code",
   "execution_count": null,
   "id": "4c566f00-fb76-4544-88e6-588e60aa956f",
   "metadata": {},
   "outputs": [],
   "source": [
    "df_people"
   ]
  },
  {
   "cell_type": "code",
   "execution_count": null,
   "id": "e973bbb6-017d-46c1-a466-eecf7bde6428",
   "metadata": {},
   "outputs": [],
   "source": [
    "married_filter = (df_people['Marital Status'] == \"Married\")"
   ]
  },
  {
   "cell_type": "code",
   "execution_count": null,
   "id": "b67ce71a-2388-47ed-b372-988c7fe12094",
   "metadata": {},
   "outputs": [],
   "source": [
    "df_email_index = df_people.loc[married_filter]\n",
    "df_email_index.head()"
   ]
  },
  {
   "cell_type": "markdown",
   "id": "3d26d461-7635-4ec6-9680-f7458b4080b3",
   "metadata": {},
   "source": [
    "## Using logic and multiple attributes to locate data\n",
    "If we wanted to find Managers and Engineers who are married, we would use the following filter. Note the use of '&' for 'and' and the vertial bar '|' for 'or'."
   ]
  },
  {
   "cell_type": "code",
   "execution_count": null,
   "id": "b0b9fb81-d4ec-4c93-bb52-7664628fc909",
   "metadata": {},
   "outputs": [],
   "source": [
    "# married & (manager OR engineer)\n",
    "\n",
    "multi_filter = (df_people['Marital Status'] == \"Married\")\n",
    "multi_filter = multi_filter & (df_people['Occupation']=='Manager') | (df_people['Occupation']=='Engineer') | (df_people['Occupation'] == 'Lawer'))"
   ]
  },
  {
   "cell_type": "code",
   "execution_count": null,
   "id": "a370fa5a-8fce-4f6e-919e-07175a057084",
   "metadata": {},
   "outputs": [],
   "source": [
    "df_people.loc[multi_filter]"
   ]
  },
  {
   "cell_type": "markdown",
   "id": "18c44a66-95c4-495a-85f2-c612ad5f6e97",
   "metadata": {},
   "source": [
    "# Modifying data"
   ]
  },
  {
   "cell_type": "markdown",
   "id": "8f21a5d9-d664-4211-a523-ac9a4c3cb8f4",
   "metadata": {},
   "source": [
    "## apply() function\n",
    "Use the apply function to modify every item in a series using a standard or custom function. In this example, we use a custom function to create a series containing the letter grade."
   ]
  },
  {
   "cell_type": "markdown",
   "id": "be4ad292-12ce-4394-a163-a8825bcbbc69",
   "metadata": {},
   "source": [
    "## unique() and nunique()\n",
    "\n",
    "The ```unique()``` function returns an array or list containing all the unique values present in a Series or column of a DataFrame. It eliminates any duplicates and provides a sorted array of unique values.\n",
    "\n",
    "The ```nunique()``` function returns the count of unique values in a Series or column of a DataFrame. It provides the total number of distinct values, excluding any duplicates."
   ]
  },
  {
   "cell_type": "code",
   "execution_count": null,
   "id": "f67a0046-8e2f-4fd8-b2b8-fbc82670eae2",
   "metadata": {},
   "outputs": [],
   "source": [
    "list(df_people['Occupation'].unique()).sort()"
   ]
  },
  {
   "cell_type": "code",
   "execution_count": null,
   "id": "e2445374-a8d5-4bc7-b0eb-94d46e2c1f23",
   "metadata": {},
   "outputs": [],
   "source": [
    "sorted(list(df_people['Occupation'].unique()))"
   ]
  },
  {
   "cell_type": "code",
   "execution_count": null,
   "id": "ca2e590e-85cd-4187-9af0-432355703415",
   "metadata": {},
   "outputs": [],
   "source": [
    "# dataframe.loc[column filter] = new value\n",
    "df_people.loc[df_people['Occupation']=='Agronamist'] = 'Agronomist'"
   ]
  },
  {
   "cell_type": "code",
   "execution_count": null,
   "id": "ae1e1bb3-3479-4f5c-b8f1-dd11f0ea49c8",
   "metadata": {},
   "outputs": [],
   "source": [
    "df_people.head()"
   ]
  },
  {
   "cell_type": "markdown",
   "id": "57ad1c81-8ee1-461f-b4f0-97b3d8bfc132",
   "metadata": {},
   "source": [
    "## replace() function\n",
    "Use the DataFrame.replace() function to replace strings, lits, series, dictionaries, numbers, and via regex.\n",
    "\n",
    "```Python\n",
    "DataFrame.replace(to_replace=None, value=None, inplace=False, limit=None, regex=False, method=’pad’, axis=None)\n",
    "``"
   ]
  },
  {
   "cell_type": "code",
   "execution_count": null,
   "id": "bd085c94-b937-4d8b-932c-ddfcabc45b60",
   "metadata": {},
   "outputs": [],
   "source": [
    "# Reset the df_people DataFrame\n",
    "df_people = pd.read_csv('files/people_data.csv')\n",
    "df_people.head()"
   ]
  },
  {
   "cell_type": "code",
   "execution_count": null,
   "id": "729629d6-a9bb-4659-9868-8d8f88deffb3",
   "metadata": {},
   "outputs": [],
   "source": [
    "df_people['Occupation'] = df_people['Occupation'].replace('Agronamist','Agronomist')\n",
    "df_people.head()"
   ]
  },
  {
   "cell_type": "code",
   "execution_count": null,
   "id": "c8b5cde9-0447-4943-8cb5-33f43daad710",
   "metadata": {},
   "outputs": [],
   "source": [
    "df_people['Occupation'].nunique()"
   ]
  },
  {
   "cell_type": "markdown",
   "id": "18554e45-eb93-4eee-b714-b363171f9ae7",
   "metadata": {},
   "source": [
    "### Replacing multiple values simultaneously\n",
    "Rather than write a statement for each change, you can pass a dictionary to the replace function with the item to be changed as the key, the the new item as the value."
   ]
  },
  {
   "cell_type": "code",
   "execution_count": null,
   "id": "b2c182c5-871f-4cf6-babb-d523b233a61c",
   "metadata": {},
   "outputs": [],
   "source": [
    "replace_dict = {'Agronamist':'Agronomist', 'Lawer':'Lawyer', 'Veteranarian':'Veterinarian'}"
   ]
  },
  {
   "cell_type": "code",
   "execution_count": null,
   "id": "a552ff69-7ba8-49ab-9d3f-8211c5d03366",
   "metadata": {},
   "outputs": [],
   "source": [
    "df_people['Occupation'] = df_people['Occupation'].replace(replace_dict)"
   ]
  },
  {
   "cell_type": "code",
   "execution_count": null,
   "id": "68cbc2d2-b1f2-4e8b-bfa0-eddb28b8432d",
   "metadata": {},
   "outputs": [],
   "source": [
    "sorted(list(df_people['Occupation'].unique()))"
   ]
  },
  {
   "cell_type": "code",
   "execution_count": null,
   "id": "9427d909-3bcc-47d8-ab09-f8bda3d0d3a2",
   "metadata": {},
   "outputs": [],
   "source": [
    "print(df_people['Education'].unique())\n",
    "print(df_people['Education'].nunique())"
   ]
  },
  {
   "cell_type": "markdown",
   "id": "5b14283a-3225-4660-9eba-110808685c8b",
   "metadata": {},
   "source": [
    "# Grouping and Aggregating"
   ]
  },
  {
   "cell_type": "markdown",
   "id": "17abe0df-88d1-494a-85d1-2e05cd0e62ab",
   "metadata": {},
   "source": [
    "Invoking the groupby() function on a DataFrame returns a pandas groupby object."
   ]
  },
  {
   "cell_type": "code",
   "execution_count": null,
   "id": "e8705782-81c7-448e-b046-71cf7a14bd79",
   "metadata": {},
   "outputs": [],
   "source": [
    "occupation_grp = df_people.groupby('Occupation')"
   ]
  },
  {
   "cell_type": "markdown",
   "id": "cee3d9d5-1b19-4e71-9d87-92f71552d365",
   "metadata": {},
   "source": [
    "Specify the columns of interest and the aggregation function, for example, mean(), to diplay the results."
   ]
  },
  {
   "cell_type": "code",
   "execution_count": null,
   "id": "a6291eb8-3570-43e8-ae28-1990d2af0282",
   "metadata": {},
   "outputs": [],
   "source": [
    "by_salary = df_people.groupby('Occupation')[['Experience (Years)', 'Salary']].mean()"
   ]
  },
  {
   "cell_type": "code",
   "execution_count": null,
   "id": "6aede330-2a8c-400c-80d5-48b79a4f45e8",
   "metadata": {},
   "outputs": [],
   "source": [
    "by_salary.head()"
   ]
  },
  {
   "cell_type": "code",
   "execution_count": null,
   "id": "d2700a42-7268-47c1-90b9-fbd083f275f9",
   "metadata": {},
   "outputs": [],
   "source": [
    "by_salary.sort_values(['Salary'], ascending=False).head()"
   ]
  },
  {
   "cell_type": "code",
   "execution_count": null,
   "id": "5fc5101e-8ac5-44a9-a7b2-c81b31694bfd",
   "metadata": {},
   "outputs": [],
   "source": [
    "by_salary.sort_values(['Salary'], ascending=True).head()"
   ]
  },
  {
   "cell_type": "markdown",
   "id": "0a3cf228-6e24-48f6-a2ec-6ba0d77931fa",
   "metadata": {},
   "source": [
    "You can also group by multiple columns. We can group by occupations and then gender to examine the difference in experience and salary between genders in the same occupation."
   ]
  },
  {
   "cell_type": "code",
   "execution_count": null,
   "id": "05db9fb3-4d85-408c-a2ff-ba41b2463470",
   "metadata": {},
   "outputs": [],
   "source": [
    "df_people.groupby(['Occupation','Gender'], as_index=False)[['Experience (Years)', 'Salary']].mean().head(10)"
   ]
  },
  {
   "cell_type": "code",
   "execution_count": null,
   "id": "d57169d8-4c45-4cf1-87e3-e403c5a93679",
   "metadata": {},
   "outputs": [],
   "source": [
    "df_people.groupby(['Occupation','Gender'], as_index=False)[['Experience (Years)', 'Salary']].agg(['mean','min','max']).head(6)"
   ]
  },
  {
   "cell_type": "code",
   "execution_count": null,
   "id": "70c83e29-f41b-4fb1-a826-b34e54b14eac",
   "metadata": {},
   "outputs": [],
   "source": [
    "df_people['Experience (Years)'].unique()"
   ]
  },
  {
   "cell_type": "code",
   "execution_count": null,
   "id": "da7e4872-d7cd-460b-82df-988bbaa9c653",
   "metadata": {},
   "outputs": [],
   "source": [
    "df_people['Experience (level)']= pd.cut(df_people['Experience (Years)'], bins=3, labels=('low','medium','high'))"
   ]
  },
  {
   "cell_type": "code",
   "execution_count": null,
   "id": "2102a6b0-86d3-4180-a47e-3bf0c1ea247f",
   "metadata": {},
   "outputs": [],
   "source": [
    "df_people.groupby(['Experience (level)'])[['Salary','Experience (Years)']].agg(['min','max','mean','median','std'])"
   ]
  },
  {
   "cell_type": "code",
   "execution_count": null,
   "id": "5ee7bfa4-5fe9-4452-97bc-8f099d553bf7",
   "metadata": {},
   "outputs": [],
   "source": [
    "df_people.head(50)"
   ]
  },
  {
   "cell_type": "code",
   "execution_count": null,
   "id": "3571b190-c69b-4357-979b-88ea00a2265e",
   "metadata": {},
   "outputs": [],
   "source": [
    "df_people.groupby(['Experience (level)'])['Salary'].median()"
   ]
  },
  {
   "cell_type": "code",
   "execution_count": null,
   "id": "c1233467-19bb-4edb-a4b5-a8ce4a881369",
   "metadata": {},
   "outputs": [],
   "source": [
    "df_people.groupby(['Experience (level)'])['Salary'].median()"
   ]
  },
  {
   "cell_type": "code",
   "execution_count": null,
   "id": "bf8e94c6-68fe-4e90-bb42-1a35c4ae88a6",
   "metadata": {},
   "outputs": [],
   "source": []
  },
  {
   "cell_type": "code",
   "execution_count": null,
   "id": "1bc6dd4a-0d91-4529-9727-9d1fce81a923",
   "metadata": {},
   "outputs": [],
   "source": [
    "df_people.groupby(['Experience (level)', 'Gender'])['Salary'].mean()"
   ]
  },
  {
   "cell_type": "code",
   "execution_count": null,
   "id": "465d3420-0c56-4c7b-879e-f194b624505f",
   "metadata": {},
   "outputs": [],
   "source": [
    "occupation_grp.get_group('Engineer')"
   ]
  },
  {
   "cell_type": "code",
   "execution_count": null,
   "id": "2d782aae-66fa-4d4c-bf32-28380edc4da8",
   "metadata": {},
   "outputs": [],
   "source": [
    "salaries_df = occupation_grp['Salary'].agg(['median','mean'])\n",
    "salaries_df"
   ]
  },
  {
   "cell_type": "markdown",
   "id": "15a85a86-42aa-4c60-ab1d-213470466e3f",
   "metadata": {},
   "source": [
    "# Handling Missing Values\n",
    "Missing values are a common problem when performing data analysis. This section discusses ways to handle missing values."
   ]
  },
  {
   "cell_type": "code",
   "execution_count": null,
   "id": "e578d9cf-2ea0-47b6-8348-08d40f273303",
   "metadata": {},
   "outputs": [],
   "source": [
    "import random\n",
    "import numpy as np\n",
    "\n",
    "import pandas as pd\n",
    "df_people = pd.read_csv('files/people_data.csv')"
   ]
  },
  {
   "cell_type": "code",
   "execution_count": null,
   "id": "f44dbcf8-36c2-46d1-9254-6b3e6d9a3ca8",
   "metadata": {},
   "outputs": [],
   "source": [
    "df_people.isna().sum().sum()"
   ]
  },
  {
   "cell_type": "markdown",
   "id": "803b4ee1-b87b-4185-9cd6-96b0fd289e7d",
   "metadata": {},
   "source": [
    "First, to make it easier, we'll create a small subset of the people DataFrame. Note the use of ```copy()```. Using ```copy()``` creates a *deep copy* of the DataFrame. This avoids making changes to a slice or shallow copy of the DataFrame, which would yield unpredictable results and an exception"
   ]
  },
  {
   "cell_type": "code",
   "execution_count": null,
   "id": "7332bd90-d652-40d8-bc90-c03b4f573fb8",
   "metadata": {},
   "outputs": [],
   "source": [
    "def create_small_df_nan(num_missing):\n",
    "    small_df = df_people.iloc[:10,:].copy()\n",
    "\n",
    "    for x in range(num_missing):\n",
    "        random_row = random.randint(0,9)\n",
    "        random_col = random.randint(0,9)\n",
    "        small_df.iloc[random_row, random_col] = np.NaN\n",
    "\n",
    "    # Add a column of NaN values\n",
    "    small_df['SS#'] = np.NaN\n",
    "\n",
    "    # Add a row of NaN values\n",
    "    small_df.loc[len(small_df.index)] = np.NaN\n",
    "        \n",
    "    return small_df"
   ]
  },
  {
   "cell_type": "code",
   "execution_count": null,
   "id": "cb657d39-f30c-4b03-b967-85dd264111b8",
   "metadata": {},
   "outputs": [],
   "source": [
    "small_df.head()\n",
    "small_df.shape"
   ]
  },
  {
   "cell_type": "markdown",
   "id": "8826843d-613d-46bd-943e-938830ab1594",
   "metadata": {},
   "source": [
    "## Finding Missing Values"
   ]
  },
  {
   "cell_type": "markdown",
   "id": "f08b3f56-041f-4901-af6c-e2379e967aa3",
   "metadata": {},
   "source": [
    "First, let's sum the number of missing values in each column."
   ]
  },
  {
   "cell_type": "code",
   "execution_count": null,
   "id": "0f6ec158-0590-48b4-9ef6-aad56839c8ce",
   "metadata": {},
   "outputs": [],
   "source": [
    "small_df.isna().sum()"
   ]
  },
  {
   "cell_type": "markdown",
   "id": "ab4f1e47-6c73-4194-a8c1-8b3870c1b036",
   "metadata": {},
   "source": [
    "Since we do not have any missing values, we'll randomly add missing values using the ```np.NaN``` object and create one row and column of NaN values."
   ]
  },
  {
   "cell_type": "code",
   "execution_count": null,
   "id": "d7e402e5-850b-429d-a879-4a8767f8a0ba",
   "metadata": {},
   "outputs": [],
   "source": [
    "# Introduce missing (NaN) values into the small DataFame\n",
    "\n",
    "small_df_nan = create_small_df_nan(5)"
   ]
  },
  {
   "cell_type": "code",
   "execution_count": null,
   "id": "78fa8080-3c94-44b8-9556-bd407ed21eee",
   "metadata": {},
   "outputs": [],
   "source": [
    "small_df_nan.head(11)"
   ]
  },
  {
   "cell_type": "code",
   "execution_count": null,
   "id": "4532a231-3b59-47e5-8fe0-ef3041d6b21c",
   "metadata": {},
   "outputs": [],
   "source": [
    "# Set Salary to string to demonstrate casting error later\n",
    "df_people['Salary'] = df_people['Salary'].astype(str)"
   ]
  },
  {
   "cell_type": "markdown",
   "id": "254be624-fdf5-4c14-ab0c-848a8e0c2a8f",
   "metadata": {},
   "source": [
    "Our results should indicate that an entire row, the SS# column, and up to five additional values are missing. \n",
    "\n",
    "We'll confirm by summing the columns again."
   ]
  },
  {
   "cell_type": "code",
   "execution_count": null,
   "id": "ee9cfb16-ec7e-44be-a1dd-9f47fa57c858",
   "metadata": {},
   "outputs": [],
   "source": [
    "small_df_nan.isna().sum()"
   ]
  },
  {
   "cell_type": "markdown",
   "id": "64d539b6-200b-46ea-b36c-5def781a6bca",
   "metadata": {},
   "source": [
    "The syntax of ```dropna``` is as follow:\n",
    "\n",
    "```Python\n",
    "DataFrame.dropna(axis=0, how='any', thresh=None, subset=None, inplace=False)\n",
    "```\n",
    "\n",
    "- **axis**: drop rows (```axis=0```) or columns (```axis=1```) which contain missing values\n",
    "- **how**: drop (row|column) if it contains ```any``` missing value; only drop (row|column) if ```all``` values are missing"
   ]
  },
  {
   "cell_type": "markdown",
   "id": "43853eda-1ff3-4ce1-b77d-d94f82297cf5",
   "metadata": {},
   "source": [
    "## Drop Missing Values"
   ]
  },
  {
   "cell_type": "markdown",
   "id": "4c42fb16-d3d9-41b4-bb74-4126c3e0b39b",
   "metadata": {},
   "source": [
    "Notice in the code block above that the entire SS# has missing values. To delete all columns (axis=1) in which all values are missing, specify the axis as 1 and 'all' as the ```how``` parameter."
   ]
  },
  {
   "cell_type": "code",
   "execution_count": null,
   "id": "4d66c31a-1f46-4aa0-b3d3-46cfa04f8bfc",
   "metadata": {},
   "outputs": [],
   "source": [
    "df_na = small_df_nan.dropna(axis=1, how='all')\n",
    "df_na.head(11)"
   ]
  },
  {
   "cell_type": "markdown",
   "id": "5a4e4188-55b8-450e-90f8-5218c6630708",
   "metadata": {},
   "source": [
    "Note that the SS# has been deleted.\n",
    "\n",
    "Of course, we can do the same with row 10 by changing the axis value from 1 (columns) to 0 (rows)."
   ]
  },
  {
   "cell_type": "code",
   "execution_count": null,
   "id": "56ec0e27-64b9-4c6d-bd23-655cf9dd88c6",
   "metadata": {},
   "outputs": [],
   "source": [
    "df_na = df_na.dropna(axis=0, how='all')"
   ]
  },
  {
   "cell_type": "code",
   "execution_count": null,
   "id": "37f908e4-2499-4500-bbb1-4fce99a0c188",
   "metadata": {},
   "outputs": [],
   "source": [
    "df_na.head(11)"
   ]
  },
  {
   "cell_type": "markdown",
   "id": "6c899f9e-6a65-4ba1-b85d-219380bdb33f",
   "metadata": {},
   "source": [
    "Note that row 10 has been deleted. However, there should be randomly missing values in other rows. Use ```isna().sum()``` to total the missing values by column."
   ]
  },
  {
   "cell_type": "code",
   "execution_count": null,
   "id": "16074423-4c84-4252-806a-b7d4037dad0e",
   "metadata": {},
   "outputs": [],
   "source": [
    "df_na.isna().sum()"
   ]
  },
  {
   "cell_type": "markdown",
   "id": "95eebe44-dad2-4dd8-bae9-e9c398ca1165",
   "metadata": {},
   "source": [
    "Although, it is not generally advisable to do so, you can delete any rows that have a missing value in any column."
   ]
  },
  {
   "cell_type": "code",
   "execution_count": null,
   "id": "dbb0931e-e724-4ee9-b7e2-181f42c4aa10",
   "metadata": {},
   "outputs": [],
   "source": [
    "# axis=0 refers to rows; axis=1 refers to columns\n",
    "# 'any' means that any row (axis=0) or column (axis=1) with an missing value will be deleted\n",
    "df_na = df_na.dropna(axis=0, how='any')\n",
    "df_na.head(11)"
   ]
  },
  {
   "cell_type": "code",
   "execution_count": null,
   "id": "0224ecce-351b-4721-81c6-588ffbe18b30",
   "metadata": {},
   "outputs": [],
   "source": [
    "df_na.isna().sum()"
   ]
  },
  {
   "cell_type": "markdown",
   "id": "a7e40f29-7ac9-4ea3-acd4-d741e9860daf",
   "metadata": {},
   "source": [
    "Instead, you may want to only delete rows that have missing values in a specific column. To do that, use the subset"
   ]
  },
  {
   "cell_type": "code",
   "execution_count": null,
   "id": "5ef13847-583f-4b27-a1b9-915eeef67268",
   "metadata": {},
   "outputs": [],
   "source": [
    "small_df_nan.head(11)"
   ]
  },
  {
   "cell_type": "code",
   "execution_count": null,
   "id": "80b43dfb-538e-49b5-a0e1-67a57a59e4e1",
   "metadata": {},
   "outputs": [],
   "source": [
    "small_df_nan.isna().sum()"
   ]
  },
  {
   "cell_type": "code",
   "execution_count": null,
   "id": "cb7a03fa-58ba-4fe7-8390-50d3d51d7f5b",
   "metadata": {},
   "outputs": [],
   "source": [
    "small_df_nan.dropna(subset=['Email'], inplace=True)"
   ]
  },
  {
   "cell_type": "code",
   "execution_count": null,
   "id": "97ca16a0-1598-4b48-9ade-b37fa34ab9ac",
   "metadata": {},
   "outputs": [],
   "source": [
    "small_df_nan.isna().sum()"
   ]
  },
  {
   "cell_type": "markdown",
   "id": "fce45d66-ad9b-4f10-a54a-27dae965cb9d",
   "metadata": {
    "tags": []
   },
   "source": [
    "## Fill Missing Values"
   ]
  },
  {
   "cell_type": "code",
   "execution_count": null,
   "id": "74d40b6c-0905-4205-93bf-3244e4901542",
   "metadata": {},
   "outputs": [],
   "source": [
    "# fillna(0)"
   ]
  },
  {
   "cell_type": "markdown",
   "id": "4165f431-4ba9-4e63-972f-008740245b4e",
   "metadata": {},
   "source": [
    "# How to delete a row in a DataFrame by index value\n",
    "The last row, the 11th row, index value 10, is all NaN's. To specifically delete row with index value 10, call the ```drop()``` function and specify the row index. Note that this will not modify the dataset unless ```inplace=True``` is specified."
   ]
  },
  {
   "cell_type": "code",
   "execution_count": null,
   "id": "d2730b59-0578-4377-ab14-6c060b3c1fd7",
   "metadata": {},
   "outputs": [],
   "source": [
    "small_df.head(11)"
   ]
  },
  {
   "cell_type": "code",
   "execution_count": null,
   "id": "eb5e823b-c596-47f0-b601-b1386d1782a4",
   "metadata": {},
   "outputs": [],
   "source": [
    "small_df.drop(10)"
   ]
  },
  {
   "cell_type": "markdown",
   "id": "2b6a8795-cda0-491a-b6fb-50ba5d413262",
   "metadata": {},
   "source": [
    "### Sum the count of missing values by column"
   ]
  },
  {
   "cell_type": "code",
   "execution_count": null,
   "id": "ddbacd64-2ee5-4e78-b9cb-e96b70f57e6c",
   "metadata": {},
   "outputs": [],
   "source": [
    "small_df.isna().sum()"
   ]
  },
  {
   "cell_type": "markdown",
   "id": "1f224ffa-9a17-4be8-9204-0f32191cbe9a",
   "metadata": {},
   "source": [
    "## Sum of missing values for entire DataFrame"
   ]
  },
  {
   "cell_type": "code",
   "execution_count": null,
   "id": "b0fe9d09-0d87-490f-8918-8fa2831c74cb",
   "metadata": {},
   "outputs": [],
   "source": [
    "small_df.isna().sum().sum()"
   ]
  },
  {
   "cell_type": "markdown",
   "id": "f3959dd5-a097-459b-a5f3-ff8c8551d363",
   "metadata": {},
   "source": [
    "# Casting Data Types\n",
    "After creating a pandas DataFrame, you may have columns that have not been defined using the correct data type. For example, after using the ```read_csv()``` function to create the people_df, salary is defined as an integer instead of a float. "
   ]
  },
  {
   "cell_type": "code",
   "execution_count": null,
   "id": "6bb77205-4678-442d-b303-904b8c90e87e",
   "metadata": {},
   "outputs": [],
   "source": [
    "df_people.dtypes"
   ]
  },
  {
   "cell_type": "code",
   "execution_count": null,
   "id": "1d5a63eb-7048-42fd-b2df-341efe0b0dd6",
   "metadata": {},
   "outputs": [],
   "source": [
    "df_people['Salary'] = df_people['Salary'].astype(int)"
   ]
  },
  {
   "cell_type": "markdown",
   "id": "35746769-88e1-4a16-a78a-bb5a57de8461",
   "metadata": {},
   "source": [
    "# Working with Time Series Data\n",
    "Often, after reading data into a DataFrame, the implied data types of columns will need to be modified to reflect the data contained in the columns.\n",
    "\n",
    "For example, in the DataFrame below, the Date and Time columns are strings (dtype object), not datetime objects. To work with the date column as a date object, we'll need to convert the Date column from a string to a datetime object.\n",
    "\n",
    "https://docs.python.org/3/library/datetime.html#strftime-and-strptime-format-codes"
   ]
  },
  {
   "cell_type": "code",
   "execution_count": null,
   "id": "35316f7b-1f4c-410a-91e5-3cfea9280f58",
   "metadata": {},
   "outputs": [],
   "source": [
    "df_super.info()"
   ]
  },
  {
   "cell_type": "markdown",
   "id": "795b4a84-38a7-462d-9969-7b33c01b67be",
   "metadata": {},
   "source": [
    "Attempting to use a date function prior to converting the string to a date will, of course, result in an error."
   ]
  },
  {
   "cell_type": "code",
   "execution_count": null,
   "id": "d1742d7b-40fd-4ed2-9d52-09e2a350c4f6",
   "metadata": {},
   "outputs": [],
   "source": [
    "df_super = pd.read_csv('files/supermarket_sales.csv')"
   ]
  },
  {
   "cell_type": "code",
   "execution_count": null,
   "id": "c0c5d6eb-efb4-40ec-a919-5eeb4c81474e",
   "metadata": {},
   "outputs": [],
   "source": [
    "# ERROR: Using a date function on a string (object), throws an error\n",
    "df_super.iloc[1]['Date'].day_name()"
   ]
  },
  {
   "cell_type": "code",
   "execution_count": null,
   "id": "2e4dbb90-a83b-4599-9666-adb00a167a6e",
   "metadata": {},
   "outputs": [],
   "source": [
    "df_super['Date'] = pd.to_datetime(df_super['Date'], format='%m/%d/%Y')\n",
    "df_super.iloc[1]['Date'].day_name()"
   ]
  },
  {
   "cell_type": "code",
   "execution_count": null,
   "id": "e66850a3-69e4-46cc-8260-85275d051d10",
   "metadata": {},
   "outputs": [],
   "source": [
    "# Add a column with the day name of the transaction\n",
    "df_super['day_name'] = df_super['Date'].dt.day_name()"
   ]
  },
  {
   "cell_type": "code",
   "execution_count": null,
   "id": "6e69064b-abb6-4f7c-b17f-9f3305789976",
   "metadata": {},
   "outputs": [],
   "source": [
    "df_super.head()"
   ]
  },
  {
   "cell_type": "markdown",
   "id": "128a84c9-612e-4955-af2d-fdfdf4d2eaa3",
   "metadata": {},
   "source": [
    "To convert these to datetime objects "
   ]
  },
  {
   "cell_type": "markdown",
   "id": "f04b09b6-bc40-4764-80ea-84455fe3f0f1",
   "metadata": {},
   "source": [
    "# Joining, Concatenating, and Merging DataFrames"
   ]
  },
  {
   "cell_type": "code",
   "execution_count": null,
   "id": "651d8779-7f4a-4fdf-a4bb-3dc80492b3b1",
   "metadata": {},
   "outputs": [],
   "source": [
    "emp1 = {'Name':['Joe', 'Eric', 'Terry', 'Troy'], \n",
    "        'Age':[57, 52, 42, 37], \n",
    "        'City':['Columbia', 'Dallas', 'Tuscon', 'Austin'], \n",
    "        'Degree':['BA', 'PhD', 'MS', 'MD']} \n",
    "   \n",
    "emp2 = {'Name':['Suzanne', 'Julie', 'Tripti', 'Sarah'], \n",
    "        'Age':[22, 39, 41, 21], \n",
    "        'City':['Columbia', 'Austin', 'Lansing', 'St. Louis'], \n",
    "        'Degree':['BA', 'MA', 'JD', 'BS']} \n",
    " \n",
    "# Convert the dictionary into DataFrame  \n",
    "emp1_df = pd.DataFrame(emp1,index=[0, 1, 2, 3])\n",
    " \n",
    "# Convert the dictionary into DataFrame  \n",
    "emp2_df = pd.DataFrame(emp2, index=[4, 5, 6, 7])\n",
    " \n",
    "emp1_df.head()"
   ]
  },
  {
   "cell_type": "code",
   "execution_count": null,
   "id": "430aa149-440e-49e7-b5c5-95dac51ebb81",
   "metadata": {},
   "outputs": [],
   "source": [
    "emp2_df"
   ]
  },
  {
   "cell_type": "code",
   "execution_count": null,
   "id": "60935832-f9c9-4f94-a98a-30616bc4ed65",
   "metadata": {},
   "outputs": [],
   "source": [
    "emp_full = pd.concat([emp1_df, emp2_df])"
   ]
  },
  {
   "cell_type": "code",
   "execution_count": null,
   "id": "8ef5a41c-df25-46bc-b494-dfed7692e9a3",
   "metadata": {},
   "outputs": [],
   "source": [
    "emp_full.head(10)"
   ]
  },
  {
   "cell_type": "markdown",
   "id": "41ff9857-40db-4ef4-b647-c2a44ef91055",
   "metadata": {},
   "source": [
    "# Basic Visualization with Pandas"
   ]
  },
  {
   "cell_type": "markdown",
   "id": "ae4409ec-7182-4540-b4c4-5bc7c0cb2308",
   "metadata": {},
   "source": [
    "Data visualization is an important aspect of working with data. \n",
    "- It enables the data to clearly tell a story\n",
    "- Facilitates decision-making\n",
    "- Helps to gain insights\n",
    "- Provides a visual method to examine validity of data (e.g., visually identify outliers)\n",
    "- Discover trends and identify patterns in data"
   ]
  },
  {
   "cell_type": "code",
   "execution_count": null,
   "id": "c04e2eef-32a5-4995-897c-264342248508",
   "metadata": {},
   "outputs": [],
   "source": [
    "import pandas as pd\n",
    "import numpy as np\n",
    "import matplotlib.pyplot as plt"
   ]
  },
  {
   "cell_type": "markdown",
   "id": "b338f049-522c-4697-8415-c4aaf23b1d9d",
   "metadata": {},
   "source": [
    "Let's start with a very simple visualation by plotting grades."
   ]
  },
  {
   "cell_type": "code",
   "execution_count": null,
   "id": "9b4aba47-0192-4147-82ab-d362044ad791",
   "metadata": {},
   "outputs": [],
   "source": [
    "plt.style.use('dark_background')"
   ]
  },
  {
   "cell_type": "code",
   "execution_count": null,
   "id": "f9789192-16cd-43ae-90fe-6d576ba77050",
   "metadata": {},
   "outputs": [],
   "source": [
    "student_grades_series"
   ]
  },
  {
   "cell_type": "code",
   "execution_count": null,
   "id": "ad8c1ad7-5a41-409a-9437-1d9d70ff4e36",
   "metadata": {},
   "outputs": [],
   "source": [
    "df1 = student_grades_series.fillna(0)"
   ]
  },
  {
   "cell_type": "code",
   "execution_count": null,
   "id": "73783b25-c5d0-481a-b291-7c04b9386a7a",
   "metadata": {},
   "outputs": [],
   "source": [
    "df1"
   ]
  },
  {
   "cell_type": "markdown",
   "id": "0d2acee5-3678-4e08-8dd4-725b0767435b",
   "metadata": {},
   "source": [
    "Plotting in Pandas is as simple as calling the plot() method on the DataFrame. The ```plot()``` method is a wrapper around Pyplot, which is a collection of functions built on top of Matplotlib. Matplot lib is a much more power, but more complex module for creating visualizations."
   ]
  },
  {
   "cell_type": "code",
   "execution_count": null,
   "id": "a4548ba3-d771-4492-ae90-b6e48724db4a",
   "metadata": {},
   "outputs": [],
   "source": [
    "df1.plot()"
   ]
  },
  {
   "cell_type": "code",
   "execution_count": null,
   "id": "e1135b18-f512-471e-bb11-b1429d218088",
   "metadata": {},
   "outputs": [],
   "source": [
    "df1.plot(kind='box')"
   ]
  },
  {
   "cell_type": "code",
   "execution_count": null,
   "id": "0c7b7a7d-453b-4c80-a822-b06d067b957c",
   "metadata": {},
   "outputs": [],
   "source": [
    "df1.loc['jfrerk']=75"
   ]
  },
  {
   "cell_type": "code",
   "execution_count": null,
   "id": "e1460d56-2a15-4f27-8173-0587cfa6dbeb",
   "metadata": {},
   "outputs": [],
   "source": [
    "df1.plot(kind='box')"
   ]
  },
  {
   "cell_type": "code",
   "execution_count": null,
   "id": "e83c6ba6-7b20-426f-ba45-6b3472cb5039",
   "metadata": {},
   "outputs": [],
   "source": [
    "df_people.columns"
   ]
  },
  {
   "cell_type": "code",
   "execution_count": null,
   "id": "55f8fc0b-3cb0-4e39-9cc3-785494e5244c",
   "metadata": {},
   "outputs": [],
   "source": [
    "df_sal_exp = df_people.groupby('Gender')['Salary'].mean()\n",
    "df_sal_exp"
   ]
  },
  {
   "cell_type": "code",
   "execution_count": null,
   "id": "31e3ca3f-fe6b-45dc-b3f9-a8020db42b29",
   "metadata": {},
   "outputs": [],
   "source": [
    "df_sal_exp.plot(kind='bar', title=\"Salary Comparison\")"
   ]
  },
  {
   "cell_type": "code",
   "execution_count": null,
   "id": "db417c73-2220-474f-838a-a18c62f9cee1",
   "metadata": {},
   "outputs": [],
   "source": [
    "df_sal_exp.transpose()"
   ]
  },
  {
   "cell_type": "code",
   "execution_count": null,
   "id": "82636102-facb-4494-a667-8adbdd161155",
   "metadata": {},
   "outputs": [],
   "source": [
    "df_sal_exp.transpose().plot(kind='bar', title=' Salary Comparison', xlabel='Gender', ylabel = 'USD')"
   ]
  },
  {
   "cell_type": "code",
   "execution_count": null,
   "id": "241258c3-b933-4b04-ba8a-048f1a43dba6",
   "metadata": {},
   "outputs": [],
   "source": [
    "df_people.dtypes"
   ]
  },
  {
   "cell_type": "code",
   "execution_count": null,
   "id": "87d6f272-d6c3-46df-ab65-e2cb8a3e3543",
   "metadata": {},
   "outputs": [],
   "source": [
    "df_people['Salary'] = df_people['Salary'].astype(float)"
   ]
  },
  {
   "cell_type": "code",
   "execution_count": null,
   "id": "8d55e4f0-8e58-4333-b94e-3614ef785b47",
   "metadata": {},
   "outputs": [],
   "source": [
    "df_salary_education = df_people.groupby('Education')['Salary'].mean()\n",
    "df_salary_education.sort_values(ascending=False).plot(kind='bar')"
   ]
  },
  {
   "cell_type": "code",
   "execution_count": null,
   "id": "e3898992-b0ee-47a8-8242-e96cbb1b191e",
   "metadata": {},
   "outputs": [],
   "source": [
    "df_super.dtypes"
   ]
  },
  {
   "cell_type": "code",
   "execution_count": null,
   "id": "1772743a-50f2-46ab-9086-5116b680ff05",
   "metadata": {},
   "outputs": [],
   "source": [
    "df_super['Date'] = pd.to_datetime(df_super['Date'])"
   ]
  },
  {
   "cell_type": "code",
   "execution_count": null,
   "id": "796b28ad-882e-4907-9058-57f120c47b85",
   "metadata": {},
   "outputs": [],
   "source": [
    "df_super.head()"
   ]
  },
  {
   "cell_type": "code",
   "execution_count": null,
   "id": "697b99b1-e2b3-46f8-8d6f-6cd3179b30a1",
   "metadata": {},
   "outputs": [],
   "source": [
    "df_super_qtr = df_super.resample('M', on='Date').sum()"
   ]
  },
  {
   "cell_type": "code",
   "execution_count": null,
   "id": "6ecfb52f-d21b-4f9d-94de-17f24ff78bcc",
   "metadata": {},
   "outputs": [],
   "source": [
    "df_super['Date'].max()"
   ]
  },
  {
   "cell_type": "code",
   "execution_count": null,
   "id": "904b3fb7-3f92-4d51-bf9b-820226dcee08",
   "metadata": {},
   "outputs": [],
   "source": [
    "df_super_qtr.head()"
   ]
  },
  {
   "cell_type": "code",
   "execution_count": null,
   "id": "71d15d66-640a-4662-ab7a-3769287c125e",
   "metadata": {},
   "outputs": [],
   "source": [
    "df_super[['Branch','gross income']].plot(kind='bar')"
   ]
  },
  {
   "cell_type": "markdown",
   "id": "650dfdb6-6acc-49ae-907d-7743c2818722",
   "metadata": {},
   "source": [
    "# Interacting with Excel, JSON, Parquet files, SQL"
   ]
  },
  {
   "cell_type": "markdown",
   "id": "827f424c-06a3-4d72-aeff-fabe678eeb2a",
   "metadata": {},
   "source": [
    "# Using Polars with Pandas"
   ]
  },
  {
   "cell_type": "markdown",
   "id": "3711720a-263c-472e-9258-8eda2d88b8f2",
   "metadata": {},
   "source": [
    "## "
   ]
  },
  {
   "cell_type": "markdown",
   "id": "edd34724-b552-472b-9de9-229412d8322e",
   "metadata": {
    "tags": []
   },
   "source": [
    "# Initialize everything"
   ]
  },
  {
   "cell_type": "markdown",
   "id": "53038189-bfa3-41e9-b781-f23ec117aa91",
   "metadata": {},
   "source": [
    "This section is provided to quickly re-load the series and dataframe objects used in this notebook"
   ]
  },
  {
   "cell_type": "code",
   "execution_count": null,
   "id": "1eabf7fa-720f-4ec9-ba2b-adbe5072fae3",
   "metadata": {},
   "outputs": [],
   "source": [
    "import pandas as pd\n",
    "import numpy as np\n",
    "import matplotlib.pyplot as plt\n",
    "import random\n",
    "\n",
    "grades = [88, np.NaN, 100, 92, None, 95, 82, 100, 100, 95]\n",
    "grade_series = pd.Series(grades)\n",
    "\n",
    "grades = [88, np.NaN, 100, 92, None, 95, 82, 100, 100, 95]\n",
    "students = ['dmac', 'edev', 'joeb', 'tdog', 'txroy', 'sthicks', 'jfrerk', 'spickard', 'choenes', 'jsisson']\n",
    "student_grades_series = pd.Series(grades, students)\n",
    "\n",
    "df_people = pd.read_csv('files/people_data.csv')\n",
    "small_df = df_people.iloc[:10,:].copy()\n",
    "df_super = pd.read_csv('files/supermarket_sales.csv')\n",
    "\n",
    "pd.set_option('display.max_rows', 100)\n",
    "pd.set_option('display.max_columns', 50)"
   ]
  },
  {
   "cell_type": "code",
   "execution_count": null,
   "id": "75f39eac-11fa-4891-b32e-43ea44ec3de3",
   "metadata": {},
   "outputs": [],
   "source": []
  }
 ],
 "metadata": {
  "kernelspec": {
   "display_name": "Python 3 (ipykernel)",
   "language": "python",
   "name": "python3"
  },
  "language_info": {
   "codemirror_mode": {
    "name": "ipython",
    "version": 3
   },
   "file_extension": ".py",
   "mimetype": "text/x-python",
   "name": "python",
   "nbconvert_exporter": "python",
   "pygments_lexer": "ipython3",
   "version": "3.10.9"
  }
 },
 "nbformat": 4,
 "nbformat_minor": 5
}
