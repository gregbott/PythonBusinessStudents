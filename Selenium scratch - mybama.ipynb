{
 "cells": [
  {
   "cell_type": "code",
   "execution_count": null,
   "id": "d5cdc1dd-d8d1-4017-9be0-df00e7f0da26",
   "metadata": {},
   "outputs": [],
   "source": [
    "from selenium import webdriver\n",
    "from selenium.webdriver.chrome.service import Service\n",
    "from selenium.webdriver.common.by import By\n",
    "import bs4"
   ]
  },
  {
   "cell_type": "code",
   "execution_count": null,
   "id": "dce9a3a5-97d7-419e-a282-077a00901759",
   "metadata": {},
   "outputs": [],
   "source": [
    "path = r\"c:\\chromedriver\\chromedriver\""
   ]
  },
  {
   "cell_type": "code",
   "execution_count": null,
   "id": "228b8c16-c6b9-4d18-b498-fe7b923d3455",
   "metadata": {},
   "outputs": [],
   "source": [
    "service=Service(executable_path=path)\n",
    "browser = webdriver.Chrome(service=service)"
   ]
  },
  {
   "cell_type": "code",
   "execution_count": null,
   "id": "5edd5d57-efe9-407a-97a3-742f70b6de73",
   "metadata": {},
   "outputs": [],
   "source": [
    "browser.get('https://login.ua.edu/cas/login?service=https%3A%2F%2Fmybama.ua.edu%2F')"
   ]
  },
  {
   "cell_type": "code",
   "execution_count": null,
   "id": "aaef2dc2-6778-42db-800a-f7366ed67324",
   "metadata": {},
   "outputs": [],
   "source": [
    "browser.find_element(By.ID, 'username').clear()"
   ]
  },
  {
   "cell_type": "code",
   "execution_count": null,
   "id": "ac86876b-4807-449b-aca2-91374bb48dc0",
   "metadata": {},
   "outputs": [],
   "source": [
    "browser.find_element(By.ID, 'password').clear()"
   ]
  },
  {
   "cell_type": "code",
   "execution_count": null,
   "id": "be9451cf-18bb-442b-98d9-82e3426e2dc3",
   "metadata": {},
   "outputs": [],
   "source": [
    "browser.find_element(By.ID, 'username').send_keys('gjbott')"
   ]
  },
  {
   "cell_type": "code",
   "execution_count": null,
   "id": "caebcfac-9d86-4f15-9979-754f5a5bbb90",
   "metadata": {},
   "outputs": [],
   "source": [
    "browser.find_element(By.CLASS_NAME, 'pwd').send_keys('password')"
   ]
  },
  {
   "cell_type": "code",
   "execution_count": null,
   "id": "72bedebc-e8d2-4e15-bcbe-77beeb403625",
   "metadata": {},
   "outputs": [],
   "source": [
    "browser.find_element(By.NAME, 'submit').click()"
   ]
  },
  {
   "cell_type": "code",
   "execution_count": null,
   "id": "7dc3f1e9-47ae-4f50-b394-bac2d0d71222",
   "metadata": {},
   "outputs": [],
   "source": [
    "browser.get('https://jld.oitapps.ua.edu/allJobs')"
   ]
  },
  {
   "cell_type": "code",
   "execution_count": null,
   "id": "11ca8502-8453-430b-9e14-8318acbc7be2",
   "metadata": {},
   "outputs": [],
   "source": [
    "next_button = browser.find_element(By.PARTIAL_LINK_TEXT, 'Next')\n",
    "\n",
    "next_button.click()"
   ]
  },
  {
   "cell_type": "code",
   "execution_count": null,
   "id": "8ef72ae1-d9f4-4b3e-93a2-0541a431a1de",
   "metadata": {},
   "outputs": [],
   "source": [
    "next_enabled = browser.find_element(By.CLASS_NAME, 'next')"
   ]
  },
  {
   "cell_type": "code",
   "execution_count": null,
   "id": "976c4dc7-ef65-47e7-9113-d4cf821fc78a",
   "metadata": {},
   "outputs": [],
   "source": [
    "next_classes = next_enabled.get_attribute('class')\n",
    "print(next_classes)\n",
    "                                          "
   ]
  },
  {
   "cell_type": "code",
   "execution_count": null,
   "id": "d6fc3123-750a-40a6-9c91-c4508db97908",
   "metadata": {},
   "outputs": [],
   "source": [
    "\"disabled\" in next_classes\n",
    "import time"
   ]
  },
  {
   "cell_type": "code",
   "execution_count": null,
   "id": "5a776207-fc53-4e7f-ac66-7ff29aa3cb8b",
   "metadata": {},
   "outputs": [],
   "source": [
    "last_page = False\n",
    "\n",
    "while not last_page:\n",
    "    next_button = browser.find_element(By.PARTIAL_LINK_TEXT, 'Next')\n",
    "    next_button.click()\n",
    "    time.sleep(1)\n",
    "    next_enabled = browser.find_element(By.CLASS_NAME, 'next')\n",
    "    next_classes = next_enabled.get_attribute('class')\n",
    "    if \"disabled\" in next_classes:\n",
    "        last_page = True\n",
    "        print(\"on last page\")\n",
    "    "
   ]
  },
  {
   "cell_type": "code",
   "execution_count": null,
   "id": "477e4754-b267-4bf8-98e1-36821797d519",
   "metadata": {},
   "outputs": [],
   "source": [
    "def go_next_page():\n",
    "    next_enabled = browser.find_element(By.CLASS_NAME, 'next')\n",
    "    next_classes = next_enabled.get_attribute('class')\n",
    "    if \"disabled\" not in next_classes:\n",
    "        next_button = browser.find_element(By.PARTIAL_LINK_TEXT, 'Next')\n",
    "        next_button.click()\n",
    "    else:\n",
    "        return \"no more pages\""
   ]
  },
  {
   "cell_type": "code",
   "execution_count": null,
   "id": "35319c0b-deab-44cc-9949-73a0b41fd728",
   "metadata": {},
   "outputs": [],
   "source": [
    "go_next_page()"
   ]
  },
  {
   "cell_type": "code",
   "execution_count": null,
   "id": "741eff3c-6ab1-4a2d-8473-3188044ce374",
   "metadata": {},
   "outputs": [],
   "source": [
    "rows = browser.find_elements(By.TAG_NAME, 'tr')"
   ]
  },
  {
   "cell_type": "code",
   "execution_count": null,
   "id": "bfbeca9a-4de8-4e0e-aea7-aee5ff9a397e",
   "metadata": {},
   "outputs": [],
   "source": [
    "rows[1].text"
   ]
  },
  {
   "cell_type": "code",
   "execution_count": null,
   "id": "69185003-a059-4ed6-8430-b044810007e2",
   "metadata": {},
   "outputs": [],
   "source": [
    "for row in rows:\n",
    "    cols = row.find_elements(By.TAG_NAME, 'td')\n",
    "   \n",
    "    for col in cols:\n",
    "        print(col.text)"
   ]
  },
  {
   "cell_type": "code",
   "execution_count": null,
   "id": "51969526-f7b3-444d-a46d-c2975b24cbfe",
   "metadata": {},
   "outputs": [],
   "source": [
    "rows[1].find_element(By.CLASS_NAME, 'btn-crimson').click()"
   ]
  },
  {
   "cell_type": "code",
   "execution_count": null,
   "id": "30f47468-bb2c-4003-854f-af2bfc8e2fc0",
   "metadata": {},
   "outputs": [],
   "source": [
    "details = browser.find_elements(By."
   ]
  },
  {
   "cell_type": "code",
   "execution_count": null,
   "id": "90052998-6533-4a3a-93a0-ae10c0f4d027",
   "metadata": {},
   "outputs": [],
   "source": [
    "len(details)"
   ]
  },
  {
   "cell_type": "code",
   "execution_count": null,
   "id": "345dc8d4-4cc1-4f62-a766-585c3b732063",
   "metadata": {},
   "outputs": [],
   "source": [
    "modal_content = browser.find_element(By.CLASS_NAME, 'modal-content')"
   ]
  },
  {
   "cell_type": "code",
   "execution_count": null,
   "id": "83676143-dbd9-4e08-8b59-eabf3e20838b",
   "metadata": {},
   "outputs": [],
   "source": [
    "b_tags = modal_content.find_elements(By.TAG_NAME, 'span')"
   ]
  },
  {
   "cell_type": "code",
   "execution_count": null,
   "id": "6f755eeb-5882-49cc-9171-1489e35df397",
   "metadata": {},
   "outputs": [],
   "source": [
    "len(b_tags)"
   ]
  },
  {
   "cell_type": "code",
   "execution_count": null,
   "id": "e010701d-b1e7-4362-a356-6db4ecd24af0",
   "metadata": {},
   "outputs": [],
   "source": [
    "b_tags[3].text"
   ]
  },
  {
   "cell_type": "code",
   "execution_count": null,
   "id": "efd2d47e-0c9f-45bb-8ee4-673c0feb396e",
   "metadata": {},
   "outputs": [],
   "source": [
    "page_html = bs4.BeautifulSoup(browser.page_source)\n",
    "page_html"
   ]
  },
  {
   "cell_type": "code",
   "execution_count": null,
   "id": "ef5e17f3-b039-4f27-9fd1-a160f6b69744",
   "metadata": {},
   "outputs": [],
   "source": []
  }
 ],
 "metadata": {
  "kernelspec": {
   "display_name": "Python 3 (ipykernel)",
   "language": "python",
   "name": "python3"
  },
  "language_info": {
   "codemirror_mode": {
    "name": "ipython",
    "version": 3
   },
   "file_extension": ".py",
   "mimetype": "text/x-python",
   "name": "python",
   "nbconvert_exporter": "python",
   "pygments_lexer": "ipython3",
   "version": "3.9.12"
  }
 },
 "nbformat": 4,
 "nbformat_minor": 5
}
