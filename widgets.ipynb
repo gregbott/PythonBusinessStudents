{
 "cells": [
  {
   "cell_type": "code",
   "execution_count": 1,
   "id": "7ea17e95-cf22-4593-b445-140b5a70e0e9",
   "metadata": {},
   "outputs": [
    {
     "data": {
      "application/vnd.jupyter.widget-view+json": {
       "model_id": "6e2ba1e89cf74890b0f6defc7d3e6720",
       "version_major": 2,
       "version_minor": 0
      },
      "text/plain": [
       "Dropdown(description='Select an option:', options=('East', 'West', 'North', 'South'), value='East')"
      ]
     },
     "metadata": {},
     "output_type": "display_data"
    }
   ],
   "source": [
    "import ipywidgets as widgets\n",
    "from IPython.display import display\n",
    "\n",
    "region_dropdown = widgets.Dropdown(\n",
    "                    options=['East', 'West', 'North', 'South'],\n",
    "                    description='Select an option:'\n",
    ")\n",
    "\n",
    "# Define a function to handle the dropdown value change\n",
    "def handle_dropdown_change(change):\n",
    "    selected_option = change.new\n",
    "    print(\"Selected option:\", selected_option)\n",
    "\n",
    "# Attach the function to the dropdown's value change event\n",
    "region_dropdown.observe(handle_dropdown_change, names='value')\n",
    "\n",
    "# Display the dropdown widget\n",
    "display(region_dropdown)\n"
   ]
  },
  {
   "cell_type": "code",
   "execution_count": 1,
   "id": "867eead1-7b46-4302-8181-ce1f472eaa85",
   "metadata": {},
   "outputs": [
    {
     "data": {
      "application/vnd.jupyter.widget-view+json": {
       "model_id": "f85e2cc49b5b40bb9d4c2bdde828065a",
       "version_major": 2,
       "version_minor": 0
      },
      "text/plain": [
       "Dropdown(description='Number:', index=1, options=('1', '2', '3'), value='2')"
      ]
     },
     "execution_count": 1,
     "metadata": {},
     "output_type": "execute_result"
    }
   ],
   "source": [
    "import ipywidgets as widgets\n",
    "from IPython.display import display\n",
    "widgets.Dropdown(\n",
    "    options=['1', '2', '3'],\n",
    "    value='2',\n",
    "    description='Number:',\n",
    "    disabled=False,\n",
    ")"
   ]
  },
  {
   "cell_type": "code",
   "execution_count": 3,
   "id": "baf4e569-238f-479d-930b-bb1c0e6836c6",
   "metadata": {},
   "outputs": [
    {
     "data": {
      "application/vnd.jupyter.widget-view+json": {
       "model_id": "5fff510ee20742ba8af4bec135ff2efb",
       "version_major": 2,
       "version_minor": 0
      },
      "text/plain": [
       "IntSlider(value=0)"
      ]
     },
     "metadata": {},
     "output_type": "display_data"
    }
   ],
   "source": [
    "from IPython.display import display\n",
    "w = widgets.IntSlider()\n",
    "display(w)"
   ]
  },
  {
   "cell_type": "code",
   "execution_count": null,
   "id": "245145f5-8daf-4da1-987d-3ca3015a0e68",
   "metadata": {},
   "outputs": [],
   "source": []
  }
 ],
 "metadata": {
  "kernelspec": {
   "display_name": "Python 3 (ipykernel)",
   "language": "python",
   "name": "python3"
  },
  "language_info": {
   "codemirror_mode": {
    "name": "ipython",
    "version": 3
   },
   "file_extension": ".py",
   "mimetype": "text/x-python",
   "name": "python",
   "nbconvert_exporter": "python",
   "pygments_lexer": "ipython3",
   "version": "3.10.9"
  }
 },
 "nbformat": 4,
 "nbformat_minor": 5
}
