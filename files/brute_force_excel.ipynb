{
 "cells": [
  {
   "cell_type": "code",
   "execution_count": null,
   "id": "2e50c139-8663-499b-8058-54160ae65c06",
   "metadata": {},
   "outputs": [],
   "source": [
    "import itertools\n",
    "import string \n",
    "from win32com.client import Dispatch\n",
    "\n",
    "file = input('Path: ')\n",
    "\n",
    "chars = string.ascii_lowercase + string.digits\n",
    "\n",
    "for password_length in range(1, 2):\n",
    "    for password in itertools.product(chars, repeat=password_length):\n",
    "        password = ''.join(password)\n",
    "\n",
    "        print ('Testing password: '+ password)\n",
    "        instance = Dispatch ('Excel.Application')\n",
    "\n",
    "        try:\n",
    "            instance.Workbooks.Open(file, False, True, None, password)\n",
    "            print ('Password Cracked: ' + password)\n",
    "            #break\n",
    "\n",
    "        except:\n",
    "            pass"
   ]
  }
 ],
 "metadata": {
  "kernelspec": {
   "display_name": "Python 3 (ipykernel)",
   "language": "python",
   "name": "python3"
  },
  "language_info": {
   "codemirror_mode": {
    "name": "ipython",
    "version": 3
   },
   "file_extension": ".py",
   "mimetype": "text/x-python",
   "name": "python",
   "nbconvert_exporter": "python",
   "pygments_lexer": "ipython3",
   "version": "3.10.9"
  }
 },
 "nbformat": 4,
 "nbformat_minor": 5
}
