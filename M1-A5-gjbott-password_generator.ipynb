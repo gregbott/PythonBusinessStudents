{
 "cells": [
  {
   "cell_type": "code",
   "execution_count": 58,
   "id": "ba549400-8655-4862-a4e7-269edc92f89c",
   "metadata": {},
   "outputs": [],
   "source": [
    "import random\n",
    "import pandas as pd\n",
    "import re\n",
    "import spacy"
   ]
  },
  {
   "cell_type": "code",
   "execution_count": 59,
   "id": "c230966a-b5e5-486f-81f0-5a68bc4e73af",
   "metadata": {},
   "outputs": [
    {
     "name": "stdout",
     "output_type": "stream",
     "text": [
      "spacy                     3.7.2           py312h6db74b5_0  \n",
      "spacy-legacy              3.0.12             pyhd8ed1ab_0    conda-forge\n",
      "spacy-loggers             1.0.5              pyhd8ed1ab_0    conda-forge\n"
     ]
    }
   ],
   "source": [
    "!conda list | grep spa"
   ]
  },
  {
   "cell_type": "code",
   "execution_count": null,
   "id": "0158691f-e552-4277-94b0-9884d5af5404",
   "metadata": {},
   "outputs": [],
   "source": [
    "# Allow user to include or not include a symbol, randomly choose a symbol\n",
    "\n",
    "symbols = ['!','@','#','$','%','^','&','*','(',')','?','>']\n",
    "\n",
    "random.randint(0,len(symbols)-1)\n",
    "\n",
    "sym_num = random.randint(0,len(symbols)-1)\n",
    "symbols[sym_num]"
   ]
  },
  {
   "cell_type": "code",
   "execution_count": null,
   "id": "1b4956b0-6add-42ad-bf90-e662fca8ea8d",
   "metadata": {},
   "outputs": [],
   "source": [
    "# Load KJV Bible\n",
    "kj = pd.read_csv('./data/kjv_cleandata.csv')\n",
    "text = list(kj['text'])\n",
    "\n",
    "kj_text = \" \".join(text)\n",
    "words_only = re.sub(r'[^\\w\\s]', '', kj_text.lower())"
   ]
  },
  {
   "cell_type": "code",
   "execution_count": 50,
   "id": "23f8d8a8-d939-4571-8065-32db3d5e4710",
   "metadata": {},
   "outputs": [],
   "source": [
    "words_list = words_only.split()"
   ]
  },
  {
   "cell_type": "code",
   "execution_count": 54,
   "id": "0ec03698-e8cc-4283-b898-05616b2b71b6",
   "metadata": {},
   "outputs": [
    {
     "data": {
      "text/plain": [
       "789631"
      ]
     },
     "execution_count": 54,
     "metadata": {},
     "output_type": "execute_result"
    }
   ],
   "source": [
    "len(words_list)"
   ]
  },
  {
   "cell_type": "code",
   "execution_count": 53,
   "id": "511a809d-9995-45eb-81d4-29ce80bedf43",
   "metadata": {},
   "outputs": [],
   "source": [
    "unique_words = set(words_list)"
   ]
  },
  {
   "cell_type": "code",
   "execution_count": 55,
   "id": "31ae64a7-5522-48dd-89fc-0c17653a4b04",
   "metadata": {},
   "outputs": [
    {
     "data": {
      "text/plain": [
       "12727"
      ]
     },
     "execution_count": 55,
     "metadata": {},
     "output_type": "execute_result"
    }
   ],
   "source": [
    "len(unique_words)"
   ]
  },
  {
   "cell_type": "code",
   "execution_count": null,
   "id": "3853de61-1320-41bc-a389-3cd43fb5dc01",
   "metadata": {},
   "outputs": [],
   "source": [
    "# Write a strong password generator\n",
    "\n",
    "\n",
    "# Allow user to select number of words"
   ]
  },
  {
   "cell_type": "code",
   "execution_count": null,
   "id": "8d38c741-2844-4f33-8634-a9ad6349edc5",
   "metadata": {},
   "outputs": [],
   "source": [
    "# Separate words with a hyphen"
   ]
  },
  {
   "cell_type": "code",
   "execution_count": null,
   "id": "d908a9f5-324f-4756-a28f-c6c4ac4db21f",
   "metadata": {},
   "outputs": [],
   "source": [
    "# Limit to unique words, include only verbs and nouns"
   ]
  },
  {
   "cell_type": "code",
   "execution_count": null,
   "id": "5ee1f1e7-90ec-4da5-a231-ef815e8c4e48",
   "metadata": {},
   "outputs": [],
   "source": []
  }
 ],
 "metadata": {
  "kernelspec": {
   "display_name": "Python 3 (ipykernel)",
   "language": "python",
   "name": "python3"
  },
  "language_info": {
   "codemirror_mode": {
    "name": "ipython",
    "version": 3
   },
   "file_extension": ".py",
   "mimetype": "text/x-python",
   "name": "python",
   "nbconvert_exporter": "python",
   "pygments_lexer": "ipython3",
   "version": "3.12.0"
  }
 },
 "nbformat": 4,
 "nbformat_minor": 5
}
